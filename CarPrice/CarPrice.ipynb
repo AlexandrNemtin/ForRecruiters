{
 "cells": [
  {
   "cell_type": "markdown",
   "metadata": {
    "id": "Thtn7lfPUbfx"
   },
   "source": [
    "# Определение стоимости автомобилей"
   ]
  },
  {
   "cell_type": "markdown",
   "metadata": {
    "id": "_1HtLd0DUbf6"
   },
   "source": [
    "Сервис по продаже автомобилей с пробегом разрабатывает приложение для привлечения новых клиентов. В нём можно быстро узнать рыночную стоимость своего автомобиля. В распоряжении исторические данные: технические характеристики, комплектации и цены автомобилей. Необходимо построить модель для определения стоимости.\n",
    "\n",
    "Заказчику важны:\n",
    "\n",
    "- качество предсказания;\n",
    "- скорость предсказания;\n",
    "- время обучения."
   ]
  },
  {
   "cell_type": "markdown",
   "metadata": {
    "id": "ru-4Xt57Ubf7"
   },
   "source": [
    "## Подготовка данных"
   ]
  },
  {
   "cell_type": "markdown",
   "metadata": {
    "id": "IzI2DSpjatG3"
   },
   "source": [
    "### Install"
   ]
  },
  {
   "cell_type": "code",
   "execution_count": 1,
   "metadata": {
    "colab": {
     "base_uri": "https://localhost:8080/"
    },
    "id": "_a2bN-UNUbf8",
    "outputId": "cafc0fd4-8ffe-4f1c-b88a-92afc0cb8c51",
    "scrolled": true
   },
   "outputs": [
    {
     "name": "stdout",
     "output_type": "stream",
     "text": [
      "Requirement already satisfied: catboost in /opt/conda/lib/python3.9/site-packages (1.0.3)\n",
      "Requirement already satisfied: scipy in /opt/conda/lib/python3.9/site-packages (from catboost) (1.9.1)\n",
      "Requirement already satisfied: graphviz in /opt/conda/lib/python3.9/site-packages (from catboost) (0.20.1)\n",
      "Requirement already satisfied: six in /opt/conda/lib/python3.9/site-packages (from catboost) (1.16.0)\n",
      "Requirement already satisfied: matplotlib in /opt/conda/lib/python3.9/site-packages (from catboost) (3.3.4)\n",
      "Requirement already satisfied: numpy>=1.16.0 in /opt/conda/lib/python3.9/site-packages (from catboost) (1.21.1)\n",
      "Requirement already satisfied: pandas>=0.24.0 in /opt/conda/lib/python3.9/site-packages (from catboost) (1.2.4)\n",
      "Requirement already satisfied: plotly in /opt/conda/lib/python3.9/site-packages (from catboost) (5.4.0)\n",
      "Requirement already satisfied: python-dateutil>=2.7.3 in /opt/conda/lib/python3.9/site-packages (from pandas>=0.24.0->catboost) (2.8.1)\n",
      "Requirement already satisfied: pytz>=2017.3 in /opt/conda/lib/python3.9/site-packages (from pandas>=0.24.0->catboost) (2021.1)\n",
      "Requirement already satisfied: kiwisolver>=1.0.1 in /opt/conda/lib/python3.9/site-packages (from matplotlib->catboost) (1.4.4)\n",
      "Requirement already satisfied: pillow>=6.2.0 in /opt/conda/lib/python3.9/site-packages (from matplotlib->catboost) (8.4.0)\n",
      "Requirement already satisfied: pyparsing!=2.0.4,!=2.1.2,!=2.1.6,>=2.0.3 in /opt/conda/lib/python3.9/site-packages (from matplotlib->catboost) (2.4.7)\n",
      "Requirement already satisfied: cycler>=0.10 in /opt/conda/lib/python3.9/site-packages (from matplotlib->catboost) (0.11.0)\n",
      "Requirement already satisfied: tenacity>=6.2.0 in /opt/conda/lib/python3.9/site-packages (from plotly->catboost) (8.0.1)\n"
     ]
    }
   ],
   "source": [
    "!pip install catboost"
   ]
  },
  {
   "cell_type": "markdown",
   "metadata": {
    "id": "r-UfCG4LaxaP"
   },
   "source": [
    "### Import"
   ]
  },
  {
   "cell_type": "code",
   "execution_count": 2,
   "metadata": {
    "id": "YgeZmFFeUbgA"
   },
   "outputs": [],
   "source": [
    "import pandas as pd\n",
    "import numpy as np\n",
    "from sklearn.model_selection import train_test_split, GridSearchCV\n",
    "from lightgbm import LGBMRegressor\n",
    "from sklearn.ensemble import RandomForestRegressor\n",
    "from sklearn.preprocessing import (\n",
    "    OneHotEncoder,\n",
    "    OrdinalEncoder,\n",
    "    StandardScaler\n",
    ")\n",
    "from sklearn.metrics import mean_squared_error\n",
    "from catboost import CatBoostRegressor\n",
    "import time"
   ]
  },
  {
   "cell_type": "markdown",
   "metadata": {
    "id": "nv2KgKiMXEy-"
   },
   "source": [
    "### Константы"
   ]
  },
  {
   "cell_type": "code",
   "execution_count": 3,
   "metadata": {
    "id": "cNC0-pmIUbgC"
   },
   "outputs": [],
   "source": [
    "RANDOM_STATE = 42"
   ]
  },
  {
   "cell_type": "markdown",
   "metadata": {
    "id": "Hhp1Pag6XJ1C"
   },
   "source": [
    "### Функции"
   ]
  },
  {
   "cell_type": "code",
   "execution_count": 4,
   "metadata": {
    "id": "N-PNLbkSUbgD"
   },
   "outputs": [],
   "source": [
    "### Функция заполнения пропусков в столбцах на основе самого популярного признака относительно модели\n",
    "### На вход принимает наименование колонки, в которой нужно заполнить пропуски\n",
    "### На выход выдает колонку с заполненными пропусками\n",
    "\n",
    "def FillNaNByMostPopularValues(col_to_fill, col_of_models='Model'):\n",
    "    result_dict = {}\n",
    "    key = []\n",
    "    values = []\n",
    "\n",
    "    for i in data[col_of_models].unique():\n",
    "        value = data.loc[data[col_of_models] == i][col_to_fill].value_counts().index[0]\n",
    "        key.append(i)\n",
    "        values.append(value)\n",
    "    result_dict = dict(zip(key, values))\n",
    "    return data[col_to_fill].fillna(data[col_of_models].map(result_dict))"
   ]
  },
  {
   "cell_type": "code",
   "execution_count": 5,
   "metadata": {
    "id": "Y14R-U1iGOOl"
   },
   "outputs": [],
   "source": [
    "### Функция расчета времени отработки ячейки\n",
    "### На вход принимает время старта и окончания (работы ячейки)\n",
    "### На выход выдает разницу между окончанием и стартом (фактическое время работы ячейки)\n",
    "\n",
    "def exec_time(start, end):\n",
    "   diff_time = end - start\n",
    "   m, s = divmod(diff_time, 60)\n",
    "   h, m = divmod(m, 60)\n",
    "   s,m,h = int(round(s, 0)), int(round(m, 0)), int(round(h, 0))\n",
    "   print(\"{0:02d}:{1:02d}:{2:02d}\".format(h, m, s))\n",
    "   return str(\"{0:02d}:{1:02d}:{2:02d}\".format(h, m, s))"
   ]
  },
  {
   "cell_type": "markdown",
   "metadata": {
    "id": "d-IVyU6nMkVe"
   },
   "source": [
    "### Загрузка датасета"
   ]
  },
  {
   "cell_type": "code",
   "execution_count": 6,
   "metadata": {
    "colab": {
     "base_uri": "https://localhost:8080/",
     "height": 0
    },
    "id": "OpumhzerUbgE",
    "outputId": "bf9689b0-b85a-4ee5-dd04-3f458d968c36",
    "scrolled": true
   },
   "outputs": [
    {
     "data": {
      "text/html": [
       "<div>\n",
       "<style scoped>\n",
       "    .dataframe tbody tr th:only-of-type {\n",
       "        vertical-align: middle;\n",
       "    }\n",
       "\n",
       "    .dataframe tbody tr th {\n",
       "        vertical-align: top;\n",
       "    }\n",
       "\n",
       "    .dataframe thead th {\n",
       "        text-align: right;\n",
       "    }\n",
       "</style>\n",
       "<table border=\"1\" class=\"dataframe\">\n",
       "  <thead>\n",
       "    <tr style=\"text-align: right;\">\n",
       "      <th></th>\n",
       "      <th>DateCrawled</th>\n",
       "      <th>Price</th>\n",
       "      <th>VehicleType</th>\n",
       "      <th>RegistrationYear</th>\n",
       "      <th>Gearbox</th>\n",
       "      <th>Power</th>\n",
       "      <th>Model</th>\n",
       "      <th>Kilometer</th>\n",
       "      <th>RegistrationMonth</th>\n",
       "      <th>FuelType</th>\n",
       "      <th>Brand</th>\n",
       "      <th>Repaired</th>\n",
       "      <th>DateCreated</th>\n",
       "      <th>NumberOfPictures</th>\n",
       "      <th>PostalCode</th>\n",
       "      <th>LastSeen</th>\n",
       "    </tr>\n",
       "  </thead>\n",
       "  <tbody>\n",
       "    <tr>\n",
       "      <th>0</th>\n",
       "      <td>2016-03-24 11:52:17</td>\n",
       "      <td>480</td>\n",
       "      <td>NaN</td>\n",
       "      <td>1993</td>\n",
       "      <td>manual</td>\n",
       "      <td>0</td>\n",
       "      <td>golf</td>\n",
       "      <td>150000</td>\n",
       "      <td>0</td>\n",
       "      <td>petrol</td>\n",
       "      <td>volkswagen</td>\n",
       "      <td>NaN</td>\n",
       "      <td>2016-03-24 00:00:00</td>\n",
       "      <td>0</td>\n",
       "      <td>70435</td>\n",
       "      <td>2016-04-07 03:16:57</td>\n",
       "    </tr>\n",
       "    <tr>\n",
       "      <th>1</th>\n",
       "      <td>2016-03-24 10:58:45</td>\n",
       "      <td>18300</td>\n",
       "      <td>coupe</td>\n",
       "      <td>2011</td>\n",
       "      <td>manual</td>\n",
       "      <td>190</td>\n",
       "      <td>NaN</td>\n",
       "      <td>125000</td>\n",
       "      <td>5</td>\n",
       "      <td>gasoline</td>\n",
       "      <td>audi</td>\n",
       "      <td>yes</td>\n",
       "      <td>2016-03-24 00:00:00</td>\n",
       "      <td>0</td>\n",
       "      <td>66954</td>\n",
       "      <td>2016-04-07 01:46:50</td>\n",
       "    </tr>\n",
       "    <tr>\n",
       "      <th>2</th>\n",
       "      <td>2016-03-14 12:52:21</td>\n",
       "      <td>9800</td>\n",
       "      <td>suv</td>\n",
       "      <td>2004</td>\n",
       "      <td>auto</td>\n",
       "      <td>163</td>\n",
       "      <td>grand</td>\n",
       "      <td>125000</td>\n",
       "      <td>8</td>\n",
       "      <td>gasoline</td>\n",
       "      <td>jeep</td>\n",
       "      <td>NaN</td>\n",
       "      <td>2016-03-14 00:00:00</td>\n",
       "      <td>0</td>\n",
       "      <td>90480</td>\n",
       "      <td>2016-04-05 12:47:46</td>\n",
       "    </tr>\n",
       "    <tr>\n",
       "      <th>3</th>\n",
       "      <td>2016-03-17 16:54:04</td>\n",
       "      <td>1500</td>\n",
       "      <td>small</td>\n",
       "      <td>2001</td>\n",
       "      <td>manual</td>\n",
       "      <td>75</td>\n",
       "      <td>golf</td>\n",
       "      <td>150000</td>\n",
       "      <td>6</td>\n",
       "      <td>petrol</td>\n",
       "      <td>volkswagen</td>\n",
       "      <td>no</td>\n",
       "      <td>2016-03-17 00:00:00</td>\n",
       "      <td>0</td>\n",
       "      <td>91074</td>\n",
       "      <td>2016-03-17 17:40:17</td>\n",
       "    </tr>\n",
       "    <tr>\n",
       "      <th>4</th>\n",
       "      <td>2016-03-31 17:25:20</td>\n",
       "      <td>3600</td>\n",
       "      <td>small</td>\n",
       "      <td>2008</td>\n",
       "      <td>manual</td>\n",
       "      <td>69</td>\n",
       "      <td>fabia</td>\n",
       "      <td>90000</td>\n",
       "      <td>7</td>\n",
       "      <td>gasoline</td>\n",
       "      <td>skoda</td>\n",
       "      <td>no</td>\n",
       "      <td>2016-03-31 00:00:00</td>\n",
       "      <td>0</td>\n",
       "      <td>60437</td>\n",
       "      <td>2016-04-06 10:17:21</td>\n",
       "    </tr>\n",
       "  </tbody>\n",
       "</table>\n",
       "</div>"
      ],
      "text/plain": [
       "           DateCrawled  Price VehicleType  RegistrationYear Gearbox  Power  \\\n",
       "0  2016-03-24 11:52:17    480         NaN              1993  manual      0   \n",
       "1  2016-03-24 10:58:45  18300       coupe              2011  manual    190   \n",
       "2  2016-03-14 12:52:21   9800         suv              2004    auto    163   \n",
       "3  2016-03-17 16:54:04   1500       small              2001  manual     75   \n",
       "4  2016-03-31 17:25:20   3600       small              2008  manual     69   \n",
       "\n",
       "   Model  Kilometer  RegistrationMonth  FuelType       Brand Repaired  \\\n",
       "0   golf     150000                  0    petrol  volkswagen      NaN   \n",
       "1    NaN     125000                  5  gasoline        audi      yes   \n",
       "2  grand     125000                  8  gasoline        jeep      NaN   \n",
       "3   golf     150000                  6    petrol  volkswagen       no   \n",
       "4  fabia      90000                  7  gasoline       skoda       no   \n",
       "\n",
       "           DateCreated  NumberOfPictures  PostalCode             LastSeen  \n",
       "0  2016-03-24 00:00:00                 0       70435  2016-04-07 03:16:57  \n",
       "1  2016-03-24 00:00:00                 0       66954  2016-04-07 01:46:50  \n",
       "2  2016-03-14 00:00:00                 0       90480  2016-04-05 12:47:46  \n",
       "3  2016-03-17 00:00:00                 0       91074  2016-03-17 17:40:17  \n",
       "4  2016-03-31 00:00:00                 0       60437  2016-04-06 10:17:21  "
      ]
     },
     "execution_count": 6,
     "metadata": {},
     "output_type": "execute_result"
    }
   ],
   "source": [
    "try:\n",
    "  data = pd.read_csv('autos.csv')\n",
    "except:\n",
    "  data = pd.read_csv('https://code.s3.yandex.net/datasets/autos.csv')\n",
    "data.head()"
   ]
  },
  {
   "cell_type": "code",
   "execution_count": 7,
   "metadata": {
    "colab": {
     "base_uri": "https://localhost:8080/"
    },
    "id": "rP4udZrFUbgF",
    "outputId": "f48187ff-5b2e-4ecc-dcfb-a455cd0859d8",
    "scrolled": true
   },
   "outputs": [
    {
     "name": "stdout",
     "output_type": "stream",
     "text": [
      "<class 'pandas.core.frame.DataFrame'>\n",
      "RangeIndex: 354369 entries, 0 to 354368\n",
      "Data columns (total 16 columns):\n",
      " #   Column             Non-Null Count   Dtype \n",
      "---  ------             --------------   ----- \n",
      " 0   DateCrawled        354369 non-null  object\n",
      " 1   Price              354369 non-null  int64 \n",
      " 2   VehicleType        316879 non-null  object\n",
      " 3   RegistrationYear   354369 non-null  int64 \n",
      " 4   Gearbox            334536 non-null  object\n",
      " 5   Power              354369 non-null  int64 \n",
      " 6   Model              334664 non-null  object\n",
      " 7   Kilometer          354369 non-null  int64 \n",
      " 8   RegistrationMonth  354369 non-null  int64 \n",
      " 9   FuelType           321474 non-null  object\n",
      " 10  Brand              354369 non-null  object\n",
      " 11  Repaired           283215 non-null  object\n",
      " 12  DateCreated        354369 non-null  object\n",
      " 13  NumberOfPictures   354369 non-null  int64 \n",
      " 14  PostalCode         354369 non-null  int64 \n",
      " 15  LastSeen           354369 non-null  object\n",
      "dtypes: int64(7), object(9)\n",
      "memory usage: 43.3+ MB\n"
     ]
    }
   ],
   "source": [
    "data.info()"
   ]
  },
  {
   "cell_type": "code",
   "execution_count": 8,
   "metadata": {
    "id": "L_7oocTx1CCx"
   },
   "outputs": [],
   "source": [
    "primary_shape = data.shape[0]"
   ]
  },
  {
   "cell_type": "markdown",
   "metadata": {
    "id": "Iu10x1W1bGgn"
   },
   "source": [
    "### Работа с пропусками"
   ]
  },
  {
   "cell_type": "markdown",
   "metadata": {
    "id": "V1uxSep5UbgJ"
   },
   "source": [
    "Пропуски в моделях заполним \"заглушкой\". Заполнять тип автомобиля, коробку передач и тип топлива будем модой по каждой модели."
   ]
  },
  {
   "cell_type": "code",
   "execution_count": 10,
   "metadata": {
    "id": "wf7XfUwqxEFt"
   },
   "outputs": [],
   "source": [
    "data['Model'].fillna('unknown', inplace=True)"
   ]
  },
  {
   "cell_type": "code",
   "execution_count": 11,
   "metadata": {
    "id": "Y04tj3WYUbgM"
   },
   "outputs": [],
   "source": [
    "data['Gearbox'] = FillNaNByMostPopularValues('Gearbox')"
   ]
  },
  {
   "cell_type": "code",
   "execution_count": 12,
   "metadata": {
    "id": "nk1dQretUbgN"
   },
   "outputs": [],
   "source": [
    "data['FuelType'] = FillNaNByMostPopularValues('FuelType')"
   ]
  },
  {
   "cell_type": "code",
   "execution_count": 13,
   "metadata": {
    "id": "X5jwa1KGUbgN"
   },
   "outputs": [],
   "source": [
    "data['VehicleType'] = FillNaNByMostPopularValues('VehicleType')"
   ]
  },
  {
   "cell_type": "markdown",
   "metadata": {
    "id": "vzH-uqh1UbgO"
   },
   "source": [
    "Факт ремонта предугадать не удастся, однако объем данных с пропусками в данном столбце - большой. Заполним пропуски третьей категорией - заглушкой 'unknown'."
   ]
  },
  {
   "cell_type": "code",
   "execution_count": 14,
   "metadata": {
    "id": "3J_FyoiKUbgQ"
   },
   "outputs": [],
   "source": [
    "data['Repaired'].fillna('unknown', inplace=True)"
   ]
  },
  {
   "cell_type": "code",
   "execution_count": 15,
   "metadata": {
    "colab": {
     "base_uri": "https://localhost:8080/"
    },
    "id": "iforbKuuUbgR",
    "outputId": "005d7cf5-58d7-4e72-86e8-3a727cda1a8c"
   },
   "outputs": [
    {
     "name": "stdout",
     "output_type": "stream",
     "text": [
      "<class 'pandas.core.frame.DataFrame'>\n",
      "RangeIndex: 354369 entries, 0 to 354368\n",
      "Data columns (total 16 columns):\n",
      " #   Column             Non-Null Count   Dtype \n",
      "---  ------             --------------   ----- \n",
      " 0   DateCrawled        354369 non-null  object\n",
      " 1   Price              354369 non-null  int64 \n",
      " 2   VehicleType        354369 non-null  object\n",
      " 3   RegistrationYear   354369 non-null  int64 \n",
      " 4   Gearbox            354369 non-null  object\n",
      " 5   Power              354369 non-null  int64 \n",
      " 6   Model              354369 non-null  object\n",
      " 7   Kilometer          354369 non-null  int64 \n",
      " 8   RegistrationMonth  354369 non-null  int64 \n",
      " 9   FuelType           354369 non-null  object\n",
      " 10  Brand              354369 non-null  object\n",
      " 11  Repaired           354369 non-null  object\n",
      " 12  DateCreated        354369 non-null  object\n",
      " 13  NumberOfPictures   354369 non-null  int64 \n",
      " 14  PostalCode         354369 non-null  int64 \n",
      " 15  LastSeen           354369 non-null  object\n",
      "dtypes: int64(7), object(9)\n",
      "memory usage: 43.3+ MB\n"
     ]
    }
   ],
   "source": [
    "data.info()"
   ]
  },
  {
   "cell_type": "markdown",
   "metadata": {
    "id": "O5ajGv_dVz5r"
   },
   "source": [
    "Первый этап предобработки завершен - пропуски в данных ликвидированы."
   ]
  },
  {
   "cell_type": "markdown",
   "metadata": {
    "id": "HBtsHJDBbMtw"
   },
   "source": [
    "### Изучение данных"
   ]
  },
  {
   "cell_type": "markdown",
   "metadata": {
    "id": "9Zdup2jkUbgR"
   },
   "source": [
    "На цену врядли повлияют признаки 'DateCrawled', 'NumberOfPictures', 'PostalCode', 'LastSeen', 'DateCreated' - удалим их."
   ]
  },
  {
   "cell_type": "code",
   "execution_count": 16,
   "metadata": {
    "id": "mGGYdZ_hUbgS",
    "scrolled": true
   },
   "outputs": [],
   "source": [
    "data.drop(labels=['DateCrawled', \n",
    "                  'NumberOfPictures', \n",
    "                  'PostalCode', \n",
    "                  'LastSeen', \n",
    "                  'DateCreated'], \n",
    "          axis=1, \n",
    "          inplace=True)"
   ]
  },
  {
   "cell_type": "markdown",
   "metadata": {
    "id": "eM3fFO0DWAbJ"
   },
   "source": [
    "Изучим данные."
   ]
  },
  {
   "cell_type": "code",
   "execution_count": 17,
   "metadata": {
    "colab": {
     "base_uri": "https://localhost:8080/",
     "height": 0
    },
    "id": "FQFXiR9cUbgS",
    "outputId": "55ab9e44-6c6a-41f3-f135-67d9554c6f5c"
   },
   "outputs": [
    {
     "data": {
      "text/plain": [
       "<AxesSubplot:>"
      ]
     },
     "execution_count": 17,
     "metadata": {},
     "output_type": "execute_result"
    },
    {
     "data": {
      "image/png": "[encoded data removed]",
      "text/plain": [
       "<Figure size 720x360 with 1 Axes>"
      ]
     },
     "metadata": {
      "needs_background": "light"
     },
     "output_type": "display_data"
    }
   ],
   "source": [
    "data['Power'].hist(figsize=(10, 5), color='red', bins=100, range=(0, 1000))"
   ]
  },
  {
   "cell_type": "markdown",
   "metadata": {
    "id": "_NQilZAdWD_B"
   },
   "source": [
    "Автомобилей с мощностью двигателя более 1000 л.с. в природе крайне мало. При этом на графике видно, что значений 400+ тоже не много. Отсечем данные, в которых указанна большая, чем 400 л.с. мощность."
   ]
  },
  {
   "cell_type": "code",
   "execution_count": 18,
   "metadata": {
    "id": "eCiND2KxUbgU"
   },
   "outputs": [],
   "source": [
    "data.drop(index=data.loc[data['Power'] > 400].index, axis=0, inplace=True)"
   ]
  },
  {
   "cell_type": "markdown",
   "metadata": {
    "id": "_NYEcVRWWeXR"
   },
   "source": [
    "Проверим распределение данных."
   ]
  },
  {
   "cell_type": "code",
   "execution_count": 19,
   "metadata": {
    "colab": {
     "base_uri": "https://localhost:8080/",
     "height": 0
    },
    "id": "4P7IV1XzUbgV",
    "outputId": "e6888526-8c36-475b-bbab-a8a11375ac5d"
   },
   "outputs": [
    {
     "data": {
      "text/plain": [
       "<AxesSubplot:>"
      ]
     },
     "execution_count": 19,
     "metadata": {},
     "output_type": "execute_result"
    },
    {
     "data": {
      "image/png": "[encoded data removed]",
      "text/plain": [
       "<Figure size 720x360 with 1 Axes>"
      ]
     },
     "metadata": {
      "needs_background": "light"
     },
     "output_type": "display_data"
    }
   ],
   "source": [
    "data['Power'].hist(figsize=(10, 5), color='green', bins=100)"
   ]
  },
  {
   "cell_type": "markdown",
   "metadata": {
    "id": "F4XykpCiWsZR"
   },
   "source": [
    "Проверим распределение данных по признаку RegistrationYear"
   ]
  },
  {
   "cell_type": "code",
   "execution_count": 20,
   "metadata": {
    "colab": {
     "base_uri": "https://localhost:8080/",
     "height": 0
    },
    "id": "p-W4PUAKUbgX",
    "outputId": "763e1f34-eae5-49b2-f30d-d659973a1635"
   },
   "outputs": [
    {
     "data": {
      "text/plain": [
       "<AxesSubplot:>"
      ]
     },
     "execution_count": 20,
     "metadata": {},
     "output_type": "execute_result"
    },
    {
     "data": {
      "image/png": "[encoded data removed]",
      "text/plain": [
       "<Figure size 720x360 with 1 Axes>"
      ]
     },
     "metadata": {
      "needs_background": "light"
     },
     "output_type": "display_data"
    }
   ],
   "source": [
    "data['RegistrationYear'].hist(figsize=(10, 5), bins=100, range=(1960, 2023), color='red')"
   ]
  },
  {
   "cell_type": "code",
   "execution_count": 21,
   "metadata": {
    "colab": {
     "base_uri": "https://localhost:8080/"
    },
    "id": "yCHTl30sxzU_",
    "outputId": "57cef408-41cb-4c1f-c051-f8e04ff3469e"
   },
   "outputs": [
    {
     "data": {
      "text/plain": [
       "count    353630.000000\n",
       "mean       2004.223397\n",
       "std          89.815770\n",
       "min        1000.000000\n",
       "50%        2003.000000\n",
       "99%        2018.000000\n",
       "max        9999.000000\n",
       "Name: RegistrationYear, dtype: float64"
      ]
     },
     "execution_count": 21,
     "metadata": {},
     "output_type": "execute_result"
    }
   ],
   "source": [
    "data['RegistrationYear'].describe(percentiles=[0.99])"
   ]
  },
  {
   "cell_type": "markdown",
   "metadata": {
    "id": "SpozzOfUW0fY"
   },
   "source": [
    "Основное распределение лежит в пределах от 1960 года по 2018. Оставим только эти данные, остальные удалим как аномалии."
   ]
  },
  {
   "cell_type": "code",
   "execution_count": 22,
   "metadata": {
    "id": "RjbrfDvJUbgX"
   },
   "outputs": [],
   "source": [
    "data.drop(index=data.loc[(data['RegistrationYear'] < 1960) | (data['RegistrationYear'] > 2018)].index, \n",
    "          axis=0, \n",
    "          inplace=True)"
   ]
  },
  {
   "cell_type": "code",
   "execution_count": 23,
   "metadata": {
    "colab": {
     "base_uri": "https://localhost:8080/",
     "height": 0
    },
    "id": "AXXdrIaTUbgY",
    "outputId": "44492a91-6e32-456a-9106-2c78276a0de9"
   },
   "outputs": [
    {
     "data": {
      "text/plain": [
       "<AxesSubplot:>"
      ]
     },
     "execution_count": 23,
     "metadata": {},
     "output_type": "execute_result"
    },
    {
     "data": {
      "image/png": "[encoded data removed]",
      "text/plain": [
       "<Figure size 720x360 with 1 Axes>"
      ]
     },
     "metadata": {
      "needs_background": "light"
     },
     "output_type": "display_data"
    }
   ],
   "source": [
    "data['RegistrationYear'].hist(figsize=(10, 5), bins=10, color='green')"
   ]
  },
  {
   "cell_type": "markdown",
   "metadata": {
    "id": "6ca_DduLXEvR"
   },
   "source": [
    "Рассмотрим признак Kilometer."
   ]
  },
  {
   "cell_type": "code",
   "execution_count": 24,
   "metadata": {
    "colab": {
     "base_uri": "https://localhost:8080/",
     "height": 0
    },
    "id": "WyciOlkXUbgZ",
    "outputId": "5f4dd4e6-b6ea-49dc-e8fc-db7499f04d72"
   },
   "outputs": [
    {
     "data": {
      "text/plain": [
       "<AxesSubplot:>"
      ]
     },
     "execution_count": 24,
     "metadata": {},
     "output_type": "execute_result"
    },
    {
     "data": {
      "image/png": "[encoded data removed]",
      "text/plain": [
       "<Figure size 720x360 with 1 Axes>"
      ]
     },
     "metadata": {
      "needs_background": "light"
     },
     "output_type": "display_data"
    }
   ],
   "source": [
    "data['Kilometer'].hist(figsize=(10, 5), bins=10)"
   ]
  },
  {
   "cell_type": "markdown",
   "metadata": {
    "id": "qLP38ENeXKoo"
   },
   "source": [
    "Распределение данных похоже на правду."
   ]
  },
  {
   "cell_type": "markdown",
   "metadata": {
    "id": "ogHv3aShXO4r"
   },
   "source": [
    "Проверим отсуствие аномалий в месяцах."
   ]
  },
  {
   "cell_type": "code",
   "execution_count": 25,
   "metadata": {
    "colab": {
     "base_uri": "https://localhost:8080/"
    },
    "id": "0C8_L-6WUbgZ",
    "outputId": "3f32ab2b-c10e-401c-9fa7-fc26e6e1fd10"
   },
   "outputs": [
    {
     "data": {
      "text/plain": [
       "array([ 0,  1,  2,  3,  4,  5,  6,  7,  8,  9, 10, 11, 12])"
      ]
     },
     "execution_count": 25,
     "metadata": {},
     "output_type": "execute_result"
    }
   ],
   "source": [
    "data['RegistrationMonth'].sort_values().unique()"
   ]
  },
  {
   "cell_type": "markdown",
   "metadata": {
    "id": "CnPWRtETXUIB"
   },
   "source": [
    "В данных присутсвует месяц, обозначенный как \"0\". Посмотрим количество данных с таким значением признака."
   ]
  },
  {
   "cell_type": "code",
   "execution_count": 26,
   "metadata": {
    "colab": {
     "base_uri": "https://localhost:8080/"
    },
    "id": "NEzUM6nVUbga",
    "outputId": "f038979b-173a-4eb2-8a51-12b943cbe27b"
   },
   "outputs": [
    {
     "data": {
      "text/plain": [
       "Price                37007\n",
       "VehicleType          37007\n",
       "RegistrationYear     37007\n",
       "Gearbox              37007\n",
       "Power                37007\n",
       "Model                37007\n",
       "Kilometer            37007\n",
       "RegistrationMonth    37007\n",
       "FuelType             37007\n",
       "Brand                37007\n",
       "Repaired             37007\n",
       "dtype: int64"
      ]
     },
     "execution_count": 26,
     "metadata": {},
     "output_type": "execute_result"
    }
   ],
   "source": [
    "data.loc[data['RegistrationMonth'] == 0].count()"
   ]
  },
  {
   "cell_type": "markdown",
   "metadata": {
    "id": "gQN2al9PYeCf"
   },
   "source": [
    "Данных с нулевым месяцем около 10%, оставим их как есть."
   ]
  },
  {
   "cell_type": "markdown",
   "metadata": {},
   "source": [
    "Проверим наличие дубликатов"
   ]
  },
  {
   "cell_type": "code",
   "execution_count": 28,
   "metadata": {
    "colab": {
     "base_uri": "https://localhost:8080/"
    },
    "id": "V_p5Qzj6lu7L",
    "outputId": "ff3deb89-d65b-4a84-f7c0-3457fc9f4c1e"
   },
   "outputs": [
    {
     "data": {
      "text/plain": [
       "29303"
      ]
     },
     "execution_count": 28,
     "metadata": {},
     "output_type": "execute_result"
    }
   ],
   "source": [
    "data.duplicated().sum()"
   ]
  },
  {
   "cell_type": "markdown",
   "metadata": {},
   "source": [
    "Удалим дубликаты."
   ]
  },
  {
   "cell_type": "code",
   "execution_count": 29,
   "metadata": {
    "id": "Go2J-gdo5iAL"
   },
   "outputs": [],
   "source": [
    "data.drop_duplicates(inplace=True)"
   ]
  },
  {
   "cell_type": "markdown",
   "metadata": {
    "id": "cRt7EnRlYlRQ"
   },
   "source": [
    "Результаты предобработки отобразим методом info()."
   ]
  },
  {
   "cell_type": "code",
   "execution_count": 27,
   "metadata": {
    "colab": {
     "base_uri": "https://localhost:8080/"
    },
    "id": "TNl2Rh-7Ubga",
    "outputId": "093f19f4-1f28-48bc-91a4-0277270d1722",
    "scrolled": true
   },
   "outputs": [
    {
     "name": "stdout",
     "output_type": "stream",
     "text": [
      "<class 'pandas.core.frame.DataFrame'>\n",
      "Int64Index: 353096 entries, 0 to 354368\n",
      "Data columns (total 11 columns):\n",
      " #   Column             Non-Null Count   Dtype \n",
      "---  ------             --------------   ----- \n",
      " 0   Price              353096 non-null  int64 \n",
      " 1   VehicleType        353096 non-null  object\n",
      " 2   RegistrationYear   353096 non-null  int64 \n",
      " 3   Gearbox            353096 non-null  object\n",
      " 4   Power              353096 non-null  int64 \n",
      " 5   Model              353096 non-null  object\n",
      " 6   Kilometer          353096 non-null  int64 \n",
      " 7   RegistrationMonth  353096 non-null  int64 \n",
      " 8   FuelType           353096 non-null  object\n",
      " 9   Brand              353096 non-null  object\n",
      " 10  Repaired           353096 non-null  object\n",
      "dtypes: int64(5), object(6)\n",
      "memory usage: 32.3+ MB\n"
     ]
    }
   ],
   "source": [
    "data.info()"
   ]
  },
  {
   "cell_type": "code",
   "execution_count": 31,
   "metadata": {
    "colab": {
     "base_uri": "https://localhost:8080/"
    },
    "id": "PiSerwnv1TON",
    "outputId": "8c276e1a-0015-4f75-e05a-40d6419d04b8"
   },
   "outputs": [
    {
     "name": "stdout",
     "output_type": "stream",
     "text": [
      "Удалено 9.0 % данных\n"
     ]
    }
   ],
   "source": [
    "print('Удалено', round((1 - data.shape[0] / primary_shape) * 100, 0), '% данных')"
   ]
  },
  {
   "cell_type": "markdown",
   "metadata": {
    "id": "YAnqBA_YUbgb"
   },
   "source": [
    "## Обучение моделей"
   ]
  },
  {
   "cell_type": "markdown",
   "metadata": {
    "id": "3MV6i-rxaj-_"
   },
   "source": [
    "### Подготовка данных к обучению."
   ]
  },
  {
   "cell_type": "markdown",
   "metadata": {
    "id": "fh8uvhnWYzaq"
   },
   "source": [
    "Подготовим данные к обучению. Выделим целевой признак."
   ]
  },
  {
   "cell_type": "code",
   "execution_count": 32,
   "metadata": {
    "id": "etK86W4dUbgc"
   },
   "outputs": [],
   "source": [
    "X = data.drop('Price', axis=1)\n",
    "y = data['Price']"
   ]
  },
  {
   "cell_type": "code",
   "execution_count": 33,
   "metadata": {
    "id": "X45b1_at7beH"
   },
   "outputs": [],
   "source": [
    "X_train, X_test, y_train, y_test = train_test_split(X, y, test_size=0.2, random_state=RANDOM_STATE)"
   ]
  },
  {
   "cell_type": "code",
   "execution_count": 34,
   "metadata": {
    "id": "JGQcWi_w4Kl7"
   },
   "outputs": [],
   "source": [
    "X_train, X_valid, y_train, y_valid = train_test_split(X_train, \n",
    "                                                      y_train, \n",
    "                                                      test_size=0.2, \n",
    "                                                      random_state=RANDOM_STATE\n",
    "                                                     )"
   ]
  },
  {
   "cell_type": "code",
   "execution_count": 35,
   "metadata": {
    "id": "jPlLN_VD8HWV"
   },
   "outputs": [],
   "source": [
    "X_train_for_cat = X_train.copy() #сделал копию для встроенного encoding в catboost\n",
    "X_valid_for_cat = X_valid.copy()"
   ]
  },
  {
   "cell_type": "code",
   "execution_count": 36,
   "metadata": {
    "id": "u-oOXILB3Tu8"
   },
   "outputs": [],
   "source": [
    "X_train_for_lgbm = X_train.copy() #сделал копию для встроенного encoding в LightGBM\n",
    "X_valid_for_lgbm = X_valid.copy()"
   ]
  },
  {
   "cell_type": "code",
   "execution_count": 40,
   "metadata": {
    "id": "B2OjajhP9Sko"
   },
   "outputs": [],
   "source": [
    "ord_encoder = OrdinalEncoder(handle_unknown='use_encoded_value', unknown_value=np.nan)"
   ]
  },
  {
   "cell_type": "code",
   "execution_count": 41,
   "metadata": {
    "id": "f82hM87P-Uhn"
   },
   "outputs": [],
   "source": [
    "list_of_cat_features = ['VehicleType', 'Gearbox', 'Model', 'FuelType', 'Brand', 'Repaired']"
   ]
  },
  {
   "cell_type": "code",
   "execution_count": 42,
   "metadata": {
    "id": "MN7oUBmW-SVY"
   },
   "outputs": [],
   "source": [
    "X_train[list_of_cat_features] = ord_encoder.fit_transform(X_train[list_of_cat_features])"
   ]
  },
  {
   "cell_type": "code",
   "execution_count": 43,
   "metadata": {
    "id": "BOOHMLsh3mf8"
   },
   "outputs": [],
   "source": [
    "for c in list_of_cat_features:\n",
    "    X_train_for_lgbm[c] = X_train_for_lgbm[c].astype('category')\n",
    "    X_valid_for_lgbm[c] = X_valid_for_lgbm[c].astype('category')"
   ]
  },
  {
   "cell_type": "markdown",
   "metadata": {
    "id": "nXCyac3QZ8b7"
   },
   "source": [
    "### Обучение модели LightGBMRegressor."
   ]
  },
  {
   "cell_type": "code",
   "execution_count": null,
   "metadata": {
    "colab": {
     "base_uri": "https://localhost:8080/"
    },
    "id": "B-umwI8dUbhA",
    "outputId": "6dddef5a-ed18-41c6-ceb3-1de29d826e3a"
   },
   "outputs": [
    {
     "name": "stderr",
     "output_type": "stream",
     "text": [
      "/opt/conda/lib/python3.9/site-packages/lightgbm/basic.py:1487: UserWarning: categorical_feature keyword has been found in `params` and will be ignored.\n",
      "Please use categorical_feature argument of the Dataset constructor to pass this parameter.\n",
      "  _log_warning(f'{key} keyword has been found in `params` and will be ignored.\\n'\n",
      "/opt/conda/lib/python3.9/site-packages/lightgbm/basic.py:1513: UserWarning: categorical_feature in param dict is overridden.\n",
      "  _log_warning(f'{cat_alias} in param dict is overridden.')\n",
      "/opt/conda/lib/python3.9/site-packages/lightgbm/basic.py:1487: UserWarning: categorical_feature keyword has been found in `params` and will be ignored.\n",
      "Please use categorical_feature argument of the Dataset constructor to pass this parameter.\n",
      "  _log_warning(f'{key} keyword has been found in `params` and will be ignored.\\n'\n",
      "/opt/conda/lib/python3.9/site-packages/lightgbm/basic.py:1513: UserWarning: categorical_feature in param dict is overridden.\n",
      "  _log_warning(f'{cat_alias} in param dict is overridden.')\n",
      "/opt/conda/lib/python3.9/site-packages/lightgbm/basic.py:1487: UserWarning: categorical_feature keyword has been found in `params` and will be ignored.\n",
      "Please use categorical_feature argument of the Dataset constructor to pass this parameter.\n",
      "  _log_warning(f'{key} keyword has been found in `params` and will be ignored.\\n'\n",
      "/opt/conda/lib/python3.9/site-packages/lightgbm/basic.py:1513: UserWarning: categorical_feature in param dict is overridden.\n",
      "  _log_warning(f'{cat_alias} in param dict is overridden.')\n",
      "/opt/conda/lib/python3.9/site-packages/lightgbm/basic.py:1487: UserWarning: categorical_feature keyword has been found in `params` and will be ignored.\n",
      "Please use categorical_feature argument of the Dataset constructor to pass this parameter.\n",
      "  _log_warning(f'{key} keyword has been found in `params` and will be ignored.\\n'\n",
      "/opt/conda/lib/python3.9/site-packages/lightgbm/basic.py:1513: UserWarning: categorical_feature in param dict is overridden.\n",
      "  _log_warning(f'{cat_alias} in param dict is overridden.')\n",
      "/opt/conda/lib/python3.9/site-packages/lightgbm/basic.py:1487: UserWarning: categorical_feature keyword has been found in `params` and will be ignored.\n",
      "Please use categorical_feature argument of the Dataset constructor to pass this parameter.\n",
      "  _log_warning(f'{key} keyword has been found in `params` and will be ignored.\\n'\n",
      "/opt/conda/lib/python3.9/site-packages/lightgbm/basic.py:1513: UserWarning: categorical_feature in param dict is overridden.\n",
      "  _log_warning(f'{cat_alias} in param dict is overridden.')\n"
     ]
    }
   ],
   "source": [
    "start = time.time()\n",
    "lgbm = LGBMRegressor()\n",
    "param_lgbm = {'max_depth' : range(10, 300, 30),\n",
    "              'metric' : ['rmse'],\n",
    "              'force_col_wise' : [False],\n",
    "              'random_state' : [RANDOM_STATE],\n",
    "              'num_leaves' : range(5, 30, 5),\n",
    "              'categorical_feature' : ['auto']}\n",
    "model = GridSearchCV(lgbm, param_grid=param_lgbm, cv=3)\n",
    "model.fit(X_train_for_lgbm, y_train)\n",
    "end = time.time()\n",
    "time_lgbm = exec_time(start, end)"
   ]
  },
  {
   "cell_type": "markdown",
   "metadata": {
    "id": "KfCxCM0s1AVF"
   },
   "source": [
    "### Обучение случайного леса"
   ]
  },
  {
   "cell_type": "code",
   "execution_count": null,
   "metadata": {
    "colab": {
     "base_uri": "https://localhost:8080/"
    },
    "id": "MJ0JzuRhUbhF",
    "outputId": "3977dbc1-ed27-45c6-9587-b7a3792d3cb7"
   },
   "outputs": [],
   "source": [
    "start = time.time()\n",
    "rfr = RandomForestRegressor()\n",
    "param_rfr = {'n_estimators'  : range(100, 300, 100),\n",
    "             'n_jobs' : [-1],\n",
    "             'random_state' : [RANDOM_STATE],\n",
    "             'max_depth' : range(3, 6 , 3)}\n",
    "model_rfr = GridSearchCV(rfr, param_grid=param_rfr, cv=3)\n",
    "model_rfr.fit(X_train, y_train)\n",
    "end = time.time()\n",
    "time_rfr = exec_time(start, end)\n",
    "model_rfr.best_params_"
   ]
  },
  {
   "cell_type": "markdown",
   "metadata": {
    "id": "xLLgqXQb1SJi"
   },
   "source": [
    "### Обучение CatBoostRegressor"
   ]
  },
  {
   "cell_type": "code",
   "execution_count": null,
   "metadata": {
    "colab": {
     "base_uri": "https://localhost:8080/"
    },
    "id": "FUBJSmCg9-GA",
    "outputId": "61f283ad-aca7-4df8-c39a-0cdd63d506df"
   },
   "outputs": [],
   "source": [
    "start = time.time()\n",
    "cat = CatBoostRegressor()\n",
    "param_cat = {'iterations' : range(500, 2000, 500),\n",
    "             'depth' : range(2, 8, 2),\n",
    "             'random_state' : [RANDOM_STATE],\n",
    "             'cat_features' : [list_of_cat_features]\n",
    "             }\n",
    "model_cat = GridSearchCV(cat, param_grid=param_cat, cv=3)\n",
    "model_cat.fit(X_train_for_cat, y_train)\n",
    "end = time.time()\n",
    "time_cat = exec_time(start, end)\n"
   ]
  },
  {
   "cell_type": "markdown",
   "metadata": {
    "id": "op9-9pHlUbhF"
   },
   "source": [
    "## Анализ моделей"
   ]
  },
  {
   "cell_type": "markdown",
   "metadata": {
    "id": "FjeiLK2PCtXe"
   },
   "source": [
    "Рассчитаем затрачиваемое время у моделей с лучшими параметрами."
   ]
  },
  {
   "cell_type": "code",
   "execution_count": null,
   "metadata": {
    "colab": {
     "base_uri": "https://localhost:8080/"
    },
    "id": "PPdsEC6iCsfw",
    "outputId": "8c6fc034-7c1e-4a79-9b03-378806788458"
   },
   "outputs": [],
   "source": [
    "X_valid[list_of_cat_features] = ord_encoder.transform(X_valid[list_of_cat_features])\n",
    "start = time.time()\n",
    "model.best_estimator_.fit(X_train_for_lgbm, y_train)\n",
    "pred = model.best_estimator_.predict(X_valid_for_lgbm)\n",
    "end = time.time()\n",
    "time_lgbm = exec_time(start, end)\n"
   ]
  },
  {
   "cell_type": "code",
   "execution_count": null,
   "metadata": {
    "colab": {
     "base_uri": "https://localhost:8080/"
    },
    "id": "Hti9K5h4DHFH",
    "outputId": "0075a963-3db9-44cf-ca45-35b13ebe9e4a"
   },
   "outputs": [],
   "source": [
    "start = time.time()\n",
    "model_rfr.best_estimator_.fit(X_train, y_train)\n",
    "pred_rfr = model_rfr.best_estimator_.predict(X_valid)\n",
    "end = time.time()\n",
    "time_rfr = exec_time(start, end)"
   ]
  },
  {
   "cell_type": "code",
   "execution_count": null,
   "metadata": {
    "colab": {
     "base_uri": "https://localhost:8080/"
    },
    "id": "5Eu77GZpDG3d",
    "outputId": "45b02ac0-f722-4a52-e69e-1fee5b8639c6"
   },
   "outputs": [],
   "source": [
    "start = time.time()\n",
    "model_cat.best_estimator_.fit(X_train_for_cat, y_train, cat_features=list_of_cat_features)\n",
    "pred_cat = model_cat.predict(X_valid_for_cat)\n",
    "end = time.time()\n",
    "time_cat = exec_time(start, end)"
   ]
  },
  {
   "cell_type": "markdown",
   "metadata": {
    "id": "JBb1qBwkCZcp"
   },
   "source": [
    "Сопоставим полученные RMSE моделей и затрачиваемое время."
   ]
  },
  {
   "cell_type": "code",
   "execution_count": null,
   "metadata": {
    "colab": {
     "base_uri": "https://localhost:8080/",
     "height": 112
    },
    "id": "jYCBZZ-sUbhG",
    "outputId": "a24187bb-d519-4e54-95ea-7af05a0e33e0"
   },
   "outputs": [],
   "source": [
    "results = {'LightGBM' : [mean_squared_error(y_valid, pred, squared=False), str(time_lgbm)],\n",
    "           'RandomForestRegressor' : [mean_squared_error(y_valid, pred_rfr, squared=False), time_rfr],\n",
    "           'CatBoost' : [mean_squared_error(y_valid, pred_cat, squared=False), time_cat]\n",
    "           }\n",
    "pd.DataFrame(data=results, index=['RMSE', 'Время'])"
   ]
  },
  {
   "cell_type": "markdown",
   "metadata": {
    "id": "xn3cwP_yCPBI"
   },
   "source": [
    "### Тестирование лучшей модели (LightGBM)"
   ]
  },
  {
   "cell_type": "code",
   "execution_count": null,
   "metadata": {
    "id": "sj7ilMGT47aE"
   },
   "outputs": [],
   "source": [
    "for c in list_of_cat_features:\n",
    "    X_test[c] = X_test[c].astype('category')"
   ]
  },
  {
   "cell_type": "code",
   "execution_count": null,
   "metadata": {
    "colab": {
     "base_uri": "https://localhost:8080/"
    },
    "id": "xxyRAuEs4upo",
    "outputId": "5fb2da58-839d-4c63-f211-7c6d904f8b60"
   },
   "outputs": [],
   "source": [
    "X_test[list_of_cat_features] = ord_encoder.transform(X_test[list_of_cat_features])\n",
    "\n",
    "pred_test = model.predict(X_test)\n",
    "print('RMSE валидации - ', mean_squared_error(y_valid, pred, squared=False),\n",
    "      'RMSE тестовой выборки - ', mean_squared_error(y_test, pred_test, squared=False))"
   ]
  },
  {
   "cell_type": "markdown",
   "metadata": {
    "id": "1OZ02g7iGhD7"
   },
   "source": [
    "### Вывод"
   ]
  },
  {
   "cell_type": "markdown",
   "metadata": {
    "id": "LtHAfws0Gn3o"
   },
   "source": [
    "Все исследуемые модели уложились в заданные задачей характеристики по велечине метрики. Однако на первичном обучении, и на выводимых результатах на уже выбранных гиперпараметрах наименьшее время показала модель обученная LightGBM. При этом чуть лучшее качество показал CatBoost."
   ]
  }
 ],
 "metadata": {
  "ExecuteTimeLog": [
   {
    "duration": 408,
    "start_time": "2023-06-06T08:34:56.331Z"
   },
   {
    "duration": 3,
    "start_time": "2023-06-06T08:34:58.441Z"
   },
   {
    "duration": 2673,
    "start_time": "2023-06-06T08:35:54.495Z"
   },
   {
    "duration": 795,
    "start_time": "2023-06-06T08:36:05.474Z"
   },
   {
    "duration": 125,
    "start_time": "2023-06-06T08:57:25.113Z"
   },
   {
    "duration": 66,
    "start_time": "2023-06-06T09:07:39.824Z"
   },
   {
    "duration": 19,
    "start_time": "2023-06-06T09:07:56.912Z"
   },
   {
    "duration": 35,
    "start_time": "2023-06-06T09:08:17.776Z"
   },
   {
    "duration": 64,
    "start_time": "2023-06-06T09:08:31.928Z"
   },
   {
    "duration": 19,
    "start_time": "2023-06-06T09:11:05.276Z"
   },
   {
    "duration": 130,
    "start_time": "2023-06-06T09:11:22.600Z"
   },
   {
    "duration": 19,
    "start_time": "2023-06-06T09:11:40.280Z"
   },
   {
    "duration": 125,
    "start_time": "2023-06-06T09:11:40.495Z"
   },
   {
    "duration": 20,
    "start_time": "2023-06-06T09:12:09.479Z"
   },
   {
    "duration": 34,
    "start_time": "2023-06-06T09:14:08.095Z"
   },
   {
    "duration": 29,
    "start_time": "2023-06-06T09:15:06.352Z"
   },
   {
    "duration": 29,
    "start_time": "2023-06-06T09:15:40.224Z"
   },
   {
    "duration": 31,
    "start_time": "2023-06-06T09:15:46.511Z"
   },
   {
    "duration": 29,
    "start_time": "2023-06-06T09:18:49.623Z"
   },
   {
    "duration": 17,
    "start_time": "2023-06-06T09:26:23.551Z"
   },
   {
    "duration": 20,
    "start_time": "2023-06-06T09:26:28.351Z"
   },
   {
    "duration": 19,
    "start_time": "2023-06-06T09:26:34.391Z"
   },
   {
    "duration": 42,
    "start_time": "2023-06-06T09:27:53.087Z"
   },
   {
    "duration": 26,
    "start_time": "2023-06-06T09:27:58.763Z"
   },
   {
    "duration": 68,
    "start_time": "2023-06-06T09:28:12.711Z"
   },
   {
    "duration": 53,
    "start_time": "2023-06-06T09:28:16.581Z"
   },
   {
    "duration": 48,
    "start_time": "2023-06-06T09:29:05.647Z"
   },
   {
    "duration": 52,
    "start_time": "2023-06-06T09:29:24.319Z"
   },
   {
    "duration": 26099,
    "start_time": "2023-06-06T09:30:13.303Z"
   },
   {
    "duration": 10,
    "start_time": "2023-06-06T09:32:26.711Z"
   },
   {
    "duration": 13,
    "start_time": "2023-06-06T09:32:55.339Z"
   },
   {
    "duration": 32,
    "start_time": "2023-06-06T09:33:08.607Z"
   },
   {
    "duration": 76,
    "start_time": "2023-06-06T09:34:20.847Z"
   },
   {
    "duration": 62,
    "start_time": "2023-06-06T09:34:33.749Z"
   },
   {
    "duration": 7,
    "start_time": "2023-06-06T09:34:40.919Z"
   },
   {
    "duration": 122,
    "start_time": "2023-06-06T09:34:47.831Z"
   },
   {
    "duration": 817,
    "start_time": "2023-06-06T09:36:02.006Z"
   },
   {
    "duration": 54,
    "start_time": "2023-06-06T09:36:13.631Z"
   },
   {
    "duration": 30,
    "start_time": "2023-06-06T09:36:17.990Z"
   },
   {
    "duration": 17,
    "start_time": "2023-06-06T09:36:28.814Z"
   },
   {
    "duration": 9,
    "start_time": "2023-06-06T09:37:20.207Z"
   },
   {
    "duration": 10,
    "start_time": "2023-06-06T09:37:23.727Z"
   },
   {
    "duration": 7,
    "start_time": "2023-06-06T09:37:59.350Z"
   },
   {
    "duration": 29,
    "start_time": "2023-06-06T09:39:21.649Z"
   },
   {
    "duration": 112,
    "start_time": "2023-06-06T09:39:24.390Z"
   },
   {
    "duration": 29,
    "start_time": "2023-06-06T09:39:25.967Z"
   },
   {
    "duration": 63,
    "start_time": "2023-06-06T09:39:26.222Z"
   },
   {
    "duration": 128,
    "start_time": "2023-06-06T09:39:27.574Z"
   },
   {
    "duration": 87,
    "start_time": "2023-06-06T09:40:09.680Z"
   },
   {
    "duration": 103,
    "start_time": "2023-06-06T09:40:09.886Z"
   },
   {
    "duration": 989,
    "start_time": "2023-06-06T09:40:24.086Z"
   },
   {
    "duration": 795,
    "start_time": "2023-06-06T09:40:39.863Z"
   },
   {
    "duration": 43,
    "start_time": "2023-06-06T09:46:07.247Z"
   },
   {
    "duration": 44,
    "start_time": "2023-06-06T09:46:17.574Z"
   },
   {
    "duration": 580,
    "start_time": "2023-06-06T09:46:19.102Z"
   },
   {
    "duration": 184,
    "start_time": "2023-06-06T09:56:39.933Z"
   },
   {
    "duration": 21,
    "start_time": "2023-06-06T09:57:53.486Z"
   },
   {
    "duration": 25,
    "start_time": "2023-06-06T09:58:13.998Z"
   },
   {
    "duration": 12,
    "start_time": "2023-06-06T09:58:45.350Z"
   },
   {
    "duration": 43,
    "start_time": "2023-06-06T09:59:32.102Z"
   },
   {
    "duration": 42,
    "start_time": "2023-06-06T10:02:37.222Z"
   },
   {
    "duration": 180,
    "start_time": "2023-06-06T10:02:46.766Z"
   },
   {
    "duration": 189,
    "start_time": "2023-06-06T10:06:52.622Z"
   },
   {
    "duration": 8,
    "start_time": "2023-06-06T10:10:14.998Z"
   },
   {
    "duration": 5,
    "start_time": "2023-06-06T10:10:18.438Z"
   },
   {
    "duration": 5,
    "start_time": "2023-06-06T10:10:26.421Z"
   },
   {
    "duration": 28,
    "start_time": "2023-06-06T10:10:44.575Z"
   },
   {
    "duration": 25,
    "start_time": "2023-06-06T10:11:29.565Z"
   },
   {
    "duration": 25,
    "start_time": "2023-06-06T10:12:20.525Z"
   },
   {
    "duration": 182,
    "start_time": "2023-06-06T10:13:53.557Z"
   },
   {
    "duration": 257,
    "start_time": "2023-06-06T10:14:03.389Z"
   },
   {
    "duration": 270,
    "start_time": "2023-06-06T10:14:13.197Z"
   },
   {
    "duration": 175,
    "start_time": "2023-06-06T10:14:22.677Z"
   },
   {
    "duration": 279,
    "start_time": "2023-06-06T10:14:57.590Z"
   },
   {
    "duration": 7,
    "start_time": "2023-06-06T10:15:58.566Z"
   },
   {
    "duration": 296,
    "start_time": "2023-06-06T10:17:06.956Z"
   },
   {
    "duration": 10,
    "start_time": "2023-06-06T10:18:11.022Z"
   },
   {
    "duration": 59,
    "start_time": "2023-06-06T10:18:19.077Z"
   },
   {
    "duration": 281,
    "start_time": "2023-06-06T10:18:30.135Z"
   },
   {
    "duration": 511,
    "start_time": "2023-06-06T10:18:33.925Z"
   },
   {
    "duration": 156,
    "start_time": "2023-06-06T10:18:35.637Z"
   },
   {
    "duration": 190,
    "start_time": "2023-06-06T10:19:44.997Z"
   },
   {
    "duration": 176,
    "start_time": "2023-06-06T10:20:27.589Z"
   },
   {
    "duration": 7,
    "start_time": "2023-06-06T10:20:38.893Z"
   },
   {
    "duration": 8,
    "start_time": "2023-06-06T10:20:47.095Z"
   },
   {
    "duration": 23,
    "start_time": "2023-06-06T10:20:58.222Z"
   },
   {
    "duration": 94,
    "start_time": "2023-06-06T11:12:09.699Z"
   },
   {
    "duration": 25,
    "start_time": "2023-06-06T11:13:10.797Z"
   },
   {
    "duration": 51,
    "start_time": "2023-06-06T11:13:36.660Z"
   },
   {
    "duration": 28,
    "start_time": "2023-06-06T11:13:42.651Z"
   },
   {
    "duration": 673,
    "start_time": "2023-06-06T11:14:12.364Z"
   },
   {
    "duration": 42,
    "start_time": "2023-06-06T11:14:37.590Z"
   },
   {
    "duration": 13,
    "start_time": "2023-06-06T11:16:32.019Z"
   },
   {
    "duration": 3,
    "start_time": "2023-06-06T11:16:49.467Z"
   },
   {
    "duration": 110,
    "start_time": "2023-06-06T11:16:53.811Z"
   },
   {
    "duration": 3,
    "start_time": "2023-06-06T11:17:16.676Z"
   },
   {
    "duration": 4,
    "start_time": "2023-06-06T11:17:22.564Z"
   },
   {
    "duration": 5,
    "start_time": "2023-06-06T11:17:34.395Z"
   },
   {
    "duration": 59,
    "start_time": "2023-06-06T11:18:54.067Z"
   },
   {
    "duration": 9,
    "start_time": "2023-06-06T11:19:00.164Z"
   },
   {
    "duration": 91,
    "start_time": "2023-06-06T11:21:11.676Z"
   },
   {
    "duration": 3,
    "start_time": "2023-06-06T11:26:41.051Z"
   },
   {
    "duration": 3,
    "start_time": "2023-06-06T11:27:14.375Z"
   },
   {
    "duration": 25,
    "start_time": "2023-06-06T11:30:22.574Z"
   },
   {
    "duration": 9,
    "start_time": "2023-06-06T11:30:48.374Z"
   },
   {
    "duration": 8,
    "start_time": "2023-06-06T11:30:54.579Z"
   },
   {
    "duration": 10,
    "start_time": "2023-06-06T11:32:00.642Z"
   },
   {
    "duration": 13,
    "start_time": "2023-06-06T11:33:41.388Z"
   },
   {
    "duration": 16,
    "start_time": "2023-06-06T11:34:30.839Z"
   },
   {
    "duration": 15,
    "start_time": "2023-06-06T11:34:38.179Z"
   },
   {
    "duration": 14,
    "start_time": "2023-06-06T11:35:01.275Z"
   },
   {
    "duration": 10,
    "start_time": "2023-06-06T11:36:22.379Z"
   },
   {
    "duration": 11,
    "start_time": "2023-06-06T11:36:36.035Z"
   },
   {
    "duration": 10,
    "start_time": "2023-06-06T11:36:46.387Z"
   },
   {
    "duration": 49,
    "start_time": "2023-06-06T11:36:59.587Z"
   },
   {
    "duration": 3,
    "start_time": "2023-06-06T11:40:49.011Z"
   },
   {
    "duration": 10,
    "start_time": "2023-06-06T11:42:46.179Z"
   },
   {
    "duration": 9,
    "start_time": "2023-06-06T11:42:58.357Z"
   },
   {
    "duration": 11,
    "start_time": "2023-06-06T11:43:04.179Z"
   },
   {
    "duration": 13,
    "start_time": "2023-06-06T11:43:12.156Z"
   },
   {
    "duration": 3,
    "start_time": "2023-06-06T11:43:37.402Z"
   },
   {
    "duration": 3,
    "start_time": "2023-06-06T11:43:39.803Z"
   },
   {
    "duration": 5,
    "start_time": "2023-06-06T11:44:25.874Z"
   },
   {
    "duration": 2837,
    "start_time": "2023-06-06T11:44:41.555Z"
   },
   {
    "duration": 2159,
    "start_time": "2023-06-06T11:44:53.406Z"
   },
   {
    "duration": 1990,
    "start_time": "2023-06-06T11:45:05.401Z"
   },
   {
    "duration": 21,
    "start_time": "2023-06-06T11:45:20.506Z"
   },
   {
    "duration": 15,
    "start_time": "2023-06-06T11:46:03.955Z"
   },
   {
    "duration": 15,
    "start_time": "2023-06-06T11:46:11.699Z"
   },
   {
    "duration": 1619,
    "start_time": "2023-06-06T11:47:06.650Z"
   },
   {
    "duration": 1619,
    "start_time": "2023-06-06T11:47:22.094Z"
   },
   {
    "duration": 12,
    "start_time": "2023-06-06T11:48:03.394Z"
   },
   {
    "duration": 10,
    "start_time": "2023-06-06T11:48:20.042Z"
   },
   {
    "duration": 4,
    "start_time": "2023-06-06T11:48:27.643Z"
   },
   {
    "duration": 2,
    "start_time": "2023-06-06T11:48:27.955Z"
   },
   {
    "duration": 799,
    "start_time": "2023-06-06T11:48:28.314Z"
   },
   {
    "duration": 238,
    "start_time": "2023-06-06T11:48:29.386Z"
   },
   {
    "duration": 34,
    "start_time": "2023-06-06T11:48:30.186Z"
   },
   {
    "duration": 37,
    "start_time": "2023-06-06T11:48:31.314Z"
   },
   {
    "duration": 138,
    "start_time": "2023-06-06T11:48:31.783Z"
   },
   {
    "duration": 34,
    "start_time": "2023-06-06T11:49:04.594Z"
   },
   {
    "duration": 75,
    "start_time": "2023-06-06T11:49:05.194Z"
   },
   {
    "duration": 107,
    "start_time": "2023-06-06T11:49:07.635Z"
   },
   {
    "duration": 24,
    "start_time": "2023-06-06T11:50:23.546Z"
   },
   {
    "duration": 166,
    "start_time": "2023-06-06T11:50:25.241Z"
   },
   {
    "duration": 50,
    "start_time": "2023-06-06T11:50:28.331Z"
   },
   {
    "duration": 177,
    "start_time": "2023-06-06T11:50:28.818Z"
   },
   {
    "duration": 300,
    "start_time": "2023-06-06T11:50:29.715Z"
   },
   {
    "duration": 49,
    "start_time": "2023-06-06T11:50:30.555Z"
   },
   {
    "duration": 178,
    "start_time": "2023-06-06T11:50:31.595Z"
   },
   {
    "duration": 191,
    "start_time": "2023-06-06T11:50:32.378Z"
   },
   {
    "duration": 28,
    "start_time": "2023-06-06T11:50:33.982Z"
   },
   {
    "duration": 100,
    "start_time": "2023-06-06T11:50:35.226Z"
   },
   {
    "duration": 21,
    "start_time": "2023-06-06T11:50:36.762Z"
   },
   {
    "duration": 72,
    "start_time": "2023-06-06T11:50:37.169Z"
   },
   {
    "duration": 637,
    "start_time": "2023-06-06T11:50:37.818Z"
   },
   {
    "duration": 22,
    "start_time": "2023-06-06T11:50:55.250Z"
   },
   {
    "duration": 11,
    "start_time": "2023-06-06T11:57:22.355Z"
   },
   {
    "duration": 88,
    "start_time": "2023-06-06T11:57:33.780Z"
   },
   {
    "duration": 78,
    "start_time": "2023-06-06T12:01:36.489Z"
   },
   {
    "duration": 10,
    "start_time": "2023-06-06T12:01:53.090Z"
   },
   {
    "duration": 13,
    "start_time": "2023-06-06T12:02:32.833Z"
   },
   {
    "duration": 4,
    "start_time": "2023-06-06T12:02:47.505Z"
   },
   {
    "duration": 4,
    "start_time": "2023-06-06T12:02:47.510Z"
   },
   {
    "duration": 760,
    "start_time": "2023-06-06T12:02:47.516Z"
   },
   {
    "duration": 130,
    "start_time": "2023-06-06T12:02:48.278Z"
   },
   {
    "duration": 39,
    "start_time": "2023-06-06T12:02:48.410Z"
   },
   {
    "duration": 42,
    "start_time": "2023-06-06T12:02:48.451Z"
   },
   {
    "duration": 128,
    "start_time": "2023-06-06T12:02:48.495Z"
   },
   {
    "duration": 33,
    "start_time": "2023-06-06T12:02:48.624Z"
   },
   {
    "duration": 89,
    "start_time": "2023-06-06T12:02:48.658Z"
   },
   {
    "duration": 118,
    "start_time": "2023-06-06T12:02:48.748Z"
   },
   {
    "duration": 23,
    "start_time": "2023-06-06T12:02:49.850Z"
   },
   {
    "duration": 173,
    "start_time": "2023-06-06T12:02:50.361Z"
   },
   {
    "duration": 35,
    "start_time": "2023-06-06T12:02:51.698Z"
   },
   {
    "duration": 176,
    "start_time": "2023-06-06T12:02:51.889Z"
   },
   {
    "duration": 272,
    "start_time": "2023-06-06T12:02:52.073Z"
   },
   {
    "duration": 43,
    "start_time": "2023-06-06T12:02:52.347Z"
   },
   {
    "duration": 161,
    "start_time": "2023-06-06T12:02:52.713Z"
   },
   {
    "duration": 178,
    "start_time": "2023-06-06T12:02:53.737Z"
   },
   {
    "duration": 22,
    "start_time": "2023-06-06T12:02:55.049Z"
   },
   {
    "duration": 70,
    "start_time": "2023-06-06T12:02:56.457Z"
   },
   {
    "duration": 18,
    "start_time": "2023-06-06T12:02:58.041Z"
   },
   {
    "duration": 64,
    "start_time": "2023-06-06T12:02:58.553Z"
   },
   {
    "duration": 99,
    "start_time": "2023-06-06T12:02:59.009Z"
   },
   {
    "duration": 89,
    "start_time": "2023-06-06T12:03:56.885Z"
   },
   {
    "duration": 117,
    "start_time": "2023-06-06T12:05:22.930Z"
   },
   {
    "duration": 99,
    "start_time": "2023-06-06T12:09:00.849Z"
   },
   {
    "duration": 91,
    "start_time": "2023-06-06T12:09:09.739Z"
   },
   {
    "duration": 93,
    "start_time": "2023-06-06T12:09:35.786Z"
   },
   {
    "duration": 94,
    "start_time": "2023-06-06T12:09:40.642Z"
   },
   {
    "duration": 8276,
    "start_time": "2023-06-06T12:11:37.449Z"
   },
   {
    "duration": 97,
    "start_time": "2023-06-06T12:11:56.753Z"
   },
   {
    "duration": 86,
    "start_time": "2023-06-06T12:12:40.849Z"
   },
   {
    "duration": 19,
    "start_time": "2023-06-06T12:22:08.265Z"
   },
   {
    "duration": 73,
    "start_time": "2023-06-06T12:23:58.244Z"
   },
   {
    "duration": 47,
    "start_time": "2023-06-06T12:25:00.642Z"
   },
   {
    "duration": 2277,
    "start_time": "2023-06-06T12:25:10.721Z"
   },
   {
    "duration": 1530,
    "start_time": "2023-06-06T12:25:13.000Z"
   },
   {
    "duration": 2,
    "start_time": "2023-06-06T12:25:14.532Z"
   },
   {
    "duration": 2778,
    "start_time": "2023-06-06T12:25:14.536Z"
   },
   {
    "duration": 131,
    "start_time": "2023-06-06T12:25:17.316Z"
   },
   {
    "duration": 34,
    "start_time": "2023-06-06T12:25:17.449Z"
   },
   {
    "duration": 39,
    "start_time": "2023-06-06T12:25:17.485Z"
   },
   {
    "duration": 143,
    "start_time": "2023-06-06T12:25:17.526Z"
   },
   {
    "duration": 32,
    "start_time": "2023-06-06T12:25:17.675Z"
   },
   {
    "duration": 113,
    "start_time": "2023-06-06T12:25:17.710Z"
   },
   {
    "duration": 107,
    "start_time": "2023-06-06T12:25:17.825Z"
   },
   {
    "duration": 48,
    "start_time": "2023-06-06T12:25:17.933Z"
   },
   {
    "duration": 361,
    "start_time": "2023-06-06T12:25:17.983Z"
   },
   {
    "duration": 59,
    "start_time": "2023-06-06T12:25:18.345Z"
   },
   {
    "duration": 179,
    "start_time": "2023-06-06T12:25:18.406Z"
   },
   {
    "duration": 274,
    "start_time": "2023-06-06T12:25:18.587Z"
   },
   {
    "duration": 55,
    "start_time": "2023-06-06T12:25:18.863Z"
   },
   {
    "duration": 173,
    "start_time": "2023-06-06T12:25:18.920Z"
   },
   {
    "duration": 189,
    "start_time": "2023-06-06T12:25:19.095Z"
   },
   {
    "duration": 22,
    "start_time": "2023-06-06T12:25:19.286Z"
   },
   {
    "duration": 81,
    "start_time": "2023-06-06T12:25:19.310Z"
   },
   {
    "duration": 14,
    "start_time": "2023-06-06T12:25:19.393Z"
   },
   {
    "duration": 23,
    "start_time": "2023-06-06T12:25:21.184Z"
   },
   {
    "duration": 47,
    "start_time": "2023-06-06T12:25:45.497Z"
   },
   {
    "duration": 1558,
    "start_time": "2023-06-06T12:25:57.408Z"
   },
   {
    "duration": 69,
    "start_time": "2023-06-06T12:26:01.576Z"
   },
   {
    "duration": 8,
    "start_time": "2023-06-06T12:26:04.952Z"
   },
   {
    "duration": 2306,
    "start_time": "2023-06-06T12:26:10.442Z"
   },
   {
    "duration": 3,
    "start_time": "2023-06-06T12:26:12.751Z"
   },
   {
    "duration": 5,
    "start_time": "2023-06-06T12:26:12.756Z"
   },
   {
    "duration": 2770,
    "start_time": "2023-06-06T12:26:12.763Z"
   },
   {
    "duration": 120,
    "start_time": "2023-06-06T12:26:15.535Z"
   },
   {
    "duration": 35,
    "start_time": "2023-06-06T12:26:15.657Z"
   },
   {
    "duration": 63,
    "start_time": "2023-06-06T12:26:15.694Z"
   },
   {
    "duration": 135,
    "start_time": "2023-06-06T12:26:15.762Z"
   },
   {
    "duration": 55,
    "start_time": "2023-06-06T12:26:15.899Z"
   },
   {
    "duration": 106,
    "start_time": "2023-06-06T12:26:15.956Z"
   },
   {
    "duration": 112,
    "start_time": "2023-06-06T12:26:16.064Z"
   },
   {
    "duration": 30,
    "start_time": "2023-06-06T12:26:16.177Z"
   },
   {
    "duration": 371,
    "start_time": "2023-06-06T12:26:16.209Z"
   },
   {
    "duration": 48,
    "start_time": "2023-06-06T12:26:16.582Z"
   },
   {
    "duration": 169,
    "start_time": "2023-06-06T12:26:16.632Z"
   },
   {
    "duration": 264,
    "start_time": "2023-06-06T12:26:16.803Z"
   },
   {
    "duration": 50,
    "start_time": "2023-06-06T12:26:17.068Z"
   },
   {
    "duration": 160,
    "start_time": "2023-06-06T12:26:17.120Z"
   },
   {
    "duration": 185,
    "start_time": "2023-06-06T12:26:17.283Z"
   },
   {
    "duration": 24,
    "start_time": "2023-06-06T12:26:17.469Z"
   },
   {
    "duration": 89,
    "start_time": "2023-06-06T12:26:17.495Z"
   },
   {
    "duration": 14,
    "start_time": "2023-06-06T12:26:18.976Z"
   },
   {
    "duration": 2248,
    "start_time": "2023-06-06T12:26:40.058Z"
   },
   {
    "duration": 1538,
    "start_time": "2023-06-06T12:26:42.310Z"
   },
   {
    "duration": 2,
    "start_time": "2023-06-06T12:26:43.850Z"
   },
   {
    "duration": 2771,
    "start_time": "2023-06-06T12:26:43.854Z"
   },
   {
    "duration": 150,
    "start_time": "2023-06-06T12:26:46.627Z"
   },
   {
    "duration": 43,
    "start_time": "2023-06-06T12:26:46.779Z"
   },
   {
    "duration": 37,
    "start_time": "2023-06-06T12:26:46.824Z"
   },
   {
    "duration": 148,
    "start_time": "2023-06-06T12:26:46.862Z"
   },
   {
    "duration": 30,
    "start_time": "2023-06-06T12:26:47.011Z"
   },
   {
    "duration": 113,
    "start_time": "2023-06-06T12:26:47.043Z"
   },
   {
    "duration": 106,
    "start_time": "2023-06-06T12:26:47.157Z"
   },
   {
    "duration": 39,
    "start_time": "2023-06-06T12:26:47.264Z"
   },
   {
    "duration": 372,
    "start_time": "2023-06-06T12:26:47.304Z"
   },
   {
    "duration": 48,
    "start_time": "2023-06-06T12:26:47.678Z"
   },
   {
    "duration": 177,
    "start_time": "2023-06-06T12:26:47.728Z"
   },
   {
    "duration": 271,
    "start_time": "2023-06-06T12:26:47.906Z"
   },
   {
    "duration": 46,
    "start_time": "2023-06-06T12:26:48.178Z"
   },
   {
    "duration": 177,
    "start_time": "2023-06-06T12:26:48.226Z"
   },
   {
    "duration": 186,
    "start_time": "2023-06-06T12:26:48.405Z"
   },
   {
    "duration": 22,
    "start_time": "2023-06-06T12:26:48.593Z"
   },
   {
    "duration": 89,
    "start_time": "2023-06-06T12:26:48.616Z"
   },
   {
    "duration": 14,
    "start_time": "2023-06-06T12:26:48.706Z"
   },
   {
    "duration": 25,
    "start_time": "2023-06-06T12:26:50.740Z"
   },
   {
    "duration": 49,
    "start_time": "2023-06-06T12:27:03.320Z"
   },
   {
    "duration": 2227,
    "start_time": "2023-06-06T12:27:16.394Z"
   },
   {
    "duration": 1485,
    "start_time": "2023-06-06T12:27:18.624Z"
   },
   {
    "duration": 2,
    "start_time": "2023-06-06T12:27:20.111Z"
   },
   {
    "duration": 2780,
    "start_time": "2023-06-06T12:27:20.115Z"
   },
   {
    "duration": 128,
    "start_time": "2023-06-06T12:27:22.897Z"
   },
   {
    "duration": 34,
    "start_time": "2023-06-06T12:27:23.027Z"
   },
   {
    "duration": 32,
    "start_time": "2023-06-06T12:27:23.076Z"
   },
   {
    "duration": 133,
    "start_time": "2023-06-06T12:27:23.109Z"
   },
   {
    "duration": 47,
    "start_time": "2023-06-06T12:27:23.244Z"
   },
   {
    "duration": 118,
    "start_time": "2023-06-06T12:27:23.293Z"
   },
   {
    "duration": 106,
    "start_time": "2023-06-06T12:27:23.413Z"
   },
   {
    "duration": 60,
    "start_time": "2023-06-06T12:27:23.521Z"
   },
   {
    "duration": 352,
    "start_time": "2023-06-06T12:27:23.583Z"
   },
   {
    "duration": 62,
    "start_time": "2023-06-06T12:27:23.937Z"
   },
   {
    "duration": 206,
    "start_time": "2023-06-06T12:27:24.001Z"
   },
   {
    "duration": 272,
    "start_time": "2023-06-06T12:27:24.209Z"
   },
   {
    "duration": 45,
    "start_time": "2023-06-06T12:27:24.483Z"
   },
   {
    "duration": 171,
    "start_time": "2023-06-06T12:27:24.529Z"
   },
   {
    "duration": 186,
    "start_time": "2023-06-06T12:27:24.701Z"
   },
   {
    "duration": 21,
    "start_time": "2023-06-06T12:27:24.888Z"
   },
   {
    "duration": 78,
    "start_time": "2023-06-06T12:27:24.911Z"
   },
   {
    "duration": 14,
    "start_time": "2023-06-06T12:27:24.990Z"
   },
   {
    "duration": 24,
    "start_time": "2023-06-06T12:27:45.175Z"
   },
   {
    "duration": 47,
    "start_time": "2023-06-06T12:29:46.393Z"
   },
   {
    "duration": 2352,
    "start_time": "2023-06-06T12:29:51.247Z"
   },
   {
    "duration": 1545,
    "start_time": "2023-06-06T12:29:53.601Z"
   },
   {
    "duration": 3,
    "start_time": "2023-06-06T12:29:55.148Z"
   },
   {
    "duration": 2751,
    "start_time": "2023-06-06T12:29:55.153Z"
   },
   {
    "duration": 139,
    "start_time": "2023-06-06T12:29:57.906Z"
   },
   {
    "duration": 42,
    "start_time": "2023-06-06T12:29:58.047Z"
   },
   {
    "duration": 43,
    "start_time": "2023-06-06T12:29:58.091Z"
   },
   {
    "duration": 146,
    "start_time": "2023-06-06T12:29:58.136Z"
   },
   {
    "duration": 36,
    "start_time": "2023-06-06T12:29:58.284Z"
   },
   {
    "duration": 122,
    "start_time": "2023-06-06T12:29:58.322Z"
   },
   {
    "duration": 116,
    "start_time": "2023-06-06T12:29:58.446Z"
   },
   {
    "duration": 30,
    "start_time": "2023-06-06T12:29:58.564Z"
   },
   {
    "duration": 384,
    "start_time": "2023-06-06T12:29:58.596Z"
   },
   {
    "duration": 53,
    "start_time": "2023-06-06T12:29:58.982Z"
   },
   {
    "duration": 182,
    "start_time": "2023-06-06T12:29:59.037Z"
   },
   {
    "duration": 270,
    "start_time": "2023-06-06T12:29:59.220Z"
   },
   {
    "duration": 45,
    "start_time": "2023-06-06T12:29:59.492Z"
   },
   {
    "duration": 179,
    "start_time": "2023-06-06T12:29:59.539Z"
   },
   {
    "duration": 177,
    "start_time": "2023-06-06T12:29:59.720Z"
   },
   {
    "duration": 21,
    "start_time": "2023-06-06T12:29:59.899Z"
   },
   {
    "duration": 83,
    "start_time": "2023-06-06T12:29:59.922Z"
   },
   {
    "duration": 25,
    "start_time": "2023-06-06T12:30:00.007Z"
   },
   {
    "duration": 20,
    "start_time": "2023-06-06T12:30:02.333Z"
   },
   {
    "duration": 70,
    "start_time": "2023-06-06T12:30:02.735Z"
   },
   {
    "duration": 159,
    "start_time": "2023-06-06T12:30:13.281Z"
   },
   {
    "duration": 1385,
    "start_time": "2023-06-06T12:30:41.417Z"
   },
   {
    "duration": 55,
    "start_time": "2023-06-06T12:32:04.856Z"
   },
   {
    "duration": 2349,
    "start_time": "2023-06-06T12:32:08.818Z"
   },
   {
    "duration": 1563,
    "start_time": "2023-06-06T12:32:11.169Z"
   },
   {
    "duration": 3,
    "start_time": "2023-06-06T12:32:12.734Z"
   },
   {
    "duration": 2847,
    "start_time": "2023-06-06T12:32:12.738Z"
   },
   {
    "duration": 151,
    "start_time": "2023-06-06T12:32:15.587Z"
   },
   {
    "duration": 37,
    "start_time": "2023-06-06T12:32:15.739Z"
   },
   {
    "duration": 39,
    "start_time": "2023-06-06T12:32:15.777Z"
   },
   {
    "duration": 147,
    "start_time": "2023-06-06T12:32:15.818Z"
   },
   {
    "duration": 39,
    "start_time": "2023-06-06T12:32:15.966Z"
   },
   {
    "duration": 113,
    "start_time": "2023-06-06T12:32:16.007Z"
   },
   {
    "duration": 115,
    "start_time": "2023-06-06T12:32:16.122Z"
   },
   {
    "duration": 46,
    "start_time": "2023-06-06T12:32:16.238Z"
   },
   {
    "duration": 403,
    "start_time": "2023-06-06T12:32:16.286Z"
   },
   {
    "duration": 50,
    "start_time": "2023-06-06T12:32:16.690Z"
   },
   {
    "duration": 172,
    "start_time": "2023-06-06T12:32:16.742Z"
   },
   {
    "duration": 296,
    "start_time": "2023-06-06T12:32:16.916Z"
   },
   {
    "duration": 44,
    "start_time": "2023-06-06T12:32:17.213Z"
   },
   {
    "duration": 187,
    "start_time": "2023-06-06T12:32:17.259Z"
   },
   {
    "duration": 209,
    "start_time": "2023-06-06T12:32:17.447Z"
   },
   {
    "duration": 35,
    "start_time": "2023-06-06T12:32:17.657Z"
   },
   {
    "duration": 83,
    "start_time": "2023-06-06T12:32:17.694Z"
   },
   {
    "duration": 22,
    "start_time": "2023-06-06T12:32:17.779Z"
   },
   {
    "duration": 19,
    "start_time": "2023-06-06T12:32:18.940Z"
   },
   {
    "duration": 1527,
    "start_time": "2023-06-06T12:32:20.464Z"
   },
   {
    "duration": 1441,
    "start_time": "2023-06-06T12:32:48.044Z"
   },
   {
    "duration": 1364,
    "start_time": "2023-06-06T12:32:51.425Z"
   },
   {
    "duration": 1403,
    "start_time": "2023-06-06T12:33:06.184Z"
   },
   {
    "duration": 1309,
    "start_time": "2023-06-06T12:33:12.209Z"
   },
   {
    "duration": 42,
    "start_time": "2023-06-06T12:33:22.672Z"
   },
   {
    "duration": 470,
    "start_time": "2023-06-06T12:33:25.440Z"
   },
   {
    "duration": 1298,
    "start_time": "2023-06-06T12:33:38.672Z"
   },
   {
    "duration": 1362,
    "start_time": "2023-06-06T12:34:59.152Z"
   },
   {
    "duration": 53,
    "start_time": "2023-06-06T12:37:30.688Z"
   },
   {
    "duration": 2352,
    "start_time": "2023-06-06T12:37:35.746Z"
   },
   {
    "duration": 1511,
    "start_time": "2023-06-06T12:37:38.100Z"
   },
   {
    "duration": 2,
    "start_time": "2023-06-06T12:37:39.613Z"
   },
   {
    "duration": 2812,
    "start_time": "2023-06-06T12:37:39.618Z"
   },
   {
    "duration": 121,
    "start_time": "2023-06-06T12:37:42.432Z"
   },
   {
    "duration": 33,
    "start_time": "2023-06-06T12:37:42.555Z"
   },
   {
    "duration": 31,
    "start_time": "2023-06-06T12:37:42.590Z"
   },
   {
    "duration": 136,
    "start_time": "2023-06-06T12:37:42.623Z"
   },
   {
    "duration": 38,
    "start_time": "2023-06-06T12:37:42.761Z"
   },
   {
    "duration": 108,
    "start_time": "2023-06-06T12:37:42.801Z"
   },
   {
    "duration": 108,
    "start_time": "2023-06-06T12:37:42.912Z"
   },
   {
    "duration": 28,
    "start_time": "2023-06-06T12:37:43.022Z"
   },
   {
    "duration": 390,
    "start_time": "2023-06-06T12:37:43.052Z"
   },
   {
    "duration": 56,
    "start_time": "2023-06-06T12:37:43.446Z"
   },
   {
    "duration": 176,
    "start_time": "2023-06-06T12:37:43.503Z"
   },
   {
    "duration": 274,
    "start_time": "2023-06-06T12:37:43.681Z"
   },
   {
    "duration": 55,
    "start_time": "2023-06-06T12:37:43.958Z"
   },
   {
    "duration": 225,
    "start_time": "2023-06-06T12:37:44.018Z"
   },
   {
    "duration": 190,
    "start_time": "2023-06-06T12:37:44.245Z"
   },
   {
    "duration": 22,
    "start_time": "2023-06-06T12:37:44.436Z"
   },
   {
    "duration": 103,
    "start_time": "2023-06-06T12:37:44.460Z"
   },
   {
    "duration": 13,
    "start_time": "2023-06-06T12:37:44.564Z"
   },
   {
    "duration": 21,
    "start_time": "2023-06-06T12:37:48.000Z"
   },
   {
    "duration": 1413,
    "start_time": "2023-06-06T12:37:56.696Z"
   },
   {
    "duration": 1764,
    "start_time": "2023-06-06T12:38:02.687Z"
   },
   {
    "duration": 1727,
    "start_time": "2023-06-06T12:38:34.345Z"
   },
   {
    "duration": 1294,
    "start_time": "2023-06-06T12:38:59.878Z"
   },
   {
    "duration": 149,
    "start_time": "2023-06-06T12:39:20.840Z"
   },
   {
    "duration": 11,
    "start_time": "2023-06-06T12:40:33.640Z"
   },
   {
    "duration": 2301,
    "start_time": "2023-06-06T12:47:08.321Z"
   },
   {
    "duration": 1442,
    "start_time": "2023-06-06T12:47:10.625Z"
   },
   {
    "duration": 3,
    "start_time": "2023-06-06T12:47:12.068Z"
   },
   {
    "duration": 2777,
    "start_time": "2023-06-06T12:47:12.073Z"
   },
   {
    "duration": 133,
    "start_time": "2023-06-06T12:47:14.852Z"
   },
   {
    "duration": 35,
    "start_time": "2023-06-06T12:47:14.987Z"
   },
   {
    "duration": 59,
    "start_time": "2023-06-06T12:47:15.023Z"
   },
   {
    "duration": 144,
    "start_time": "2023-06-06T12:47:15.084Z"
   },
   {
    "duration": 33,
    "start_time": "2023-06-06T12:47:15.230Z"
   },
   {
    "duration": 102,
    "start_time": "2023-06-06T12:47:15.265Z"
   },
   {
    "duration": 108,
    "start_time": "2023-06-06T12:47:15.375Z"
   },
   {
    "duration": 33,
    "start_time": "2023-06-06T12:47:15.485Z"
   },
   {
    "duration": 372,
    "start_time": "2023-06-06T12:47:15.520Z"
   },
   {
    "duration": 47,
    "start_time": "2023-06-06T12:47:15.894Z"
   },
   {
    "duration": 183,
    "start_time": "2023-06-06T12:47:15.943Z"
   },
   {
    "duration": 294,
    "start_time": "2023-06-06T12:47:16.128Z"
   },
   {
    "duration": 51,
    "start_time": "2023-06-06T12:47:16.424Z"
   },
   {
    "duration": 155,
    "start_time": "2023-06-06T12:47:16.476Z"
   },
   {
    "duration": 181,
    "start_time": "2023-06-06T12:47:16.633Z"
   },
   {
    "duration": 22,
    "start_time": "2023-06-06T12:47:16.816Z"
   },
   {
    "duration": 82,
    "start_time": "2023-06-06T12:47:16.840Z"
   },
   {
    "duration": 15,
    "start_time": "2023-06-06T12:47:16.924Z"
   },
   {
    "duration": 22,
    "start_time": "2023-06-06T12:47:19.144Z"
   },
   {
    "duration": 1382,
    "start_time": "2023-06-06T12:47:20.040Z"
   },
   {
    "duration": 4204,
    "start_time": "2023-06-06T12:47:22.340Z"
   },
   {
    "duration": 44,
    "start_time": "2023-06-06T12:48:31.176Z"
   },
   {
    "duration": 2349,
    "start_time": "2023-06-06T12:49:05.016Z"
   },
   {
    "duration": 1512,
    "start_time": "2023-06-06T12:49:07.368Z"
   },
   {
    "duration": 3,
    "start_time": "2023-06-06T12:49:08.882Z"
   },
   {
    "duration": 2718,
    "start_time": "2023-06-06T12:49:08.887Z"
   },
   {
    "duration": 138,
    "start_time": "2023-06-06T12:49:11.607Z"
   },
   {
    "duration": 38,
    "start_time": "2023-06-06T12:49:11.748Z"
   },
   {
    "duration": 43,
    "start_time": "2023-06-06T12:49:11.787Z"
   },
   {
    "duration": 152,
    "start_time": "2023-06-06T12:49:11.832Z"
   },
   {
    "duration": 31,
    "start_time": "2023-06-06T12:49:11.986Z"
   },
   {
    "duration": 107,
    "start_time": "2023-06-06T12:49:12.019Z"
   },
   {
    "duration": 111,
    "start_time": "2023-06-06T12:49:12.128Z"
   },
   {
    "duration": 37,
    "start_time": "2023-06-06T12:49:12.241Z"
   },
   {
    "duration": 359,
    "start_time": "2023-06-06T12:49:12.279Z"
   },
   {
    "duration": 57,
    "start_time": "2023-06-06T12:49:12.640Z"
   },
   {
    "duration": 162,
    "start_time": "2023-06-06T12:49:12.698Z"
   },
   {
    "duration": 263,
    "start_time": "2023-06-06T12:49:12.862Z"
   },
   {
    "duration": 48,
    "start_time": "2023-06-06T12:49:13.127Z"
   },
   {
    "duration": 157,
    "start_time": "2023-06-06T12:49:13.177Z"
   },
   {
    "duration": 182,
    "start_time": "2023-06-06T12:49:13.336Z"
   },
   {
    "duration": 23,
    "start_time": "2023-06-06T12:49:13.520Z"
   },
   {
    "duration": 86,
    "start_time": "2023-06-06T12:49:13.545Z"
   },
   {
    "duration": 26,
    "start_time": "2023-06-06T12:49:13.632Z"
   },
   {
    "duration": 1372,
    "start_time": "2023-06-06T12:49:13.660Z"
   },
   {
    "duration": 1340,
    "start_time": "2023-06-06T12:49:16.223Z"
   },
   {
    "duration": 49,
    "start_time": "2023-06-06T12:49:29.584Z"
   },
   {
    "duration": 1471,
    "start_time": "2023-06-06T12:49:36.351Z"
   },
   {
    "duration": 69,
    "start_time": "2023-06-06T12:49:43.047Z"
   },
   {
    "duration": 8,
    "start_time": "2023-06-06T12:49:45.911Z"
   },
   {
    "duration": 2400,
    "start_time": "2023-06-06T12:49:51.209Z"
   },
   {
    "duration": 3,
    "start_time": "2023-06-06T12:49:53.612Z"
   },
   {
    "duration": 11,
    "start_time": "2023-06-06T12:49:53.616Z"
   },
   {
    "duration": 2813,
    "start_time": "2023-06-06T12:49:53.628Z"
   },
   {
    "duration": 138,
    "start_time": "2023-06-06T12:49:56.443Z"
   },
   {
    "duration": 36,
    "start_time": "2023-06-06T12:49:56.582Z"
   },
   {
    "duration": 36,
    "start_time": "2023-06-06T12:49:56.620Z"
   },
   {
    "duration": 138,
    "start_time": "2023-06-06T12:49:56.658Z"
   },
   {
    "duration": 31,
    "start_time": "2023-06-06T12:49:56.798Z"
   },
   {
    "duration": 112,
    "start_time": "2023-06-06T12:49:56.831Z"
   },
   {
    "duration": 104,
    "start_time": "2023-06-06T12:49:56.945Z"
   },
   {
    "duration": 40,
    "start_time": "2023-06-06T12:49:57.051Z"
   },
   {
    "duration": 377,
    "start_time": "2023-06-06T12:49:57.093Z"
   },
   {
    "duration": 48,
    "start_time": "2023-06-06T12:49:57.474Z"
   },
   {
    "duration": 192,
    "start_time": "2023-06-06T12:49:57.524Z"
   },
   {
    "duration": 279,
    "start_time": "2023-06-06T12:49:57.717Z"
   },
   {
    "duration": 46,
    "start_time": "2023-06-06T12:49:57.998Z"
   },
   {
    "duration": 186,
    "start_time": "2023-06-06T12:49:58.046Z"
   },
   {
    "duration": 187,
    "start_time": "2023-06-06T12:49:58.233Z"
   },
   {
    "duration": 23,
    "start_time": "2023-06-06T12:49:58.422Z"
   },
   {
    "duration": 88,
    "start_time": "2023-06-06T12:49:58.446Z"
   },
   {
    "duration": 13,
    "start_time": "2023-06-06T12:49:59.744Z"
   },
   {
    "duration": 1342,
    "start_time": "2023-06-06T12:50:00.643Z"
   },
   {
    "duration": 46,
    "start_time": "2023-06-06T12:50:12.623Z"
   },
   {
    "duration": 2356,
    "start_time": "2023-06-06T12:50:22.097Z"
   },
   {
    "duration": 1523,
    "start_time": "2023-06-06T12:50:24.455Z"
   },
   {
    "duration": 3,
    "start_time": "2023-06-06T12:50:25.980Z"
   },
   {
    "duration": 2820,
    "start_time": "2023-06-06T12:50:25.984Z"
   },
   {
    "duration": 127,
    "start_time": "2023-06-06T12:50:28.806Z"
   },
   {
    "duration": 42,
    "start_time": "2023-06-06T12:50:28.934Z"
   },
   {
    "duration": 37,
    "start_time": "2023-06-06T12:50:28.977Z"
   },
   {
    "duration": 130,
    "start_time": "2023-06-06T12:50:29.016Z"
   },
   {
    "duration": 38,
    "start_time": "2023-06-06T12:50:29.147Z"
   },
   {
    "duration": 106,
    "start_time": "2023-06-06T12:50:29.187Z"
   },
   {
    "duration": 113,
    "start_time": "2023-06-06T12:50:29.295Z"
   },
   {
    "duration": 33,
    "start_time": "2023-06-06T12:50:29.410Z"
   },
   {
    "duration": 406,
    "start_time": "2023-06-06T12:50:29.445Z"
   },
   {
    "duration": 53,
    "start_time": "2023-06-06T12:50:29.854Z"
   },
   {
    "duration": 174,
    "start_time": "2023-06-06T12:50:29.908Z"
   },
   {
    "duration": 278,
    "start_time": "2023-06-06T12:50:30.084Z"
   },
   {
    "duration": 53,
    "start_time": "2023-06-06T12:50:30.364Z"
   },
   {
    "duration": 176,
    "start_time": "2023-06-06T12:50:30.418Z"
   },
   {
    "duration": 183,
    "start_time": "2023-06-06T12:50:30.596Z"
   },
   {
    "duration": 24,
    "start_time": "2023-06-06T12:50:30.780Z"
   },
   {
    "duration": 125,
    "start_time": "2023-06-06T12:50:30.806Z"
   },
   {
    "duration": 30,
    "start_time": "2023-06-06T12:50:30.933Z"
   },
   {
    "duration": 1382,
    "start_time": "2023-06-06T12:50:30.965Z"
   },
   {
    "duration": 1450,
    "start_time": "2023-06-06T12:50:34.519Z"
   },
   {
    "duration": 2316,
    "start_time": "2023-06-06T12:53:12.383Z"
   },
   {
    "duration": 1598,
    "start_time": "2023-06-06T12:53:14.702Z"
   },
   {
    "duration": 3,
    "start_time": "2023-06-06T12:53:16.301Z"
   },
   {
    "duration": 2751,
    "start_time": "2023-06-06T12:53:16.306Z"
   },
   {
    "duration": 129,
    "start_time": "2023-06-06T12:53:19.058Z"
   },
   {
    "duration": 36,
    "start_time": "2023-06-06T12:53:19.188Z"
   },
   {
    "duration": 51,
    "start_time": "2023-06-06T12:53:19.226Z"
   },
   {
    "duration": 129,
    "start_time": "2023-06-06T12:53:19.278Z"
   },
   {
    "duration": 32,
    "start_time": "2023-06-06T12:53:19.408Z"
   },
   {
    "duration": 104,
    "start_time": "2023-06-06T12:53:19.443Z"
   },
   {
    "duration": 116,
    "start_time": "2023-06-06T12:53:19.548Z"
   },
   {
    "duration": 32,
    "start_time": "2023-06-06T12:53:19.674Z"
   },
   {
    "duration": 376,
    "start_time": "2023-06-06T12:53:19.708Z"
   },
   {
    "duration": 46,
    "start_time": "2023-06-06T12:53:20.086Z"
   },
   {
    "duration": 183,
    "start_time": "2023-06-06T12:53:20.134Z"
   },
   {
    "duration": 277,
    "start_time": "2023-06-06T12:53:20.319Z"
   },
   {
    "duration": 42,
    "start_time": "2023-06-06T12:53:20.598Z"
   },
   {
    "duration": 169,
    "start_time": "2023-06-06T12:53:20.642Z"
   },
   {
    "duration": 182,
    "start_time": "2023-06-06T12:53:20.813Z"
   },
   {
    "duration": 21,
    "start_time": "2023-06-06T12:53:20.997Z"
   },
   {
    "duration": 83,
    "start_time": "2023-06-06T12:53:21.019Z"
   },
   {
    "duration": 13,
    "start_time": "2023-06-06T12:53:21.104Z"
   },
   {
    "duration": 1354,
    "start_time": "2023-06-06T12:53:21.119Z"
   },
   {
    "duration": 2462,
    "start_time": "2023-06-06T12:54:32.209Z"
   },
   {
    "duration": 1616,
    "start_time": "2023-06-06T12:54:34.673Z"
   },
   {
    "duration": 3,
    "start_time": "2023-06-06T12:54:36.291Z"
   },
   {
    "duration": 2775,
    "start_time": "2023-06-06T12:54:36.295Z"
   },
   {
    "duration": 126,
    "start_time": "2023-06-06T12:54:39.073Z"
   },
   {
    "duration": 34,
    "start_time": "2023-06-06T12:54:39.200Z"
   },
   {
    "duration": 52,
    "start_time": "2023-06-06T12:54:39.236Z"
   },
   {
    "duration": 123,
    "start_time": "2023-06-06T12:54:39.290Z"
   },
   {
    "duration": 32,
    "start_time": "2023-06-06T12:54:39.415Z"
   },
   {
    "duration": 113,
    "start_time": "2023-06-06T12:54:39.448Z"
   },
   {
    "duration": 122,
    "start_time": "2023-06-06T12:54:39.562Z"
   },
   {
    "duration": 32,
    "start_time": "2023-06-06T12:54:39.686Z"
   },
   {
    "duration": 399,
    "start_time": "2023-06-06T12:54:39.719Z"
   },
   {
    "duration": 61,
    "start_time": "2023-06-06T12:54:40.122Z"
   },
   {
    "duration": 181,
    "start_time": "2023-06-06T12:54:40.185Z"
   },
   {
    "duration": 280,
    "start_time": "2023-06-06T12:54:40.368Z"
   },
   {
    "duration": 56,
    "start_time": "2023-06-06T12:54:40.651Z"
   },
   {
    "duration": 169,
    "start_time": "2023-06-06T12:54:40.708Z"
   },
   {
    "duration": 193,
    "start_time": "2023-06-06T12:54:40.879Z"
   },
   {
    "duration": 22,
    "start_time": "2023-06-06T12:54:41.076Z"
   },
   {
    "duration": 87,
    "start_time": "2023-06-06T12:54:41.099Z"
   },
   {
    "duration": 14,
    "start_time": "2023-06-06T12:54:41.187Z"
   },
   {
    "duration": 22,
    "start_time": "2023-06-06T12:54:43.343Z"
   },
   {
    "duration": 1405,
    "start_time": "2023-06-06T12:54:44.655Z"
   },
   {
    "duration": 24,
    "start_time": "2023-06-06T12:54:51.439Z"
   },
   {
    "duration": 2134,
    "start_time": "2023-06-06T13:03:31.342Z"
   },
   {
    "duration": 3,
    "start_time": "2023-06-06T13:03:33.479Z"
   },
   {
    "duration": 4,
    "start_time": "2023-06-06T13:03:33.484Z"
   },
   {
    "duration": 792,
    "start_time": "2023-06-06T13:03:34.550Z"
   },
   {
    "duration": 124,
    "start_time": "2023-06-06T13:03:37.358Z"
   },
   {
    "duration": 149,
    "start_time": "2023-06-06T13:04:24.063Z"
   },
   {
    "duration": 97,
    "start_time": "2023-06-06T13:04:28.390Z"
   },
   {
    "duration": 9,
    "start_time": "2023-06-06T13:04:39.215Z"
   },
   {
    "duration": 34,
    "start_time": "2023-06-06T13:04:59.371Z"
   },
   {
    "duration": 736,
    "start_time": "2023-06-06T13:07:26.277Z"
   },
   {
    "duration": 146,
    "start_time": "2023-06-06T13:07:27.687Z"
   },
   {
    "duration": 2191,
    "start_time": "2023-06-06T14:44:31.359Z"
   },
   {
    "duration": 3,
    "start_time": "2023-06-06T14:44:33.552Z"
   },
   {
    "duration": 30,
    "start_time": "2023-06-06T14:44:33.556Z"
   },
   {
    "duration": 842,
    "start_time": "2023-06-06T14:44:33.588Z"
   },
   {
    "duration": 127,
    "start_time": "2023-06-06T14:44:34.432Z"
   },
   {
    "duration": 43,
    "start_time": "2023-06-06T14:44:34.560Z"
   },
   {
    "duration": 47,
    "start_time": "2023-06-06T14:44:34.604Z"
   },
   {
    "duration": 37,
    "start_time": "2023-06-06T14:44:34.653Z"
   },
   {
    "duration": 130,
    "start_time": "2023-06-06T14:44:34.692Z"
   },
   {
    "duration": 53,
    "start_time": "2023-06-06T14:44:34.823Z"
   },
   {
    "duration": 114,
    "start_time": "2023-06-06T14:44:34.879Z"
   },
   {
    "duration": 111,
    "start_time": "2023-06-06T14:44:34.995Z"
   },
   {
    "duration": 22,
    "start_time": "2023-06-06T14:44:35.108Z"
   },
   {
    "duration": 195,
    "start_time": "2023-06-06T14:44:35.132Z"
   },
   {
    "duration": 35,
    "start_time": "2023-06-06T14:44:35.328Z"
   },
   {
    "duration": 178,
    "start_time": "2023-06-06T14:44:35.365Z"
   },
   {
    "duration": 271,
    "start_time": "2023-06-06T14:44:35.544Z"
   },
   {
    "duration": 33,
    "start_time": "2023-06-06T14:44:35.817Z"
   },
   {
    "duration": 175,
    "start_time": "2023-06-06T14:44:35.852Z"
   },
   {
    "duration": 224,
    "start_time": "2023-06-06T14:44:36.029Z"
   },
   {
    "duration": 35,
    "start_time": "2023-06-06T14:44:36.254Z"
   },
   {
    "duration": 85,
    "start_time": "2023-06-06T14:44:36.291Z"
   },
   {
    "duration": 16,
    "start_time": "2023-06-06T14:44:36.377Z"
   },
   {
    "duration": 23,
    "start_time": "2023-06-06T14:44:48.000Z"
   },
   {
    "duration": 1302,
    "start_time": "2023-06-06T14:44:49.281Z"
   },
   {
    "duration": 24,
    "start_time": "2023-06-06T14:44:52.182Z"
   },
   {
    "duration": 44,
    "start_time": "2023-06-06T14:46:23.406Z"
   },
   {
    "duration": 6,
    "start_time": "2023-06-06T14:46:27.849Z"
   },
   {
    "duration": 2279,
    "start_time": "2023-06-06T14:46:40.609Z"
   },
   {
    "duration": 1494,
    "start_time": "2023-06-06T14:46:42.890Z"
   },
   {
    "duration": 3,
    "start_time": "2023-06-06T14:46:44.385Z"
   },
   {
    "duration": 2729,
    "start_time": "2023-06-06T14:46:44.389Z"
   },
   {
    "duration": 127,
    "start_time": "2023-06-06T14:46:47.120Z"
   },
   {
    "duration": 32,
    "start_time": "2023-06-06T14:46:47.249Z"
   },
   {
    "duration": 45,
    "start_time": "2023-06-06T14:46:47.283Z"
   },
   {
    "duration": 33,
    "start_time": "2023-06-06T14:46:47.329Z"
   },
   {
    "duration": 131,
    "start_time": "2023-06-06T14:46:47.363Z"
   },
   {
    "duration": 33,
    "start_time": "2023-06-06T14:46:47.497Z"
   },
   {
    "duration": 112,
    "start_time": "2023-06-06T14:46:47.532Z"
   },
   {
    "duration": 106,
    "start_time": "2023-06-06T14:46:47.646Z"
   },
   {
    "duration": 40,
    "start_time": "2023-06-06T14:46:47.754Z"
   },
   {
    "duration": 364,
    "start_time": "2023-06-06T14:46:47.795Z"
   },
   {
    "duration": 59,
    "start_time": "2023-06-06T14:46:48.161Z"
   },
   {
    "duration": 175,
    "start_time": "2023-06-06T14:46:48.222Z"
   },
   {
    "duration": 276,
    "start_time": "2023-06-06T14:46:48.398Z"
   },
   {
    "duration": 47,
    "start_time": "2023-06-06T14:46:48.676Z"
   },
   {
    "duration": 168,
    "start_time": "2023-06-06T14:46:48.725Z"
   },
   {
    "duration": 184,
    "start_time": "2023-06-06T14:46:48.894Z"
   },
   {
    "duration": 28,
    "start_time": "2023-06-06T14:46:49.079Z"
   },
   {
    "duration": 102,
    "start_time": "2023-06-06T14:46:49.108Z"
   },
   {
    "duration": 15,
    "start_time": "2023-06-06T14:46:49.212Z"
   },
   {
    "duration": 23,
    "start_time": "2023-06-06T14:47:09.932Z"
   },
   {
    "duration": 4,
    "start_time": "2023-06-06T14:47:10.762Z"
   },
   {
    "duration": 1346,
    "start_time": "2023-06-06T14:47:36.792Z"
   },
   {
    "duration": 25,
    "start_time": "2023-06-06T14:47:39.494Z"
   },
   {
    "duration": 72,
    "start_time": "2023-06-06T14:49:12.730Z"
   },
   {
    "duration": 2651,
    "start_time": "2023-06-06T14:49:21.073Z"
   },
   {
    "duration": 14,
    "start_time": "2023-06-06T14:49:41.306Z"
   },
   {
    "duration": 2385,
    "start_time": "2023-06-06T14:50:31.933Z"
   },
   {
    "duration": 412,
    "start_time": "2023-06-06T14:50:34.320Z"
   },
   {
    "duration": 22,
    "start_time": "2023-06-06T14:50:36.587Z"
   },
   {
    "duration": 701,
    "start_time": "2023-06-06T14:50:52.884Z"
   },
   {
    "duration": 22,
    "start_time": "2023-06-06T14:50:54.538Z"
   },
   {
    "duration": 2534,
    "start_time": "2023-06-06T14:51:12.845Z"
   },
   {
    "duration": 3,
    "start_time": "2023-06-06T14:51:15.381Z"
   },
   {
    "duration": 7,
    "start_time": "2023-06-06T14:51:15.386Z"
   },
   {
    "duration": 56,
    "start_time": "2023-06-06T14:51:22.900Z"
   },
   {
    "duration": 2563,
    "start_time": "2023-06-06T14:51:29.157Z"
   },
   {
    "duration": 1554,
    "start_time": "2023-06-06T14:51:31.723Z"
   },
   {
    "duration": 3,
    "start_time": "2023-06-06T14:51:33.278Z"
   },
   {
    "duration": 2832,
    "start_time": "2023-06-06T14:51:33.283Z"
   },
   {
    "duration": 134,
    "start_time": "2023-06-06T14:51:36.117Z"
   },
   {
    "duration": 74,
    "start_time": "2023-06-06T14:51:36.252Z"
   },
   {
    "duration": 39,
    "start_time": "2023-06-06T14:51:36.329Z"
   },
   {
    "duration": 34,
    "start_time": "2023-06-06T14:51:36.370Z"
   },
   {
    "duration": 130,
    "start_time": "2023-06-06T14:51:36.406Z"
   },
   {
    "duration": 45,
    "start_time": "2023-06-06T14:51:36.538Z"
   },
   {
    "duration": 97,
    "start_time": "2023-06-06T14:51:36.585Z"
   },
   {
    "duration": 115,
    "start_time": "2023-06-06T14:51:36.684Z"
   },
   {
    "duration": 33,
    "start_time": "2023-06-06T14:51:36.800Z"
   },
   {
    "duration": 368,
    "start_time": "2023-06-06T14:51:36.835Z"
   },
   {
    "duration": 48,
    "start_time": "2023-06-06T14:51:37.205Z"
   },
   {
    "duration": 184,
    "start_time": "2023-06-06T14:51:37.255Z"
   },
   {
    "duration": 272,
    "start_time": "2023-06-06T14:51:37.441Z"
   },
   {
    "duration": 60,
    "start_time": "2023-06-06T14:51:37.715Z"
   },
   {
    "duration": 176,
    "start_time": "2023-06-06T14:51:37.777Z"
   },
   {
    "duration": 196,
    "start_time": "2023-06-06T14:51:37.955Z"
   },
   {
    "duration": 32,
    "start_time": "2023-06-06T14:51:38.152Z"
   },
   {
    "duration": 90,
    "start_time": "2023-06-06T14:51:38.186Z"
   },
   {
    "duration": 20,
    "start_time": "2023-06-06T14:51:42.054Z"
   },
   {
    "duration": 4,
    "start_time": "2023-06-06T14:51:42.860Z"
   },
   {
    "duration": 1337,
    "start_time": "2023-06-06T14:51:44.973Z"
   },
   {
    "duration": 25,
    "start_time": "2023-06-06T14:51:46.312Z"
   },
   {
    "duration": 2473,
    "start_time": "2023-06-06T14:51:48.672Z"
   },
   {
    "duration": 318,
    "start_time": "2023-06-06T14:51:52.113Z"
   },
   {
    "duration": 95,
    "start_time": "2023-06-06T14:51:53.698Z"
   },
   {
    "duration": 38,
    "start_time": "2023-06-07T08:22:31.411Z"
   },
   {
    "duration": 25,
    "start_time": "2023-06-07T08:23:06.132Z"
   },
   {
    "duration": 27,
    "start_time": "2023-06-07T08:23:12.599Z"
   },
   {
    "duration": 38,
    "start_time": "2023-06-07T08:23:40.371Z"
   },
   {
    "duration": 974,
    "start_time": "2023-06-07T08:23:47.282Z"
   },
   {
    "duration": 37,
    "start_time": "2023-06-07T08:23:50.539Z"
   },
   {
    "duration": 37,
    "start_time": "2023-06-07T09:09:47.699Z"
   },
   {
    "duration": 116,
    "start_time": "2023-06-07T09:16:51.158Z"
   },
   {
    "duration": 5067,
    "start_time": "2023-06-07T09:19:51.756Z"
   },
   {
    "duration": 6213,
    "start_time": "2023-06-07T09:22:03.427Z"
   },
   {
    "duration": 5457,
    "start_time": "2023-06-07T09:22:16.069Z"
   },
   {
    "duration": 1286,
    "start_time": "2023-06-07T09:22:55.960Z"
   },
   {
    "duration": 4430,
    "start_time": "2023-06-07T09:23:20.107Z"
   },
   {
    "duration": 20,
    "start_time": "2023-06-07T09:23:45.205Z"
   },
   {
    "duration": 56,
    "start_time": "2023-06-07T09:23:52.562Z"
   },
   {
    "duration": 44,
    "start_time": "2023-06-07T09:24:09.459Z"
   },
   {
    "duration": 38,
    "start_time": "2023-06-07T09:24:23.259Z"
   },
   {
    "duration": 45,
    "start_time": "2023-06-07T09:24:32.771Z"
   },
   {
    "duration": 28,
    "start_time": "2023-06-07T09:24:36.903Z"
   },
   {
    "duration": 36,
    "start_time": "2023-06-07T09:24:44.020Z"
   },
   {
    "duration": 33,
    "start_time": "2023-06-07T09:24:47.052Z"
   },
   {
    "duration": 26,
    "start_time": "2023-06-07T09:24:50.618Z"
   },
   {
    "duration": 6936,
    "start_time": "2023-06-07T09:24:58.715Z"
   },
   {
    "duration": 25,
    "start_time": "2023-06-07T09:25:23.506Z"
   },
   {
    "duration": 4885,
    "start_time": "2023-06-07T09:25:31.970Z"
   },
   {
    "duration": 10,
    "start_time": "2023-06-07T11:09:03.314Z"
   },
   {
    "duration": 490,
    "start_time": "2023-06-07T11:09:10.039Z"
   },
   {
    "duration": 71,
    "start_time": "2023-06-07T11:09:45.455Z"
   },
   {
    "duration": 99,
    "start_time": "2023-06-07T11:09:58.006Z"
   },
   {
    "duration": 3119,
    "start_time": "2023-06-07T11:10:14.426Z"
   },
   {
    "duration": 3,
    "start_time": "2023-06-07T11:10:17.547Z"
   },
   {
    "duration": 10,
    "start_time": "2023-06-07T11:10:18.898Z"
   },
   {
    "duration": 3492,
    "start_time": "2023-06-07T11:10:19.752Z"
   },
   {
    "duration": 144,
    "start_time": "2023-06-07T11:10:30.319Z"
   },
   {
    "duration": 60,
    "start_time": "2023-06-07T11:10:32.871Z"
   },
   {
    "duration": 81,
    "start_time": "2023-06-07T11:10:36.936Z"
   },
   {
    "duration": 14,
    "start_time": "2023-06-07T11:11:04.856Z"
   },
   {
    "duration": 9,
    "start_time": "2023-06-07T11:11:08.602Z"
   },
   {
    "duration": 6,
    "start_time": "2023-06-07T11:11:12.328Z"
   },
   {
    "duration": 35,
    "start_time": "2023-06-07T11:11:24.513Z"
   },
   {
    "duration": 35,
    "start_time": "2023-06-07T11:12:02.119Z"
   },
   {
    "duration": 36,
    "start_time": "2023-06-07T11:12:07.418Z"
   },
   {
    "duration": 64,
    "start_time": "2023-06-07T11:12:12.420Z"
   },
   {
    "duration": 49,
    "start_time": "2023-06-07T11:12:27.293Z"
   },
   {
    "duration": 50,
    "start_time": "2023-06-07T11:14:26.596Z"
   },
   {
    "duration": 65,
    "start_time": "2023-06-07T11:14:41.831Z"
   },
   {
    "duration": 55,
    "start_time": "2023-06-07T11:14:48.103Z"
   },
   {
    "duration": 51,
    "start_time": "2023-06-07T11:14:51.619Z"
   },
   {
    "duration": 100,
    "start_time": "2023-06-07T11:15:02.553Z"
   },
   {
    "duration": 17,
    "start_time": "2023-06-07T11:15:35.094Z"
   },
   {
    "duration": 11,
    "start_time": "2023-06-07T11:15:42.032Z"
   },
   {
    "duration": 33,
    "start_time": "2023-06-07T11:15:51.425Z"
   },
   {
    "duration": 21,
    "start_time": "2023-06-07T11:16:07.039Z"
   },
   {
    "duration": 80,
    "start_time": "2023-06-07T11:16:17.760Z"
   },
   {
    "duration": 5908,
    "start_time": "2023-06-07T11:19:15.123Z"
   },
   {
    "duration": 5848,
    "start_time": "2023-06-07T11:19:38.634Z"
   },
   {
    "duration": 72,
    "start_time": "2023-06-07T11:19:48.518Z"
   },
   {
    "duration": 60,
    "start_time": "2023-06-07T11:19:53.310Z"
   },
   {
    "duration": 58,
    "start_time": "2023-06-07T11:20:11.405Z"
   },
   {
    "duration": 5755,
    "start_time": "2023-06-07T11:20:14.502Z"
   },
   {
    "duration": 15,
    "start_time": "2023-06-07T11:21:16.506Z"
   },
   {
    "duration": 21,
    "start_time": "2023-06-07T11:21:23.976Z"
   },
   {
    "duration": 50,
    "start_time": "2023-06-07T11:22:09.048Z"
   },
   {
    "duration": 159,
    "start_time": "2023-06-07T11:22:41.142Z"
   },
   {
    "duration": 56,
    "start_time": "2023-06-07T11:22:49.703Z"
   },
   {
    "duration": 50,
    "start_time": "2023-06-07T11:22:55.372Z"
   },
   {
    "duration": 5246,
    "start_time": "2023-06-07T11:22:57.823Z"
   },
   {
    "duration": 5300,
    "start_time": "2023-06-07T11:23:12.533Z"
   },
   {
    "duration": 69,
    "start_time": "2023-06-07T11:23:32.943Z"
   },
   {
    "duration": 153,
    "start_time": "2023-06-07T11:23:34.857Z"
   },
   {
    "duration": 63,
    "start_time": "2023-06-07T11:33:52.439Z"
   },
   {
    "duration": 4,
    "start_time": "2023-06-07T11:34:11.312Z"
   },
   {
    "duration": 4754,
    "start_time": "2023-06-07T11:35:15.665Z"
   },
   {
    "duration": 72,
    "start_time": "2023-06-07T11:35:36.263Z"
   },
   {
    "duration": 67,
    "start_time": "2023-06-07T11:35:53.865Z"
   },
   {
    "duration": 3,
    "start_time": "2023-06-07T11:36:01.056Z"
   },
   {
    "duration": 4762,
    "start_time": "2023-06-07T11:36:02.688Z"
   },
   {
    "duration": 13,
    "start_time": "2023-06-07T11:36:13.495Z"
   },
   {
    "duration": 156,
    "start_time": "2023-06-07T11:36:16.231Z"
   },
   {
    "duration": 5408,
    "start_time": "2023-06-07T12:18:42.792Z"
   },
   {
    "duration": 161,
    "start_time": "2023-06-07T12:18:49.769Z"
   },
   {
    "duration": 3,
    "start_time": "2023-06-07T12:19:16.498Z"
   },
   {
    "duration": 5,
    "start_time": "2023-06-07T12:19:17.265Z"
   },
   {
    "duration": 4,
    "start_time": "2023-06-07T12:19:28.660Z"
   },
   {
    "duration": 2491,
    "start_time": "2023-06-07T12:19:41.707Z"
   },
   {
    "duration": 11,
    "start_time": "2023-06-07T12:19:44.203Z"
   },
   {
    "duration": 11,
    "start_time": "2023-06-07T12:19:44.218Z"
   },
   {
    "duration": 6,
    "start_time": "2023-06-07T12:19:44.232Z"
   },
   {
    "duration": 968,
    "start_time": "2023-06-07T12:19:44.242Z"
   },
   {
    "duration": 187,
    "start_time": "2023-06-07T12:19:45.328Z"
   },
   {
    "duration": 64,
    "start_time": "2023-06-07T12:19:47.560Z"
   },
   {
    "duration": 53,
    "start_time": "2023-06-07T12:19:48.457Z"
   },
   {
    "duration": 3,
    "start_time": "2023-06-07T12:19:50.648Z"
   },
   {
    "duration": 3,
    "start_time": "2023-06-07T12:19:50.937Z"
   },
   {
    "duration": 5655,
    "start_time": "2023-06-07T12:19:52.092Z"
   },
   {
    "duration": 5630,
    "start_time": "2023-06-07T12:19:58.400Z"
   },
   {
    "duration": 5657,
    "start_time": "2023-06-07T12:20:13.199Z"
   },
   {
    "duration": 23,
    "start_time": "2023-06-07T12:20:27.895Z"
   },
   {
    "duration": 137,
    "start_time": "2023-06-07T12:20:34.500Z"
   },
   {
    "duration": 34,
    "start_time": "2023-06-07T12:20:46.601Z"
   },
   {
    "duration": 197,
    "start_time": "2023-06-07T12:20:48.755Z"
   },
   {
    "duration": 43,
    "start_time": "2023-06-07T12:20:50.796Z"
   },
   {
    "duration": 198,
    "start_time": "2023-06-07T12:20:53.336Z"
   },
   {
    "duration": 304,
    "start_time": "2023-06-07T12:20:54.505Z"
   },
   {
    "duration": 39,
    "start_time": "2023-06-07T12:20:55.401Z"
   },
   {
    "duration": 167,
    "start_time": "2023-06-07T12:20:56.336Z"
   },
   {
    "duration": 163,
    "start_time": "2023-06-07T12:20:57.291Z"
   },
   {
    "duration": 25,
    "start_time": "2023-06-07T12:21:00.392Z"
   },
   {
    "duration": 87,
    "start_time": "2023-06-07T12:21:02.967Z"
   },
   {
    "duration": 20,
    "start_time": "2023-06-07T12:21:18.592Z"
   },
   {
    "duration": 4,
    "start_time": "2023-06-07T12:21:20.864Z"
   },
   {
    "duration": 3,
    "start_time": "2023-06-07T12:21:24.170Z"
   },
   {
    "duration": 1703,
    "start_time": "2023-06-07T12:21:26.983Z"
   },
   {
    "duration": 31,
    "start_time": "2023-06-07T12:21:30.777Z"
   },
   {
    "duration": 3038,
    "start_time": "2023-06-07T12:22:26.998Z"
   },
   {
    "duration": 2154,
    "start_time": "2023-06-07T12:22:30.038Z"
   },
   {
    "duration": 3,
    "start_time": "2023-06-07T12:22:32.194Z"
   },
   {
    "duration": 18,
    "start_time": "2023-06-07T12:22:32.201Z"
   },
   {
    "duration": 3385,
    "start_time": "2023-06-07T12:22:32.220Z"
   },
   {
    "duration": 164,
    "start_time": "2023-06-07T12:22:35.606Z"
   },
   {
    "duration": 90,
    "start_time": "2023-06-07T12:22:35.771Z"
   },
   {
    "duration": 50,
    "start_time": "2023-06-07T12:22:35.862Z"
   },
   {
    "duration": 4,
    "start_time": "2023-06-07T12:22:35.913Z"
   },
   {
    "duration": 6,
    "start_time": "2023-06-07T12:22:35.918Z"
   },
   {
    "duration": 5398,
    "start_time": "2023-06-07T12:22:35.926Z"
   },
   {
    "duration": 5456,
    "start_time": "2023-06-07T12:22:41.326Z"
   },
   {
    "duration": 5548,
    "start_time": "2023-06-07T12:22:46.785Z"
   },
   {
    "duration": 19,
    "start_time": "2023-06-07T12:22:52.335Z"
   },
   {
    "duration": 159,
    "start_time": "2023-06-07T12:22:52.355Z"
   },
   {
    "duration": 34,
    "start_time": "2023-06-07T12:22:52.516Z"
   },
   {
    "duration": 449,
    "start_time": "2023-06-07T12:22:52.552Z"
   },
   {
    "duration": 54,
    "start_time": "2023-06-07T12:22:53.009Z"
   },
   {
    "duration": 186,
    "start_time": "2023-06-07T12:22:53.065Z"
   },
   {
    "duration": 332,
    "start_time": "2023-06-07T12:22:53.253Z"
   },
   {
    "duration": 59,
    "start_time": "2023-06-07T12:22:53.587Z"
   },
   {
    "duration": 186,
    "start_time": "2023-06-07T12:22:53.648Z"
   },
   {
    "duration": 198,
    "start_time": "2023-06-07T12:22:53.836Z"
   },
   {
    "duration": 28,
    "start_time": "2023-06-07T12:22:54.036Z"
   },
   {
    "duration": 131,
    "start_time": "2023-06-07T12:22:54.074Z"
   },
   {
    "duration": 16,
    "start_time": "2023-06-07T12:22:56.911Z"
   },
   {
    "duration": 3,
    "start_time": "2023-06-07T12:22:57.944Z"
   },
   {
    "duration": 1720,
    "start_time": "2023-06-07T12:23:19.000Z"
   },
   {
    "duration": 3511,
    "start_time": "2023-06-07T12:23:30.048Z"
   },
   {
    "duration": 390,
    "start_time": "2023-06-07T12:23:39.104Z"
   },
   {
    "duration": 23,
    "start_time": "2023-06-07T12:23:40.932Z"
   },
   {
    "duration": 1034,
    "start_time": "2023-06-07T12:23:50.871Z"
   },
   {
    "duration": 50,
    "start_time": "2023-06-07T12:24:22.799Z"
   },
   {
    "duration": 3225,
    "start_time": "2023-06-07T12:24:31.490Z"
   },
   {
    "duration": 1680,
    "start_time": "2023-06-07T12:24:34.717Z"
   },
   {
    "duration": 4,
    "start_time": "2023-06-07T12:24:36.399Z"
   },
   {
    "duration": 14,
    "start_time": "2023-06-07T12:24:36.406Z"
   },
   {
    "duration": 3102,
    "start_time": "2023-06-07T12:24:36.421Z"
   },
   {
    "duration": 139,
    "start_time": "2023-06-07T12:24:39.525Z"
   },
   {
    "duration": 79,
    "start_time": "2023-06-07T12:24:39.666Z"
   },
   {
    "duration": 44,
    "start_time": "2023-06-07T12:24:39.747Z"
   },
   {
    "duration": 5,
    "start_time": "2023-06-07T12:24:39.793Z"
   },
   {
    "duration": 4,
    "start_time": "2023-06-07T12:24:39.800Z"
   },
   {
    "duration": 5172,
    "start_time": "2023-06-07T12:24:39.806Z"
   },
   {
    "duration": 5180,
    "start_time": "2023-06-07T12:24:44.981Z"
   },
   {
    "duration": 5423,
    "start_time": "2023-06-07T12:24:50.163Z"
   },
   {
    "duration": 27,
    "start_time": "2023-06-07T12:24:55.595Z"
   },
   {
    "duration": 131,
    "start_time": "2023-06-07T12:24:55.624Z"
   },
   {
    "duration": 51,
    "start_time": "2023-06-07T12:24:55.756Z"
   },
   {
    "duration": 439,
    "start_time": "2023-06-07T12:24:55.809Z"
   },
   {
    "duration": 70,
    "start_time": "2023-06-07T12:24:56.250Z"
   },
   {
    "duration": 203,
    "start_time": "2023-06-07T12:24:56.322Z"
   },
   {
    "duration": 296,
    "start_time": "2023-06-07T12:24:56.526Z"
   },
   {
    "duration": 73,
    "start_time": "2023-06-07T12:24:56.824Z"
   },
   {
    "duration": 189,
    "start_time": "2023-06-07T12:24:56.902Z"
   },
   {
    "duration": 222,
    "start_time": "2023-06-07T12:24:57.097Z"
   },
   {
    "duration": 24,
    "start_time": "2023-06-07T12:24:57.323Z"
   },
   {
    "duration": 114,
    "start_time": "2023-06-07T12:24:57.349Z"
   },
   {
    "duration": 27,
    "start_time": "2023-06-07T12:24:57.466Z"
   },
   {
    "duration": 6,
    "start_time": "2023-06-07T12:24:57.495Z"
   },
   {
    "duration": 1729,
    "start_time": "2023-06-07T12:24:57.507Z"
   },
   {
    "duration": 2647,
    "start_time": "2023-06-07T12:24:59.238Z"
   },
   {
    "duration": 380,
    "start_time": "2023-06-07T12:25:01.892Z"
   },
   {
    "duration": 1078,
    "start_time": "2023-06-07T12:25:02.274Z"
   },
   {
    "duration": 1042,
    "start_time": "2023-06-07T12:25:05.297Z"
   },
   {
    "duration": 55,
    "start_time": "2023-06-07T12:25:18.532Z"
   },
   {
    "duration": 2912,
    "start_time": "2023-06-07T12:27:09.749Z"
   },
   {
    "duration": 1596,
    "start_time": "2023-06-07T12:27:12.663Z"
   },
   {
    "duration": 4,
    "start_time": "2023-06-07T12:27:14.260Z"
   },
   {
    "duration": 7,
    "start_time": "2023-06-07T12:27:14.266Z"
   },
   {
    "duration": 3166,
    "start_time": "2023-06-07T12:27:14.281Z"
   },
   {
    "duration": 155,
    "start_time": "2023-06-07T12:27:17.449Z"
   },
   {
    "duration": 62,
    "start_time": "2023-06-07T12:27:17.606Z"
   },
   {
    "duration": 50,
    "start_time": "2023-06-07T12:27:17.669Z"
   },
   {
    "duration": 3,
    "start_time": "2023-06-07T12:27:17.720Z"
   },
   {
    "duration": 4,
    "start_time": "2023-06-07T12:27:17.725Z"
   },
   {
    "duration": 5216,
    "start_time": "2023-06-07T12:27:17.730Z"
   },
   {
    "duration": 5479,
    "start_time": "2023-06-07T12:27:22.948Z"
   },
   {
    "duration": 5302,
    "start_time": "2023-06-07T12:27:28.429Z"
   },
   {
    "duration": 18,
    "start_time": "2023-06-07T12:27:33.733Z"
   },
   {
    "duration": 154,
    "start_time": "2023-06-07T12:27:33.753Z"
   },
   {
    "duration": 36,
    "start_time": "2023-06-07T12:27:33.908Z"
   },
   {
    "duration": 483,
    "start_time": "2023-06-07T12:27:33.946Z"
   },
   {
    "duration": 67,
    "start_time": "2023-06-07T12:27:34.431Z"
   },
   {
    "duration": 168,
    "start_time": "2023-06-07T12:27:34.500Z"
   },
   {
    "duration": 300,
    "start_time": "2023-06-07T12:27:34.669Z"
   },
   {
    "duration": 57,
    "start_time": "2023-06-07T12:27:34.970Z"
   },
   {
    "duration": 180,
    "start_time": "2023-06-07T12:27:35.029Z"
   },
   {
    "duration": 172,
    "start_time": "2023-06-07T12:27:35.210Z"
   },
   {
    "duration": 34,
    "start_time": "2023-06-07T12:27:35.386Z"
   },
   {
    "duration": 94,
    "start_time": "2023-06-07T12:27:35.422Z"
   },
   {
    "duration": 14,
    "start_time": "2023-06-07T12:27:39.439Z"
   },
   {
    "duration": 1573,
    "start_time": "2023-06-07T12:27:40.296Z"
   },
   {
    "duration": 2430,
    "start_time": "2023-06-07T12:27:41.871Z"
   },
   {
    "duration": 383,
    "start_time": "2023-06-07T12:27:46.047Z"
   },
   {
    "duration": 956,
    "start_time": "2023-06-07T12:27:47.409Z"
   },
   {
    "duration": 83,
    "start_time": "2023-06-07T12:27:57.888Z"
   },
   {
    "duration": 5,
    "start_time": "2023-06-07T12:28:01.618Z"
   },
   {
    "duration": 1973,
    "start_time": "2023-06-09T05:46:22.601Z"
   },
   {
    "duration": 1334,
    "start_time": "2023-06-09T05:46:24.576Z"
   },
   {
    "duration": 2,
    "start_time": "2023-06-09T05:46:26.471Z"
   },
   {
    "duration": 4,
    "start_time": "2023-06-09T05:46:58.041Z"
   },
   {
    "duration": 4,
    "start_time": "2023-06-09T05:46:58.367Z"
   },
   {
    "duration": 1544,
    "start_time": "2023-06-09T05:48:04.522Z"
   },
   {
    "duration": 103,
    "start_time": "2023-06-09T05:48:17.422Z"
   },
   {
    "duration": 56,
    "start_time": "2023-06-09T05:48:30.678Z"
   },
   {
    "duration": 3816,
    "start_time": "2023-06-09T05:50:18.272Z"
   },
   {
    "duration": 3725,
    "start_time": "2023-06-09T05:50:22.089Z"
   },
   {
    "duration": 3783,
    "start_time": "2023-06-09T05:50:25.816Z"
   },
   {
    "duration": 14,
    "start_time": "2023-06-09T05:51:03.743Z"
   },
   {
    "duration": 89,
    "start_time": "2023-06-09T05:51:04.745Z"
   },
   {
    "duration": 32,
    "start_time": "2023-06-09T05:51:12.655Z"
   },
   {
    "duration": 337,
    "start_time": "2023-06-09T05:51:37.505Z"
   },
   {
    "duration": 12203,
    "start_time": "2023-06-09T05:52:41.893Z"
   },
   {
    "duration": 4,
    "start_time": "2023-06-09T05:53:39.756Z"
   },
   {
    "duration": 50,
    "start_time": "2023-06-09T05:53:55.549Z"
   },
   {
    "duration": 1046,
    "start_time": "2023-06-09T05:53:56.889Z"
   },
   {
    "duration": 160,
    "start_time": "2023-06-09T05:54:16.964Z"
   },
   {
    "duration": 252,
    "start_time": "2023-06-09T05:56:15.244Z"
   },
   {
    "duration": 45,
    "start_time": "2023-06-09T05:56:19.810Z"
   },
   {
    "duration": 165,
    "start_time": "2023-06-09T05:57:08.515Z"
   },
   {
    "duration": 172,
    "start_time": "2023-06-09T05:57:13.192Z"
   },
   {
    "duration": 23,
    "start_time": "2023-06-09T05:57:19.225Z"
   },
   {
    "duration": 17,
    "start_time": "2023-06-09T05:57:29.114Z"
   },
   {
    "duration": 64,
    "start_time": "2023-06-09T05:57:30.261Z"
   },
   {
    "duration": 138,
    "start_time": "2023-06-09T05:57:58.721Z"
   },
   {
    "duration": 171,
    "start_time": "2023-06-09T05:58:01.762Z"
   },
   {
    "duration": 3,
    "start_time": "2023-06-09T05:58:15.543Z"
   },
   {
    "duration": 125,
    "start_time": "2023-06-09T05:58:21.063Z"
   },
   {
    "duration": 130,
    "start_time": "2023-06-09T05:58:27.072Z"
   },
   {
    "duration": 14,
    "start_time": "2023-06-09T05:59:33.515Z"
   },
   {
    "duration": 2309,
    "start_time": "2023-06-09T05:59:41.738Z"
   },
   {
    "duration": 1351,
    "start_time": "2023-06-09T06:00:00.148Z"
   },
   {
    "duration": 2265,
    "start_time": "2023-06-12T19:11:34.496Z"
   },
   {
    "duration": 1370,
    "start_time": "2023-06-12T19:11:38.600Z"
   },
   {
    "duration": 2,
    "start_time": "2023-06-12T19:11:39.972Z"
   },
   {
    "duration": 4,
    "start_time": "2023-06-12T19:11:40.348Z"
   },
   {
    "duration": 5,
    "start_time": "2023-06-12T19:11:40.532Z"
   },
   {
    "duration": 1450,
    "start_time": "2023-06-12T19:11:41.171Z"
   },
   {
    "duration": 123,
    "start_time": "2023-06-12T19:11:42.623Z"
   },
   {
    "duration": 2,
    "start_time": "2023-06-12T19:11:42.747Z"
   },
   {
    "duration": 16,
    "start_time": "2023-06-12T19:11:42.751Z"
   },
   {
    "duration": 15,
    "start_time": "2023-06-12T19:11:42.844Z"
   },
   {
    "duration": 4732,
    "start_time": "2023-06-12T19:11:43.020Z"
   },
   {
    "duration": 4760,
    "start_time": "2023-06-12T19:11:47.754Z"
   },
   {
    "duration": 4785,
    "start_time": "2023-06-12T19:11:52.515Z"
   },
   {
    "duration": 22,
    "start_time": "2023-06-12T19:11:57.303Z"
   },
   {
    "duration": 132,
    "start_time": "2023-06-12T19:11:57.326Z"
   },
   {
    "duration": 22,
    "start_time": "2023-06-12T19:11:57.460Z"
   },
   {
    "duration": 589,
    "start_time": "2023-06-12T19:11:57.484Z"
   },
   {
    "duration": 47,
    "start_time": "2023-06-12T19:11:58.075Z"
   },
   {
    "duration": 310,
    "start_time": "2023-06-12T19:11:58.123Z"
   },
   {
    "duration": 234,
    "start_time": "2023-06-12T19:11:58.436Z"
   },
   {
    "duration": 37,
    "start_time": "2023-06-12T19:11:58.672Z"
   },
   {
    "duration": 46,
    "start_time": "2023-06-12T19:11:58.713Z"
   },
   {
    "duration": 134,
    "start_time": "2023-06-12T19:11:58.760Z"
   },
   {
    "duration": 131,
    "start_time": "2023-06-12T19:11:58.895Z"
   },
   {
    "duration": 26,
    "start_time": "2023-06-12T19:11:59.027Z"
   },
   {
    "duration": 38,
    "start_time": "2023-06-12T19:11:59.055Z"
   },
   {
    "duration": 76,
    "start_time": "2023-06-12T19:11:59.094Z"
   },
   {
    "duration": 177,
    "start_time": "2023-06-12T19:11:59.171Z"
   },
   {
    "duration": 223,
    "start_time": "2023-06-12T19:12:01.811Z"
   },
   {
    "duration": 3,
    "start_time": "2023-06-12T19:12:02.638Z"
   },
   {
    "duration": 10,
    "start_time": "2023-06-12T19:12:03.003Z"
   },
   {
    "duration": 13,
    "start_time": "2023-06-12T19:13:11.356Z"
   },
   {
    "duration": 48,
    "start_time": "2023-06-12T19:13:11.528Z"
   },
   {
    "duration": 60,
    "start_time": "2023-06-12T19:13:11.676Z"
   },
   {
    "duration": 6,
    "start_time": "2023-06-12T19:13:11.867Z"
   },
   {
    "duration": 2,
    "start_time": "2023-06-12T19:14:11.510Z"
   },
   {
    "duration": 2,
    "start_time": "2023-06-12T19:14:11.711Z"
   },
   {
    "duration": 3,
    "start_time": "2023-06-12T19:14:11.876Z"
   },
   {
    "duration": 2,
    "start_time": "2023-06-12T19:14:13.851Z"
   },
   {
    "duration": 2,
    "start_time": "2023-06-12T19:14:14.929Z"
   },
   {
    "duration": 643,
    "start_time": "2023-06-12T19:14:15.730Z"
   },
   {
    "duration": 2574,
    "start_time": "2023-06-14T12:10:59.082Z"
   },
   {
    "duration": 1657,
    "start_time": "2023-06-14T12:11:01.659Z"
   },
   {
    "duration": 3,
    "start_time": "2023-06-14T12:11:03.318Z"
   },
   {
    "duration": 33,
    "start_time": "2023-06-14T12:11:03.323Z"
   },
   {
    "duration": 12,
    "start_time": "2023-06-14T12:11:03.358Z"
   },
   {
    "duration": 1643,
    "start_time": "2023-06-14T12:11:03.372Z"
   },
   {
    "duration": 123,
    "start_time": "2023-06-14T12:11:05.017Z"
   },
   {
    "duration": 3,
    "start_time": "2023-06-14T12:11:05.142Z"
   },
   {
    "duration": 26,
    "start_time": "2023-06-14T12:11:05.149Z"
   },
   {
    "duration": 120,
    "start_time": "2023-06-14T12:11:05.179Z"
   },
   {
    "duration": 4875,
    "start_time": "2023-06-14T12:11:05.300Z"
   },
   {
    "duration": 4898,
    "start_time": "2023-06-14T12:11:10.176Z"
   },
   {
    "duration": 4883,
    "start_time": "2023-06-14T12:11:15.076Z"
   },
   {
    "duration": 19,
    "start_time": "2023-06-14T12:11:19.960Z"
   },
   {
    "duration": 132,
    "start_time": "2023-06-14T12:11:19.981Z"
   },
   {
    "duration": 35,
    "start_time": "2023-06-14T12:11:20.115Z"
   },
   {
    "duration": 640,
    "start_time": "2023-06-14T12:11:20.152Z"
   },
   {
    "duration": 47,
    "start_time": "2023-06-14T12:11:20.794Z"
   },
   {
    "duration": 377,
    "start_time": "2023-06-14T12:11:20.851Z"
   },
   {
    "duration": 274,
    "start_time": "2023-06-14T12:11:21.231Z"
   },
   {
    "duration": 18,
    "start_time": "2023-06-14T12:11:21.507Z"
   },
   {
    "duration": 66,
    "start_time": "2023-06-14T12:11:21.527Z"
   },
   {
    "duration": 175,
    "start_time": "2023-06-14T12:11:21.595Z"
   },
   {
    "duration": 178,
    "start_time": "2023-06-14T12:11:21.772Z"
   },
   {
    "duration": 29,
    "start_time": "2023-06-14T12:11:21.952Z"
   },
   {
    "duration": 21,
    "start_time": "2023-06-14T12:11:21.982Z"
   },
   {
    "duration": 101,
    "start_time": "2023-06-14T12:11:22.005Z"
   },
   {
    "duration": 186,
    "start_time": "2023-06-14T12:11:22.109Z"
   },
   {
    "duration": 228,
    "start_time": "2023-06-14T12:11:22.297Z"
   },
   {
    "duration": 5,
    "start_time": "2023-06-14T12:11:22.527Z"
   },
   {
    "duration": 5,
    "start_time": "2023-06-14T12:11:22.534Z"
   },
   {
    "duration": 28,
    "start_time": "2023-06-14T12:11:22.551Z"
   },
   {
    "duration": 81,
    "start_time": "2023-06-14T12:11:22.580Z"
   },
   {
    "duration": 65,
    "start_time": "2023-06-14T12:11:22.663Z"
   },
   {
    "duration": 21,
    "start_time": "2023-06-14T12:11:22.729Z"
   },
   {
    "duration": 27,
    "start_time": "2023-06-14T12:11:22.752Z"
   },
   {
    "duration": 3,
    "start_time": "2023-06-14T12:11:22.782Z"
   },
   {
    "duration": 5,
    "start_time": "2023-06-14T12:11:22.786Z"
   },
   {
    "duration": 4,
    "start_time": "2023-06-14T12:11:22.793Z"
   },
   {
    "duration": 7,
    "start_time": "2023-06-14T12:11:22.799Z"
   },
   {
    "duration": 5,
    "start_time": "2023-06-14T12:11:22.807Z"
   },
   {
    "duration": 613,
    "start_time": "2023-06-14T12:11:22.813Z"
   },
   {
    "duration": 131,
    "start_time": "2023-06-14T12:11:23.428Z"
   },
   {
    "duration": 95914,
    "start_time": "2023-06-14T12:11:23.561Z"
   },
   {
    "duration": 0,
    "start_time": "2023-06-14T12:12:59.477Z"
   },
   {
    "duration": 0,
    "start_time": "2023-06-14T12:12:59.479Z"
   },
   {
    "duration": 0,
    "start_time": "2023-06-14T12:12:59.480Z"
   },
   {
    "duration": 0,
    "start_time": "2023-06-14T12:12:59.482Z"
   },
   {
    "duration": 0,
    "start_time": "2023-06-14T12:12:59.483Z"
   },
   {
    "duration": 0,
    "start_time": "2023-06-14T12:12:59.484Z"
   },
   {
    "duration": 0,
    "start_time": "2023-06-14T12:12:59.486Z"
   },
   {
    "duration": 0,
    "start_time": "2023-06-14T12:12:59.487Z"
   },
   {
    "duration": 0,
    "start_time": "2023-06-14T12:12:59.488Z"
   },
   {
    "duration": 0,
    "start_time": "2023-06-14T12:12:59.490Z"
   },
   {
    "duration": 0,
    "start_time": "2023-06-14T12:12:59.491Z"
   },
   {
    "duration": 2195,
    "start_time": "2023-06-14T12:17:19.121Z"
   },
   {
    "duration": 1615,
    "start_time": "2023-06-14T12:17:21.319Z"
   },
   {
    "duration": 3,
    "start_time": "2023-06-14T12:17:22.936Z"
   },
   {
    "duration": 16,
    "start_time": "2023-06-14T12:17:22.941Z"
   },
   {
    "duration": 26,
    "start_time": "2023-06-14T12:17:22.959Z"
   },
   {
    "duration": 1938,
    "start_time": "2023-06-14T12:17:22.986Z"
   },
   {
    "duration": 131,
    "start_time": "2023-06-14T12:17:24.925Z"
   },
   {
    "duration": 3,
    "start_time": "2023-06-14T12:17:25.057Z"
   },
   {
    "duration": 18,
    "start_time": "2023-06-14T12:17:25.061Z"
   },
   {
    "duration": 37,
    "start_time": "2023-06-14T12:17:25.081Z"
   },
   {
    "duration": 4808,
    "start_time": "2023-06-14T12:17:25.120Z"
   },
   {
    "duration": 5269,
    "start_time": "2023-06-14T12:17:29.930Z"
   },
   {
    "duration": 4737,
    "start_time": "2023-06-14T12:17:35.200Z"
   },
   {
    "duration": 24,
    "start_time": "2023-06-14T12:17:39.939Z"
   },
   {
    "duration": 135,
    "start_time": "2023-06-14T12:17:39.965Z"
   },
   {
    "duration": 32,
    "start_time": "2023-06-14T12:17:40.103Z"
   },
   {
    "duration": 508,
    "start_time": "2023-06-14T12:17:40.137Z"
   },
   {
    "duration": 63,
    "start_time": "2023-06-14T12:17:40.651Z"
   },
   {
    "duration": 313,
    "start_time": "2023-06-14T12:17:40.716Z"
   },
   {
    "duration": 340,
    "start_time": "2023-06-14T12:17:41.031Z"
   },
   {
    "duration": 17,
    "start_time": "2023-06-14T12:17:41.373Z"
   },
   {
    "duration": 74,
    "start_time": "2023-06-14T12:17:41.391Z"
   },
   {
    "duration": 170,
    "start_time": "2023-06-14T12:17:41.467Z"
   },
   {
    "duration": 239,
    "start_time": "2023-06-14T12:17:41.639Z"
   },
   {
    "duration": 31,
    "start_time": "2023-06-14T12:17:41.880Z"
   },
   {
    "duration": 52,
    "start_time": "2023-06-14T12:17:41.913Z"
   },
   {
    "duration": 77,
    "start_time": "2023-06-14T12:17:41.967Z"
   },
   {
    "duration": 223,
    "start_time": "2023-06-14T12:17:42.050Z"
   },
   {
    "duration": 211,
    "start_time": "2023-06-14T12:17:42.275Z"
   },
   {
    "duration": 5,
    "start_time": "2023-06-14T12:17:42.490Z"
   },
   {
    "duration": 7,
    "start_time": "2023-06-14T12:17:42.498Z"
   },
   {
    "duration": 29,
    "start_time": "2023-06-14T12:17:42.507Z"
   },
   {
    "duration": 86,
    "start_time": "2023-06-14T12:17:42.539Z"
   },
   {
    "duration": 69,
    "start_time": "2023-06-14T12:17:42.627Z"
   },
   {
    "duration": 10,
    "start_time": "2023-06-14T12:17:42.697Z"
   },
   {
    "duration": 21,
    "start_time": "2023-06-14T12:17:42.709Z"
   },
   {
    "duration": 18,
    "start_time": "2023-06-14T12:17:42.733Z"
   },
   {
    "duration": 5,
    "start_time": "2023-06-14T12:17:42.753Z"
   },
   {
    "duration": 5,
    "start_time": "2023-06-14T12:17:42.761Z"
   },
   {
    "duration": 15,
    "start_time": "2023-06-14T12:17:42.769Z"
   },
   {
    "duration": 7,
    "start_time": "2023-06-14T12:17:42.786Z"
   },
   {
    "duration": 676,
    "start_time": "2023-06-14T12:17:42.796Z"
   },
   {
    "duration": 133,
    "start_time": "2023-06-14T12:17:43.475Z"
   }
  ],
  "colab": {
   "collapsed_sections": [
    "IzI2DSpjatG3",
    "r-UfCG4LaxaP",
    "nv2KgKiMXEy-",
    "Hhp1Pag6XJ1C",
    "Iu10x1W1bGgn",
    "HBtsHJDBbMtw",
    "3MV6i-rxaj-_",
    "nXCyac3QZ8b7",
    "KfCxCM0s1AVF",
    "xLLgqXQb1SJi",
    "op9-9pHlUbhF"
   ],
   "provenance": [],
   "toc_visible": true
  },
  "kernelspec": {
   "display_name": "Python 3 (ipykernel)",
   "language": "python",
   "name": "python3"
  },
  "language_info": {
   "codemirror_mode": {
    "name": "ipython",
    "version": 3
   },
   "file_extension": ".py",
   "mimetype": "text/x-python",
   "name": "python",
   "nbconvert_exporter": "python",
   "pygments_lexer": "ipython3",
   "version": "3.9.13"
  },
  "toc": {
   "base_numbering": 1,
   "nav_menu": {},
   "number_sections": true,
   "sideBar": true,
   "skip_h1_title": true,
   "title_cell": "Table of Contents",
   "title_sidebar": "Contents",
   "toc_cell": false,
   "toc_position": {},
   "toc_section_display": true,
   "toc_window_display": true
  }
 },
 "nbformat": 4,
 "nbformat_minor": 1
}
