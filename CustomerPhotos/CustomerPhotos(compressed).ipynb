{
  "cells": [
    {
      "cell_type": "markdown",
      "metadata": {
        "id": "oZwX8_EY0qf_"
      },
      "source": [
        "# Определение возраста покупателей"
      ]
    },
    {
      "cell_type": "markdown",
      "metadata": {
        "id": "L0lmlDFZ0qgJ"
      },
      "source": [
        "## Исследовательский анализ данных"
      ]
    },
    {
      "cell_type": "markdown",
      "metadata": {
        "id": "V-_EBmEK0qgK"
      },
      "source": [
        "### Import"
      ]
    },
    {
      "cell_type": "code",
      "execution_count": null,
      "metadata": {
        "id": "pemCGUhk0qgL"
      },
      "outputs": [],
      "source": [
        "from tensorflow.keras.preprocessing.image import ImageDataGenerator\n",
        "import pandas as pd\n",
        "import matplotlib.pyplot as plt\n",
        "import seaborn as sns\n",
        "from PIL import Image\n",
        "import numpy as np"
      ]
    },
    {
      "cell_type": "markdown",
      "metadata": {
        "id": "Ml25CrOU0qgR"
      },
      "source": [
        "### Инициализация генератора, загрузка изображений, анализ"
      ]
    },
    {
      "cell_type": "markdown",
      "metadata": {
        "id": "KK0lp45s0qgS"
      },
      "source": [
        "Инициализируем генератор"
      ]
    },
    {
      "cell_type": "code",
      "execution_count": null,
      "metadata": {
        "id": "G7sFPt1c0qgS"
      },
      "outputs": [],
      "source": [
        "train_datagen = ImageDataGenerator(validation_split=0.25, rescale=1./255)"
      ]
    },
    {
      "cell_type": "markdown",
      "metadata": {
        "id": "6l1qrKlL0qgV"
      },
      "source": [
        "Загрузим датафрейм с именами файлов и лейблами"
      ]
    },
    {
      "cell_type": "code",
      "execution_count": null,
      "metadata": {
        "id": "6dVAzLfT0qgW"
      },
      "outputs": [],
      "source": [
        "df = pd.read_csv('/datasets/faces/labels.csv')"
      ]
    },
    {
      "cell_type": "markdown",
      "metadata": {
        "id": "lUflrVCZ0qgW"
      },
      "source": [
        "Загрузим тренировочную и валидационную выборки"
      ]
    },
    {
      "cell_type": "code",
      "execution_count": null,
      "metadata": {
        "id": "oAIgxqOO0qgX",
        "outputId": "08861466-cc26-4f65-d306-0275aa77aa71"
      },
      "outputs": [
        {
          "name": "stdout",
          "output_type": "stream",
          "text": [
            "Found 5694 validated image filenames.\n"
          ]
        }
      ],
      "source": [
        "train_generator = train_datagen.flow_from_dataframe(\n",
        "    df,\n",
        "    directory='/datasets/faces/final_files',\n",
        "    x_col='file_name',\n",
        "    y_col='real_age',\n",
        "    target_size=(256, 256),\n",
        "    class_mode='raw',\n",
        "    subset='training',\n",
        "    seed=42\n",
        ")"
      ]
    },
    {
      "cell_type": "code",
      "execution_count": null,
      "metadata": {
        "id": "L6yTz1MC0qgZ",
        "outputId": "80723151-674c-4978-cf03-5ae34f2cfe62"
      },
      "outputs": [
        {
          "name": "stdout",
          "output_type": "stream",
          "text": [
            "Found 1897 validated image filenames.\n"
          ]
        }
      ],
      "source": [
        "valid_generator = train_datagen.flow_from_dataframe(\n",
        "    df,\n",
        "    directory='/datasets/faces/final_files',\n",
        "    x_col='file_name',\n",
        "    y_col='real_age',\n",
        "    target_size=(256, 256),\n",
        "    class_mode='raw',\n",
        "    subset='validation',\n",
        "    seed=42\n",
        ")"
      ]
    },
    {
      "cell_type": "markdown",
      "metadata": {
        "id": "ERe00tQo0qga"
      },
      "source": [
        "Объем тренировочной выборки - 5694 изображения, валидационной - 1897."
      ]
    },
    {
      "cell_type": "code",
      "execution_count": null,
      "metadata": {
        "id": "9aW_WUwr0qga",
        "outputId": "0dd96c8a-5ec0-4efd-afab-4be5a306c8a4"
      },
      "outputs": [
        {
          "data": {
            "text/html": [
              "<div>\n",
              "<style scoped>\n",
              "    .dataframe tbody tr th:only-of-type {\n",
              "        vertical-align: middle;\n",
              "    }\n",
              "\n",
              "    .dataframe tbody tr th {\n",
              "        vertical-align: top;\n",
              "    }\n",
              "\n",
              "    .dataframe thead th {\n",
              "        text-align: right;\n",
              "    }\n",
              "</style>\n",
              "<table border=\"1\" class=\"dataframe\">\n",
              "  <thead>\n",
              "    <tr style=\"text-align: right;\">\n",
              "      <th></th>\n",
              "      <th>file_name</th>\n",
              "      <th>real_age</th>\n",
              "    </tr>\n",
              "  </thead>\n",
              "  <tbody>\n",
              "    <tr>\n",
              "      <th>0</th>\n",
              "      <td>000000.jpg</td>\n",
              "      <td>4</td>\n",
              "    </tr>\n",
              "    <tr>\n",
              "      <th>1</th>\n",
              "      <td>000001.jpg</td>\n",
              "      <td>18</td>\n",
              "    </tr>\n",
              "    <tr>\n",
              "      <th>2</th>\n",
              "      <td>000002.jpg</td>\n",
              "      <td>80</td>\n",
              "    </tr>\n",
              "    <tr>\n",
              "      <th>3</th>\n",
              "      <td>000003.jpg</td>\n",
              "      <td>50</td>\n",
              "    </tr>\n",
              "    <tr>\n",
              "      <th>4</th>\n",
              "      <td>000004.jpg</td>\n",
              "      <td>17</td>\n",
              "    </tr>\n",
              "  </tbody>\n",
              "</table>\n",
              "</div>"
            ],
            "text/plain": [
              "    file_name  real_age\n",
              "0  000000.jpg         4\n",
              "1  000001.jpg        18\n",
              "2  000002.jpg        80\n",
              "3  000003.jpg        50\n",
              "4  000004.jpg        17"
            ]
          },
          "execution_count": 6,
          "metadata": {},
          "output_type": "execute_result"
        }
      ],
      "source": [
        "df.head()"
      ]
    },
    {
      "cell_type": "code",
      "execution_count": null,
      "metadata": {
        "id": "muocKaAL0qga",
        "outputId": "8d085228-b885-4231-d480-c5f5eb0e4b9b"
      },
      "outputs": [
        {
          "name": "stderr",
          "output_type": "stream",
          "text": [
            "/opt/conda/lib/python3.9/site-packages/seaborn/distributions.py:2557: FutureWarning: `distplot` is a deprecated function and will be removed in a future version. Please adapt your code to use either `displot` (a figure-level function with similar flexibility) or `histplot` (an axes-level function for histograms).\n",
            "  warnings.warn(msg, FutureWarning)\n"
          ]
        },
        {
          "data": {
            "image/png": "[encoded data removed]",
            "text/plain": [
              "<Figure size 1040x800 with 1 Axes>"
            ]
          },
          "metadata": {
            "needs_background": "light"
          },
          "output_type": "display_data"
        }
      ],
      "source": [
        "plt.figure(figsize=(13,10), dpi=80)\n",
        "sns.distplot(df['real_age'],\n",
        "             color=\"g\",\n",
        "             hist_kws={'alpha':.7},\n",
        "             kde_kws={'linewidth':3})\n",
        "plt.title('Возраст', fontsize=22)\n",
        "\n",
        "plt.show()"
      ]
    },
    {
      "cell_type": "markdown",
      "metadata": {
        "id": "2_fgLRI40qgb"
      },
      "source": [
        "Наибольший пик по возрасту приходится на промежуток 20-30 лет."
      ]
    },
    {
      "cell_type": "code",
      "execution_count": null,
      "metadata": {
        "id": "oWGBU67p0qgb"
      },
      "outputs": [],
      "source": [
        "pic_box = plt.figure(figsize=(100, 100))\n",
        "for c, i in enumerate(df['file_name'][0:100]):\n",
        "    image = Image.open(f'/datasets/faces/final_files/{i}')\n",
        "    pic_box.add_subplot(10,10,c+1)\n",
        "    plt.imshow(image)\n",
        "    plt.axis('off')\n",
        "plt.show()"
      ]
    },
    {
      "cell_type": "code",
      "execution_count": null,
      "metadata": {
        "id": "AwF_EB_L0qgc",
        "outputId": "da6c94b1-b08a-49e7-bc75-c78102cfbbdf"
      },
      "outputs": [
        {
          "data": {
            "text/plain": [
              "(32, 256, 256, 3)"
            ]
          },
          "execution_count": 9,
          "metadata": {},
          "output_type": "execute_result"
        }
      ],
      "source": [
        "features, target = next(train_generator)\n",
        "\n",
        "features.shape"
      ]
    },
    {
      "cell_type": "markdown",
      "metadata": {
        "id": "on8wHPB50qgd"
      },
      "source": [
        "Вывод: В результате исследования загружен датасет из  5694 + 1897 изображений и поделен на обучающую и тестовую выборки.Произведена предобработка в виде фиксации подаваемого модели размера (256х256), а так же рескелинг.\n",
        "\n",
        "Набор изображений в датасете имеет некоторые особенности:\n",
        "\n",
        "    - некоторое количество из первых ста - черно/белые\n",
        "    - Около 20% фото повернуты вокруг своей оси\n",
        "    - Среди первых ста фото попалось одно, на котором не видно лица"
      ]
    },
    {
      "cell_type": "markdown",
      "metadata": {
        "id": "f3P9cGO70qgd"
      },
      "source": [
        "## Обучение модели"
      ]
    },
    {
      "cell_type": "markdown",
      "metadata": {
        "id": "Jn66la1s0qgd"
      },
      "source": [
        "Перенесите сюда код обучения модели и её результат вывода на экран.\n",
        "\n",
        "\n",
        "(Код в этом разделе запускается в отдельном GPU-тренажёре, поэтому оформлен не как ячейка с кодом, а как код в текстовой ячейке)"
      ]
    },
    {
      "cell_type": "code",
      "execution_count": null,
      "metadata": {
        "id": "InZQZXBd0qge"
      },
      "outputs": [],
      "source": [
        "import numpy as np\n",
        "from tensorflow.keras.layers import Conv2D, Flatten, Dense, GlobalAveragePooling2D\n",
        "from tensorflow.keras.models import Sequential\n",
        "from tensorflow.keras.optimizers import Adam\n",
        "from tensorflow.keras.preprocessing.image import ImageDataGenerator\n",
        "from tensorflow.keras.applications.resnet import ResNet50\n",
        "from tensorflow.keras import regularizers\n",
        "import pandas as pd\n",
        "import matplotlib.pyplot as plt\n",
        "import seaborn as sns\n",
        "from PIL import Image\n",
        "from tensorflow.keras.metrics import MeanAbsoluteError"
      ]
    },
    {
      "cell_type": "code",
      "execution_count": null,
      "metadata": {
        "id": "wYbhBFhU0qge"
      },
      "outputs": [],
      "source": [
        "### Функция загрузки обучающего набора данных\n",
        "### На вход принимает информацию о расположении csv файла, содержащего имена файлов-изображений.\n",
        "### На выходе выдает сформированный генератор изображений\n",
        "\n",
        "def load_train(path):\n",
        "    train_datagen = ImageDataGenerator(validation_split=0.25,\n",
        "                                        rescale=1./255)\n",
        "    df = pd.read_csv(f'{path}/labels.csv')\n",
        "    train_datagen_flow = train_datagen.flow_from_dataframe(\n",
        "        df,\n",
        "        directory='/datasets/faces/final_files',\n",
        "        x_col='file_name',\n",
        "        y_col='real_age',\n",
        "        target_size=(256, 256),\n",
        "        batch_size=64,\n",
        "        class_mode='raw',\n",
        "        subset='training',\n",
        "        seed=42\n",
        "    )\n",
        "    return train_datagen_flow"
      ]
    },
    {
      "cell_type": "code",
      "execution_count": null,
      "metadata": {
        "id": "uUM_HTGM0qgf"
      },
      "outputs": [],
      "source": [
        "### Функция загрузки тестового набора данных\n",
        "### Принцип работы аналогичен предыдущей функции\n",
        "\n",
        "def load_test(path):\n",
        "    train_datagen = ImageDataGenerator(validation_split=0.25,\n",
        "                                        rescale=1./255)\n",
        "    df = pd.read_csv(f'{path}/labels.csv')\n",
        "\n",
        "    trest_datagen_flow = train_datagen.flow_from_dataframe(\n",
        "        df,\n",
        "        directory='/datasets/faces/final_files',\n",
        "        x_col='file_name',\n",
        "        y_col='real_age',\n",
        "        target_size=(256, 256),\n",
        "        batch_size=64,\n",
        "        class_mode='raw',\n",
        "        subset='validation',\n",
        "        seed=42\n",
        "    )\n",
        "    return trest_datagen_flow"
      ]
    },
    {
      "cell_type": "code",
      "execution_count": null,
      "metadata": {
        "id": "7RrJqLa90qgf"
      },
      "outputs": [],
      "source": [
        "### Функция построения нейронной сети\n",
        "### На вход принимает информацию о размере данных на первом слое\n",
        "### На выходе выдает сконструированную модель для обучения\n",
        "\n",
        "def create_model(input_shape):\n",
        "    optimizer = Adam(lr=0.0001)\n",
        "    backbone = ResNet50(input_shape=(256, 256, 3),\n",
        "                    weights='/datasets/keras_models/resnet50_weights_tf_dim_ordering_tf_kernels_notop.h5',\n",
        "                    include_top=False)\n",
        "\n",
        "\n",
        "    model = Sequential()\n",
        "    model.add(backbone)\n",
        "    model.add(GlobalAveragePooling2D())\n",
        "    model.add(Dense(6, activation='relu'))\n",
        "    model.add(Dense(1, activation='relu'))\n",
        "\n",
        "\n",
        "    model.compile(loss='mean_squared_error',\n",
        "                  optimizer='adam', metrics=['mean_absolute_error'])\n",
        "\n",
        "    return model"
      ]
    },
    {
      "cell_type": "code",
      "execution_count": null,
      "metadata": {
        "id": "ep5hpAir0qgg"
      },
      "outputs": [],
      "source": [
        "### Функция обучения нейронной сети\n",
        "### На вход принимает перменную модели, обучающую и тестовую выборки, информацию о размере батча,\n",
        "### кол-во эпох, кол-во шагов в эпоху, кол-во шагов на валидации эпохи\n",
        "### На выходе выдает обученную модель\n",
        "\n",
        "def train_model(model, train_data, test_data, batch_size=None, epochs=20,\n",
        "                steps_per_epoch=None, validation_steps=None):\n",
        "\n",
        "    train_datagen_flow = train_data\n",
        "    model.fit(train_data,\n",
        "              validation_data=test_data,\n",
        "              batch_size=batch_size,\n",
        "              epochs=epochs,\n",
        "              steps_per_epoch=steps_per_epoch,\n",
        "              validation_steps=validation_steps,\n",
        "              verbose=2, shuffle=True)\n",
        "\n",
        "    return model"
      ]
    },
    {
      "cell_type": "markdown",
      "metadata": {
        "id": "iXwhUTHA0qgi"
      },
      "source": [
        "Результат работы модели представлен ниже.\n",
        "\n",
        "```\n",
        "\n",
        "Found 5694 validated image filenames.\n",
        "Found 1897 validated image filenames.\n",
        "\n",
        "\n",
        "Train for 89 steps, validate for 30 steps\n",
        "Epoch 1/20\n",
        "89/89 - 62s - loss: 239.2986 - mean_absolute_error: 11.6162 - val_loss: 769.2472 - val_mean_absolute_error: 22.8372\n",
        "Epoch 2/20\n",
        "89/89 - 49s - loss: 127.4033 - mean_absolute_error: 8.6247 - val_loss: 362.9128 - val_mean_absolute_error: 14.2119\n",
        "Epoch 3/20\n",
        "89/89 - 49s - loss: 98.4550 - mean_absolute_error: 7.5960 - val_loss: 356.5036 - val_mean_absolute_error: 14.0747\n",
        "Epoch 4/20\n",
        "89/89 - 47s - loss: 68.4646 - mean_absolute_error: 6.3343 - val_loss: 412.0904 - val_mean_absolute_error: 15.2917\n",
        "Epoch 5/20\n",
        "89/89 - 49s - loss: 48.2488 - mean_absolute_error: 5.3221 - val_loss: 419.1695 - val_mean_absolute_error: 15.4521\n",
        "Epoch 6/20\n",
        "89/89 - 50s - loss: 33.1330 - mean_absolute_error: 4.4465 - val_loss: 392.1498 - val_mean_absolute_error: 14.7944\n",
        "Epoch 7/20\n",
        "89/89 - 46s - loss: 25.8372 - mean_absolute_error: 3.9480 - val_loss: 491.9640 - val_mean_absolute_error: 17.0846\n",
        "Epoch 8/20\n",
        "89/89 - 45s - loss: 19.5081 - mean_absolute_error: 3.4093 - val_loss: 220.0368 - val_mean_absolute_error: 11.2609\n",
        "Epoch 9/20\n",
        "89/89 - 45s - loss: 16.0073 - mean_absolute_error: 3.0704 - val_loss: 183.8507 - val_mean_absolute_error: 10.2216\n",
        "Epoch 10/20\n",
        "89/89 - 44s - loss: 11.5355 - mean_absolute_error: 2.6275 - val_loss: 129.2826 - val_mean_absolute_error: 8.4214\n",
        "Epoch 11/20\n",
        "89/89 - 45s - loss: 9.0720 - mean_absolute_error: 2.3251 - val_loss: 124.4829 - val_mean_absolute_error: 8.4643\n",
        "Epoch 12/20\n",
        "89/89 - 45s - loss: 7.3971 - mean_absolute_error: 2.1044 - val_loss: 82.3889 - val_mean_absolute_error: 6.8478\n",
        "Epoch 13/20\n",
        "89/89 - 45s - loss: 6.8225 - mean_absolute_error: 1.9887 - val_loss: 77.5292 - val_mean_absolute_error: 6.6174\n",
        "Epoch 14/20\n",
        "89/89 - 46s - loss: 5.8596 - mean_absolute_error: 1.8728 - val_loss: 84.4056 - val_mean_absolute_error: 7.1380\n",
        "Epoch 15/20\n",
        "89/89 - 46s - loss: 5.2053 - mean_absolute_error: 1.7453 - val_loss: 81.6229 - val_mean_absolute_error: 6.7581\n",
        "Epoch 16/20\n",
        "89/89 - 44s - loss: 4.9481 - mean_absolute_error: 1.6934 - val_loss: 80.2000 - val_mean_absolute_error: 6.6799\n",
        "Epoch 17/20\n",
        "89/89 - 46s - loss: 5.2503 - mean_absolute_error: 1.7636 - val_loss: 76.6864 - val_mean_absolute_error: 6.6314\n",
        "Epoch 18/20\n",
        "89/89 - 58s - loss: 4.8774 - mean_absolute_error: 1.6841 - val_loss: 86.5055 - val_mean_absolute_error: 7.1592\n",
        "Epoch 19/20\n",
        "89/89 - 56s - loss: 4.9797 - mean_absolute_error: 1.6944 - val_loss: 85.7101 - val_mean_absolute_error: 6.8709\n",
        "Epoch 20/20\n",
        "89/89 - 57s - loss: 5.4096 - mean_absolute_error: 1.7646 - val_loss: 75.9979 - val_mean_absolute_error: 6.6435\n",
        "\n",
        "30/30 - 12s - loss: 75.9979 - mean_absolute_error: 6.6435\n",
        "Test MAE: 6.6435\n",
        "\n",
        "```"
      ]
    },
    {
      "cell_type": "markdown",
      "metadata": {
        "id": "tM9PVR4O0qgj"
      },
      "source": [
        "## Анализ обученной модели"
      ]
    },
    {
      "cell_type": "markdown",
      "metadata": {
        "id": "g3Io2tPr0qgj"
      },
      "source": [
        "Для решения задачи была выбрана CNN с архитектурой ResNet50. После свертывания 1 слой для пулинга и 1 полносвязный слой с 8 нейронами. В результате значение заявленной условием задачи метрики MAE составило 6,68, что соотвествует пределу в 8.  \n",
        "\n",
        "Если рассуждать о применимости модели, то считаю, что дальнейшим шагом необходимо обсудить варианты с заказчиком. 6,6 лет - это ощутимая разница, ведь модель может посчитать 23-хлетнего клиента несовершеннолетним, и, в случае, если использовать модель для контроля работников торгового зала - неверно расценить их (работников) действия. Стоит отметить, что даже в реальной жизни визуальная разница между молодыми людьми 17 лет и 23 лет не велика, поэтому кассиры обычно наделены правом просить предьявить документы. Так вот модель можно использовать, например, для сигнала работнику торгового зала запросить документы у посетителя. В таком случае я бы решил эту задачу по другому - переформулировал бы ее в задачу классификации на определение \"критического\" и \"не критического возраста\".\n",
        "Если говорить о рекомендациях клиентам - можно тоже решить задачу по другому - например, разбить возрастной показатель на группы, ведь сомнительно, что, допустим, у клиентов в возврасте 60 лет будут разительно иные предпочтения, чем у 65-тилетнего. В случаях рекомендаций, помимо возраста неплохо было бы учесть и другую информацию - например пол клиента или время посещения магазина (утро-вечер) и т.п."
      ]
    }
  ],
  "metadata": {
    "ExecuteTimeLog": [
      {
        "duration": 2744,
        "start_time": "2023-07-30T09:36:23.557Z"
      },
      {
        "duration": 4,
        "start_time": "2023-07-30T09:37:12.472Z"
      },
      {
        "duration": 2,
        "start_time": "2023-07-30T09:37:15.369Z"
      },
      {
        "duration": 3,
        "start_time": "2023-07-30T09:37:23.069Z"
      },
      {
        "duration": 111,
        "start_time": "2023-07-30T09:37:43.353Z"
      },
      {
        "duration": 87561,
        "start_time": "2023-07-30T09:38:02.589Z"
      },
      {
        "duration": 87919,
        "start_time": "2023-07-30T09:39:30.152Z"
      },
      {
        "duration": 60,
        "start_time": "2023-07-30T09:40:58.073Z"
      },
      {
        "duration": 0,
        "start_time": "2023-07-30T09:40:58.134Z"
      },
      {
        "duration": 0,
        "start_time": "2023-07-30T09:40:58.135Z"
      },
      {
        "duration": 0,
        "start_time": "2023-07-30T09:40:58.138Z"
      },
      {
        "duration": 0,
        "start_time": "2023-07-30T09:40:58.139Z"
      },
      {
        "duration": 11,
        "start_time": "2023-07-30T09:42:57.177Z"
      },
      {
        "duration": 269,
        "start_time": "2023-07-30T09:42:57.993Z"
      },
      {
        "duration": 1298,
        "start_time": "2023-07-30T09:43:01.865Z"
      },
      {
        "duration": 1480,
        "start_time": "2023-07-30T09:43:03.201Z"
      },
      {
        "duration": 3032,
        "start_time": "2023-07-31T08:06:33.271Z"
      },
      {
        "duration": 4,
        "start_time": "2023-07-31T08:06:36.305Z"
      },
      {
        "duration": 117,
        "start_time": "2023-07-31T08:06:36.310Z"
      },
      {
        "duration": 90195,
        "start_time": "2023-07-31T08:06:36.430Z"
      },
      {
        "duration": 90181,
        "start_time": "2023-07-31T08:08:06.627Z"
      },
      {
        "duration": 12,
        "start_time": "2023-07-31T08:09:36.810Z"
      },
      {
        "duration": 308,
        "start_time": "2023-07-31T08:09:36.823Z"
      },
      {
        "duration": 1377,
        "start_time": "2023-07-31T08:09:37.132Z"
      },
      {
        "duration": 1499,
        "start_time": "2023-07-31T08:09:38.511Z"
      },
      {
        "duration": 2649,
        "start_time": "2023-07-31T09:19:05.814Z"
      },
      {
        "duration": 3,
        "start_time": "2023-07-31T09:19:08.465Z"
      },
      {
        "duration": 125,
        "start_time": "2023-07-31T09:19:08.469Z"
      },
      {
        "duration": 93454,
        "start_time": "2023-07-31T09:19:08.596Z"
      },
      {
        "duration": 94083,
        "start_time": "2023-07-31T09:20:42.051Z"
      },
      {
        "duration": 12,
        "start_time": "2023-07-31T09:22:16.136Z"
      },
      {
        "duration": 311,
        "start_time": "2023-07-31T09:22:16.150Z"
      },
      {
        "duration": 1673,
        "start_time": "2023-07-31T09:22:16.462Z"
      },
      {
        "duration": 4943,
        "start_time": "2023-07-31T09:23:30.153Z"
      },
      {
        "duration": 4043,
        "start_time": "2023-07-31T09:24:00.995Z"
      },
      {
        "duration": 8217,
        "start_time": "2023-07-31T09:24:16.011Z"
      },
      {
        "duration": 16451,
        "start_time": "2023-07-31T09:24:41.110Z"
      },
      {
        "duration": 11526,
        "start_time": "2023-07-31T09:25:27.696Z"
      },
      {
        "duration": 27231,
        "start_time": "2023-07-31T09:26:22.964Z"
      },
      {
        "duration": 59,
        "start_time": "2023-08-01T18:49:52.176Z"
      }
    ],
    "kernelspec": {
      "display_name": "Python 3 (ipykernel)",
      "language": "python",
      "name": "python3"
    },
    "language_info": {
      "codemirror_mode": {
        "name": "ipython",
        "version": 3
      },
      "file_extension": ".py",
      "mimetype": "text/x-python",
      "name": "python",
      "nbconvert_exporter": "python",
      "pygments_lexer": "ipython3",
      "version": "3.9.13"
    },
    "toc": {
      "base_numbering": 1,
      "nav_menu": {},
      "number_sections": true,
      "sideBar": true,
      "skip_h1_title": true,
      "title_cell": "Table of Contents",
      "title_sidebar": "Contents",
      "toc_cell": false,
      "toc_position": {},
      "toc_section_display": true,
      "toc_window_display": false
    },
    "colab": {
      "provenance": []
    }
  },
  "nbformat": 4,
  "nbformat_minor": 0
}