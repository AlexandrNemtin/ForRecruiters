{
 "cells": [
  {
   "cell_type": "markdown",
   "metadata": {
    "toc": true
   },
   "source": [
    "<h1>Содержание<span class=\"tocSkip\"></span></h1>\n",
    "<div class=\"toc\"><ul class=\"toc-item\"><li><span><a href=\"#Подготовка-данных\" data-toc-modified-id=\"Подготовка-данных-1\"><span class=\"toc-item-num\">1&nbsp;&nbsp;</span>Подготовка данных</a></span><ul class=\"toc-item\"><li><span><a href=\"#Install,-Import,-функции\" data-toc-modified-id=\"Install,-Import,-функции-1.1\"><span class=\"toc-item-num\">1.1&nbsp;&nbsp;</span>Install, Import, функции</a></span></li><li><span><a href=\"#Проверка-эффективности-обогащения.\" data-toc-modified-id=\"Проверка-эффективности-обогащения.-1.2\"><span class=\"toc-item-num\">1.2&nbsp;&nbsp;</span>Проверка эффективности обогащения.</a></span><ul class=\"toc-item\"><li><span><a href=\"#Промежуточный-вывод\" data-toc-modified-id=\"Промежуточный-вывод-1.2.1\"><span class=\"toc-item-num\">1.2.1&nbsp;&nbsp;</span>Промежуточный вывод</a></span></li></ul></li><li><span><a href=\"#Загрузка-тестовой-выборки,-анализ-недостающих-признаков.-Проведение-предобработки.\" data-toc-modified-id=\"Загрузка-тестовой-выборки,-анализ-недостающих-признаков.-Проведение-предобработки.-1.3\"><span class=\"toc-item-num\">1.3&nbsp;&nbsp;</span>Загрузка тестовой выборки, анализ недостающих признаков. Проведение предобработки.</a></span><ul class=\"toc-item\"><li><span><a href=\"#Промежуточный-вывод\" data-toc-modified-id=\"Промежуточный-вывод-1.3.1\"><span class=\"toc-item-num\">1.3.1&nbsp;&nbsp;</span>Промежуточный вывод</a></span></li></ul></li></ul></li><li><span><a href=\"#Анализ-данных\" data-toc-modified-id=\"Анализ-данных-2\"><span class=\"toc-item-num\">2&nbsp;&nbsp;</span>Анализ данных</a></span><ul class=\"toc-item\"><li><span><a href=\"#Анализ-изменения-концентрации-металлов-на-разных-этапах-очистки\" data-toc-modified-id=\"Анализ-изменения-концентрации-металлов-на-разных-этапах-очистки-2.1\"><span class=\"toc-item-num\">2.1&nbsp;&nbsp;</span>Анализ изменения концентрации металлов на разных этапах очистки</a></span><ul class=\"toc-item\"><li><span><a href=\"#Промежуточный-вывод\" data-toc-modified-id=\"Промежуточный-вывод-2.1.1\"><span class=\"toc-item-num\">2.1.1&nbsp;&nbsp;</span>Промежуточный вывод</a></span></li></ul></li><li><span><a href=\"#Сравнение-распределния-гранул-сырья.\" data-toc-modified-id=\"Сравнение-распределния-гранул-сырья.-2.2\"><span class=\"toc-item-num\">2.2&nbsp;&nbsp;</span>Сравнение распределния гранул сырья.</a></span><ul class=\"toc-item\"><li><span><a href=\"#Промежуточный-вывод\" data-toc-modified-id=\"Промежуточный-вывод-2.2.1\"><span class=\"toc-item-num\">2.2.1&nbsp;&nbsp;</span>Промежуточный вывод</a></span></li></ul></li><li><span><a href=\"#Анализ-суммарных-концентраций-веществ-на-разных-стадиях-очистки.\" data-toc-modified-id=\"Анализ-суммарных-концентраций-веществ-на-разных-стадиях-очистки.-2.3\"><span class=\"toc-item-num\">2.3&nbsp;&nbsp;</span>Анализ суммарных концентраций веществ на разных стадиях очистки.</a></span><ul class=\"toc-item\"><li><span><a href=\"#Промежуточный-вывод\" data-toc-modified-id=\"Промежуточный-вывод-2.3.1\"><span class=\"toc-item-num\">2.3.1&nbsp;&nbsp;</span>Промежуточный вывод</a></span></li></ul></li></ul></li><li><span><a href=\"#Модель\" data-toc-modified-id=\"Модель-3\"><span class=\"toc-item-num\">3&nbsp;&nbsp;</span>Модель</a></span><ul class=\"toc-item\"><li><span><a href=\"#Построение-конвейеров\" data-toc-modified-id=\"Построение-конвейеров-3.1\"><span class=\"toc-item-num\">3.1&nbsp;&nbsp;</span>Построение конвейеров</a></span></li><li><span><a href=\"#Разделение-признаков\" data-toc-modified-id=\"Разделение-признаков-3.2\"><span class=\"toc-item-num\">3.2&nbsp;&nbsp;</span>Разделение признаков</a></span></li><li><span><a href=\"#Обучение-линейной-регрессии.\" data-toc-modified-id=\"Обучение-линейной-регрессии.-3.3\"><span class=\"toc-item-num\">3.3&nbsp;&nbsp;</span>Обучение линейной регрессии.</a></span></li><li><span><a href=\"#Обучение-случайного-леса.\" data-toc-modified-id=\"Обучение-случайного-леса.-3.4\"><span class=\"toc-item-num\">3.4&nbsp;&nbsp;</span>Обучение случайного леса.</a></span></li><li><span><a href=\"#Обучение-гребневой-регрессии.\" data-toc-modified-id=\"Обучение-гребневой-регрессии.-3.5\"><span class=\"toc-item-num\">3.5&nbsp;&nbsp;</span>Обучение гребневой регрессии.</a></span></li><li><span><a href=\"#Сопоставление-результатов-обучения.\" data-toc-modified-id=\"Сопоставление-результатов-обучения.-3.6\"><span class=\"toc-item-num\">3.6&nbsp;&nbsp;</span>Сопоставление результатов обучения.</a></span></li><li><span><a href=\"#Проверка-на-тестовых-данных.\" data-toc-modified-id=\"Проверка-на-тестовых-данных.-3.7\"><span class=\"toc-item-num\">3.7&nbsp;&nbsp;</span>Проверка на тестовых данных.</a></span></li><li><span><a href=\"#Общий-вывод\" data-toc-modified-id=\"Общий-вывод-3.8\"><span class=\"toc-item-num\">3.8&nbsp;&nbsp;</span>Общий вывод</a></span></li></ul></li></ul></div>"
   ]
  },
  {
   "cell_type": "markdown",
   "metadata": {},
   "source": [
    "# Восстановление золота из руды"
   ]
  },
  {
   "cell_type": "markdown",
   "metadata": {},
   "source": [
    "Компания разрабатывает решения для эффективной работы промышленных предприятий.\n",
    "\n",
    "Подготовьте прототип модели машинного обучения, которая должна предсказать коэффициент восстановления золота из золотосодержащей руды. Используйте данные с параметрами добычи и очистки. \n",
    "\n",
    "Модель поможет оптимизировать производство, чтобы не запускать предприятие с убыточными характеристиками.\n"
   ]
  },
  {
   "cell_type": "markdown",
   "metadata": {},
   "source": [
    "## Подготовка данных"
   ]
  },
  {
   "cell_type": "markdown",
   "metadata": {},
   "source": [
    "### Install, Import, функции"
   ]
  },
  {
   "cell_type": "code",
   "execution_count": 59,
   "metadata": {
    "scrolled": false
   },
   "outputs": [
    {
     "name": "stdout",
     "output_type": "stream",
     "text": [
      "Requirement already satisfied: scikit-learn==1.2.2 in /opt/conda/lib/python3.9/site-packages (1.2.2)\n",
      "Requirement already satisfied: scipy>=1.3.2 in /opt/conda/lib/python3.9/site-packages (from scikit-learn==1.2.2) (1.9.1)\n",
      "Requirement already satisfied: joblib>=1.1.1 in /opt/conda/lib/python3.9/site-packages (from scikit-learn==1.2.2) (1.2.0)\n",
      "Requirement already satisfied: threadpoolctl>=2.0.0 in /opt/conda/lib/python3.9/site-packages (from scikit-learn==1.2.2) (3.1.0)\n",
      "Requirement already satisfied: numpy>=1.17.3 in /opt/conda/lib/python3.9/site-packages (from scikit-learn==1.2.2) (1.21.1)\n"
     ]
    }
   ],
   "source": [
    "!pip install scikit-learn==1.2.2"
   ]
  },
  {
   "cell_type": "code",
   "execution_count": 60,
   "metadata": {},
   "outputs": [],
   "source": [
    "import pandas as pd\n",
    "import numpy as np\n",
    "import seaborn as sns\n",
    "import matplotlib.pyplot as plt\n",
    "from sklearn.model_selection import cross_val_score, GridSearchCV, RandomizedSearchCV\n",
    "from sklearn.pipeline import Pipeline\n",
    "from sklearn.preprocessing import (MinMaxScaler, \n",
    "                                   Normalizer, \n",
    "                                  )\n",
    "from sklearn.metrics import make_scorer, get_scorer_names\n",
    "from sklearn.linear_model import LinearRegression, Ridge\n",
    "from sklearn.tree import DecisionTreeRegressor\n",
    "from sklearn.ensemble import RandomForestRegressor\n",
    "from sklearn.multioutput import MultiOutputRegressor\n",
    "\n",
    "\n",
    "sns.set(style=\"darkgrid\")"
   ]
  },
  {
   "cell_type": "code",
   "execution_count": 61,
   "metadata": {},
   "outputs": [],
   "source": [
    "### Функция расчета метрики sMAPE\n",
    "### На вход принимает целевой признак, предсказания и 2 признака из набора данных\n",
    "### На выходе - численный показатель sMAPE\n",
    "\n",
    "\n",
    "def sMAPE(target, predictions, rougher='rougher.output.recovery', final='final.output.recovery'):\n",
    "    predictions = pd.DataFrame(predictions, columns=target.columns, index=target.index)\n",
    "    \n",
    "    \n",
    "    smape_numerator_rougher = (target[rougher] - predictions[rougher]).abs()\n",
    "    smape_denominator_rougher = (target[rougher].abs() + predictions[rougher].abs()) / 2\n",
    "    smape_rougher = ((smape_numerator_rougher / smape_denominator_rougher).sum() / len(target[rougher])) * 100\n",
    "    \n",
    "    smape_numerator_final = (target[final] - predictions[final]).abs()\n",
    "    smape_denominator_final = (target[final].abs() + predictions[final].abs()) / 2\n",
    "    smape_final = ((smape_numerator_final / smape_denominator_final).sum() / len(target[final])) * 100\n",
    "    \n",
    "    \n",
    "    sMAPE = 0.25 * smape_rougher + 0.75 * smape_final\n",
    "    return sMAPE"
   ]
  },
  {
   "cell_type": "markdown",
   "metadata": {},
   "source": [
    "Загрузим тренировочный датасет, посмотрим информацию."
   ]
  },
  {
   "cell_type": "code",
   "execution_count": 62,
   "metadata": {
    "scrolled": true
   },
   "outputs": [
    {
     "name": "stdout",
     "output_type": "stream",
     "text": [
      "<class 'pandas.core.frame.DataFrame'>\n",
      "RangeIndex: 14149 entries, 0 to 14148\n",
      "Data columns (total 87 columns):\n",
      " #   Column                                              Non-Null Count  Dtype  \n",
      "---  ------                                              --------------  -----  \n",
      " 0   date                                                14149 non-null  object \n",
      " 1   final.output.concentrate_ag                         14148 non-null  float64\n",
      " 2   final.output.concentrate_pb                         14148 non-null  float64\n",
      " 3   final.output.concentrate_sol                        13938 non-null  float64\n",
      " 4   final.output.concentrate_au                         14149 non-null  float64\n",
      " 5   final.output.recovery                               14149 non-null  float64\n",
      " 6   final.output.tail_ag                                14149 non-null  float64\n",
      " 7   final.output.tail_pb                                14049 non-null  float64\n",
      " 8   final.output.tail_sol                               14144 non-null  float64\n",
      " 9   final.output.tail_au                                14149 non-null  float64\n",
      " 10  primary_cleaner.input.sulfate                       14129 non-null  float64\n",
      " 11  primary_cleaner.input.depressant                    14117 non-null  float64\n",
      " 12  primary_cleaner.input.feed_size                     14149 non-null  float64\n",
      " 13  primary_cleaner.input.xanthate                      14049 non-null  float64\n",
      " 14  primary_cleaner.output.concentrate_ag               14149 non-null  float64\n",
      " 15  primary_cleaner.output.concentrate_pb               14063 non-null  float64\n",
      " 16  primary_cleaner.output.concentrate_sol              13863 non-null  float64\n",
      " 17  primary_cleaner.output.concentrate_au               14149 non-null  float64\n",
      " 18  primary_cleaner.output.tail_ag                      14148 non-null  float64\n",
      " 19  primary_cleaner.output.tail_pb                      14134 non-null  float64\n",
      " 20  primary_cleaner.output.tail_sol                     14103 non-null  float64\n",
      " 21  primary_cleaner.output.tail_au                      14149 non-null  float64\n",
      " 22  primary_cleaner.state.floatbank8_a_air              14145 non-null  float64\n",
      " 23  primary_cleaner.state.floatbank8_a_level            14148 non-null  float64\n",
      " 24  primary_cleaner.state.floatbank8_b_air              14145 non-null  float64\n",
      " 25  primary_cleaner.state.floatbank8_b_level            14148 non-null  float64\n",
      " 26  primary_cleaner.state.floatbank8_c_air              14147 non-null  float64\n",
      " 27  primary_cleaner.state.floatbank8_c_level            14148 non-null  float64\n",
      " 28  primary_cleaner.state.floatbank8_d_air              14146 non-null  float64\n",
      " 29  primary_cleaner.state.floatbank8_d_level            14148 non-null  float64\n",
      " 30  rougher.calculation.sulfate_to_au_concentrate       14148 non-null  float64\n",
      " 31  rougher.calculation.floatbank10_sulfate_to_au_feed  14148 non-null  float64\n",
      " 32  rougher.calculation.floatbank11_sulfate_to_au_feed  14148 non-null  float64\n",
      " 33  rougher.calculation.au_pb_ratio                     14149 non-null  float64\n",
      " 34  rougher.input.feed_ag                               14149 non-null  float64\n",
      " 35  rougher.input.feed_pb                               14049 non-null  float64\n",
      " 36  rougher.input.feed_rate                             14141 non-null  float64\n",
      " 37  rougher.input.feed_size                             14005 non-null  float64\n",
      " 38  rougher.input.feed_sol                              14071 non-null  float64\n",
      " 39  rougher.input.feed_au                               14149 non-null  float64\n",
      " 40  rougher.input.floatbank10_sulfate                   14120 non-null  float64\n",
      " 41  rougher.input.floatbank10_xanthate                  14141 non-null  float64\n",
      " 42  rougher.input.floatbank11_sulfate                   14113 non-null  float64\n",
      " 43  rougher.input.floatbank11_xanthate                  13721 non-null  float64\n",
      " 44  rougher.output.concentrate_ag                       14149 non-null  float64\n",
      " 45  rougher.output.concentrate_pb                       14149 non-null  float64\n",
      " 46  rougher.output.concentrate_sol                      14127 non-null  float64\n",
      " 47  rougher.output.concentrate_au                       14149 non-null  float64\n",
      " 48  rougher.output.recovery                             14149 non-null  float64\n",
      " 49  rougher.output.tail_ag                              14148 non-null  float64\n",
      " 50  rougher.output.tail_pb                              14149 non-null  float64\n",
      " 51  rougher.output.tail_sol                             14149 non-null  float64\n",
      " 52  rougher.output.tail_au                              14149 non-null  float64\n",
      " 53  rougher.state.floatbank10_a_air                     14148 non-null  float64\n",
      " 54  rougher.state.floatbank10_a_level                   14148 non-null  float64\n",
      " 55  rougher.state.floatbank10_b_air                     14148 non-null  float64\n",
      " 56  rougher.state.floatbank10_b_level                   14148 non-null  float64\n",
      " 57  rougher.state.floatbank10_c_air                     14148 non-null  float64\n",
      " 58  rougher.state.floatbank10_c_level                   14148 non-null  float64\n",
      " 59  rougher.state.floatbank10_d_air                     14149 non-null  float64\n",
      " 60  rougher.state.floatbank10_d_level                   14149 non-null  float64\n",
      " 61  rougher.state.floatbank10_e_air                     13713 non-null  float64\n",
      " 62  rougher.state.floatbank10_e_level                   14149 non-null  float64\n",
      " 63  rougher.state.floatbank10_f_air                     14149 non-null  float64\n",
      " 64  rougher.state.floatbank10_f_level                   14149 non-null  float64\n",
      " 65  secondary_cleaner.output.tail_ag                    14147 non-null  float64\n",
      " 66  secondary_cleaner.output.tail_pb                    14139 non-null  float64\n",
      " 67  secondary_cleaner.output.tail_sol                   12544 non-null  float64\n",
      " 68  secondary_cleaner.output.tail_au                    14149 non-null  float64\n",
      " 69  secondary_cleaner.state.floatbank2_a_air            13932 non-null  float64\n",
      " 70  secondary_cleaner.state.floatbank2_a_level          14148 non-null  float64\n",
      " 71  secondary_cleaner.state.floatbank2_b_air            14128 non-null  float64\n",
      " 72  secondary_cleaner.state.floatbank2_b_level          14148 non-null  float64\n",
      " 73  secondary_cleaner.state.floatbank3_a_air            14145 non-null  float64\n",
      " 74  secondary_cleaner.state.floatbank3_a_level          14148 non-null  float64\n",
      " 75  secondary_cleaner.state.floatbank3_b_air            14148 non-null  float64\n",
      " 76  secondary_cleaner.state.floatbank3_b_level          14148 non-null  float64\n",
      " 77  secondary_cleaner.state.floatbank4_a_air            14143 non-null  float64\n",
      " 78  secondary_cleaner.state.floatbank4_a_level          14148 non-null  float64\n",
      " 79  secondary_cleaner.state.floatbank4_b_air            14148 non-null  float64\n",
      " 80  secondary_cleaner.state.floatbank4_b_level          14148 non-null  float64\n",
      " 81  secondary_cleaner.state.floatbank5_a_air            14148 non-null  float64\n",
      " 82  secondary_cleaner.state.floatbank5_a_level          14148 non-null  float64\n",
      " 83  secondary_cleaner.state.floatbank5_b_air            14148 non-null  float64\n",
      " 84  secondary_cleaner.state.floatbank5_b_level          14148 non-null  float64\n",
      " 85  secondary_cleaner.state.floatbank6_a_air            14147 non-null  float64\n",
      " 86  secondary_cleaner.state.floatbank6_a_level          14148 non-null  float64\n",
      "dtypes: float64(86), object(1)\n",
      "memory usage: 9.4+ MB\n"
     ]
    }
   ],
   "source": [
    "df_train = pd.read_csv('/datasets/gold_recovery_train_new.csv')\n",
    "df_train.info()"
   ]
  },
  {
   "cell_type": "markdown",
   "metadata": {},
   "source": [
    "Избавимся от пустых значений. Заполним пропуски."
   ]
  },
  {
   "cell_type": "code",
   "execution_count": 63,
   "metadata": {},
   "outputs": [],
   "source": [
    "#Заполняем пропуски значениями из предыдущих наблюдений\n",
    "df_train.fillna(method='ffill', inplace=True)"
   ]
  },
  {
   "cell_type": "markdown",
   "metadata": {},
   "source": [
    "Проверим наши действия."
   ]
  },
  {
   "cell_type": "code",
   "execution_count": 64,
   "metadata": {},
   "outputs": [
    {
     "data": {
      "text/plain": [
       "0"
      ]
     },
     "execution_count": 64,
     "metadata": {},
     "output_type": "execute_result"
    }
   ],
   "source": [
    "# Проверяем данные на наличие пропусков\n",
    "df_train.isna().sum().sum()"
   ]
  },
  {
   "cell_type": "markdown",
   "metadata": {},
   "source": [
    "### Проверка эффективности обогащения."
   ]
  },
  {
   "cell_type": "markdown",
   "metadata": {},
   "source": [
    "Проверим, верно ли рассчитана эффективность обогащения. Для этого вычислим эффективность и найдем среднюю абсолютную ошибку."
   ]
  },
  {
   "cell_type": "code",
   "execution_count": 65,
   "metadata": {},
   "outputs": [],
   "source": [
    "C = df_train['rougher.output.concentrate_au'] #доля золота в концентрате после флотации/очистки\n",
    "F = df_train['rougher.input.feed_au'] #доля золота в сырье/концентрате до флотации/очистки\n",
    "T = df_train['rougher.output.tail_au'] #доля золота в отвальных хвостах после флотации/очистки"
   ]
  },
  {
   "cell_type": "code",
   "execution_count": 66,
   "metadata": {},
   "outputs": [],
   "source": [
    "df_train['rougher.output.recovery.calculated'] = ((C * (F -T)) / (F * (C - T))) * 100 #расчетная эффективность обогащения"
   ]
  },
  {
   "cell_type": "code",
   "execution_count": 67,
   "metadata": {},
   "outputs": [
    {
     "data": {
      "text/plain": [
       "9.73512347450521e-15"
      ]
     },
     "execution_count": 67,
     "metadata": {},
     "output_type": "execute_result"
    }
   ],
   "source": [
    "MAE = ((df_train['rougher.output.recovery'] - df_train['rougher.output.recovery.calculated']).abs().sum() \n",
    "       / len(df_train['rougher.output.recovery.calculated']))\n",
    "MAE"
   ]
  },
  {
   "cell_type": "markdown",
   "metadata": {},
   "source": [
    "#### Промежуточный вывод"
   ]
  },
  {
   "cell_type": "markdown",
   "metadata": {},
   "source": [
    "Абсолютная ошибка - число в -15 степени. Такое малое значение указывает на то, что рассчетные и имеющиеся данные практически совпадают."
   ]
  },
  {
   "cell_type": "markdown",
   "metadata": {},
   "source": [
    "### Загрузка тестовой выборки, анализ недостающих признаков. Проведение предобработки."
   ]
  },
  {
   "cell_type": "markdown",
   "metadata": {},
   "source": [
    "Загрузим тестовую выборку."
   ]
  },
  {
   "cell_type": "code",
   "execution_count": 68,
   "metadata": {
    "scrolled": true
   },
   "outputs": [
    {
     "name": "stdout",
     "output_type": "stream",
     "text": [
      "<class 'pandas.core.frame.DataFrame'>\n",
      "RangeIndex: 5290 entries, 0 to 5289\n",
      "Data columns (total 53 columns):\n",
      " #   Column                                      Non-Null Count  Dtype  \n",
      "---  ------                                      --------------  -----  \n",
      " 0   date                                        5290 non-null   object \n",
      " 1   primary_cleaner.input.sulfate               5286 non-null   float64\n",
      " 2   primary_cleaner.input.depressant            5285 non-null   float64\n",
      " 3   primary_cleaner.input.feed_size             5290 non-null   float64\n",
      " 4   primary_cleaner.input.xanthate              5286 non-null   float64\n",
      " 5   primary_cleaner.state.floatbank8_a_air      5290 non-null   float64\n",
      " 6   primary_cleaner.state.floatbank8_a_level    5290 non-null   float64\n",
      " 7   primary_cleaner.state.floatbank8_b_air      5290 non-null   float64\n",
      " 8   primary_cleaner.state.floatbank8_b_level    5290 non-null   float64\n",
      " 9   primary_cleaner.state.floatbank8_c_air      5290 non-null   float64\n",
      " 10  primary_cleaner.state.floatbank8_c_level    5290 non-null   float64\n",
      " 11  primary_cleaner.state.floatbank8_d_air      5290 non-null   float64\n",
      " 12  primary_cleaner.state.floatbank8_d_level    5290 non-null   float64\n",
      " 13  rougher.input.feed_ag                       5290 non-null   float64\n",
      " 14  rougher.input.feed_pb                       5290 non-null   float64\n",
      " 15  rougher.input.feed_rate                     5287 non-null   float64\n",
      " 16  rougher.input.feed_size                     5289 non-null   float64\n",
      " 17  rougher.input.feed_sol                      5269 non-null   float64\n",
      " 18  rougher.input.feed_au                       5290 non-null   float64\n",
      " 19  rougher.input.floatbank10_sulfate           5285 non-null   float64\n",
      " 20  rougher.input.floatbank10_xanthate          5290 non-null   float64\n",
      " 21  rougher.input.floatbank11_sulfate           5282 non-null   float64\n",
      " 22  rougher.input.floatbank11_xanthate          5265 non-null   float64\n",
      " 23  rougher.state.floatbank10_a_air             5290 non-null   float64\n",
      " 24  rougher.state.floatbank10_a_level           5290 non-null   float64\n",
      " 25  rougher.state.floatbank10_b_air             5290 non-null   float64\n",
      " 26  rougher.state.floatbank10_b_level           5290 non-null   float64\n",
      " 27  rougher.state.floatbank10_c_air             5290 non-null   float64\n",
      " 28  rougher.state.floatbank10_c_level           5290 non-null   float64\n",
      " 29  rougher.state.floatbank10_d_air             5290 non-null   float64\n",
      " 30  rougher.state.floatbank10_d_level           5290 non-null   float64\n",
      " 31  rougher.state.floatbank10_e_air             5290 non-null   float64\n",
      " 32  rougher.state.floatbank10_e_level           5290 non-null   float64\n",
      " 33  rougher.state.floatbank10_f_air             5290 non-null   float64\n",
      " 34  rougher.state.floatbank10_f_level           5290 non-null   float64\n",
      " 35  secondary_cleaner.state.floatbank2_a_air    5287 non-null   float64\n",
      " 36  secondary_cleaner.state.floatbank2_a_level  5290 non-null   float64\n",
      " 37  secondary_cleaner.state.floatbank2_b_air    5288 non-null   float64\n",
      " 38  secondary_cleaner.state.floatbank2_b_level  5290 non-null   float64\n",
      " 39  secondary_cleaner.state.floatbank3_a_air    5281 non-null   float64\n",
      " 40  secondary_cleaner.state.floatbank3_a_level  5290 non-null   float64\n",
      " 41  secondary_cleaner.state.floatbank3_b_air    5290 non-null   float64\n",
      " 42  secondary_cleaner.state.floatbank3_b_level  5290 non-null   float64\n",
      " 43  secondary_cleaner.state.floatbank4_a_air    5290 non-null   float64\n",
      " 44  secondary_cleaner.state.floatbank4_a_level  5290 non-null   float64\n",
      " 45  secondary_cleaner.state.floatbank4_b_air    5290 non-null   float64\n",
      " 46  secondary_cleaner.state.floatbank4_b_level  5290 non-null   float64\n",
      " 47  secondary_cleaner.state.floatbank5_a_air    5290 non-null   float64\n",
      " 48  secondary_cleaner.state.floatbank5_a_level  5290 non-null   float64\n",
      " 49  secondary_cleaner.state.floatbank5_b_air    5290 non-null   float64\n",
      " 50  secondary_cleaner.state.floatbank5_b_level  5290 non-null   float64\n",
      " 51  secondary_cleaner.state.floatbank6_a_air    5290 non-null   float64\n",
      " 52  secondary_cleaner.state.floatbank6_a_level  5290 non-null   float64\n",
      "dtypes: float64(52), object(1)\n",
      "memory usage: 2.1+ MB\n"
     ]
    }
   ],
   "source": [
    "df_test = pd.read_csv('/datasets/gold_recovery_test_new.csv')\n",
    "df_test.info()"
   ]
  },
  {
   "cell_type": "markdown",
   "metadata": {},
   "source": [
    "Найдем различие в наборе признаков между обучающей и тестовой выборкой. Удалим столбец с расчетной эффективностью - он при обучении он нам не нужен."
   ]
  },
  {
   "cell_type": "code",
   "execution_count": 69,
   "metadata": {
    "scrolled": true
   },
   "outputs": [
    {
     "data": {
      "text/plain": [
       "['final.output.concentrate_ag',\n",
       " 'final.output.concentrate_pb',\n",
       " 'final.output.concentrate_sol',\n",
       " 'final.output.concentrate_au',\n",
       " 'final.output.recovery',\n",
       " 'final.output.tail_ag',\n",
       " 'final.output.tail_pb',\n",
       " 'final.output.tail_sol',\n",
       " 'final.output.tail_au',\n",
       " 'primary_cleaner.output.concentrate_ag',\n",
       " 'primary_cleaner.output.concentrate_pb',\n",
       " 'primary_cleaner.output.concentrate_sol',\n",
       " 'primary_cleaner.output.concentrate_au',\n",
       " 'primary_cleaner.output.tail_ag',\n",
       " 'primary_cleaner.output.tail_pb',\n",
       " 'primary_cleaner.output.tail_sol',\n",
       " 'primary_cleaner.output.tail_au',\n",
       " 'rougher.calculation.sulfate_to_au_concentrate',\n",
       " 'rougher.calculation.floatbank10_sulfate_to_au_feed',\n",
       " 'rougher.calculation.floatbank11_sulfate_to_au_feed',\n",
       " 'rougher.calculation.au_pb_ratio',\n",
       " 'rougher.output.concentrate_ag',\n",
       " 'rougher.output.concentrate_pb',\n",
       " 'rougher.output.concentrate_sol',\n",
       " 'rougher.output.concentrate_au',\n",
       " 'rougher.output.recovery',\n",
       " 'rougher.output.tail_ag',\n",
       " 'rougher.output.tail_pb',\n",
       " 'rougher.output.tail_sol',\n",
       " 'rougher.output.tail_au',\n",
       " 'secondary_cleaner.output.tail_ag',\n",
       " 'secondary_cleaner.output.tail_pb',\n",
       " 'secondary_cleaner.output.tail_sol',\n",
       " 'secondary_cleaner.output.tail_au',\n",
       " 'rougher.output.recovery.calculated']"
      ]
     },
     "execution_count": 69,
     "metadata": {},
     "output_type": "execute_result"
    }
   ],
   "source": [
    "df_test_col_set = frozenset(df_test.columns)\n",
    "col_difference = [x for x in df_train.columns if x not in df_test_col_set]\n",
    "col_difference"
   ]
  },
  {
   "cell_type": "markdown",
   "metadata": {},
   "source": [
    "В тестовой выборке в основном нет значений получаемых данных после обработки (output). Во избежании проблем при обучении/тестировании удалим столбцы из датасета train в соотвествии с набором признаков в test."
   ]
  },
  {
   "cell_type": "code",
   "execution_count": 70,
   "metadata": {
    "scrolled": true
   },
   "outputs": [],
   "source": [
    "df_full = pd.read_csv('/datasets/gold_recovery_full_new.csv')"
   ]
  },
  {
   "cell_type": "code",
   "execution_count": 72,
   "metadata": {},
   "outputs": [],
   "source": [
    "col_difference.remove('rougher.output.recovery')\n",
    "col_difference.remove('final.output.recovery')\n",
    "df_train.drop(labels=col_difference, axis=1, inplace=True)"
   ]
  },
  {
   "cell_type": "markdown",
   "metadata": {},
   "source": [
    "Избавимся от пропусков в данных, заполнив их значениями из предыдущих наблюдений"
   ]
  },
  {
   "cell_type": "code",
   "execution_count": 73,
   "metadata": {},
   "outputs": [],
   "source": [
    "df_test.fillna(method='ffill', inplace=True)"
   ]
  },
  {
   "cell_type": "code",
   "execution_count": 74,
   "metadata": {
    "scrolled": true
   },
   "outputs": [
    {
     "data": {
      "text/plain": [
       "0"
      ]
     },
     "execution_count": 74,
     "metadata": {},
     "output_type": "execute_result"
    }
   ],
   "source": [
    "df_test.isna().sum().sum()"
   ]
  },
  {
   "cell_type": "code",
   "execution_count": 75,
   "metadata": {},
   "outputs": [
    {
     "data": {
      "text/plain": [
       "['final.output.recovery', 'rougher.output.recovery']"
      ]
     },
     "execution_count": 75,
     "metadata": {},
     "output_type": "execute_result"
    }
   ],
   "source": [
    "df_test_col_set = frozenset(df_test.columns)\n",
    "col_difference = [x for x in df_train.columns if x not in df_test_col_set]\n",
    "col_difference"
   ]
  },
  {
   "cell_type": "markdown",
   "metadata": {},
   "source": [
    "Разница между выборками - только в целевых признаках."
   ]
  },
  {
   "cell_type": "markdown",
   "metadata": {},
   "source": [
    "#### Промежуточный вывод"
   ]
  },
  {
   "cell_type": "markdown",
   "metadata": {},
   "source": [
    "После избавления данных от пропусков можно использовать регрессионные модели обучения. Преобработка проведена. В процессе построения конвейера также стандартизируем и нормализуем данные."
   ]
  },
  {
   "cell_type": "markdown",
   "metadata": {},
   "source": [
    "## Анализ данных"
   ]
  },
  {
   "cell_type": "markdown",
   "metadata": {},
   "source": [
    "### Анализ изменения концентрации металлов на разных этапах очистки"
   ]
  },
  {
   "cell_type": "markdown",
   "metadata": {},
   "source": [
    "Проанализируем, как меняются концентрации металлов на раличных этапах очистки."
   ]
  },
  {
   "cell_type": "code",
   "execution_count": 76,
   "metadata": {},
   "outputs": [],
   "source": [
    "ag_concentrate = ['rougher.output.concentrate_ag', \n",
    "                  'primary_cleaner.output.concentrate_ag', \n",
    "                  'final.output.concentrate_ag']\n",
    "pb_concentrate = ['rougher.output.concentrate_pb',\n",
    "                'primary_cleaner.output.concentrate_pb',\n",
    "                'final.output.concentrate_pb']\n",
    "au_concentrate = ['rougher.output.concentrate_au',\n",
    "                'primary_cleaner.output.concentrate_au',\n",
    "                'final.output.concentrate_au']"
   ]
  },
  {
   "cell_type": "code",
   "execution_count": 77,
   "metadata": {
    "scrolled": false
   },
   "outputs": [
    {
     "data": {
      "image/png": "[encoded data removed]",
      "text/plain": [
       "<Figure size 1080x576 with 1 Axes>"
      ]
     },
     "metadata": {},
     "output_type": "display_data"
    }
   ],
   "source": [
    "plt.figure(figsize=(15, 8))\n",
    "plt.title('Концентрация Ag', fontsize=20, pad=50.)\n",
    "[sns.kdeplot(df_full[x], shade=True) for x in ag_concentrate]\n",
    "plt.xlabel('Значения концентрации')\n",
    "plt.legend(ag_concentrate, loc='upper right')\n",
    "plt.show()"
   ]
  },
  {
   "cell_type": "code",
   "execution_count": 78,
   "metadata": {},
   "outputs": [
    {
     "data": {
      "image/png": "[encoded data removed]",
      "text/plain": [
       "<Figure size 1080x576 with 1 Axes>"
      ]
     },
     "metadata": {},
     "output_type": "display_data"
    }
   ],
   "source": [
    "plt.figure(figsize=(15, 8))\n",
    "plt.title('Концентрация Pb', fontsize=20, pad=50.)\n",
    "[sns.kdeplot(df_full[x], shade=True) for x in pb_concentrate]\n",
    "plt.xlabel('Значения концентрации')\n",
    "plt.legend(pb_concentrate, loc='upper right')\n",
    "plt.show()"
   ]
  },
  {
   "cell_type": "code",
   "execution_count": 79,
   "metadata": {
    "scrolled": false
   },
   "outputs": [
    {
     "data": {
      "image/png": "[encoded data removed]",
      "text/plain": [
       "<Figure size 1080x576 with 1 Axes>"
      ]
     },
     "metadata": {},
     "output_type": "display_data"
    }
   ],
   "source": [
    "plt.figure(figsize=(15, 8))\n",
    "plt.title('Концентрация Au', fontsize=20, pad=50.)\n",
    "[sns.kdeplot(df_full[x], shade=True) for x in au_concentrate]\n",
    "plt.xlabel('Значения концентрации')\n",
    "plt.legend(au_concentrate, loc='upper right')\n",
    "plt.show()"
   ]
  },
  {
   "cell_type": "markdown",
   "metadata": {},
   "source": [
    "#### Промежуточный вывод"
   ]
  },
  {
   "cell_type": "markdown",
   "metadata": {},
   "source": [
    "На графиках видно, что концентрация золота увеличивается, cеребро - уменьшается, концентрация свинца не уменьшается, но он  встречается чуть реже на финальных стадиях, чем на грубых."
   ]
  },
  {
   "cell_type": "markdown",
   "metadata": {},
   "source": [
    "### Сравнение распределния гранул сырья."
   ]
  },
  {
   "cell_type": "markdown",
   "metadata": {},
   "source": [
    "Сравним распределение гранул сырья."
   ]
  },
  {
   "cell_type": "code",
   "execution_count": 80,
   "metadata": {},
   "outputs": [
    {
     "data": {
      "image/png": "[encoded data removed]",
      "text/plain": [
       "<Figure size 1080x576 with 1 Axes>"
      ]
     },
     "metadata": {},
     "output_type": "display_data"
    }
   ],
   "source": [
    "df_compr = pd.DataFrame(df_train['rougher.input.feed_size'])\n",
    "df_compr['test'] = df_test['rougher.input.feed_size']\n",
    "df_compr.columns = ['train', 'test']\n",
    "plt.figure(figsize=(15, 8))\n",
    "plt.title('Распределение размера гранул сырья на грубой очистке', fontsize=20, pad=50.)\n",
    "sns.boxplot(data=df_compr)\n",
    "plt.show()"
   ]
  },
  {
   "cell_type": "code",
   "execution_count": 81,
   "metadata": {},
   "outputs": [
    {
     "data": {
      "image/png": "[encoded data removed]",
      "text/plain": [
       "<Figure size 1080x576 with 1 Axes>"
      ]
     },
     "metadata": {},
     "output_type": "display_data"
    }
   ],
   "source": [
    "df_compr_1 = pd.DataFrame(df_train['primary_cleaner.input.feed_size'])\n",
    "df_compr_1['test'] = df_test['primary_cleaner.input.feed_size']\n",
    "df_compr_1.columns = ['train', 'test']\n",
    "plt.figure(figsize=(15, 8))\n",
    "plt.title('Распределение размера гранул сырья на первичной очистке', fontsize=20, pad=50.)\n",
    "sns.boxplot(data=df_compr_1)\n",
    "plt.show()"
   ]
  },
  {
   "cell_type": "markdown",
   "metadata": {},
   "source": [
    "#### Промежуточный вывод"
   ]
  },
  {
   "cell_type": "markdown",
   "metadata": {},
   "source": [
    "Распределения в тренировочной и тестовой выборках лежат в сопоставимых пределах - это означает, что мы не должны приводить значения между выборками к единому масштабу, данные в этом плане готовы к обучению."
   ]
  },
  {
   "cell_type": "markdown",
   "metadata": {},
   "source": [
    "### Анализ суммарных концентраций веществ на разных стадиях очистки."
   ]
  },
  {
   "cell_type": "code",
   "execution_count": 82,
   "metadata": {},
   "outputs": [
    {
     "data": {
      "text/html": [
       "<div>\n",
       "<style scoped>\n",
       "    .dataframe tbody tr th:only-of-type {\n",
       "        vertical-align: middle;\n",
       "    }\n",
       "\n",
       "    .dataframe tbody tr th {\n",
       "        vertical-align: top;\n",
       "    }\n",
       "\n",
       "    .dataframe thead th {\n",
       "        text-align: right;\n",
       "    }\n",
       "</style>\n",
       "<table border=\"1\" class=\"dataframe\">\n",
       "  <thead>\n",
       "    <tr style=\"text-align: right;\">\n",
       "      <th></th>\n",
       "      <th>rougher input</th>\n",
       "      <th>rougher output</th>\n",
       "      <th>final</th>\n",
       "    </tr>\n",
       "  </thead>\n",
       "  <tbody>\n",
       "    <tr>\n",
       "      <th>0</th>\n",
       "      <td>51.680034</td>\n",
       "      <td>66.424950</td>\n",
       "      <td>63.644396</td>\n",
       "    </tr>\n",
       "    <tr>\n",
       "      <th>1</th>\n",
       "      <td>50.659114</td>\n",
       "      <td>67.012710</td>\n",
       "      <td>63.957723</td>\n",
       "    </tr>\n",
       "    <tr>\n",
       "      <th>2</th>\n",
       "      <td>50.609929</td>\n",
       "      <td>66.103793</td>\n",
       "      <td>64.311180</td>\n",
       "    </tr>\n",
       "    <tr>\n",
       "      <th>3</th>\n",
       "      <td>51.061546</td>\n",
       "      <td>65.752751</td>\n",
       "      <td>63.573449</td>\n",
       "    </tr>\n",
       "    <tr>\n",
       "      <th>4</th>\n",
       "      <td>47.859163</td>\n",
       "      <td>65.908382</td>\n",
       "      <td>64.004667</td>\n",
       "    </tr>\n",
       "    <tr>\n",
       "      <th>...</th>\n",
       "      <td>...</td>\n",
       "      <td>...</td>\n",
       "      <td>...</td>\n",
       "    </tr>\n",
       "    <tr>\n",
       "      <th>19434</th>\n",
       "      <td>53.415050</td>\n",
       "      <td>70.781325</td>\n",
       "      <td>68.098589</td>\n",
       "    </tr>\n",
       "    <tr>\n",
       "      <th>19435</th>\n",
       "      <td>53.696482</td>\n",
       "      <td>70.539603</td>\n",
       "      <td>68.274362</td>\n",
       "    </tr>\n",
       "    <tr>\n",
       "      <th>19436</th>\n",
       "      <td>54.589604</td>\n",
       "      <td>55.376330</td>\n",
       "      <td>68.226068</td>\n",
       "    </tr>\n",
       "    <tr>\n",
       "      <th>19437</th>\n",
       "      <td>54.027355</td>\n",
       "      <td>69.201689</td>\n",
       "      <td>68.200449</td>\n",
       "    </tr>\n",
       "    <tr>\n",
       "      <th>19438</th>\n",
       "      <td>53.535054</td>\n",
       "      <td>69.544003</td>\n",
       "      <td>68.353154</td>\n",
       "    </tr>\n",
       "  </tbody>\n",
       "</table>\n",
       "<p>19439 rows × 3 columns</p>\n",
       "</div>"
      ],
      "text/plain": [
       "       rougher input  rougher output      final\n",
       "0          51.680034       66.424950  63.644396\n",
       "1          50.659114       67.012710  63.957723\n",
       "2          50.609929       66.103793  64.311180\n",
       "3          51.061546       65.752751  63.573449\n",
       "4          47.859163       65.908382  64.004667\n",
       "...              ...             ...        ...\n",
       "19434      53.415050       70.781325  68.098589\n",
       "19435      53.696482       70.539603  68.274362\n",
       "19436      54.589604       55.376330  68.226068\n",
       "19437      54.027355       69.201689  68.200449\n",
       "19438      53.535054       69.544003  68.353154\n",
       "\n",
       "[19439 rows x 3 columns]"
      ]
     },
     "execution_count": 82,
     "metadata": {},
     "output_type": "execute_result"
    }
   ],
   "source": [
    "df_summary_concentrations = pd.DataFrame(data=df_full['rougher.input.feed_ag'] + \n",
    "                                  df_full['rougher.input.feed_sol'] + \n",
    "                                 df_full['rougher.input.feed_pb'] + \n",
    "                                 df_full['rougher.input.feed_au']   \n",
    "                                 )\n",
    "\n",
    "df_summary_concentrations['1']= (df_full['rougher.output.concentrate_ag'] + \n",
    "                                df_full['rougher.output.concentrate_sol'] + \n",
    "                                df_full['rougher.output.concentrate_pb'] + \n",
    "                                df_full['rougher.output.concentrate_au']\n",
    "                                )\n",
    "\n",
    "df_summary_concentrations['2'] = (df_full['final.output.concentrate_ag'] + \n",
    "                                    df_full['final.output.concentrate_sol'] + \n",
    "                                    df_full['final.output.concentrate_pb'] + \n",
    "                                    df_full['final.output.concentrate_au']\n",
    "                                    )\n",
    "\n",
    "df_summary_concentrations.columns = ['rougher input', 'rougher output', 'final']\n",
    "df_summary_concentrations                                             "
   ]
  },
  {
   "cell_type": "code",
   "execution_count": 83,
   "metadata": {
    "scrolled": false
   },
   "outputs": [
    {
     "data": {
      "image/png": "[encoded data removed]",
      "text/plain": [
       "<Figure size 1080x576 with 1 Axes>"
      ]
     },
     "metadata": {},
     "output_type": "display_data"
    }
   ],
   "source": [
    "plt.figure(figsize=(15, 8))\n",
    "plt.title('Суммарные концентрации веществ', fontsize=20, pad=50.)\n",
    "[sns.kdeplot(df_summary_concentrations[x], shade=True) for x in df_summary_concentrations.columns]\n",
    "plt.xlabel('Значения концентрации')\n",
    "plt.legend(df_summary_concentrations.columns, loc='upper left')\n",
    "plt.show()"
   ]
  },
  {
   "cell_type": "markdown",
   "metadata": {},
   "source": [
    "#### Промежуточный вывод"
   ]
  },
  {
   "cell_type": "markdown",
   "metadata": {},
   "source": [
    "По мере прохождения разных стадий руда очищается от примесей, тем самым повышая концентрацию металлов, содержащихся в ней. Это демострируется на графике. Также можно отметить на графике нулевые значения концентрации - скорее всего в данных есть информация о неудавшихся процедурах очистки, приведшей к нулевой концентрации веществ."
   ]
  },
  {
   "cell_type": "code",
   "execution_count": 85,
   "metadata": {},
   "outputs": [],
   "source": [
    "idx = list(df_full.loc[(df_full['rougher.output.concentrate_ag'] == 0) |\n",
    "            (df_full['rougher.output.concentrate_sol'] == 0) |\n",
    "            (df_full['rougher.output.concentrate_pb'] == 0) |\n",
    "            (df_full['rougher.output.concentrate_au'] == 0) | \n",
    "           (df_full['final.output.concentrate_ag'] == 0) |\n",
    "            (df_full['final.output.concentrate_sol'] == 0) |\n",
    "            (df_full['final.output.concentrate_pb'] == 0) |\n",
    "            (df_full['final.output.concentrate_au'] == 0)]['date'])"
   ]
  },
  {
   "cell_type": "code",
   "execution_count": 86,
   "metadata": {},
   "outputs": [
    {
     "data": {
      "text/plain": [
       "((14149, 55), (5290, 53))"
      ]
     },
     "execution_count": 86,
     "metadata": {},
     "output_type": "execute_result"
    }
   ],
   "source": [
    "df_train.shape, df_test.shape"
   ]
  },
  {
   "cell_type": "code",
   "execution_count": 87,
   "metadata": {},
   "outputs": [],
   "source": [
    "for i in range(0, len(idx)):\n",
    "    if idx[i] in list(df_train['date']):\n",
    "        df_train.drop(df_train.loc[df_train['date'] == idx[i]].index, axis=0, inplace=True)\n",
    "        \n",
    "for i in range(0, len(idx)):\n",
    "    if idx[i] in list(df_test['date']):\n",
    "        df_test.drop(df_test.loc[df_test['date'] == idx[i]].index, axis=0, inplace=True)"
   ]
  },
  {
   "cell_type": "code",
   "execution_count": 88,
   "metadata": {
    "scrolled": true
   },
   "outputs": [
    {
     "data": {
      "text/plain": [
       "((13795, 55), (5154, 53))"
      ]
     },
     "execution_count": 88,
     "metadata": {},
     "output_type": "execute_result"
    }
   ],
   "source": [
    "df_train.shape, df_test.shape"
   ]
  },
  {
   "cell_type": "markdown",
   "metadata": {},
   "source": [
    "## Модель"
   ]
  },
  {
   "cell_type": "markdown",
   "metadata": {},
   "source": [
    "Определим модели, которые будем использовать при обучении. Для этого узнаем, что из себя представляет целевой признак."
   ]
  },
  {
   "cell_type": "code",
   "execution_count": 89,
   "metadata": {},
   "outputs": [
    {
     "data": {
      "text/html": [
       "<div>\n",
       "<style scoped>\n",
       "    .dataframe tbody tr th:only-of-type {\n",
       "        vertical-align: middle;\n",
       "    }\n",
       "\n",
       "    .dataframe tbody tr th {\n",
       "        vertical-align: top;\n",
       "    }\n",
       "\n",
       "    .dataframe thead th {\n",
       "        text-align: right;\n",
       "    }\n",
       "</style>\n",
       "<table border=\"1\" class=\"dataframe\">\n",
       "  <thead>\n",
       "    <tr style=\"text-align: right;\">\n",
       "      <th></th>\n",
       "      <th>final.output.recovery</th>\n",
       "      <th>rougher.output.recovery</th>\n",
       "    </tr>\n",
       "  </thead>\n",
       "  <tbody>\n",
       "    <tr>\n",
       "      <th>count</th>\n",
       "      <td>13795.000000</td>\n",
       "      <td>13795.000000</td>\n",
       "    </tr>\n",
       "    <tr>\n",
       "      <th>mean</th>\n",
       "      <td>66.829637</td>\n",
       "      <td>84.505005</td>\n",
       "    </tr>\n",
       "    <tr>\n",
       "      <th>std</th>\n",
       "      <td>9.349648</td>\n",
       "      <td>7.984405</td>\n",
       "    </tr>\n",
       "    <tr>\n",
       "      <th>min</th>\n",
       "      <td>0.168611</td>\n",
       "      <td>2.520854</td>\n",
       "    </tr>\n",
       "    <tr>\n",
       "      <th>25%</th>\n",
       "      <td>62.745319</td>\n",
       "      <td>80.374115</td>\n",
       "    </tr>\n",
       "    <tr>\n",
       "      <th>50%</th>\n",
       "      <td>67.476794</td>\n",
       "      <td>85.518252</td>\n",
       "    </tr>\n",
       "    <tr>\n",
       "      <th>75%</th>\n",
       "      <td>72.375516</td>\n",
       "      <td>90.289513</td>\n",
       "    </tr>\n",
       "    <tr>\n",
       "      <th>max</th>\n",
       "      <td>100.000000</td>\n",
       "      <td>100.000000</td>\n",
       "    </tr>\n",
       "  </tbody>\n",
       "</table>\n",
       "</div>"
      ],
      "text/plain": [
       "       final.output.recovery  rougher.output.recovery\n",
       "count           13795.000000             13795.000000\n",
       "mean               66.829637                84.505005\n",
       "std                 9.349648                 7.984405\n",
       "min                 0.168611                 2.520854\n",
       "25%                62.745319                80.374115\n",
       "50%                67.476794                85.518252\n",
       "75%                72.375516                90.289513\n",
       "max               100.000000               100.000000"
      ]
     },
     "execution_count": 89,
     "metadata": {},
     "output_type": "execute_result"
    }
   ],
   "source": [
    "df_train[['final.output.recovery', 'rougher.output.recovery']].describe()"
   ]
  },
  {
   "cell_type": "code",
   "execution_count": 90,
   "metadata": {
    "scrolled": true
   },
   "outputs": [
    {
     "data": {
      "image/png": "[encoded data removed]",
      "text/plain": [
       "<Figure size 720x360 with 1 Axes>"
      ]
     },
     "metadata": {},
     "output_type": "display_data"
    }
   ],
   "source": [
    "plt.figure(figsize=(10, 5))\n",
    "sns.scatterplot(data=df_train['final.output.recovery'])\n",
    "plt.show()"
   ]
  },
  {
   "cell_type": "code",
   "execution_count": 91,
   "metadata": {},
   "outputs": [
    {
     "data": {
      "image/png": "[encoded data removed]",
      "text/plain": [
       "<Figure size 720x360 with 1 Axes>"
      ]
     },
     "metadata": {},
     "output_type": "display_data"
    }
   ],
   "source": [
    "plt.figure(figsize=(10, 5))\n",
    "sns.scatterplot(data=df_train['rougher.output.recovery'])\n",
    "plt.show()"
   ]
  },
  {
   "cell_type": "markdown",
   "metadata": {},
   "source": [
    "Целевые признаки - непрерывные числовые величины. Рассеяние значений внешне можно оценить так, что она имеет некую линейную зависимость. При этом оценить коллинеарность признаков при их не малом количестве не просто. Поэтому воспользуемся следующими моделями - Линейная регрессия, случайный лес,  Ridge (на случай, если признаки все же имеют проблему мультиколлинеарности)"
   ]
  },
  {
   "cell_type": "markdown",
   "metadata": {},
   "source": [
    "### Построение конвейеров"
   ]
  },
  {
   "cell_type": "markdown",
   "metadata": {},
   "source": [
    "Линейная регрессия."
   ]
  },
  {
   "cell_type": "code",
   "execution_count": null,
   "metadata": {},
   "outputs": [],
   "source": [
    "pipe_LR = Pipeline([('minmaxscaler', MinMaxScaler(feature_range=(0, 1))),\n",
    "                   ('LRegression', LinearRegression())])\n",
    "\n",
    "pipe_LR"
   ]
  },
  {
   "cell_type": "markdown",
   "metadata": {},
   "source": [
    "Случайный лес."
   ]
  },
  {
   "cell_type": "code",
   "execution_count": null,
   "metadata": {},
   "outputs": [],
   "source": [
    "pipe_RF = Pipeline(steps=[('minmaxscaler', MinMaxScaler(feature_range=(0, 1))),\n",
    "                   ('rfregressor', RandomForestRegressor(random_state=12345))])\n",
    "pipe_RF"
   ]
  },
  {
   "cell_type": "markdown",
   "metadata": {},
   "source": [
    "Гребневая (Ridge) регрессия."
   ]
  },
  {
   "cell_type": "code",
   "execution_count": 95,
   "metadata": {
    "scrolled": true
   },
   "outputs": [
    {
     "data": {
      "text/html": [
       "<style>#sk-container-id-7 {color: black;background-color: white;}#sk-container-id-7 pre{padding: 0;}#sk-container-id-7 div.sk-toggleable {background-color: white;}#sk-container-id-7 label.sk-toggleable__label {cursor: pointer;display: block;width: 100%;margin-bottom: 0;padding: 0.3em;box-sizing: border-box;text-align: center;}#sk-container-id-7 label.sk-toggleable__label-arrow:before {content: \"▸\";float: left;margin-right: 0.25em;color: #696969;}#sk-container-id-7 label.sk-toggleable__label-arrow:hover:before {color: black;}#sk-container-id-7 div.sk-estimator:hover label.sk-toggleable__label-arrow:before {color: black;}#sk-container-id-7 div.sk-toggleable__content {max-height: 0;max-width: 0;overflow: hidden;text-align: left;background-color: #f0f8ff;}#sk-container-id-7 div.sk-toggleable__content pre {margin: 0.2em;color: black;border-radius: 0.25em;background-color: #f0f8ff;}#sk-container-id-7 input.sk-toggleable__control:checked~div.sk-toggleable__content {max-height: 200px;max-width: 100%;overflow: auto;}#sk-container-id-7 input.sk-toggleable__control:checked~label.sk-toggleable__label-arrow:before {content: \"▾\";}#sk-container-id-7 div.sk-estimator input.sk-toggleable__control:checked~label.sk-toggleable__label {background-color: #d4ebff;}#sk-container-id-7 div.sk-label input.sk-toggleable__control:checked~label.sk-toggleable__label {background-color: #d4ebff;}#sk-container-id-7 input.sk-hidden--visually {border: 0;clip: rect(1px 1px 1px 1px);clip: rect(1px, 1px, 1px, 1px);height: 1px;margin: -1px;overflow: hidden;padding: 0;position: absolute;width: 1px;}#sk-container-id-7 div.sk-estimator {font-family: monospace;background-color: #f0f8ff;border: 1px dotted black;border-radius: 0.25em;box-sizing: border-box;margin-bottom: 0.5em;}#sk-container-id-7 div.sk-estimator:hover {background-color: #d4ebff;}#sk-container-id-7 div.sk-parallel-item::after {content: \"\";width: 100%;border-bottom: 1px solid gray;flex-grow: 1;}#sk-container-id-7 div.sk-label:hover label.sk-toggleable__label {background-color: #d4ebff;}#sk-container-id-7 div.sk-serial::before {content: \"\";position: absolute;border-left: 1px solid gray;box-sizing: border-box;top: 0;bottom: 0;left: 50%;z-index: 0;}#sk-container-id-7 div.sk-serial {display: flex;flex-direction: column;align-items: center;background-color: white;padding-right: 0.2em;padding-left: 0.2em;position: relative;}#sk-container-id-7 div.sk-item {position: relative;z-index: 1;}#sk-container-id-7 div.sk-parallel {display: flex;align-items: stretch;justify-content: center;background-color: white;position: relative;}#sk-container-id-7 div.sk-item::before, #sk-container-id-7 div.sk-parallel-item::before {content: \"\";position: absolute;border-left: 1px solid gray;box-sizing: border-box;top: 0;bottom: 0;left: 50%;z-index: -1;}#sk-container-id-7 div.sk-parallel-item {display: flex;flex-direction: column;z-index: 1;position: relative;background-color: white;}#sk-container-id-7 div.sk-parallel-item:first-child::after {align-self: flex-end;width: 50%;}#sk-container-id-7 div.sk-parallel-item:last-child::after {align-self: flex-start;width: 50%;}#sk-container-id-7 div.sk-parallel-item:only-child::after {width: 0;}#sk-container-id-7 div.sk-dashed-wrapped {border: 1px dashed gray;margin: 0 0.4em 0.5em 0.4em;box-sizing: border-box;padding-bottom: 0.4em;background-color: white;}#sk-container-id-7 div.sk-label label {font-family: monospace;font-weight: bold;display: inline-block;line-height: 1.2em;}#sk-container-id-7 div.sk-label-container {text-align: center;}#sk-container-id-7 div.sk-container {/* jupyter's `normalize.less` sets `[hidden] { display: none; }` but bootstrap.min.css set `[hidden] { display: none !important; }` so we also need the `!important` here to be able to override the default hidden behavior on the sphinx rendered scikit-learn.org. See: https://github.com/scikit-learn/scikit-learn/issues/21755 */display: inline-block !important;position: relative;}#sk-container-id-7 div.sk-text-repr-fallback {display: none;}</style><div id=\"sk-container-id-7\" class=\"sk-top-container\"><div class=\"sk-text-repr-fallback\"><pre>Pipeline(steps=[(&#x27;minmaxscaler&#x27;, MinMaxScaler()), (&#x27;norma&#x27;, Normalizer()),\n",
       "                (&#x27;ridge&#x27;, Ridge(random_state=12345))])</pre><b>In a Jupyter environment, please rerun this cell to show the HTML representation or trust the notebook. <br />On GitHub, the HTML representation is unable to render, please try loading this page with nbviewer.org.</b></div><div class=\"sk-container\" hidden><div class=\"sk-item sk-dashed-wrapped\"><div class=\"sk-label-container\"><div class=\"sk-label sk-toggleable\"><input class=\"sk-toggleable__control sk-hidden--visually\" id=\"sk-estimator-id-27\" type=\"checkbox\" ><label for=\"sk-estimator-id-27\" class=\"sk-toggleable__label sk-toggleable__label-arrow\">Pipeline</label><div class=\"sk-toggleable__content\"><pre>Pipeline(steps=[(&#x27;minmaxscaler&#x27;, MinMaxScaler()), (&#x27;norma&#x27;, Normalizer()),\n",
       "                (&#x27;ridge&#x27;, Ridge(random_state=12345))])</pre></div></div></div><div class=\"sk-serial\"><div class=\"sk-item\"><div class=\"sk-estimator sk-toggleable\"><input class=\"sk-toggleable__control sk-hidden--visually\" id=\"sk-estimator-id-28\" type=\"checkbox\" ><label for=\"sk-estimator-id-28\" class=\"sk-toggleable__label sk-toggleable__label-arrow\">MinMaxScaler</label><div class=\"sk-toggleable__content\"><pre>MinMaxScaler()</pre></div></div></div><div class=\"sk-item\"><div class=\"sk-estimator sk-toggleable\"><input class=\"sk-toggleable__control sk-hidden--visually\" id=\"sk-estimator-id-29\" type=\"checkbox\" ><label for=\"sk-estimator-id-29\" class=\"sk-toggleable__label sk-toggleable__label-arrow\">Normalizer</label><div class=\"sk-toggleable__content\"><pre>Normalizer()</pre></div></div></div><div class=\"sk-item\"><div class=\"sk-estimator sk-toggleable\"><input class=\"sk-toggleable__control sk-hidden--visually\" id=\"sk-estimator-id-30\" type=\"checkbox\" ><label for=\"sk-estimator-id-30\" class=\"sk-toggleable__label sk-toggleable__label-arrow\">Ridge</label><div class=\"sk-toggleable__content\"><pre>Ridge(random_state=12345)</pre></div></div></div></div></div></div></div>"
      ],
      "text/plain": [
       "Pipeline(steps=[('minmaxscaler', MinMaxScaler()), ('norma', Normalizer()),\n",
       "                ('ridge', Ridge(random_state=12345))])"
      ]
     },
     "execution_count": 95,
     "metadata": {},
     "output_type": "execute_result"
    }
   ],
   "source": [
    "pipe_Ridge = Pipeline(steps=[('minmaxscaler', MinMaxScaler(feature_range=(0, 1))),\n",
    "                   ('norma', Normalizer(norm='l2')),\n",
    "                   ('ridge', Ridge(random_state=12345))])\n",
    "pipe_Ridge"
   ]
  },
  {
   "cell_type": "markdown",
   "metadata": {},
   "source": [
    "### Разделение признаков"
   ]
  },
  {
   "cell_type": "code",
   "execution_count": 96,
   "metadata": {},
   "outputs": [],
   "source": [
    "features_train = df_train.drop(['final.output.recovery', 'rougher.output.recovery', 'date'], axis=1)\n",
    "target_train = df_train[['final.output.recovery', 'rougher.output.recovery']]"
   ]
  },
  {
   "cell_type": "markdown",
   "metadata": {},
   "source": [
    "### Обучение линейной регрессии."
   ]
  },
  {
   "cell_type": "code",
   "execution_count": 99,
   "metadata": {
    "scrolled": false
   },
   "outputs": [
    {
     "data": {
      "text/html": [
       "<style>#sk-container-id-10 {color: black;background-color: white;}#sk-container-id-10 pre{padding: 0;}#sk-container-id-10 div.sk-toggleable {background-color: white;}#sk-container-id-10 label.sk-toggleable__label {cursor: pointer;display: block;width: 100%;margin-bottom: 0;padding: 0.3em;box-sizing: border-box;text-align: center;}#sk-container-id-10 label.sk-toggleable__label-arrow:before {content: \"▸\";float: left;margin-right: 0.25em;color: #696969;}#sk-container-id-10 label.sk-toggleable__label-arrow:hover:before {color: black;}#sk-container-id-10 div.sk-estimator:hover label.sk-toggleable__label-arrow:before {color: black;}#sk-container-id-10 div.sk-toggleable__content {max-height: 0;max-width: 0;overflow: hidden;text-align: left;background-color: #f0f8ff;}#sk-container-id-10 div.sk-toggleable__content pre {margin: 0.2em;color: black;border-radius: 0.25em;background-color: #f0f8ff;}#sk-container-id-10 input.sk-toggleable__control:checked~div.sk-toggleable__content {max-height: 200px;max-width: 100%;overflow: auto;}#sk-container-id-10 input.sk-toggleable__control:checked~label.sk-toggleable__label-arrow:before {content: \"▾\";}#sk-container-id-10 div.sk-estimator input.sk-toggleable__control:checked~label.sk-toggleable__label {background-color: #d4ebff;}#sk-container-id-10 div.sk-label input.sk-toggleable__control:checked~label.sk-toggleable__label {background-color: #d4ebff;}#sk-container-id-10 input.sk-hidden--visually {border: 0;clip: rect(1px 1px 1px 1px);clip: rect(1px, 1px, 1px, 1px);height: 1px;margin: -1px;overflow: hidden;padding: 0;position: absolute;width: 1px;}#sk-container-id-10 div.sk-estimator {font-family: monospace;background-color: #f0f8ff;border: 1px dotted black;border-radius: 0.25em;box-sizing: border-box;margin-bottom: 0.5em;}#sk-container-id-10 div.sk-estimator:hover {background-color: #d4ebff;}#sk-container-id-10 div.sk-parallel-item::after {content: \"\";width: 100%;border-bottom: 1px solid gray;flex-grow: 1;}#sk-container-id-10 div.sk-label:hover label.sk-toggleable__label {background-color: #d4ebff;}#sk-container-id-10 div.sk-serial::before {content: \"\";position: absolute;border-left: 1px solid gray;box-sizing: border-box;top: 0;bottom: 0;left: 50%;z-index: 0;}#sk-container-id-10 div.sk-serial {display: flex;flex-direction: column;align-items: center;background-color: white;padding-right: 0.2em;padding-left: 0.2em;position: relative;}#sk-container-id-10 div.sk-item {position: relative;z-index: 1;}#sk-container-id-10 div.sk-parallel {display: flex;align-items: stretch;justify-content: center;background-color: white;position: relative;}#sk-container-id-10 div.sk-item::before, #sk-container-id-10 div.sk-parallel-item::before {content: \"\";position: absolute;border-left: 1px solid gray;box-sizing: border-box;top: 0;bottom: 0;left: 50%;z-index: -1;}#sk-container-id-10 div.sk-parallel-item {display: flex;flex-direction: column;z-index: 1;position: relative;background-color: white;}#sk-container-id-10 div.sk-parallel-item:first-child::after {align-self: flex-end;width: 50%;}#sk-container-id-10 div.sk-parallel-item:last-child::after {align-self: flex-start;width: 50%;}#sk-container-id-10 div.sk-parallel-item:only-child::after {width: 0;}#sk-container-id-10 div.sk-dashed-wrapped {border: 1px dashed gray;margin: 0 0.4em 0.5em 0.4em;box-sizing: border-box;padding-bottom: 0.4em;background-color: white;}#sk-container-id-10 div.sk-label label {font-family: monospace;font-weight: bold;display: inline-block;line-height: 1.2em;}#sk-container-id-10 div.sk-label-container {text-align: center;}#sk-container-id-10 div.sk-container {/* jupyter's `normalize.less` sets `[hidden] { display: none; }` but bootstrap.min.css set `[hidden] { display: none !important; }` so we also need the `!important` here to be able to override the default hidden behavior on the sphinx rendered scikit-learn.org. See: https://github.com/scikit-learn/scikit-learn/issues/21755 */display: inline-block !important;position: relative;}#sk-container-id-10 div.sk-text-repr-fallback {display: none;}</style><div id=\"sk-container-id-10\" class=\"sk-top-container\"><div class=\"sk-text-repr-fallback\"><pre>Pipeline(steps=[(&#x27;minmaxscaler&#x27;, MinMaxScaler()),\n",
       "                (&#x27;stscaler&#x27;, StandardScaler()),\n",
       "                (&#x27;LRegression&#x27;, LinearRegression())])</pre><b>In a Jupyter environment, please rerun this cell to show the HTML representation or trust the notebook. <br />On GitHub, the HTML representation is unable to render, please try loading this page with nbviewer.org.</b></div><div class=\"sk-container\" hidden><div class=\"sk-item sk-dashed-wrapped\"><div class=\"sk-label-container\"><div class=\"sk-label sk-toggleable\"><input class=\"sk-toggleable__control sk-hidden--visually\" id=\"sk-estimator-id-40\" type=\"checkbox\" ><label for=\"sk-estimator-id-40\" class=\"sk-toggleable__label sk-toggleable__label-arrow\">Pipeline</label><div class=\"sk-toggleable__content\"><pre>Pipeline(steps=[(&#x27;minmaxscaler&#x27;, MinMaxScaler()),\n",
       "                (&#x27;stscaler&#x27;, StandardScaler()),\n",
       "                (&#x27;LRegression&#x27;, LinearRegression())])</pre></div></div></div><div class=\"sk-serial\"><div class=\"sk-item\"><div class=\"sk-estimator sk-toggleable\"><input class=\"sk-toggleable__control sk-hidden--visually\" id=\"sk-estimator-id-41\" type=\"checkbox\" ><label for=\"sk-estimator-id-41\" class=\"sk-toggleable__label sk-toggleable__label-arrow\">MinMaxScaler</label><div class=\"sk-toggleable__content\"><pre>MinMaxScaler()</pre></div></div></div><div class=\"sk-item\"><div class=\"sk-estimator sk-toggleable\"><input class=\"sk-toggleable__control sk-hidden--visually\" id=\"sk-estimator-id-42\" type=\"checkbox\" ><label for=\"sk-estimator-id-42\" class=\"sk-toggleable__label sk-toggleable__label-arrow\">StandardScaler</label><div class=\"sk-toggleable__content\"><pre>StandardScaler()</pre></div></div></div><div class=\"sk-item\"><div class=\"sk-estimator sk-toggleable\"><input class=\"sk-toggleable__control sk-hidden--visually\" id=\"sk-estimator-id-43\" type=\"checkbox\" ><label for=\"sk-estimator-id-43\" class=\"sk-toggleable__label sk-toggleable__label-arrow\">LinearRegression</label><div class=\"sk-toggleable__content\"><pre>LinearRegression()</pre></div></div></div></div></div></div></div>"
      ],
      "text/plain": [
       "Pipeline(steps=[('minmaxscaler', MinMaxScaler()),\n",
       "                ('stscaler', StandardScaler()),\n",
       "                ('LRegression', LinearRegression())])"
      ]
     },
     "execution_count": 99,
     "metadata": {},
     "output_type": "execute_result"
    }
   ],
   "source": [
    "pipe_LR.fit(features_train, target_train)"
   ]
  },
  {
   "cell_type": "code",
   "execution_count": 100,
   "metadata": {},
   "outputs": [],
   "source": [
    "sMAPE_loss = make_scorer(sMAPE, greater_is_better=False)"
   ]
  },
  {
   "cell_type": "code",
   "execution_count": 101,
   "metadata": {
    "scrolled": true
   },
   "outputs": [
    {
     "data": {
      "text/plain": [
       "array([-12.18766934,  -8.82700893,  -8.47113559,  -8.16452608,\n",
       "       -12.64767041])"
      ]
     },
     "execution_count": 101,
     "metadata": {},
     "output_type": "execute_result"
    }
   ],
   "source": [
    "score_LR = cross_val_score(pipe_LR, features_train, target_train, cv=5, scoring=sMAPE_loss)\n",
    "score_LR"
   ]
  },
  {
   "cell_type": "markdown",
   "metadata": {},
   "source": [
    "### Обучение случайного леса."
   ]
  },
  {
   "cell_type": "markdown",
   "metadata": {},
   "source": [
    "Обучение случайного леса проведем через перебор гиперпараметров RandomizedSearchCV для поиска наилучшего варианта."
   ]
  },
  {
   "cell_type": "code",
   "execution_count": 102,
   "metadata": {},
   "outputs": [
    {
     "name": "stdout",
     "output_type": "stream",
     "text": [
      "CPU times: user 33min 31s, sys: 4.25 s, total: 33min 35s\n",
      "Wall time: 33min 36s\n"
     ]
    },
    {
     "data": {
      "text/html": [
       "<style>#sk-container-id-11 {color: black;background-color: white;}#sk-container-id-11 pre{padding: 0;}#sk-container-id-11 div.sk-toggleable {background-color: white;}#sk-container-id-11 label.sk-toggleable__label {cursor: pointer;display: block;width: 100%;margin-bottom: 0;padding: 0.3em;box-sizing: border-box;text-align: center;}#sk-container-id-11 label.sk-toggleable__label-arrow:before {content: \"▸\";float: left;margin-right: 0.25em;color: #696969;}#sk-container-id-11 label.sk-toggleable__label-arrow:hover:before {color: black;}#sk-container-id-11 div.sk-estimator:hover label.sk-toggleable__label-arrow:before {color: black;}#sk-container-id-11 div.sk-toggleable__content {max-height: 0;max-width: 0;overflow: hidden;text-align: left;background-color: #f0f8ff;}#sk-container-id-11 div.sk-toggleable__content pre {margin: 0.2em;color: black;border-radius: 0.25em;background-color: #f0f8ff;}#sk-container-id-11 input.sk-toggleable__control:checked~div.sk-toggleable__content {max-height: 200px;max-width: 100%;overflow: auto;}#sk-container-id-11 input.sk-toggleable__control:checked~label.sk-toggleable__label-arrow:before {content: \"▾\";}#sk-container-id-11 div.sk-estimator input.sk-toggleable__control:checked~label.sk-toggleable__label {background-color: #d4ebff;}#sk-container-id-11 div.sk-label input.sk-toggleable__control:checked~label.sk-toggleable__label {background-color: #d4ebff;}#sk-container-id-11 input.sk-hidden--visually {border: 0;clip: rect(1px 1px 1px 1px);clip: rect(1px, 1px, 1px, 1px);height: 1px;margin: -1px;overflow: hidden;padding: 0;position: absolute;width: 1px;}#sk-container-id-11 div.sk-estimator {font-family: monospace;background-color: #f0f8ff;border: 1px dotted black;border-radius: 0.25em;box-sizing: border-box;margin-bottom: 0.5em;}#sk-container-id-11 div.sk-estimator:hover {background-color: #d4ebff;}#sk-container-id-11 div.sk-parallel-item::after {content: \"\";width: 100%;border-bottom: 1px solid gray;flex-grow: 1;}#sk-container-id-11 div.sk-label:hover label.sk-toggleable__label {background-color: #d4ebff;}#sk-container-id-11 div.sk-serial::before {content: \"\";position: absolute;border-left: 1px solid gray;box-sizing: border-box;top: 0;bottom: 0;left: 50%;z-index: 0;}#sk-container-id-11 div.sk-serial {display: flex;flex-direction: column;align-items: center;background-color: white;padding-right: 0.2em;padding-left: 0.2em;position: relative;}#sk-container-id-11 div.sk-item {position: relative;z-index: 1;}#sk-container-id-11 div.sk-parallel {display: flex;align-items: stretch;justify-content: center;background-color: white;position: relative;}#sk-container-id-11 div.sk-item::before, #sk-container-id-11 div.sk-parallel-item::before {content: \"\";position: absolute;border-left: 1px solid gray;box-sizing: border-box;top: 0;bottom: 0;left: 50%;z-index: -1;}#sk-container-id-11 div.sk-parallel-item {display: flex;flex-direction: column;z-index: 1;position: relative;background-color: white;}#sk-container-id-11 div.sk-parallel-item:first-child::after {align-self: flex-end;width: 50%;}#sk-container-id-11 div.sk-parallel-item:last-child::after {align-self: flex-start;width: 50%;}#sk-container-id-11 div.sk-parallel-item:only-child::after {width: 0;}#sk-container-id-11 div.sk-dashed-wrapped {border: 1px dashed gray;margin: 0 0.4em 0.5em 0.4em;box-sizing: border-box;padding-bottom: 0.4em;background-color: white;}#sk-container-id-11 div.sk-label label {font-family: monospace;font-weight: bold;display: inline-block;line-height: 1.2em;}#sk-container-id-11 div.sk-label-container {text-align: center;}#sk-container-id-11 div.sk-container {/* jupyter's `normalize.less` sets `[hidden] { display: none; }` but bootstrap.min.css set `[hidden] { display: none !important; }` so we also need the `!important` here to be able to override the default hidden behavior on the sphinx rendered scikit-learn.org. See: https://github.com/scikit-learn/scikit-learn/issues/21755 */display: inline-block !important;position: relative;}#sk-container-id-11 div.sk-text-repr-fallback {display: none;}</style><div id=\"sk-container-id-11\" class=\"sk-top-container\"><div class=\"sk-text-repr-fallback\"><pre>RandomizedSearchCV(cv=3,\n",
       "                   estimator=Pipeline(steps=[(&#x27;minmaxscaler&#x27;, MinMaxScaler()),\n",
       "                                             (&#x27;stscaler&#x27;, StandardScaler()),\n",
       "                                             (&#x27;rfregressor&#x27;,\n",
       "                                              RandomForestRegressor(random_state=12345))]),\n",
       "                   n_iter=3,\n",
       "                   param_distributions={&#x27;rfregressor__max_depth&#x27;: range(1, 30, 2),\n",
       "                                        &#x27;rfregressor__n_estimators&#x27;: range(100, 1000, 100),\n",
       "                                        &#x27;rfregressor__random_state&#x27;: [12345]},\n",
       "                   scoring=make_scorer(sMAPE, greater_is_better=False))</pre><b>In a Jupyter environment, please rerun this cell to show the HTML representation or trust the notebook. <br />On GitHub, the HTML representation is unable to render, please try loading this page with nbviewer.org.</b></div><div class=\"sk-container\" hidden><div class=\"sk-item sk-dashed-wrapped\"><div class=\"sk-label-container\"><div class=\"sk-label sk-toggleable\"><input class=\"sk-toggleable__control sk-hidden--visually\" id=\"sk-estimator-id-44\" type=\"checkbox\" ><label for=\"sk-estimator-id-44\" class=\"sk-toggleable__label sk-toggleable__label-arrow\">RandomizedSearchCV</label><div class=\"sk-toggleable__content\"><pre>RandomizedSearchCV(cv=3,\n",
       "                   estimator=Pipeline(steps=[(&#x27;minmaxscaler&#x27;, MinMaxScaler()),\n",
       "                                             (&#x27;stscaler&#x27;, StandardScaler()),\n",
       "                                             (&#x27;rfregressor&#x27;,\n",
       "                                              RandomForestRegressor(random_state=12345))]),\n",
       "                   n_iter=3,\n",
       "                   param_distributions={&#x27;rfregressor__max_depth&#x27;: range(1, 30, 2),\n",
       "                                        &#x27;rfregressor__n_estimators&#x27;: range(100, 1000, 100),\n",
       "                                        &#x27;rfregressor__random_state&#x27;: [12345]},\n",
       "                   scoring=make_scorer(sMAPE, greater_is_better=False))</pre></div></div></div><div class=\"sk-parallel\"><div class=\"sk-parallel-item\"><div class=\"sk-item\"><div class=\"sk-label-container\"><div class=\"sk-label sk-toggleable\"><input class=\"sk-toggleable__control sk-hidden--visually\" id=\"sk-estimator-id-45\" type=\"checkbox\" ><label for=\"sk-estimator-id-45\" class=\"sk-toggleable__label sk-toggleable__label-arrow\">estimator: Pipeline</label><div class=\"sk-toggleable__content\"><pre>Pipeline(steps=[(&#x27;minmaxscaler&#x27;, MinMaxScaler()),\n",
       "                (&#x27;stscaler&#x27;, StandardScaler()),\n",
       "                (&#x27;rfregressor&#x27;, RandomForestRegressor(random_state=12345))])</pre></div></div></div><div class=\"sk-serial\"><div class=\"sk-item\"><div class=\"sk-serial\"><div class=\"sk-item\"><div class=\"sk-estimator sk-toggleable\"><input class=\"sk-toggleable__control sk-hidden--visually\" id=\"sk-estimator-id-46\" type=\"checkbox\" ><label for=\"sk-estimator-id-46\" class=\"sk-toggleable__label sk-toggleable__label-arrow\">MinMaxScaler</label><div class=\"sk-toggleable__content\"><pre>MinMaxScaler()</pre></div></div></div><div class=\"sk-item\"><div class=\"sk-estimator sk-toggleable\"><input class=\"sk-toggleable__control sk-hidden--visually\" id=\"sk-estimator-id-47\" type=\"checkbox\" ><label for=\"sk-estimator-id-47\" class=\"sk-toggleable__label sk-toggleable__label-arrow\">StandardScaler</label><div class=\"sk-toggleable__content\"><pre>StandardScaler()</pre></div></div></div><div class=\"sk-item\"><div class=\"sk-estimator sk-toggleable\"><input class=\"sk-toggleable__control sk-hidden--visually\" id=\"sk-estimator-id-48\" type=\"checkbox\" ><label for=\"sk-estimator-id-48\" class=\"sk-toggleable__label sk-toggleable__label-arrow\">RandomForestRegressor</label><div class=\"sk-toggleable__content\"><pre>RandomForestRegressor(random_state=12345)</pre></div></div></div></div></div></div></div></div></div></div></div></div>"
      ],
      "text/plain": [
       "RandomizedSearchCV(cv=3,\n",
       "                   estimator=Pipeline(steps=[('minmaxscaler', MinMaxScaler()),\n",
       "                                             ('stscaler', StandardScaler()),\n",
       "                                             ('rfregressor',\n",
       "                                              RandomForestRegressor(random_state=12345))]),\n",
       "                   n_iter=3,\n",
       "                   param_distributions={'rfregressor__max_depth': range(1, 30, 2),\n",
       "                                        'rfregressor__n_estimators': range(100, 1000, 100),\n",
       "                                        'rfregressor__random_state': [12345]},\n",
       "                   scoring=make_scorer(sMAPE, greater_is_better=False))"
      ]
     },
     "execution_count": 102,
     "metadata": {},
     "output_type": "execute_result"
    }
   ],
   "source": [
    "%%time\n",
    "\n",
    "param_rs = {'rfregressor__n_estimators' : range(100, 1000, 100), \n",
    "             'rfregressor__max_depth' : range(1,30,2), \n",
    "             'rfregressor__random_state' : [12345]\n",
    "            }\n",
    "RS_RF = RandomizedSearchCV(pipe_RF, param_rs, n_iter=3, cv=3, scoring=sMAPE_loss)\n",
    "RS_RF.fit(features_train, target_train)"
   ]
  },
  {
   "cell_type": "code",
   "execution_count": 104,
   "metadata": {},
   "outputs": [
    {
     "data": {
      "text/plain": [
       "{'rfregressor__random_state': 12345,\n",
       " 'rfregressor__n_estimators': 400,\n",
       " 'rfregressor__max_depth': 13}"
      ]
     },
     "execution_count": 104,
     "metadata": {},
     "output_type": "execute_result"
    }
   ],
   "source": [
    "RS_RF.best_params_"
   ]
  },
  {
   "cell_type": "code",
   "execution_count": 105,
   "metadata": {},
   "outputs": [
    {
     "data": {
      "text/plain": [
       "-10.203300328584541"
      ]
     },
     "execution_count": 105,
     "metadata": {},
     "output_type": "execute_result"
    }
   ],
   "source": [
    "RS_RF.best_score_"
   ]
  },
  {
   "cell_type": "markdown",
   "metadata": {},
   "source": [
    "### Обучение гребневой регрессии."
   ]
  },
  {
   "cell_type": "code",
   "execution_count": 106,
   "metadata": {
    "scrolled": true
   },
   "outputs": [
    {
     "data": {
      "text/html": [
       "<style>#sk-container-id-12 {color: black;background-color: white;}#sk-container-id-12 pre{padding: 0;}#sk-container-id-12 div.sk-toggleable {background-color: white;}#sk-container-id-12 label.sk-toggleable__label {cursor: pointer;display: block;width: 100%;margin-bottom: 0;padding: 0.3em;box-sizing: border-box;text-align: center;}#sk-container-id-12 label.sk-toggleable__label-arrow:before {content: \"▸\";float: left;margin-right: 0.25em;color: #696969;}#sk-container-id-12 label.sk-toggleable__label-arrow:hover:before {color: black;}#sk-container-id-12 div.sk-estimator:hover label.sk-toggleable__label-arrow:before {color: black;}#sk-container-id-12 div.sk-toggleable__content {max-height: 0;max-width: 0;overflow: hidden;text-align: left;background-color: #f0f8ff;}#sk-container-id-12 div.sk-toggleable__content pre {margin: 0.2em;color: black;border-radius: 0.25em;background-color: #f0f8ff;}#sk-container-id-12 input.sk-toggleable__control:checked~div.sk-toggleable__content {max-height: 200px;max-width: 100%;overflow: auto;}#sk-container-id-12 input.sk-toggleable__control:checked~label.sk-toggleable__label-arrow:before {content: \"▾\";}#sk-container-id-12 div.sk-estimator input.sk-toggleable__control:checked~label.sk-toggleable__label {background-color: #d4ebff;}#sk-container-id-12 div.sk-label input.sk-toggleable__control:checked~label.sk-toggleable__label {background-color: #d4ebff;}#sk-container-id-12 input.sk-hidden--visually {border: 0;clip: rect(1px 1px 1px 1px);clip: rect(1px, 1px, 1px, 1px);height: 1px;margin: -1px;overflow: hidden;padding: 0;position: absolute;width: 1px;}#sk-container-id-12 div.sk-estimator {font-family: monospace;background-color: #f0f8ff;border: 1px dotted black;border-radius: 0.25em;box-sizing: border-box;margin-bottom: 0.5em;}#sk-container-id-12 div.sk-estimator:hover {background-color: #d4ebff;}#sk-container-id-12 div.sk-parallel-item::after {content: \"\";width: 100%;border-bottom: 1px solid gray;flex-grow: 1;}#sk-container-id-12 div.sk-label:hover label.sk-toggleable__label {background-color: #d4ebff;}#sk-container-id-12 div.sk-serial::before {content: \"\";position: absolute;border-left: 1px solid gray;box-sizing: border-box;top: 0;bottom: 0;left: 50%;z-index: 0;}#sk-container-id-12 div.sk-serial {display: flex;flex-direction: column;align-items: center;background-color: white;padding-right: 0.2em;padding-left: 0.2em;position: relative;}#sk-container-id-12 div.sk-item {position: relative;z-index: 1;}#sk-container-id-12 div.sk-parallel {display: flex;align-items: stretch;justify-content: center;background-color: white;position: relative;}#sk-container-id-12 div.sk-item::before, #sk-container-id-12 div.sk-parallel-item::before {content: \"\";position: absolute;border-left: 1px solid gray;box-sizing: border-box;top: 0;bottom: 0;left: 50%;z-index: -1;}#sk-container-id-12 div.sk-parallel-item {display: flex;flex-direction: column;z-index: 1;position: relative;background-color: white;}#sk-container-id-12 div.sk-parallel-item:first-child::after {align-self: flex-end;width: 50%;}#sk-container-id-12 div.sk-parallel-item:last-child::after {align-self: flex-start;width: 50%;}#sk-container-id-12 div.sk-parallel-item:only-child::after {width: 0;}#sk-container-id-12 div.sk-dashed-wrapped {border: 1px dashed gray;margin: 0 0.4em 0.5em 0.4em;box-sizing: border-box;padding-bottom: 0.4em;background-color: white;}#sk-container-id-12 div.sk-label label {font-family: monospace;font-weight: bold;display: inline-block;line-height: 1.2em;}#sk-container-id-12 div.sk-label-container {text-align: center;}#sk-container-id-12 div.sk-container {/* jupyter's `normalize.less` sets `[hidden] { display: none; }` but bootstrap.min.css set `[hidden] { display: none !important; }` so we also need the `!important` here to be able to override the default hidden behavior on the sphinx rendered scikit-learn.org. See: https://github.com/scikit-learn/scikit-learn/issues/21755 */display: inline-block !important;position: relative;}#sk-container-id-12 div.sk-text-repr-fallback {display: none;}</style><div id=\"sk-container-id-12\" class=\"sk-top-container\"><div class=\"sk-text-repr-fallback\"><pre>Pipeline(steps=[(&#x27;minmaxscaler&#x27;, MinMaxScaler()), (&#x27;norma&#x27;, Normalizer()),\n",
       "                (&#x27;ridge&#x27;, Ridge(random_state=12345))])</pre><b>In a Jupyter environment, please rerun this cell to show the HTML representation or trust the notebook. <br />On GitHub, the HTML representation is unable to render, please try loading this page with nbviewer.org.</b></div><div class=\"sk-container\" hidden><div class=\"sk-item sk-dashed-wrapped\"><div class=\"sk-label-container\"><div class=\"sk-label sk-toggleable\"><input class=\"sk-toggleable__control sk-hidden--visually\" id=\"sk-estimator-id-49\" type=\"checkbox\" ><label for=\"sk-estimator-id-49\" class=\"sk-toggleable__label sk-toggleable__label-arrow\">Pipeline</label><div class=\"sk-toggleable__content\"><pre>Pipeline(steps=[(&#x27;minmaxscaler&#x27;, MinMaxScaler()), (&#x27;norma&#x27;, Normalizer()),\n",
       "                (&#x27;ridge&#x27;, Ridge(random_state=12345))])</pre></div></div></div><div class=\"sk-serial\"><div class=\"sk-item\"><div class=\"sk-estimator sk-toggleable\"><input class=\"sk-toggleable__control sk-hidden--visually\" id=\"sk-estimator-id-50\" type=\"checkbox\" ><label for=\"sk-estimator-id-50\" class=\"sk-toggleable__label sk-toggleable__label-arrow\">MinMaxScaler</label><div class=\"sk-toggleable__content\"><pre>MinMaxScaler()</pre></div></div></div><div class=\"sk-item\"><div class=\"sk-estimator sk-toggleable\"><input class=\"sk-toggleable__control sk-hidden--visually\" id=\"sk-estimator-id-51\" type=\"checkbox\" ><label for=\"sk-estimator-id-51\" class=\"sk-toggleable__label sk-toggleable__label-arrow\">Normalizer</label><div class=\"sk-toggleable__content\"><pre>Normalizer()</pre></div></div></div><div class=\"sk-item\"><div class=\"sk-estimator sk-toggleable\"><input class=\"sk-toggleable__control sk-hidden--visually\" id=\"sk-estimator-id-52\" type=\"checkbox\" ><label for=\"sk-estimator-id-52\" class=\"sk-toggleable__label sk-toggleable__label-arrow\">Ridge</label><div class=\"sk-toggleable__content\"><pre>Ridge(random_state=12345)</pre></div></div></div></div></div></div></div>"
      ],
      "text/plain": [
       "Pipeline(steps=[('minmaxscaler', MinMaxScaler()), ('norma', Normalizer()),\n",
       "                ('ridge', Ridge(random_state=12345))])"
      ]
     },
     "execution_count": 106,
     "metadata": {},
     "output_type": "execute_result"
    }
   ],
   "source": [
    "pipe_Ridge.fit(features_train, target_train)"
   ]
  },
  {
   "cell_type": "code",
   "execution_count": 107,
   "metadata": {
    "scrolled": true
   },
   "outputs": [
    {
     "data": {
      "text/plain": [
       "array([-10.09766785,  -7.97573318,  -7.31806302,  -7.97637202,\n",
       "        -9.72374637])"
      ]
     },
     "execution_count": 107,
     "metadata": {},
     "output_type": "execute_result"
    }
   ],
   "source": [
    "score_Ridge = cross_val_score(pipe_Ridge, features_train, target_train, cv=5, scoring=sMAPE_loss)\n",
    "score_Ridge"
   ]
  },
  {
   "cell_type": "markdown",
   "metadata": {},
   "source": [
    "### Сопоставление результатов обучения."
   ]
  },
  {
   "cell_type": "code",
   "execution_count": 140,
   "metadata": {
    "scrolled": false
   },
   "outputs": [
    {
     "data": {
      "text/html": [
       "<div>\n",
       "<style scoped>\n",
       "    .dataframe tbody tr th:only-of-type {\n",
       "        vertical-align: middle;\n",
       "    }\n",
       "\n",
       "    .dataframe tbody tr th {\n",
       "        vertical-align: top;\n",
       "    }\n",
       "\n",
       "    .dataframe thead th {\n",
       "        text-align: right;\n",
       "    }\n",
       "</style>\n",
       "<table border=\"1\" class=\"dataframe\">\n",
       "  <thead>\n",
       "    <tr style=\"text-align: right;\">\n",
       "      <th></th>\n",
       "      <th>Значения взвешенного sMAPE</th>\n",
       "    </tr>\n",
       "  </thead>\n",
       "  <tbody>\n",
       "    <tr>\n",
       "      <th>Линейная регрессия</th>\n",
       "      <td>-8.164526</td>\n",
       "    </tr>\n",
       "    <tr>\n",
       "      <th>Случайный лес</th>\n",
       "      <td>-10.203300</td>\n",
       "    </tr>\n",
       "    <tr>\n",
       "      <th>Ridge-регрессия</th>\n",
       "      <td>-7.318063</td>\n",
       "    </tr>\n",
       "  </tbody>\n",
       "</table>\n",
       "</div>"
      ],
      "text/plain": [
       "                    Значения взвешенного sMAPE\n",
       "Линейная регрессия                   -8.164526\n",
       "Случайный лес                       -10.203300\n",
       "Ridge-регрессия                      -7.318063"
      ]
     },
     "execution_count": 140,
     "metadata": {},
     "output_type": "execute_result"
    }
   ],
   "source": [
    "list_result = [max(score_LR), RS_RF.best_score_, max(score_Ridge)]\n",
    "pd.DataFrame(list_result, \n",
    "             index=['Линейная регрессия', 'Случайный лес', 'Ridge-регрессия'], \n",
    "             columns=['Значения взвешенного sMAPE'])"
   ]
  },
  {
   "cell_type": "markdown",
   "metadata": {},
   "source": [
    "Самую низкую метрику показала Ridge-регрессия. Проверим на тестовой выборке."
   ]
  },
  {
   "cell_type": "markdown",
   "metadata": {},
   "source": [
    "### Проверка на тестовых данных."
   ]
  },
  {
   "cell_type": "code",
   "execution_count": 142,
   "metadata": {},
   "outputs": [],
   "source": [
    "features_test = df_test[features_train.columns]\n",
    "target_test = df_full.loc[df_test.index, ['final.output.recovery', 'rougher.output.recovery']]"
   ]
  },
  {
   "cell_type": "code",
   "execution_count": 143,
   "metadata": {},
   "outputs": [],
   "source": [
    "predictions = pipe_Ridge.predict(features_test)"
   ]
  },
  {
   "cell_type": "code",
   "execution_count": 144,
   "metadata": {},
   "outputs": [
    {
     "data": {
      "text/plain": [
       "13.415964100002814"
      ]
     },
     "execution_count": 144,
     "metadata": {},
     "output_type": "execute_result"
    }
   ],
   "source": [
    "test_sMAPE = sMAPE(target_test, predictions)\n",
    "test_sMAPE"
   ]
  },
  {
   "cell_type": "markdown",
   "metadata": {},
   "source": [
    "Посчитаем отношение величины нашей метрики к средним значениям в полной выборке."
   ]
  },
  {
   "cell_type": "code",
   "execution_count": 145,
   "metadata": {},
   "outputs": [
    {
     "data": {
      "text/plain": [
       "8.92144672475092"
      ]
     },
     "execution_count": 145,
     "metadata": {},
     "output_type": "execute_result"
    }
   ],
   "source": [
    "test_sMAPE / (df_full['rougher.output.recovery'].mean() + df_full['final.output.recovery'].mean()) * 100"
   ]
  },
  {
   "cell_type": "markdown",
   "metadata": {},
   "source": [
    "### Общий вывод"
   ]
  },
  {
   "cell_type": "markdown",
   "metadata": {},
   "source": [
    "Наилучшие показатели согласно созданной нами метрики sMAPE показало Дерево решений. Указанная в раюоте средняя абсолютная ошибка составила 3,24 единицы, что является менее, чем 3% отклонением от средних значений - можно сказать, что это хороший результат."
   ]
  }
 ],
 "metadata": {
  "ExecuteTimeLog": [
   {
    "duration": 7347,
    "start_time": "2023-04-27T11:50:18.023Z"
   },
   {
    "duration": 876,
    "start_time": "2023-04-27T11:50:34.551Z"
   },
   {
    "duration": 101,
    "start_time": "2023-04-27T11:52:53.835Z"
   },
   {
    "duration": 3,
    "start_time": "2023-04-27T11:52:57.413Z"
   },
   {
    "duration": 10,
    "start_time": "2023-04-27T11:52:57.684Z"
   },
   {
    "duration": 41,
    "start_time": "2023-04-27T11:53:13.868Z"
   },
   {
    "duration": 2105,
    "start_time": "2023-04-27T11:53:36.868Z"
   },
   {
    "duration": 3,
    "start_time": "2023-04-27T11:55:24.198Z"
   },
   {
    "duration": 953,
    "start_time": "2023-04-27T11:55:24.485Z"
   },
   {
    "duration": 3,
    "start_time": "2023-04-27T11:56:38.717Z"
   },
   {
    "duration": 2028,
    "start_time": "2023-04-27T12:00:34.629Z"
   },
   {
    "duration": 999,
    "start_time": "2023-04-27T12:00:36.659Z"
   },
   {
    "duration": 5,
    "start_time": "2023-04-27T12:00:37.660Z"
   },
   {
    "duration": 724,
    "start_time": "2023-04-27T12:00:37.667Z"
   },
   {
    "duration": 376,
    "start_time": "2023-04-27T12:06:36.324Z"
   },
   {
    "duration": 157,
    "start_time": "2023-04-27T12:07:11.668Z"
   },
   {
    "duration": 916,
    "start_time": "2023-04-27T12:07:25.588Z"
   },
   {
    "duration": 661,
    "start_time": "2023-04-27T12:08:24.971Z"
   },
   {
    "duration": 10,
    "start_time": "2023-04-27T12:08:37.916Z"
   },
   {
    "duration": 9,
    "start_time": "2023-04-27T12:08:43.909Z"
   },
   {
    "duration": 5,
    "start_time": "2023-04-27T12:09:25.020Z"
   },
   {
    "duration": 2247,
    "start_time": "2023-04-27T12:10:04.084Z"
   },
   {
    "duration": 4,
    "start_time": "2023-04-27T12:10:06.334Z"
   },
   {
    "duration": 21,
    "start_time": "2023-04-27T12:10:06.340Z"
   },
   {
    "duration": 693,
    "start_time": "2023-04-27T12:10:06.363Z"
   },
   {
    "duration": 315,
    "start_time": "2023-04-27T12:12:02.350Z"
   },
   {
    "duration": 281,
    "start_time": "2023-04-27T12:12:16.924Z"
   },
   {
    "duration": 14,
    "start_time": "2023-04-27T12:13:27.556Z"
   },
   {
    "duration": 9,
    "start_time": "2023-04-27T12:17:42.306Z"
   },
   {
    "duration": 4,
    "start_time": "2023-04-27T12:17:58.805Z"
   },
   {
    "duration": 316,
    "start_time": "2023-04-27T12:18:00.163Z"
   },
   {
    "duration": 10,
    "start_time": "2023-04-27T12:18:01.628Z"
   },
   {
    "duration": 9,
    "start_time": "2023-04-27T12:18:11.035Z"
   },
   {
    "duration": 9,
    "start_time": "2023-04-27T12:19:37.788Z"
   },
   {
    "duration": 9,
    "start_time": "2023-04-27T12:20:31.511Z"
   },
   {
    "duration": 15,
    "start_time": "2023-04-27T12:20:40.811Z"
   },
   {
    "duration": 66,
    "start_time": "2023-04-27T12:20:43.830Z"
   },
   {
    "duration": 6,
    "start_time": "2023-04-27T12:21:10.406Z"
   },
   {
    "duration": 11,
    "start_time": "2023-04-27T12:21:11.107Z"
   },
   {
    "duration": 17,
    "start_time": "2023-04-27T12:21:11.676Z"
   },
   {
    "duration": 16,
    "start_time": "2023-04-27T12:21:34.051Z"
   },
   {
    "duration": 8,
    "start_time": "2023-04-27T12:22:29.419Z"
   },
   {
    "duration": 61,
    "start_time": "2023-04-27T12:22:34.956Z"
   },
   {
    "duration": 275,
    "start_time": "2023-04-27T12:22:49.450Z"
   },
   {
    "duration": 36,
    "start_time": "2023-04-27T12:22:50.515Z"
   },
   {
    "duration": 21,
    "start_time": "2023-04-27T12:22:55.860Z"
   },
   {
    "duration": 36,
    "start_time": "2023-04-27T12:25:34.124Z"
   },
   {
    "duration": 15,
    "start_time": "2023-04-27T12:25:36.172Z"
   },
   {
    "duration": 21,
    "start_time": "2023-04-27T12:28:23.580Z"
   },
   {
    "duration": 11,
    "start_time": "2023-04-27T12:28:28.221Z"
   },
   {
    "duration": 12,
    "start_time": "2023-04-27T12:28:40.278Z"
   },
   {
    "duration": 4,
    "start_time": "2023-04-27T12:29:15.407Z"
   },
   {
    "duration": 46,
    "start_time": "2023-04-27T12:29:33.179Z"
   },
   {
    "duration": 19,
    "start_time": "2023-04-27T12:29:42.963Z"
   },
   {
    "duration": 19,
    "start_time": "2023-04-27T12:29:52.008Z"
   },
   {
    "duration": 7,
    "start_time": "2023-04-27T12:30:43.957Z"
   },
   {
    "duration": 36,
    "start_time": "2023-04-27T12:31:13.577Z"
   },
   {
    "duration": 15,
    "start_time": "2023-04-27T12:31:15.178Z"
   },
   {
    "duration": 322,
    "start_time": "2023-04-27T12:31:27.412Z"
   },
   {
    "duration": 12,
    "start_time": "2023-04-27T12:31:42.267Z"
   },
   {
    "duration": 17,
    "start_time": "2023-04-27T12:31:43.418Z"
   },
   {
    "duration": 272,
    "start_time": "2023-04-27T12:31:52.675Z"
   },
   {
    "duration": 14,
    "start_time": "2023-04-27T12:32:33.411Z"
   },
   {
    "duration": 17,
    "start_time": "2023-04-27T12:32:34.507Z"
   },
   {
    "duration": 337,
    "start_time": "2023-04-27T12:37:41.482Z"
   },
   {
    "duration": 11,
    "start_time": "2023-04-27T12:37:50.354Z"
   },
   {
    "duration": 289,
    "start_time": "2023-04-27T12:39:39.131Z"
   },
   {
    "duration": 269,
    "start_time": "2023-04-27T12:39:44.910Z"
   },
   {
    "duration": 3,
    "start_time": "2023-04-27T12:45:14.881Z"
   },
   {
    "duration": 6,
    "start_time": "2023-04-27T12:50:09.079Z"
   },
   {
    "duration": 5,
    "start_time": "2023-04-27T12:51:32.145Z"
   },
   {
    "duration": 5,
    "start_time": "2023-04-27T12:51:40.077Z"
   },
   {
    "duration": 6,
    "start_time": "2023-04-27T12:52:07.034Z"
   },
   {
    "duration": 5,
    "start_time": "2023-04-27T12:52:41.529Z"
   },
   {
    "duration": 5,
    "start_time": "2023-04-27T12:52:41.881Z"
   },
   {
    "duration": 839,
    "start_time": "2023-04-27T12:53:55.730Z"
   },
   {
    "duration": 0,
    "start_time": "2023-04-27T12:53:56.571Z"
   },
   {
    "duration": 0,
    "start_time": "2023-04-27T12:53:56.572Z"
   },
   {
    "duration": 340,
    "start_time": "2023-04-27T12:54:15.186Z"
   },
   {
    "duration": 825,
    "start_time": "2023-04-27T12:54:17.130Z"
   },
   {
    "duration": 3,
    "start_time": "2023-04-27T12:54:23.754Z"
   },
   {
    "duration": 6,
    "start_time": "2023-04-27T12:54:25.330Z"
   },
   {
    "duration": 6,
    "start_time": "2023-04-27T12:54:26.272Z"
   },
   {
    "duration": 7,
    "start_time": "2023-04-27T12:55:49.129Z"
   },
   {
    "duration": 70,
    "start_time": "2023-04-27T12:58:27.525Z"
   },
   {
    "duration": 6,
    "start_time": "2023-04-27T12:58:40.816Z"
   },
   {
    "duration": 273,
    "start_time": "2023-04-27T12:59:28.908Z"
   },
   {
    "duration": 97,
    "start_time": "2023-04-27T13:00:16.961Z"
   },
   {
    "duration": 9,
    "start_time": "2023-04-27T13:00:30.171Z"
   },
   {
    "duration": 6,
    "start_time": "2023-04-27T13:00:38.008Z"
   },
   {
    "duration": 9,
    "start_time": "2023-04-27T13:01:00.945Z"
   },
   {
    "duration": 24,
    "start_time": "2023-04-27T13:01:35.092Z"
   },
   {
    "duration": 18,
    "start_time": "2023-04-27T13:01:44.622Z"
   },
   {
    "duration": 5,
    "start_time": "2023-04-27T13:05:26.133Z"
   },
   {
    "duration": 9,
    "start_time": "2023-04-27T13:06:30.761Z"
   },
   {
    "duration": 4,
    "start_time": "2023-04-27T13:07:45.137Z"
   },
   {
    "duration": 9,
    "start_time": "2023-04-27T13:09:35.120Z"
   },
   {
    "duration": 19,
    "start_time": "2023-04-27T13:09:44.544Z"
   },
   {
    "duration": 9,
    "start_time": "2023-04-27T13:09:56.105Z"
   },
   {
    "duration": 3,
    "start_time": "2023-04-27T13:11:46.273Z"
   },
   {
    "duration": 5,
    "start_time": "2023-04-27T13:11:55.612Z"
   },
   {
    "duration": 4,
    "start_time": "2023-04-27T13:12:34.608Z"
   },
   {
    "duration": 10,
    "start_time": "2023-04-27T13:14:27.880Z"
   },
   {
    "duration": 7,
    "start_time": "2023-04-27T13:14:36.694Z"
   },
   {
    "duration": 12,
    "start_time": "2023-04-27T13:17:26.776Z"
   },
   {
    "duration": 14,
    "start_time": "2023-04-27T13:17:39.176Z"
   },
   {
    "duration": 24,
    "start_time": "2023-04-27T19:18:03.152Z"
   },
   {
    "duration": 24,
    "start_time": "2023-04-27T19:23:10.310Z"
   },
   {
    "duration": 7,
    "start_time": "2023-04-27T19:23:18.931Z"
   },
   {
    "duration": 14,
    "start_time": "2023-04-27T19:23:56.341Z"
   },
   {
    "duration": 23,
    "start_time": "2023-04-27T19:24:03.872Z"
   },
   {
    "duration": 11,
    "start_time": "2023-04-27T19:24:30.211Z"
   },
   {
    "duration": 6,
    "start_time": "2023-04-27T19:24:45.209Z"
   },
   {
    "duration": 4,
    "start_time": "2023-04-27T19:24:58.959Z"
   },
   {
    "duration": 3,
    "start_time": "2023-04-27T19:25:03.224Z"
   },
   {
    "duration": 304,
    "start_time": "2023-04-27T19:26:52.100Z"
   },
   {
    "duration": 12,
    "start_time": "2023-04-27T19:29:09.865Z"
   },
   {
    "duration": 24,
    "start_time": "2023-04-27T19:29:20.687Z"
   },
   {
    "duration": 4,
    "start_time": "2023-04-27T19:30:25.990Z"
   },
   {
    "duration": 5,
    "start_time": "2023-04-27T19:30:48.160Z"
   },
   {
    "duration": 5,
    "start_time": "2023-04-27T19:30:54.221Z"
   },
   {
    "duration": 16,
    "start_time": "2023-04-27T19:31:03.777Z"
   },
   {
    "duration": 5,
    "start_time": "2023-04-27T19:32:18.659Z"
   },
   {
    "duration": 21,
    "start_time": "2023-04-27T19:32:23.303Z"
   },
   {
    "duration": 31,
    "start_time": "2023-04-27T19:33:44.406Z"
   },
   {
    "duration": 31,
    "start_time": "2023-04-27T19:33:55.186Z"
   },
   {
    "duration": 38,
    "start_time": "2023-04-27T19:34:26.461Z"
   },
   {
    "duration": 34,
    "start_time": "2023-04-27T19:34:58.016Z"
   },
   {
    "duration": 11,
    "start_time": "2023-04-27T19:35:29.961Z"
   },
   {
    "duration": 12,
    "start_time": "2023-04-27T19:35:39.561Z"
   },
   {
    "duration": 9,
    "start_time": "2023-04-27T19:35:46.215Z"
   },
   {
    "duration": 17,
    "start_time": "2023-04-27T19:35:50.135Z"
   },
   {
    "duration": 19,
    "start_time": "2023-04-27T19:37:21.340Z"
   },
   {
    "duration": 35,
    "start_time": "2023-04-27T19:40:38.744Z"
   },
   {
    "duration": 16,
    "start_time": "2023-04-27T19:40:49.705Z"
   },
   {
    "duration": 24,
    "start_time": "2023-04-27T19:41:36.052Z"
   },
   {
    "duration": 2097,
    "start_time": "2023-04-27T19:43:23.312Z"
   },
   {
    "duration": 3,
    "start_time": "2023-04-27T19:43:25.413Z"
   },
   {
    "duration": 319,
    "start_time": "2023-04-27T19:43:25.418Z"
   },
   {
    "duration": 3,
    "start_time": "2023-04-27T19:43:25.738Z"
   },
   {
    "duration": 12,
    "start_time": "2023-04-27T19:43:25.743Z"
   },
   {
    "duration": 9,
    "start_time": "2023-04-27T19:43:25.757Z"
   },
   {
    "duration": 93,
    "start_time": "2023-04-27T19:43:25.768Z"
   },
   {
    "duration": 5,
    "start_time": "2023-04-27T19:43:25.863Z"
   },
   {
    "duration": 26,
    "start_time": "2023-04-27T19:43:25.869Z"
   },
   {
    "duration": 37,
    "start_time": "2023-04-27T19:43:25.897Z"
   },
   {
    "duration": 18,
    "start_time": "2023-04-27T19:43:25.936Z"
   },
   {
    "duration": 48,
    "start_time": "2023-04-27T19:43:25.956Z"
   },
   {
    "duration": 35,
    "start_time": "2023-04-27T19:43:26.005Z"
   },
   {
    "duration": 42,
    "start_time": "2023-04-27T19:43:29.019Z"
   },
   {
    "duration": 22,
    "start_time": "2023-04-27T19:43:41.711Z"
   },
   {
    "duration": 9,
    "start_time": "2023-04-27T19:43:46.762Z"
   },
   {
    "duration": 8,
    "start_time": "2023-04-27T19:43:56.279Z"
   },
   {
    "duration": 358,
    "start_time": "2023-04-27T20:13:57.926Z"
   },
   {
    "duration": 13,
    "start_time": "2023-04-27T20:19:31.180Z"
   },
   {
    "duration": 28,
    "start_time": "2023-04-27T20:19:36.829Z"
   },
   {
    "duration": 11,
    "start_time": "2023-04-27T20:19:56.008Z"
   },
   {
    "duration": 12,
    "start_time": "2023-04-27T20:20:06.706Z"
   },
   {
    "duration": 20,
    "start_time": "2023-04-27T20:23:18.118Z"
   },
   {
    "duration": 16,
    "start_time": "2023-04-27T20:23:31.447Z"
   },
   {
    "duration": 9,
    "start_time": "2023-04-27T20:23:37.719Z"
   },
   {
    "duration": 12,
    "start_time": "2023-04-27T20:24:50.034Z"
   },
   {
    "duration": 385,
    "start_time": "2023-04-27T20:25:04.537Z"
   },
   {
    "duration": 11,
    "start_time": "2023-04-27T20:25:09.845Z"
   },
   {
    "duration": 17,
    "start_time": "2023-04-27T20:27:00.227Z"
   },
   {
    "duration": 26,
    "start_time": "2023-04-27T20:33:09.723Z"
   },
   {
    "duration": 13,
    "start_time": "2023-04-27T20:33:11.825Z"
   },
   {
    "duration": 5,
    "start_time": "2023-04-27T20:33:36.359Z"
   },
   {
    "duration": 5,
    "start_time": "2023-04-27T20:34:00.935Z"
   },
   {
    "duration": 19,
    "start_time": "2023-04-27T20:37:41.951Z"
   },
   {
    "duration": 4,
    "start_time": "2023-04-27T20:37:42.370Z"
   },
   {
    "duration": 13,
    "start_time": "2023-04-27T20:37:50.513Z"
   },
   {
    "duration": 18,
    "start_time": "2023-04-27T20:42:36.389Z"
   },
   {
    "duration": 13,
    "start_time": "2023-04-27T20:42:37.252Z"
   },
   {
    "duration": 18,
    "start_time": "2023-04-27T20:42:44.287Z"
   },
   {
    "duration": 16,
    "start_time": "2023-04-27T20:42:44.691Z"
   },
   {
    "duration": 17,
    "start_time": "2023-04-27T20:43:00.976Z"
   },
   {
    "duration": 20,
    "start_time": "2023-04-27T20:43:16.463Z"
   },
   {
    "duration": 5,
    "start_time": "2023-04-27T20:46:19.568Z"
   },
   {
    "duration": 4,
    "start_time": "2023-04-27T20:46:28.791Z"
   },
   {
    "duration": 16,
    "start_time": "2023-04-27T20:47:20.713Z"
   },
   {
    "duration": 47,
    "start_time": "2023-04-27T20:50:31.767Z"
   },
   {
    "duration": 45,
    "start_time": "2023-04-27T20:51:31.603Z"
   },
   {
    "duration": 18,
    "start_time": "2023-04-27T20:53:29.830Z"
   },
   {
    "duration": 5,
    "start_time": "2023-04-27T20:54:17.860Z"
   },
   {
    "duration": 12,
    "start_time": "2023-04-27T20:54:27.924Z"
   },
   {
    "duration": 15,
    "start_time": "2023-04-27T20:55:30.716Z"
   },
   {
    "duration": 10,
    "start_time": "2023-04-27T20:55:41.275Z"
   },
   {
    "duration": 40,
    "start_time": "2023-04-27T20:55:47.360Z"
   },
   {
    "duration": 694,
    "start_time": "2023-04-27T20:56:19.362Z"
   },
   {
    "duration": 12,
    "start_time": "2023-04-27T20:56:37.422Z"
   },
   {
    "duration": 2040,
    "start_time": "2023-04-27T20:56:44.376Z"
   },
   {
    "duration": 4,
    "start_time": "2023-04-27T20:56:46.419Z"
   },
   {
    "duration": 328,
    "start_time": "2023-04-27T20:56:46.425Z"
   },
   {
    "duration": 3,
    "start_time": "2023-04-27T20:56:46.755Z"
   },
   {
    "duration": 9,
    "start_time": "2023-04-27T20:56:46.760Z"
   },
   {
    "duration": 21,
    "start_time": "2023-04-27T20:56:46.772Z"
   },
   {
    "duration": 84,
    "start_time": "2023-04-27T20:56:46.794Z"
   },
   {
    "duration": 5,
    "start_time": "2023-04-27T20:56:46.892Z"
   },
   {
    "duration": 11,
    "start_time": "2023-04-27T20:56:46.898Z"
   },
   {
    "duration": 33,
    "start_time": "2023-04-27T20:56:46.911Z"
   },
   {
    "duration": 47,
    "start_time": "2023-04-27T20:56:46.946Z"
   },
   {
    "duration": 25,
    "start_time": "2023-04-27T20:56:46.995Z"
   },
   {
    "duration": 36,
    "start_time": "2023-04-27T20:56:47.022Z"
   },
   {
    "duration": 36,
    "start_time": "2023-04-27T20:56:47.059Z"
   },
   {
    "duration": 395,
    "start_time": "2023-04-27T20:56:47.097Z"
   },
   {
    "duration": 713,
    "start_time": "2023-04-27T20:56:52.662Z"
   },
   {
    "duration": 10,
    "start_time": "2023-04-27T20:57:12.865Z"
   },
   {
    "duration": 6,
    "start_time": "2023-04-27T20:57:33.757Z"
   },
   {
    "duration": 9,
    "start_time": "2023-04-27T20:57:44.976Z"
   },
   {
    "duration": 8,
    "start_time": "2023-04-27T20:58:09.437Z"
   },
   {
    "duration": 8,
    "start_time": "2023-04-27T20:58:15.344Z"
   },
   {
    "duration": 2,
    "start_time": "2023-04-27T20:58:18.764Z"
   },
   {
    "duration": 4,
    "start_time": "2023-04-27T20:58:27.460Z"
   },
   {
    "duration": 4,
    "start_time": "2023-04-27T20:58:44.101Z"
   },
   {
    "duration": 4,
    "start_time": "2023-04-27T20:58:55.371Z"
   },
   {
    "duration": 4,
    "start_time": "2023-04-27T20:59:02.719Z"
   },
   {
    "duration": 5,
    "start_time": "2023-04-27T21:00:04.527Z"
   },
   {
    "duration": 3,
    "start_time": "2023-04-27T21:00:09.274Z"
   },
   {
    "duration": 10,
    "start_time": "2023-04-27T21:00:12.728Z"
   },
   {
    "duration": 5,
    "start_time": "2023-04-27T21:00:37.183Z"
   },
   {
    "duration": 4,
    "start_time": "2023-04-27T21:00:47.358Z"
   },
   {
    "duration": 5,
    "start_time": "2023-04-27T21:01:08.054Z"
   },
   {
    "duration": 20,
    "start_time": "2023-04-27T21:01:19.373Z"
   },
   {
    "duration": 30,
    "start_time": "2023-04-27T21:01:30.896Z"
   },
   {
    "duration": 12,
    "start_time": "2023-04-27T21:06:01.562Z"
   },
   {
    "duration": 15,
    "start_time": "2023-04-27T21:08:26.932Z"
   },
   {
    "duration": 17,
    "start_time": "2023-04-27T21:08:44.151Z"
   },
   {
    "duration": 971,
    "start_time": "2023-04-27T21:09:00.012Z"
   },
   {
    "duration": 9,
    "start_time": "2023-04-27T21:09:10.869Z"
   },
   {
    "duration": 84,
    "start_time": "2023-04-27T21:09:26.209Z"
   },
   {
    "duration": 8,
    "start_time": "2023-04-27T21:09:45.415Z"
   },
   {
    "duration": 278,
    "start_time": "2023-04-27T21:09:46.324Z"
   },
   {
    "duration": 5830,
    "start_time": "2023-04-28T07:56:35.507Z"
   },
   {
    "duration": 878,
    "start_time": "2023-04-28T07:56:41.340Z"
   },
   {
    "duration": 1434,
    "start_time": "2023-04-28T07:56:42.220Z"
   },
   {
    "duration": 3,
    "start_time": "2023-04-28T07:56:43.656Z"
   },
   {
    "duration": 7,
    "start_time": "2023-04-28T07:56:43.660Z"
   },
   {
    "duration": 9,
    "start_time": "2023-04-28T07:56:43.668Z"
   },
   {
    "duration": 150,
    "start_time": "2023-04-28T07:56:43.679Z"
   },
   {
    "duration": 5,
    "start_time": "2023-04-28T07:56:43.831Z"
   },
   {
    "duration": 14,
    "start_time": "2023-04-28T07:56:43.837Z"
   },
   {
    "duration": 40,
    "start_time": "2023-04-28T07:56:43.853Z"
   },
   {
    "duration": 22,
    "start_time": "2023-04-28T07:56:43.894Z"
   },
   {
    "duration": 28,
    "start_time": "2023-04-28T07:56:43.917Z"
   },
   {
    "duration": 64,
    "start_time": "2023-04-28T07:56:43.947Z"
   },
   {
    "duration": 9,
    "start_time": "2023-04-28T07:56:44.013Z"
   },
   {
    "duration": 579,
    "start_time": "2023-04-28T07:56:44.024Z"
   },
   {
    "duration": 32,
    "start_time": "2023-04-28T07:56:44.605Z"
   },
   {
    "duration": 8,
    "start_time": "2023-04-28T07:58:12.218Z"
   },
   {
    "duration": 7,
    "start_time": "2023-04-28T07:58:16.185Z"
   },
   {
    "duration": 150,
    "start_time": "2023-04-28T08:00:13.207Z"
   },
   {
    "duration": 37,
    "start_time": "2023-04-28T08:00:55.473Z"
   },
   {
    "duration": 82,
    "start_time": "2023-04-28T08:01:18.906Z"
   },
   {
    "duration": 5,
    "start_time": "2023-04-28T08:01:42.658Z"
   },
   {
    "duration": 5,
    "start_time": "2023-04-28T08:02:47.313Z"
   },
   {
    "duration": 252,
    "start_time": "2023-04-28T08:02:49.340Z"
   },
   {
    "duration": 12,
    "start_time": "2023-04-28T08:03:06.561Z"
   },
   {
    "duration": 9,
    "start_time": "2023-04-28T08:03:35.844Z"
   },
   {
    "duration": 5,
    "start_time": "2023-04-28T08:03:36.352Z"
   },
   {
    "duration": 333,
    "start_time": "2023-04-28T08:03:36.761Z"
   },
   {
    "duration": 11,
    "start_time": "2023-04-28T08:03:37.906Z"
   },
   {
    "duration": 3,
    "start_time": "2023-04-28T08:05:30.857Z"
   },
   {
    "duration": 9,
    "start_time": "2023-04-28T08:05:40.351Z"
   },
   {
    "duration": 5,
    "start_time": "2023-04-28T08:05:45.470Z"
   },
   {
    "duration": 16,
    "start_time": "2023-04-28T08:06:02.299Z"
   },
   {
    "duration": 2205,
    "start_time": "2023-04-28T08:06:09.972Z"
   },
   {
    "duration": 4,
    "start_time": "2023-04-28T08:06:12.179Z"
   },
   {
    "duration": 298,
    "start_time": "2023-04-28T08:06:12.185Z"
   },
   {
    "duration": 3,
    "start_time": "2023-04-28T08:06:12.486Z"
   },
   {
    "duration": 7,
    "start_time": "2023-04-28T08:06:12.491Z"
   },
   {
    "duration": 14,
    "start_time": "2023-04-28T08:06:12.500Z"
   },
   {
    "duration": 98,
    "start_time": "2023-04-28T08:06:12.516Z"
   },
   {
    "duration": 5,
    "start_time": "2023-04-28T08:06:12.616Z"
   },
   {
    "duration": 5,
    "start_time": "2023-04-28T08:06:12.623Z"
   },
   {
    "duration": 41,
    "start_time": "2023-04-28T08:06:12.630Z"
   },
   {
    "duration": 23,
    "start_time": "2023-04-28T08:06:12.672Z"
   },
   {
    "duration": 32,
    "start_time": "2023-04-28T08:06:12.697Z"
   },
   {
    "duration": 59,
    "start_time": "2023-04-28T08:06:12.731Z"
   },
   {
    "duration": 8,
    "start_time": "2023-04-28T08:06:12.794Z"
   },
   {
    "duration": 345,
    "start_time": "2023-04-28T08:06:12.804Z"
   },
   {
    "duration": 35,
    "start_time": "2023-04-28T08:06:13.151Z"
   },
   {
    "duration": 81,
    "start_time": "2023-04-28T08:06:13.187Z"
   },
   {
    "duration": 18,
    "start_time": "2023-04-28T08:06:13.270Z"
   },
   {
    "duration": 8,
    "start_time": "2023-04-28T08:06:13.290Z"
   },
   {
    "duration": 16,
    "start_time": "2023-04-28T08:06:13.300Z"
   },
   {
    "duration": 8,
    "start_time": "2023-04-28T08:06:13.318Z"
   },
   {
    "duration": 7,
    "start_time": "2023-04-28T08:06:14.906Z"
   },
   {
    "duration": 16,
    "start_time": "2023-04-28T08:06:15.458Z"
   },
   {
    "duration": 6,
    "start_time": "2023-04-28T08:06:22.986Z"
   },
   {
    "duration": 5,
    "start_time": "2023-04-28T08:06:25.081Z"
   },
   {
    "duration": 4,
    "start_time": "2023-04-28T08:08:13.355Z"
   },
   {
    "duration": 12,
    "start_time": "2023-04-28T08:08:15.954Z"
   },
   {
    "duration": 7,
    "start_time": "2023-04-28T08:19:32.015Z"
   },
   {
    "duration": 6,
    "start_time": "2023-04-28T08:19:34.300Z"
   },
   {
    "duration": 6,
    "start_time": "2023-04-28T08:19:34.659Z"
   },
   {
    "duration": 270,
    "start_time": "2023-04-28T08:19:35.220Z"
   },
   {
    "duration": 4,
    "start_time": "2023-04-28T08:19:37.807Z"
   },
   {
    "duration": 12,
    "start_time": "2023-04-28T08:19:38.704Z"
   },
   {
    "duration": 2106,
    "start_time": "2023-04-28T08:20:06.107Z"
   },
   {
    "duration": 3,
    "start_time": "2023-04-28T08:20:08.216Z"
   },
   {
    "duration": 328,
    "start_time": "2023-04-28T08:20:08.220Z"
   },
   {
    "duration": 3,
    "start_time": "2023-04-28T08:20:08.549Z"
   },
   {
    "duration": 6,
    "start_time": "2023-04-28T08:20:08.554Z"
   },
   {
    "duration": 12,
    "start_time": "2023-04-28T08:20:08.561Z"
   },
   {
    "duration": 83,
    "start_time": "2023-04-28T08:20:08.574Z"
   },
   {
    "duration": 5,
    "start_time": "2023-04-28T08:20:08.658Z"
   },
   {
    "duration": 10,
    "start_time": "2023-04-28T08:20:08.665Z"
   },
   {
    "duration": 46,
    "start_time": "2023-04-28T08:20:08.676Z"
   },
   {
    "duration": 15,
    "start_time": "2023-04-28T08:20:08.723Z"
   },
   {
    "duration": 23,
    "start_time": "2023-04-28T08:20:08.740Z"
   },
   {
    "duration": 47,
    "start_time": "2023-04-28T08:20:08.764Z"
   },
   {
    "duration": 7,
    "start_time": "2023-04-28T08:20:08.813Z"
   },
   {
    "duration": 383,
    "start_time": "2023-04-28T08:20:08.821Z"
   },
   {
    "duration": 27,
    "start_time": "2023-04-28T08:20:09.206Z"
   },
   {
    "duration": 94,
    "start_time": "2023-04-28T08:20:09.235Z"
   },
   {
    "duration": 5,
    "start_time": "2023-04-28T08:20:09.330Z"
   },
   {
    "duration": 4,
    "start_time": "2023-04-28T08:20:09.337Z"
   },
   {
    "duration": 23,
    "start_time": "2023-04-28T08:20:09.342Z"
   },
   {
    "duration": 10,
    "start_time": "2023-04-28T08:20:09.367Z"
   },
   {
    "duration": 11,
    "start_time": "2023-04-28T08:20:09.378Z"
   },
   {
    "duration": 399,
    "start_time": "2023-04-28T08:20:09.390Z"
   },
   {
    "duration": 95,
    "start_time": "2023-04-28T08:20:09.792Z"
   },
   {
    "duration": 4,
    "start_time": "2023-04-28T08:20:10.971Z"
   },
   {
    "duration": 15,
    "start_time": "2023-04-28T08:20:11.456Z"
   },
   {
    "duration": 9,
    "start_time": "2023-04-28T08:23:05.279Z"
   },
   {
    "duration": 31,
    "start_time": "2023-04-28T08:23:11.164Z"
   },
   {
    "duration": 4,
    "start_time": "2023-04-28T08:23:20.817Z"
   },
   {
    "duration": 15,
    "start_time": "2023-04-28T08:23:22.035Z"
   },
   {
    "duration": 9,
    "start_time": "2023-04-28T08:32:41.566Z"
   },
   {
    "duration": 9,
    "start_time": "2023-04-28T08:40:48.517Z"
   },
   {
    "duration": 8,
    "start_time": "2023-04-28T11:08:17.443Z"
   },
   {
    "duration": 12,
    "start_time": "2023-04-28T11:08:32.738Z"
   },
   {
    "duration": 37,
    "start_time": "2023-04-28T11:08:53.857Z"
   },
   {
    "duration": 9,
    "start_time": "2023-04-28T11:08:54.849Z"
   },
   {
    "duration": 83,
    "start_time": "2023-04-28T11:09:34.201Z"
   },
   {
    "duration": 8,
    "start_time": "2023-04-28T11:09:34.593Z"
   },
   {
    "duration": 7,
    "start_time": "2023-04-28T11:09:38.573Z"
   },
   {
    "duration": 63,
    "start_time": "2023-04-28T11:12:20.608Z"
   },
   {
    "duration": 8,
    "start_time": "2023-04-28T11:12:27.795Z"
   },
   {
    "duration": 8,
    "start_time": "2023-04-28T11:13:11.581Z"
   },
   {
    "duration": 7,
    "start_time": "2023-04-28T11:13:42.905Z"
   },
   {
    "duration": 4,
    "start_time": "2023-04-28T11:14:39.489Z"
   },
   {
    "duration": 6,
    "start_time": "2023-04-28T11:19:55.806Z"
   },
   {
    "duration": 8,
    "start_time": "2023-04-28T11:20:17.856Z"
   },
   {
    "duration": 3,
    "start_time": "2023-04-28T11:58:37.245Z"
   },
   {
    "duration": 465,
    "start_time": "2023-04-28T12:02:55.388Z"
   },
   {
    "duration": 4,
    "start_time": "2023-04-28T12:03:06.086Z"
   },
   {
    "duration": 4,
    "start_time": "2023-04-28T12:06:00.800Z"
   },
   {
    "duration": 28,
    "start_time": "2023-04-28T12:06:35.716Z"
   },
   {
    "duration": 365,
    "start_time": "2023-04-28T12:08:09.575Z"
   },
   {
    "duration": 298,
    "start_time": "2023-04-28T12:08:18.812Z"
   },
   {
    "duration": 685,
    "start_time": "2023-04-28T12:08:26.566Z"
   },
   {
    "duration": 3,
    "start_time": "2023-04-28T12:09:35.692Z"
   },
   {
    "duration": 315,
    "start_time": "2023-04-28T12:09:40.413Z"
   },
   {
    "duration": 25,
    "start_time": "2023-04-28T12:10:05.877Z"
   },
   {
    "duration": 51,
    "start_time": "2023-04-28T12:11:53.220Z"
   },
   {
    "duration": 47,
    "start_time": "2023-04-28T12:15:11.355Z"
   },
   {
    "duration": 80,
    "start_time": "2023-04-28T12:15:44.019Z"
   },
   {
    "duration": 54,
    "start_time": "2023-04-28T12:16:16.892Z"
   },
   {
    "duration": 898,
    "start_time": "2023-04-28T12:16:21.315Z"
   },
   {
    "duration": 1011,
    "start_time": "2023-04-28T12:18:24.995Z"
   },
   {
    "duration": 7,
    "start_time": "2023-04-28T12:20:04.166Z"
   },
   {
    "duration": 1005,
    "start_time": "2023-04-28T12:20:09.541Z"
   },
   {
    "duration": 998,
    "start_time": "2023-04-28T12:21:08.843Z"
   },
   {
    "duration": 19,
    "start_time": "2023-04-28T12:24:52.735Z"
   },
   {
    "duration": 16,
    "start_time": "2023-04-28T12:25:43.578Z"
   },
   {
    "duration": 19,
    "start_time": "2023-04-28T12:25:54.749Z"
   },
   {
    "duration": 24,
    "start_time": "2023-04-28T12:26:08.451Z"
   },
   {
    "duration": 22,
    "start_time": "2023-04-28T12:26:53.359Z"
   },
   {
    "duration": 31,
    "start_time": "2023-04-28T12:27:24.628Z"
   },
   {
    "duration": 319,
    "start_time": "2023-04-28T12:30:06.627Z"
   },
   {
    "duration": 384,
    "start_time": "2023-04-28T12:30:14.060Z"
   },
   {
    "duration": 12,
    "start_time": "2023-04-28T12:30:45.102Z"
   },
   {
    "duration": 355,
    "start_time": "2023-04-28T12:31:42.012Z"
   },
   {
    "duration": 374,
    "start_time": "2023-04-28T12:31:48.715Z"
   },
   {
    "duration": 494,
    "start_time": "2023-04-28T12:31:53.915Z"
   },
   {
    "duration": 487,
    "start_time": "2023-04-28T12:32:27.826Z"
   },
   {
    "duration": 568,
    "start_time": "2023-04-28T12:33:00.219Z"
   },
   {
    "duration": 570,
    "start_time": "2023-04-28T12:33:17.000Z"
   },
   {
    "duration": 174,
    "start_time": "2023-04-28T12:35:05.982Z"
   },
   {
    "duration": 722,
    "start_time": "2023-04-28T12:35:11.164Z"
   },
   {
    "duration": 747,
    "start_time": "2023-04-28T12:35:23.498Z"
   },
   {
    "duration": 854,
    "start_time": "2023-04-28T12:36:58.676Z"
   },
   {
    "duration": 5876,
    "start_time": "2023-04-28T12:37:12.352Z"
   },
   {
    "duration": 609,
    "start_time": "2023-04-28T12:38:25.178Z"
   },
   {
    "duration": 613,
    "start_time": "2023-04-28T12:38:45.064Z"
   },
   {
    "duration": 642,
    "start_time": "2023-04-28T12:40:34.225Z"
   },
   {
    "duration": 590,
    "start_time": "2023-04-28T12:40:40.872Z"
   },
   {
    "duration": 609,
    "start_time": "2023-04-28T12:41:14.290Z"
   },
   {
    "duration": 954,
    "start_time": "2023-04-28T12:41:38.356Z"
   },
   {
    "duration": 3,
    "start_time": "2023-04-28T12:43:23.302Z"
   },
   {
    "duration": 849,
    "start_time": "2023-04-28T12:44:15.969Z"
   },
   {
    "duration": 912,
    "start_time": "2023-04-28T12:44:25.401Z"
   },
   {
    "duration": 858,
    "start_time": "2023-04-28T12:45:00.793Z"
   },
   {
    "duration": 888,
    "start_time": "2023-04-28T12:45:37.825Z"
   },
   {
    "duration": 894,
    "start_time": "2023-04-28T12:46:00.056Z"
   },
   {
    "duration": 3,
    "start_time": "2023-04-28T12:46:26.425Z"
   },
   {
    "duration": 57,
    "start_time": "2023-04-28T21:24:15.873Z"
   },
   {
    "duration": 7570,
    "start_time": "2023-04-28T21:24:22.115Z"
   },
   {
    "duration": 1573,
    "start_time": "2023-04-28T21:24:29.689Z"
   },
   {
    "duration": 4,
    "start_time": "2023-04-28T21:24:31.264Z"
   },
   {
    "duration": 1212,
    "start_time": "2023-04-28T21:24:31.271Z"
   },
   {
    "duration": 4,
    "start_time": "2023-04-28T21:24:32.484Z"
   },
   {
    "duration": 11,
    "start_time": "2023-04-28T21:24:32.489Z"
   },
   {
    "duration": 12,
    "start_time": "2023-04-28T21:24:32.502Z"
   },
   {
    "duration": 892,
    "start_time": "2023-04-28T21:24:32.515Z"
   },
   {
    "duration": 6,
    "start_time": "2023-04-28T21:24:33.409Z"
   },
   {
    "duration": 32,
    "start_time": "2023-04-28T21:24:33.417Z"
   },
   {
    "duration": 60,
    "start_time": "2023-04-28T21:24:33.450Z"
   },
   {
    "duration": 31,
    "start_time": "2023-04-28T21:24:33.511Z"
   },
   {
    "duration": 48,
    "start_time": "2023-04-28T21:24:33.544Z"
   },
   {
    "duration": 47,
    "start_time": "2023-04-28T21:24:33.594Z"
   },
   {
    "duration": 7,
    "start_time": "2023-04-28T21:24:33.643Z"
   },
   {
    "duration": 1983,
    "start_time": "2023-04-28T21:24:33.651Z"
   },
   {
    "duration": 33,
    "start_time": "2023-04-28T21:24:35.638Z"
   },
   {
    "duration": 97,
    "start_time": "2023-04-28T21:24:35.672Z"
   },
   {
    "duration": 6,
    "start_time": "2023-04-28T21:24:35.771Z"
   },
   {
    "duration": 25,
    "start_time": "2023-04-28T21:24:35.779Z"
   },
   {
    "duration": 25,
    "start_time": "2023-04-28T21:24:35.806Z"
   },
   {
    "duration": 1206,
    "start_time": "2023-04-28T21:24:35.833Z"
   },
   {
    "duration": 943,
    "start_time": "2023-04-28T21:24:39.232Z"
   },
   {
    "duration": 987,
    "start_time": "2023-04-28T21:24:40.371Z"
   },
   {
    "duration": 867,
    "start_time": "2023-04-28T21:25:42.416Z"
   },
   {
    "duration": 853,
    "start_time": "2023-04-28T21:26:09.043Z"
   },
   {
    "duration": 1094,
    "start_time": "2023-04-28T21:26:42.585Z"
   },
   {
    "duration": 1061,
    "start_time": "2023-04-28T21:26:51.346Z"
   },
   {
    "duration": 964,
    "start_time": "2023-04-28T21:28:28.016Z"
   },
   {
    "duration": 858,
    "start_time": "2023-04-28T21:28:36.231Z"
   },
   {
    "duration": 945,
    "start_time": "2023-04-28T21:28:56.938Z"
   },
   {
    "duration": 924,
    "start_time": "2023-04-28T21:29:04.067Z"
   },
   {
    "duration": 1014,
    "start_time": "2023-04-28T21:29:11.716Z"
   },
   {
    "duration": 856,
    "start_time": "2023-04-28T21:29:18.546Z"
   },
   {
    "duration": 1055,
    "start_time": "2023-04-28T21:29:27.620Z"
   },
   {
    "duration": 966,
    "start_time": "2023-04-28T21:29:46.346Z"
   },
   {
    "duration": 864,
    "start_time": "2023-04-28T21:29:52.845Z"
   },
   {
    "duration": 200,
    "start_time": "2023-04-28T21:38:37.856Z"
   },
   {
    "duration": 4,
    "start_time": "2023-04-28T21:39:29.999Z"
   },
   {
    "duration": 125,
    "start_time": "2023-04-28T21:39:40.709Z"
   },
   {
    "duration": 15,
    "start_time": "2023-04-28T21:41:13.581Z"
   },
   {
    "duration": 12,
    "start_time": "2023-04-28T21:41:40.737Z"
   },
   {
    "duration": 142,
    "start_time": "2023-04-28T21:41:52.399Z"
   },
   {
    "duration": 87,
    "start_time": "2023-04-28T21:43:02.678Z"
   },
   {
    "duration": 16,
    "start_time": "2023-04-28T21:43:14.335Z"
   },
   {
    "duration": 7,
    "start_time": "2023-04-28T21:43:59.429Z"
   },
   {
    "duration": 110,
    "start_time": "2023-04-28T21:44:43.697Z"
   },
   {
    "duration": 171,
    "start_time": "2023-04-28T21:45:51.515Z"
   },
   {
    "duration": 215,
    "start_time": "2023-04-28T21:46:51.848Z"
   },
   {
    "duration": 81,
    "start_time": "2023-04-28T21:47:10.113Z"
   },
   {
    "duration": 194,
    "start_time": "2023-04-28T21:47:13.170Z"
   },
   {
    "duration": 213,
    "start_time": "2023-04-28T21:51:30.811Z"
   },
   {
    "duration": 172,
    "start_time": "2023-04-28T21:51:43.911Z"
   },
   {
    "duration": 230,
    "start_time": "2023-04-28T21:52:41.733Z"
   },
   {
    "duration": 200,
    "start_time": "2023-04-28T21:53:44.251Z"
   },
   {
    "duration": 229,
    "start_time": "2023-04-28T21:54:39.014Z"
   },
   {
    "duration": 175,
    "start_time": "2023-04-28T21:54:52.238Z"
   },
   {
    "duration": 196,
    "start_time": "2023-04-28T21:55:08.306Z"
   },
   {
    "duration": 1003,
    "start_time": "2023-04-28T21:58:18.239Z"
   },
   {
    "duration": 303,
    "start_time": "2023-04-28T21:58:53.640Z"
   },
   {
    "duration": 251,
    "start_time": "2023-04-28T21:59:29.931Z"
   },
   {
    "duration": 154,
    "start_time": "2023-04-28T22:00:27.367Z"
   },
   {
    "duration": 165,
    "start_time": "2023-04-28T22:00:54.496Z"
   },
   {
    "duration": 15,
    "start_time": "2023-04-28T22:03:20.127Z"
   },
   {
    "duration": 11,
    "start_time": "2023-04-28T22:04:00.860Z"
   },
   {
    "duration": 371,
    "start_time": "2023-04-28T22:05:30.339Z"
   },
   {
    "duration": 27,
    "start_time": "2023-04-28T22:07:21.904Z"
   },
   {
    "duration": 17,
    "start_time": "2023-04-28T22:07:47.346Z"
   },
   {
    "duration": 167,
    "start_time": "2023-04-28T22:08:41.144Z"
   },
   {
    "duration": 12,
    "start_time": "2023-04-28T22:08:54.600Z"
   },
   {
    "duration": 14,
    "start_time": "2023-04-28T22:09:40.755Z"
   },
   {
    "duration": 19,
    "start_time": "2023-04-28T22:09:54.276Z"
   },
   {
    "duration": 146,
    "start_time": "2023-04-28T22:10:06.098Z"
   },
   {
    "duration": 235,
    "start_time": "2023-04-28T22:10:15.731Z"
   },
   {
    "duration": 187,
    "start_time": "2023-04-28T22:10:48.156Z"
   },
   {
    "duration": 179,
    "start_time": "2023-04-28T22:11:11.499Z"
   },
   {
    "duration": 176,
    "start_time": "2023-04-28T22:11:31.367Z"
   },
   {
    "duration": 1248,
    "start_time": "2023-04-28T22:13:43.265Z"
   },
   {
    "duration": 170,
    "start_time": "2023-04-28T22:14:04.463Z"
   },
   {
    "duration": 5,
    "start_time": "2023-04-28T22:23:32.299Z"
   },
   {
    "duration": 11,
    "start_time": "2023-04-28T22:23:46.228Z"
   },
   {
    "duration": 8,
    "start_time": "2023-04-28T22:25:12.797Z"
   },
   {
    "duration": 18,
    "start_time": "2023-04-28T22:26:09.557Z"
   },
   {
    "duration": 791,
    "start_time": "2023-04-28T22:27:38.060Z"
   },
   {
    "duration": 864,
    "start_time": "2023-04-28T22:27:55.610Z"
   },
   {
    "duration": 895,
    "start_time": "2023-04-28T22:28:03.867Z"
   },
   {
    "duration": 109,
    "start_time": "2023-04-28T22:34:08.098Z"
   },
   {
    "duration": 18,
    "start_time": "2023-04-28T22:34:41.068Z"
   },
   {
    "duration": 1094,
    "start_time": "2023-04-28T22:34:43.884Z"
   },
   {
    "duration": 68,
    "start_time": "2023-04-29T18:43:17.541Z"
   },
   {
    "duration": 6078,
    "start_time": "2023-04-29T18:43:22.344Z"
   },
   {
    "duration": 1430,
    "start_time": "2023-04-29T18:43:28.425Z"
   },
   {
    "duration": 5,
    "start_time": "2023-04-29T18:43:29.857Z"
   },
   {
    "duration": 1281,
    "start_time": "2023-04-29T18:43:29.864Z"
   },
   {
    "duration": 3,
    "start_time": "2023-04-29T18:43:31.147Z"
   },
   {
    "duration": 36,
    "start_time": "2023-04-29T18:43:31.152Z"
   },
   {
    "duration": 33,
    "start_time": "2023-04-29T18:43:31.190Z"
   },
   {
    "duration": 227,
    "start_time": "2023-04-29T18:43:31.226Z"
   },
   {
    "duration": 7,
    "start_time": "2023-04-29T18:43:31.456Z"
   },
   {
    "duration": 50,
    "start_time": "2023-04-29T18:43:31.467Z"
   },
   {
    "duration": 74,
    "start_time": "2023-04-29T18:43:31.519Z"
   },
   {
    "duration": 28,
    "start_time": "2023-04-29T18:43:31.595Z"
   },
   {
    "duration": 41,
    "start_time": "2023-04-29T18:43:31.626Z"
   },
   {
    "duration": 37,
    "start_time": "2023-04-29T18:43:31.669Z"
   },
   {
    "duration": 7,
    "start_time": "2023-04-29T18:43:31.708Z"
   },
   {
    "duration": 645,
    "start_time": "2023-04-29T18:43:31.718Z"
   },
   {
    "duration": 44,
    "start_time": "2023-04-29T18:43:32.365Z"
   },
   {
    "duration": 86,
    "start_time": "2023-04-29T18:43:32.412Z"
   },
   {
    "duration": 6,
    "start_time": "2023-04-29T18:43:32.500Z"
   },
   {
    "duration": 11,
    "start_time": "2023-04-29T18:43:32.507Z"
   },
   {
    "duration": 14,
    "start_time": "2023-04-29T18:43:32.520Z"
   },
   {
    "duration": 1026,
    "start_time": "2023-04-29T18:43:32.536Z"
   },
   {
    "duration": 979,
    "start_time": "2023-04-29T18:43:33.564Z"
   },
   {
    "duration": 987,
    "start_time": "2023-04-29T18:43:34.546Z"
   },
   {
    "duration": 257,
    "start_time": "2023-04-29T18:43:35.535Z"
   },
   {
    "duration": 176,
    "start_time": "2023-04-29T18:43:35.794Z"
   },
   {
    "duration": 109,
    "start_time": "2023-04-29T18:43:35.972Z"
   },
   {
    "duration": 1118,
    "start_time": "2023-04-29T18:43:36.084Z"
   },
   {
    "duration": 11,
    "start_time": "2023-04-29T18:43:37.204Z"
   },
   {
    "duration": 37,
    "start_time": "2023-04-29T18:43:37.217Z"
   },
   {
    "duration": 6,
    "start_time": "2023-04-29T18:43:37.256Z"
   },
   {
    "duration": 492,
    "start_time": "2023-04-29T18:43:37.264Z"
   },
   {
    "duration": 6,
    "start_time": "2023-04-29T18:43:37.758Z"
   },
   {
    "duration": 86,
    "start_time": "2023-04-29T18:43:37.770Z"
   },
   {
    "duration": 76,
    "start_time": "2023-04-29T18:43:37.858Z"
   },
   {
    "duration": 0,
    "start_time": "2023-04-29T18:43:37.936Z"
   },
   {
    "duration": 10,
    "start_time": "2023-04-29T18:43:47.310Z"
   },
   {
    "duration": 116,
    "start_time": "2023-04-29T18:43:58.243Z"
   },
   {
    "duration": 11,
    "start_time": "2023-04-29T18:43:59.291Z"
   },
   {
    "duration": 3139,
    "start_time": "2023-04-29T18:44:01.628Z"
   },
   {
    "duration": 2550,
    "start_time": "2023-04-29T18:44:09.807Z"
   },
   {
    "duration": 2964,
    "start_time": "2023-04-29T18:44:20.906Z"
   },
   {
    "duration": 10,
    "start_time": "2023-04-29T18:47:46.237Z"
   },
   {
    "duration": 5,
    "start_time": "2023-04-29T18:48:25.729Z"
   },
   {
    "duration": 4,
    "start_time": "2023-04-29T18:48:33.781Z"
   },
   {
    "duration": 19,
    "start_time": "2023-04-29T18:49:13.177Z"
   },
   {
    "duration": 2,
    "start_time": "2023-04-29T18:52:31.391Z"
   },
   {
    "duration": 13,
    "start_time": "2023-04-29T18:52:43.862Z"
   },
   {
    "duration": 9,
    "start_time": "2023-04-29T18:53:27.072Z"
   },
   {
    "duration": 10,
    "start_time": "2023-04-29T18:53:37.789Z"
   },
   {
    "duration": 11,
    "start_time": "2023-04-29T18:53:52.496Z"
   },
   {
    "duration": 4,
    "start_time": "2023-04-29T18:53:59.529Z"
   },
   {
    "duration": 4,
    "start_time": "2023-04-29T18:56:45.390Z"
   },
   {
    "duration": 8,
    "start_time": "2023-04-29T18:56:51.710Z"
   },
   {
    "duration": 3,
    "start_time": "2023-04-29T18:56:53.043Z"
   },
   {
    "duration": 12,
    "start_time": "2023-04-29T18:56:53.759Z"
   },
   {
    "duration": 14,
    "start_time": "2023-04-29T18:59:15.896Z"
   },
   {
    "duration": 2,
    "start_time": "2023-04-29T18:59:27.369Z"
   },
   {
    "duration": 13,
    "start_time": "2023-04-29T18:59:28.658Z"
   },
   {
    "duration": 12,
    "start_time": "2023-04-29T18:59:58.212Z"
   },
   {
    "duration": 61,
    "start_time": "2023-04-29T19:00:27.796Z"
   },
   {
    "duration": 8,
    "start_time": "2023-04-29T19:00:41.119Z"
   },
   {
    "duration": 11,
    "start_time": "2023-04-29T19:01:03.257Z"
   },
   {
    "duration": 47,
    "start_time": "2023-04-29T19:01:21.910Z"
   },
   {
    "duration": 12,
    "start_time": "2023-04-29T19:01:30.690Z"
   },
   {
    "duration": 37,
    "start_time": "2023-04-29T19:02:28.522Z"
   },
   {
    "duration": 115,
    "start_time": "2023-04-29T19:03:08.142Z"
   },
   {
    "duration": 5,
    "start_time": "2023-04-29T19:04:40.113Z"
   },
   {
    "duration": 98,
    "start_time": "2023-04-29T19:04:47.164Z"
   },
   {
    "duration": 11,
    "start_time": "2023-04-29T19:05:38.738Z"
   },
   {
    "duration": 7,
    "start_time": "2023-04-29T19:05:39.108Z"
   },
   {
    "duration": 3,
    "start_time": "2023-04-29T19:05:39.668Z"
   },
   {
    "duration": 46,
    "start_time": "2023-04-29T19:05:40.217Z"
   },
   {
    "duration": 18,
    "start_time": "2023-04-29T19:06:16.854Z"
   },
   {
    "duration": 4,
    "start_time": "2023-04-29T19:11:27.444Z"
   },
   {
    "duration": 10,
    "start_time": "2023-04-29T19:11:37.500Z"
   },
   {
    "duration": 10,
    "start_time": "2023-04-29T19:17:58.000Z"
   },
   {
    "duration": 21,
    "start_time": "2023-04-29T19:20:30.383Z"
   },
   {
    "duration": 5,
    "start_time": "2023-04-29T19:21:30.537Z"
   },
   {
    "duration": 4,
    "start_time": "2023-04-29T19:21:47.314Z"
   },
   {
    "duration": 9,
    "start_time": "2023-04-29T19:21:58.400Z"
   },
   {
    "duration": 4,
    "start_time": "2023-04-29T19:22:25.598Z"
   },
   {
    "duration": 4,
    "start_time": "2023-04-29T19:25:14.911Z"
   },
   {
    "duration": 15,
    "start_time": "2023-04-29T19:26:09.101Z"
   },
   {
    "duration": 14,
    "start_time": "2023-04-29T19:27:31.914Z"
   },
   {
    "duration": 317,
    "start_time": "2023-04-29T19:35:36.041Z"
   },
   {
    "duration": 14,
    "start_time": "2023-04-29T19:35:42.428Z"
   },
   {
    "duration": 17,
    "start_time": "2023-04-29T19:35:52.010Z"
   },
   {
    "duration": 16,
    "start_time": "2023-04-29T19:48:30.845Z"
   },
   {
    "duration": 19,
    "start_time": "2023-04-29T19:48:53.207Z"
   },
   {
    "duration": 24,
    "start_time": "2023-04-29T20:27:42.498Z"
   },
   {
    "duration": 60,
    "start_time": "2023-04-29T20:30:06.644Z"
   },
   {
    "duration": 13,
    "start_time": "2023-04-29T20:30:35.517Z"
   },
   {
    "duration": 24,
    "start_time": "2023-04-29T20:30:57.504Z"
   },
   {
    "duration": 10,
    "start_time": "2023-04-29T20:31:04.292Z"
   },
   {
    "duration": 7,
    "start_time": "2023-04-29T20:31:04.704Z"
   },
   {
    "duration": 352,
    "start_time": "2023-04-29T20:31:05.996Z"
   },
   {
    "duration": 71,
    "start_time": "2023-04-29T20:31:07.337Z"
   },
   {
    "duration": 15,
    "start_time": "2023-04-29T20:31:09.295Z"
   },
   {
    "duration": 38,
    "start_time": "2023-04-29T20:31:10.526Z"
   },
   {
    "duration": 51,
    "start_time": "2023-04-29T20:31:33.212Z"
   },
   {
    "duration": 8,
    "start_time": "2023-04-29T20:31:50.635Z"
   },
   {
    "duration": 39,
    "start_time": "2023-04-29T20:31:57.854Z"
   },
   {
    "duration": 31,
    "start_time": "2023-04-29T20:33:40.429Z"
   },
   {
    "duration": 3,
    "start_time": "2023-04-29T20:33:40.714Z"
   },
   {
    "duration": 8,
    "start_time": "2023-04-29T20:33:57.795Z"
   },
   {
    "duration": 390,
    "start_time": "2023-04-29T20:34:15.296Z"
   },
   {
    "duration": 2,
    "start_time": "2023-04-29T20:34:53.597Z"
   },
   {
    "duration": 8,
    "start_time": "2023-04-29T20:34:54.394Z"
   },
   {
    "duration": 21,
    "start_time": "2023-04-29T20:35:34.310Z"
   },
   {
    "duration": 98,
    "start_time": "2023-04-29T20:35:51.186Z"
   },
   {
    "duration": 9,
    "start_time": "2023-04-29T20:35:53.015Z"
   },
   {
    "duration": 2123,
    "start_time": "2023-04-29T20:36:11.351Z"
   },
   {
    "duration": 7,
    "start_time": "2023-04-29T20:36:13.480Z"
   },
   {
    "duration": 19,
    "start_time": "2023-04-29T20:36:13.489Z"
   },
   {
    "duration": 316,
    "start_time": "2023-04-29T20:36:13.510Z"
   },
   {
    "duration": 55,
    "start_time": "2023-04-29T20:36:13.828Z"
   },
   {
    "duration": 16,
    "start_time": "2023-04-29T20:36:13.888Z"
   },
   {
    "duration": 41,
    "start_time": "2023-04-29T20:36:13.906Z"
   },
   {
    "duration": 54,
    "start_time": "2023-04-29T20:36:13.950Z"
   },
   {
    "duration": 8,
    "start_time": "2023-04-29T20:36:14.006Z"
   },
   {
    "duration": 4,
    "start_time": "2023-04-29T20:36:14.017Z"
   },
   {
    "duration": 6,
    "start_time": "2023-04-29T20:36:14.023Z"
   },
   {
    "duration": 32,
    "start_time": "2023-04-29T20:36:14.031Z"
   },
   {
    "duration": 95,
    "start_time": "2023-04-29T20:36:14.069Z"
   },
   {
    "duration": 5,
    "start_time": "2023-04-29T20:36:21.821Z"
   },
   {
    "duration": 5,
    "start_time": "2023-04-29T20:38:15.314Z"
   },
   {
    "duration": 415,
    "start_time": "2023-04-29T20:38:21.449Z"
   },
   {
    "duration": 28,
    "start_time": "2023-04-29T20:38:22.015Z"
   },
   {
    "duration": 95,
    "start_time": "2023-04-29T20:38:28.248Z"
   },
   {
    "duration": 6,
    "start_time": "2023-04-29T20:38:29.591Z"
   },
   {
    "duration": 4,
    "start_time": "2023-04-29T20:38:35.908Z"
   },
   {
    "duration": 160,
    "start_time": "2023-04-29T20:45:29.586Z"
   },
   {
    "duration": 17,
    "start_time": "2023-04-29T20:52:36.070Z"
   },
   {
    "duration": 960,
    "start_time": "2023-04-29T20:52:51.346Z"
   },
   {
    "duration": 23,
    "start_time": "2023-04-29T20:53:39.545Z"
   },
   {
    "duration": 847,
    "start_time": "2023-04-29T20:53:53.740Z"
   },
   {
    "duration": 21,
    "start_time": "2023-04-29T21:00:51.235Z"
   },
   {
    "duration": 22,
    "start_time": "2023-04-29T21:10:10.147Z"
   },
   {
    "duration": 150,
    "start_time": "2023-04-29T21:10:28.826Z"
   },
   {
    "duration": 19,
    "start_time": "2023-04-29T21:11:06.226Z"
   },
   {
    "duration": 153,
    "start_time": "2023-04-29T21:12:22.204Z"
   },
   {
    "duration": 146,
    "start_time": "2023-04-29T21:12:50.831Z"
   },
   {
    "duration": 196,
    "start_time": "2023-04-29T21:13:03.109Z"
   },
   {
    "duration": 237,
    "start_time": "2023-04-29T21:13:26.719Z"
   },
   {
    "duration": 10,
    "start_time": "2023-04-29T21:18:16.552Z"
   },
   {
    "duration": 4,
    "start_time": "2023-04-29T21:18:26.344Z"
   },
   {
    "duration": 9,
    "start_time": "2023-04-29T21:22:08.154Z"
   },
   {
    "duration": 13,
    "start_time": "2023-04-29T21:22:46.836Z"
   },
   {
    "duration": 44,
    "start_time": "2023-04-29T21:22:52.184Z"
   },
   {
    "duration": 3,
    "start_time": "2023-04-29T21:23:02.438Z"
   },
   {
    "duration": 9,
    "start_time": "2023-04-29T21:23:15.344Z"
   },
   {
    "duration": 10,
    "start_time": "2023-04-29T21:24:53.980Z"
   },
   {
    "duration": 3,
    "start_time": "2023-04-29T21:25:43.352Z"
   },
   {
    "duration": 14,
    "start_time": "2023-04-29T21:25:51.055Z"
   },
   {
    "duration": 33,
    "start_time": "2023-04-29T21:26:28.109Z"
   },
   {
    "duration": 22,
    "start_time": "2023-04-29T21:28:34.566Z"
   },
   {
    "duration": 22,
    "start_time": "2023-04-29T21:29:57.259Z"
   },
   {
    "duration": 24,
    "start_time": "2023-04-29T21:32:12.503Z"
   },
   {
    "duration": 23,
    "start_time": "2023-04-29T21:32:28.375Z"
   },
   {
    "duration": 23,
    "start_time": "2023-04-29T21:34:40.146Z"
   },
   {
    "duration": 23,
    "start_time": "2023-04-29T21:36:46.583Z"
   },
   {
    "duration": 9,
    "start_time": "2023-04-29T21:36:57.083Z"
   },
   {
    "duration": 7,
    "start_time": "2023-04-29T21:36:58.871Z"
   },
   {
    "duration": 22,
    "start_time": "2023-04-29T21:36:59.293Z"
   },
   {
    "duration": 8,
    "start_time": "2023-04-29T21:38:06.501Z"
   },
   {
    "duration": 27,
    "start_time": "2023-04-29T21:38:07.376Z"
   },
   {
    "duration": 0,
    "start_time": "2023-04-29T21:49:59.577Z"
   },
   {
    "duration": 13,
    "start_time": "2023-04-29T22:03:19.939Z"
   },
   {
    "duration": 12,
    "start_time": "2023-04-29T22:03:44.371Z"
   },
   {
    "duration": 17388,
    "start_time": "2023-04-29T22:03:51.394Z"
   },
   {
    "duration": 6945,
    "start_time": "2023-04-30T09:00:44.246Z"
   },
   {
    "duration": 1363,
    "start_time": "2023-04-30T09:00:51.194Z"
   },
   {
    "duration": 4,
    "start_time": "2023-04-30T09:00:52.558Z"
   },
   {
    "duration": 861,
    "start_time": "2023-04-30T09:00:52.564Z"
   },
   {
    "duration": 28,
    "start_time": "2023-04-30T09:00:53.426Z"
   },
   {
    "duration": 13,
    "start_time": "2023-04-30T09:00:53.455Z"
   },
   {
    "duration": 19,
    "start_time": "2023-04-30T09:00:53.469Z"
   },
   {
    "duration": 49,
    "start_time": "2023-04-30T09:00:53.490Z"
   },
   {
    "duration": 8,
    "start_time": "2023-04-30T09:00:53.540Z"
   },
   {
    "duration": 21,
    "start_time": "2023-04-30T09:00:53.551Z"
   },
   {
    "duration": 25,
    "start_time": "2023-04-30T09:00:53.574Z"
   },
   {
    "duration": 14,
    "start_time": "2023-04-30T09:00:53.601Z"
   },
   {
    "duration": 420,
    "start_time": "2023-04-30T09:00:53.616Z"
   },
   {
    "duration": 5,
    "start_time": "2023-04-30T09:00:54.037Z"
   },
   {
    "duration": 1739,
    "start_time": "2023-04-30T09:00:54.043Z"
   },
   {
    "duration": 28,
    "start_time": "2023-04-30T09:00:55.784Z"
   },
   {
    "duration": 105,
    "start_time": "2023-04-30T09:00:55.813Z"
   },
   {
    "duration": 5,
    "start_time": "2023-04-30T09:00:55.920Z"
   },
   {
    "duration": 4,
    "start_time": "2023-04-30T09:00:55.927Z"
   },
   {
    "duration": 9,
    "start_time": "2023-04-30T09:00:55.932Z"
   },
   {
    "duration": 885,
    "start_time": "2023-04-30T09:00:55.942Z"
   },
   {
    "duration": 862,
    "start_time": "2023-04-30T09:00:56.829Z"
   },
   {
    "duration": 780,
    "start_time": "2023-04-30T09:00:57.692Z"
   },
   {
    "duration": 143,
    "start_time": "2023-04-30T09:00:58.473Z"
   },
   {
    "duration": 194,
    "start_time": "2023-04-30T09:00:58.617Z"
   },
   {
    "duration": 16,
    "start_time": "2023-04-30T09:00:58.812Z"
   },
   {
    "duration": 837,
    "start_time": "2023-04-30T09:00:58.830Z"
   },
   {
    "duration": 19,
    "start_time": "2023-04-30T09:00:59.670Z"
   },
   {
    "duration": 213,
    "start_time": "2023-04-30T09:00:59.691Z"
   },
   {
    "duration": 189,
    "start_time": "2023-04-30T09:00:59.906Z"
   },
   {
    "duration": 7,
    "start_time": "2023-04-30T09:01:00.096Z"
   },
   {
    "duration": 19,
    "start_time": "2023-04-30T09:01:00.104Z"
   },
   {
    "duration": 120,
    "start_time": "2023-04-30T09:01:00.125Z"
   },
   {
    "duration": 0,
    "start_time": "2023-04-30T09:01:00.248Z"
   },
   {
    "duration": 0,
    "start_time": "2023-04-30T09:01:00.249Z"
   },
   {
    "duration": 0,
    "start_time": "2023-04-30T09:01:00.250Z"
   },
   {
    "duration": 0,
    "start_time": "2023-04-30T09:01:00.252Z"
   },
   {
    "duration": 0,
    "start_time": "2023-04-30T09:01:00.253Z"
   },
   {
    "duration": 0,
    "start_time": "2023-04-30T09:01:00.254Z"
   },
   {
    "duration": 0,
    "start_time": "2023-04-30T09:01:00.255Z"
   },
   {
    "duration": 0,
    "start_time": "2023-04-30T09:01:00.272Z"
   },
   {
    "duration": 0,
    "start_time": "2023-04-30T09:01:00.273Z"
   },
   {
    "duration": 8,
    "start_time": "2023-04-30T09:01:43.698Z"
   },
   {
    "duration": 6,
    "start_time": "2023-04-30T09:02:24.228Z"
   },
   {
    "duration": 4,
    "start_time": "2023-04-30T09:02:24.638Z"
   },
   {
    "duration": 181,
    "start_time": "2023-04-30T09:02:25.092Z"
   },
   {
    "duration": 4,
    "start_time": "2023-04-30T09:02:29.108Z"
   },
   {
    "duration": 5,
    "start_time": "2023-04-30T09:02:30.831Z"
   },
   {
    "duration": 10,
    "start_time": "2023-04-30T09:02:31.418Z"
   },
   {
    "duration": 6,
    "start_time": "2023-04-30T09:02:37.857Z"
   },
   {
    "duration": 3,
    "start_time": "2023-04-30T09:02:41.054Z"
   },
   {
    "duration": 4,
    "start_time": "2023-04-30T09:02:42.521Z"
   },
   {
    "duration": 11,
    "start_time": "2023-04-30T09:02:43.910Z"
   },
   {
    "duration": 3,
    "start_time": "2023-04-30T09:03:56.157Z"
   },
   {
    "duration": 9,
    "start_time": "2023-04-30T09:04:56.117Z"
   },
   {
    "duration": 4,
    "start_time": "2023-04-30T09:05:10.901Z"
   },
   {
    "duration": 3,
    "start_time": "2023-04-30T09:06:42.396Z"
   },
   {
    "duration": 4,
    "start_time": "2023-04-30T09:06:43.220Z"
   },
   {
    "duration": 4,
    "start_time": "2023-04-30T09:06:43.847Z"
   },
   {
    "duration": 3,
    "start_time": "2023-04-30T09:08:16.899Z"
   },
   {
    "duration": 4,
    "start_time": "2023-04-30T09:08:17.872Z"
   },
   {
    "duration": 3,
    "start_time": "2023-04-30T09:08:18.919Z"
   },
   {
    "duration": 11,
    "start_time": "2023-04-30T09:08:23.170Z"
   },
   {
    "duration": 2,
    "start_time": "2023-04-30T09:13:16.228Z"
   },
   {
    "duration": 5,
    "start_time": "2023-04-30T09:13:16.808Z"
   },
   {
    "duration": 6,
    "start_time": "2023-04-30T09:13:20.932Z"
   },
   {
    "duration": 11,
    "start_time": "2023-04-30T09:13:40.677Z"
   },
   {
    "duration": 57,
    "start_time": "2023-04-30T18:16:34.555Z"
   },
   {
    "duration": 8453,
    "start_time": "2023-04-30T18:16:43.627Z"
   },
   {
    "duration": 1618,
    "start_time": "2023-04-30T18:16:52.083Z"
   },
   {
    "duration": 10,
    "start_time": "2023-04-30T18:16:53.711Z"
   },
   {
    "duration": 1947,
    "start_time": "2023-04-30T18:16:53.723Z"
   },
   {
    "duration": 46,
    "start_time": "2023-04-30T18:16:55.673Z"
   },
   {
    "duration": 19,
    "start_time": "2023-04-30T18:16:55.726Z"
   },
   {
    "duration": 24,
    "start_time": "2023-04-30T18:16:55.747Z"
   },
   {
    "duration": 50,
    "start_time": "2023-04-30T18:16:55.772Z"
   },
   {
    "duration": 13,
    "start_time": "2023-04-30T18:16:55.831Z"
   },
   {
    "duration": 25,
    "start_time": "2023-04-30T18:16:55.846Z"
   },
   {
    "duration": 10,
    "start_time": "2023-04-30T18:16:55.873Z"
   },
   {
    "duration": 12,
    "start_time": "2023-04-30T18:16:55.884Z"
   },
   {
    "duration": 238,
    "start_time": "2023-04-30T18:16:55.900Z"
   },
   {
    "duration": 6,
    "start_time": "2023-04-30T18:16:56.142Z"
   },
   {
    "duration": 785,
    "start_time": "2023-04-30T18:16:56.150Z"
   },
   {
    "duration": 41,
    "start_time": "2023-04-30T18:16:56.941Z"
   },
   {
    "duration": 118,
    "start_time": "2023-04-30T18:16:56.985Z"
   },
   {
    "duration": 15,
    "start_time": "2023-04-30T18:16:57.125Z"
   },
   {
    "duration": 5,
    "start_time": "2023-04-30T18:16:57.142Z"
   },
   {
    "duration": 3,
    "start_time": "2023-04-30T18:16:57.149Z"
   },
   {
    "duration": 1127,
    "start_time": "2023-04-30T18:16:57.154Z"
   },
   {
    "duration": 919,
    "start_time": "2023-04-30T18:16:58.283Z"
   },
   {
    "duration": 875,
    "start_time": "2023-04-30T18:16:59.204Z"
   },
   {
    "duration": 202,
    "start_time": "2023-04-30T18:17:00.081Z"
   },
   {
    "duration": 298,
    "start_time": "2023-04-30T18:17:00.285Z"
   },
   {
    "duration": 51,
    "start_time": "2023-04-30T18:17:00.585Z"
   },
   {
    "duration": 842,
    "start_time": "2023-04-30T18:17:00.638Z"
   },
   {
    "duration": 37,
    "start_time": "2023-04-30T18:17:01.482Z"
   },
   {
    "duration": 254,
    "start_time": "2023-04-30T18:17:01.520Z"
   },
   {
    "duration": 277,
    "start_time": "2023-04-30T18:17:01.776Z"
   },
   {
    "duration": 12,
    "start_time": "2023-04-30T18:17:02.055Z"
   },
   {
    "duration": 33,
    "start_time": "2023-04-30T18:17:02.069Z"
   },
   {
    "duration": 43,
    "start_time": "2023-04-30T18:17:02.104Z"
   },
   {
    "duration": 40,
    "start_time": "2023-04-30T18:17:02.149Z"
   },
   {
    "duration": 1308,
    "start_time": "2023-04-30T18:17:02.190Z"
   },
   {
    "duration": 11,
    "start_time": "2023-04-30T18:17:03.503Z"
   },
   {
    "duration": 16,
    "start_time": "2023-04-30T18:17:03.519Z"
   },
   {
    "duration": 69,
    "start_time": "2023-04-30T18:17:03.537Z"
   },
   {
    "duration": 68,
    "start_time": "2023-04-30T18:17:03.633Z"
   },
   {
    "duration": 16,
    "start_time": "2023-04-30T18:17:03.703Z"
   },
   {
    "duration": 13,
    "start_time": "2023-04-30T18:17:03.728Z"
   },
   {
    "duration": 7,
    "start_time": "2023-04-30T18:17:07.118Z"
   },
   {
    "duration": 11383,
    "start_time": "2023-04-30T18:17:08.644Z"
   },
   {
    "duration": 5,
    "start_time": "2023-04-30T18:26:05.861Z"
   },
   {
    "duration": 10,
    "start_time": "2023-04-30T18:26:14.354Z"
   },
   {
    "duration": 4,
    "start_time": "2023-04-30T18:26:18.732Z"
   },
   {
    "duration": 8,
    "start_time": "2023-04-30T18:26:19.546Z"
   },
   {
    "duration": 11666,
    "start_time": "2023-04-30T18:26:20.342Z"
   },
   {
    "duration": 4,
    "start_time": "2023-04-30T18:27:27.065Z"
   },
   {
    "duration": 9,
    "start_time": "2023-04-30T18:27:36.045Z"
   },
   {
    "duration": 9,
    "start_time": "2023-04-30T18:27:44.034Z"
   },
   {
    "duration": 21857,
    "start_time": "2023-04-30T18:34:28.562Z"
   },
   {
    "duration": 97,
    "start_time": "2023-04-30T18:37:13.554Z"
   },
   {
    "duration": 20,
    "start_time": "2023-04-30T18:37:25.329Z"
   },
   {
    "duration": 22567,
    "start_time": "2023-04-30T18:38:32.109Z"
   },
   {
    "duration": 6,
    "start_time": "2023-04-30T18:38:54.678Z"
   },
   {
    "duration": 5,
    "start_time": "2023-04-30T18:39:58.180Z"
   },
   {
    "duration": 14,
    "start_time": "2023-04-30T18:40:07.837Z"
   },
   {
    "duration": 26,
    "start_time": "2023-04-30T18:40:47.681Z"
   },
   {
    "duration": 26,
    "start_time": "2023-04-30T18:42:06.204Z"
   },
   {
    "duration": 110,
    "start_time": "2023-04-30T18:45:48.583Z"
   },
   {
    "duration": 18,
    "start_time": "2023-04-30T18:46:01.233Z"
   },
   {
    "duration": 10118,
    "start_time": "2023-04-30T18:46:08.492Z"
   },
   {
    "duration": 9,
    "start_time": "2023-04-30T18:46:33.253Z"
   },
   {
    "duration": 9971,
    "start_time": "2023-04-30T18:46:38.272Z"
   },
   {
    "duration": 12,
    "start_time": "2023-04-30T18:47:25.727Z"
   },
   {
    "duration": 5,
    "start_time": "2023-04-30T18:47:35.046Z"
   },
   {
    "duration": 10741,
    "start_time": "2023-04-30T18:47:35.268Z"
   },
   {
    "duration": 5,
    "start_time": "2023-04-30T18:47:57.882Z"
   },
   {
    "duration": 3,
    "start_time": "2023-04-30T18:48:09.883Z"
   },
   {
    "duration": 8168,
    "start_time": "2023-04-30T18:48:10.255Z"
   },
   {
    "duration": 6,
    "start_time": "2023-04-30T18:49:15.776Z"
   },
   {
    "duration": 14,
    "start_time": "2023-04-30T18:49:31.520Z"
   },
   {
    "duration": 24,
    "start_time": "2023-04-30T18:49:40.292Z"
   },
   {
    "duration": 6581,
    "start_time": "2023-04-30T18:49:40.777Z"
   },
   {
    "duration": 20,
    "start_time": "2023-04-30T18:52:00.331Z"
   },
   {
    "duration": 5,
    "start_time": "2023-04-30T18:52:09.934Z"
   },
   {
    "duration": 5541,
    "start_time": "2023-04-30T18:52:11.473Z"
   },
   {
    "duration": 5,
    "start_time": "2023-04-30T18:54:59.378Z"
   },
   {
    "duration": 7,
    "start_time": "2023-04-30T18:55:10.744Z"
   },
   {
    "duration": 6,
    "start_time": "2023-04-30T19:19:42.244Z"
   },
   {
    "duration": 5,
    "start_time": "2023-04-30T19:19:50.550Z"
   },
   {
    "duration": 9237,
    "start_time": "2023-04-30T19:19:50.824Z"
   },
   {
    "duration": 9,
    "start_time": "2023-04-30T19:20:35.162Z"
   },
   {
    "duration": 9631,
    "start_time": "2023-04-30T19:20:43.032Z"
   },
   {
    "duration": 6,
    "start_time": "2023-04-30T19:24:46.185Z"
   },
   {
    "duration": 7,
    "start_time": "2023-04-30T19:25:13.129Z"
   },
   {
    "duration": 8,
    "start_time": "2023-04-30T19:25:16.173Z"
   },
   {
    "duration": 8,
    "start_time": "2023-04-30T19:25:16.989Z"
   },
   {
    "duration": 12189,
    "start_time": "2023-04-30T19:25:17.752Z"
   },
   {
    "duration": 5,
    "start_time": "2023-04-30T19:26:04.036Z"
   },
   {
    "duration": 3,
    "start_time": "2023-04-30T19:26:12.689Z"
   },
   {
    "duration": 10838,
    "start_time": "2023-04-30T19:26:12.932Z"
   },
   {
    "duration": 7,
    "start_time": "2023-04-30T19:27:35.978Z"
   },
   {
    "duration": 6,
    "start_time": "2023-04-30T19:27:42.983Z"
   },
   {
    "duration": 8785,
    "start_time": "2023-04-30T19:27:43.366Z"
   },
   {
    "duration": 6,
    "start_time": "2023-04-30T19:28:11.450Z"
   },
   {
    "duration": 9397,
    "start_time": "2023-04-30T19:28:18.983Z"
   },
   {
    "duration": 6,
    "start_time": "2023-04-30T19:28:30.788Z"
   },
   {
    "duration": 3627,
    "start_time": "2023-04-30T19:28:31.117Z"
   },
   {
    "duration": 25330,
    "start_time": "2023-04-30T19:28:36.135Z"
   },
   {
    "duration": 29,
    "start_time": "2023-04-30T19:29:01.474Z"
   },
   {
    "duration": 55,
    "start_time": "2023-04-30T19:34:36.576Z"
   },
   {
    "duration": 54,
    "start_time": "2023-04-30T19:34:50.922Z"
   },
   {
    "duration": 61,
    "start_time": "2023-04-30T19:35:24.110Z"
   },
   {
    "duration": 25,
    "start_time": "2023-04-30T19:35:31.214Z"
   },
   {
    "duration": 41,
    "start_time": "2023-04-30T19:35:49.249Z"
   },
   {
    "duration": 8,
    "start_time": "2023-04-30T19:37:10.676Z"
   },
   {
    "duration": 27,
    "start_time": "2023-04-30T19:37:21.908Z"
   },
   {
    "duration": 12,
    "start_time": "2023-04-30T19:38:24.715Z"
   },
   {
    "duration": 5,
    "start_time": "2023-04-30T19:38:32.197Z"
   },
   {
    "duration": 4753,
    "start_time": "2023-04-30T19:38:32.434Z"
   },
   {
    "duration": 5,
    "start_time": "2023-04-30T19:38:49.470Z"
   },
   {
    "duration": 7,
    "start_time": "2023-04-30T19:38:56.629Z"
   },
   {
    "duration": 3451,
    "start_time": "2023-04-30T19:38:56.826Z"
   },
   {
    "duration": 18,
    "start_time": "2023-04-30T19:39:00.286Z"
   },
   {
    "duration": 9,
    "start_time": "2023-04-30T19:39:01.982Z"
   },
   {
    "duration": 3736,
    "start_time": "2023-04-30T19:39:02.244Z"
   },
   {
    "duration": 13,
    "start_time": "2023-04-30T19:48:49.052Z"
   },
   {
    "duration": 18,
    "start_time": "2023-04-30T19:49:41.425Z"
   },
   {
    "duration": 17,
    "start_time": "2023-04-30T19:49:52.883Z"
   },
   {
    "duration": 4,
    "start_time": "2023-04-30T19:49:57.164Z"
   },
   {
    "duration": 3901,
    "start_time": "2023-04-30T19:49:57.790Z"
   },
   {
    "duration": 163,
    "start_time": "2023-04-30T19:52:16.020Z"
   },
   {
    "duration": 19,
    "start_time": "2023-04-30T19:52:27.040Z"
   },
   {
    "duration": 19,
    "start_time": "2023-04-30T19:52:35.941Z"
   },
   {
    "duration": 42,
    "start_time": "2023-04-30T19:56:46.425Z"
   },
   {
    "duration": 17,
    "start_time": "2023-04-30T19:57:37.710Z"
   },
   {
    "duration": 23,
    "start_time": "2023-04-30T19:58:48.487Z"
   },
   {
    "duration": 27,
    "start_time": "2023-04-30T19:59:12.850Z"
   },
   {
    "duration": 0,
    "start_time": "2023-04-30T20:15:40.553Z"
   },
   {
    "duration": 0,
    "start_time": "2023-04-30T20:15:40.554Z"
   },
   {
    "duration": 0,
    "start_time": "2023-04-30T20:15:40.556Z"
   },
   {
    "duration": 9,
    "start_time": "2023-04-30T20:15:42.787Z"
   },
   {
    "duration": 45,
    "start_time": "2023-04-30T20:15:43.526Z"
   },
   {
    "duration": 22,
    "start_time": "2023-04-30T20:16:00.378Z"
   },
   {
    "duration": 3770,
    "start_time": "2023-04-30T20:16:09.457Z"
   },
   {
    "duration": 19,
    "start_time": "2023-04-30T20:16:13.230Z"
   },
   {
    "duration": 27,
    "start_time": "2023-04-30T20:16:13.252Z"
   },
   {
    "duration": 598,
    "start_time": "2023-04-30T20:16:13.281Z"
   },
   {
    "duration": 144,
    "start_time": "2023-04-30T20:16:13.887Z"
   },
   {
    "duration": 45,
    "start_time": "2023-04-30T20:16:14.038Z"
   },
   {
    "duration": 90,
    "start_time": "2023-04-30T20:16:14.096Z"
   },
   {
    "duration": 154,
    "start_time": "2023-04-30T20:16:14.193Z"
   },
   {
    "duration": 45,
    "start_time": "2023-04-30T20:16:14.360Z"
   },
   {
    "duration": 8,
    "start_time": "2023-04-30T20:16:14.407Z"
   },
   {
    "duration": 38,
    "start_time": "2023-04-30T20:16:14.417Z"
   },
   {
    "duration": 22,
    "start_time": "2023-04-30T20:16:14.457Z"
   },
   {
    "duration": 219,
    "start_time": "2023-04-30T20:16:14.491Z"
   },
   {
    "duration": 15,
    "start_time": "2023-04-30T20:16:14.722Z"
   },
   {
    "duration": 878,
    "start_time": "2023-04-30T20:16:14.743Z"
   },
   {
    "duration": 69,
    "start_time": "2023-04-30T20:16:15.627Z"
   },
   {
    "duration": 193,
    "start_time": "2023-04-30T20:16:15.701Z"
   },
   {
    "duration": 14,
    "start_time": "2023-04-30T20:16:15.904Z"
   },
   {
    "duration": 13,
    "start_time": "2023-04-30T20:16:15.924Z"
   },
   {
    "duration": 17,
    "start_time": "2023-04-30T20:16:15.942Z"
   },
   {
    "duration": 1692,
    "start_time": "2023-04-30T20:16:15.965Z"
   },
   {
    "duration": 1711,
    "start_time": "2023-04-30T20:16:17.663Z"
   },
   {
    "duration": 1533,
    "start_time": "2023-04-30T20:16:19.384Z"
   },
   {
    "duration": 294,
    "start_time": "2023-04-30T20:16:20.923Z"
   },
   {
    "duration": 336,
    "start_time": "2023-04-30T20:16:21.223Z"
   },
   {
    "duration": 42,
    "start_time": "2023-04-30T20:16:21.565Z"
   },
   {
    "duration": 1596,
    "start_time": "2023-04-30T20:16:21.613Z"
   },
   {
    "duration": 66,
    "start_time": "2023-04-30T20:16:23.215Z"
   },
   {
    "duration": 583,
    "start_time": "2023-04-30T20:16:23.286Z"
   },
   {
    "duration": 278,
    "start_time": "2023-04-30T20:16:23.875Z"
   },
   {
    "duration": 16,
    "start_time": "2023-04-30T20:16:24.159Z"
   },
   {
    "duration": 38,
    "start_time": "2023-04-30T20:16:24.183Z"
   },
   {
    "duration": 16,
    "start_time": "2023-04-30T20:16:24.227Z"
   },
   {
    "duration": 17,
    "start_time": "2023-04-30T20:16:24.253Z"
   },
   {
    "duration": 1739,
    "start_time": "2023-04-30T20:16:24.276Z"
   },
   {
    "duration": 36,
    "start_time": "2023-04-30T20:16:26.030Z"
   },
   {
    "duration": 22,
    "start_time": "2023-04-30T20:16:26.089Z"
   },
   {
    "duration": 120,
    "start_time": "2023-04-30T20:16:26.123Z"
   },
   {
    "duration": 58,
    "start_time": "2023-04-30T20:16:26.293Z"
   },
   {
    "duration": 26,
    "start_time": "2023-04-30T20:16:28.067Z"
   },
   {
    "duration": 8,
    "start_time": "2023-04-30T20:16:29.335Z"
   },
   {
    "duration": 5881,
    "start_time": "2023-04-30T20:16:30.185Z"
   },
   {
    "duration": 632688,
    "start_time": "2023-04-30T20:22:23.841Z"
   },
   {
    "duration": 7722,
    "start_time": "2023-04-30T20:33:12.173Z"
   },
   {
    "duration": 257937,
    "start_time": "2023-04-30T20:33:52.573Z"
   },
   {
    "duration": 10,
    "start_time": "2023-04-30T20:39:15.337Z"
   },
   {
    "duration": 4,
    "start_time": "2023-04-30T20:39:51.114Z"
   },
   {
    "duration": 6629,
    "start_time": "2023-04-30T20:39:51.453Z"
   },
   {
    "duration": 13,
    "start_time": "2023-04-30T20:40:24.789Z"
   },
   {
    "duration": 3,
    "start_time": "2023-04-30T20:41:17.855Z"
   },
   {
    "duration": 172560,
    "start_time": "2023-04-30T20:42:00.258Z"
   },
   {
    "duration": 481021,
    "start_time": "2023-04-30T20:45:06.054Z"
   },
   {
    "duration": 37,
    "start_time": "2023-04-30T21:04:51.753Z"
   },
   {
    "duration": 13,
    "start_time": "2023-04-30T21:05:06.958Z"
   },
   {
    "duration": 25,
    "start_time": "2023-04-30T21:05:13.885Z"
   },
   {
    "duration": 22,
    "start_time": "2023-04-30T21:05:24.165Z"
   },
   {
    "duration": 3835,
    "start_time": "2023-04-30T21:07:12.615Z"
   },
   {
    "duration": 1955,
    "start_time": "2023-04-30T21:07:16.452Z"
   },
   {
    "duration": 13,
    "start_time": "2023-04-30T21:07:18.413Z"
   },
   {
    "duration": 537,
    "start_time": "2023-04-30T21:07:18.434Z"
   },
   {
    "duration": 63,
    "start_time": "2023-04-30T21:07:18.976Z"
   },
   {
    "duration": 32,
    "start_time": "2023-04-30T21:07:19.047Z"
   },
   {
    "duration": 34,
    "start_time": "2023-04-30T21:07:19.086Z"
   },
   {
    "duration": 69,
    "start_time": "2023-04-30T21:07:19.126Z"
   },
   {
    "duration": 38,
    "start_time": "2023-04-30T21:07:19.202Z"
   },
   {
    "duration": 13,
    "start_time": "2023-04-30T21:07:19.254Z"
   },
   {
    "duration": 23,
    "start_time": "2023-04-30T21:07:19.273Z"
   },
   {
    "duration": 15,
    "start_time": "2023-04-30T21:07:19.308Z"
   },
   {
    "duration": 170,
    "start_time": "2023-04-30T21:07:19.329Z"
   },
   {
    "duration": 10,
    "start_time": "2023-04-30T21:07:19.505Z"
   },
   {
    "duration": 568,
    "start_time": "2023-04-30T21:07:19.521Z"
   },
   {
    "duration": 80,
    "start_time": "2023-04-30T21:07:20.095Z"
   },
   {
    "duration": 180,
    "start_time": "2023-04-30T21:07:20.183Z"
   },
   {
    "duration": 16,
    "start_time": "2023-04-30T21:07:20.369Z"
   },
   {
    "duration": 20,
    "start_time": "2023-04-30T21:07:20.391Z"
   },
   {
    "duration": 20,
    "start_time": "2023-04-30T21:07:20.419Z"
   },
   {
    "duration": 1502,
    "start_time": "2023-04-30T21:07:20.445Z"
   },
   {
    "duration": 1176,
    "start_time": "2023-04-30T21:07:21.953Z"
   },
   {
    "duration": 1396,
    "start_time": "2023-04-30T21:07:23.135Z"
   },
   {
    "duration": 327,
    "start_time": "2023-04-30T21:07:24.540Z"
   },
   {
    "duration": 401,
    "start_time": "2023-04-30T21:07:24.878Z"
   },
   {
    "duration": 150,
    "start_time": "2023-04-30T21:07:25.284Z"
   },
   {
    "duration": 1378,
    "start_time": "2023-04-30T21:07:25.437Z"
   },
   {
    "duration": 41,
    "start_time": "2023-04-30T21:07:26.821Z"
   },
   {
    "duration": 362,
    "start_time": "2023-04-30T21:07:26.868Z"
   },
   {
    "duration": 447,
    "start_time": "2023-04-30T21:07:27.236Z"
   },
   {
    "duration": 21,
    "start_time": "2023-04-30T21:07:27.689Z"
   },
   {
    "duration": 26,
    "start_time": "2023-04-30T21:07:27.720Z"
   },
   {
    "duration": 51,
    "start_time": "2023-04-30T21:07:27.751Z"
   },
   {
    "duration": 7,
    "start_time": "2023-04-30T21:07:27.804Z"
   },
   {
    "duration": 1487,
    "start_time": "2023-04-30T21:07:27.813Z"
   },
   {
    "duration": 49,
    "start_time": "2023-04-30T21:08:01.180Z"
   },
   {
    "duration": 666,
    "start_time": "2023-04-30T21:08:01.757Z"
   },
   {
    "duration": 618,
    "start_time": "2023-04-30T21:08:02.429Z"
   },
   {
    "duration": 28,
    "start_time": "2023-04-30T21:08:05.375Z"
   },
   {
    "duration": 60,
    "start_time": "2023-04-30T21:08:06.385Z"
   },
   {
    "duration": 30,
    "start_time": "2023-04-30T21:08:09.969Z"
   },
   {
    "duration": 13,
    "start_time": "2023-04-30T21:08:10.347Z"
   },
   {
    "duration": 626,
    "start_time": "2023-04-30T21:08:11.581Z"
   },
   {
    "duration": 296137,
    "start_time": "2023-04-30T21:08:17.931Z"
   },
   {
    "duration": 20,
    "start_time": "2023-04-30T21:13:15.140Z"
   },
   {
    "duration": 2739,
    "start_time": "2023-04-30T21:13:36.119Z"
   },
   {
    "duration": 1624,
    "start_time": "2023-04-30T21:13:38.861Z"
   },
   {
    "duration": 11,
    "start_time": "2023-04-30T21:13:40.497Z"
   },
   {
    "duration": 478,
    "start_time": "2023-04-30T21:13:40.512Z"
   },
   {
    "duration": 62,
    "start_time": "2023-04-30T21:13:40.998Z"
   },
   {
    "duration": 41,
    "start_time": "2023-04-30T21:13:41.076Z"
   },
   {
    "duration": 63,
    "start_time": "2023-04-30T21:13:41.124Z"
   },
   {
    "duration": 100,
    "start_time": "2023-04-30T21:13:41.192Z"
   },
   {
    "duration": 33,
    "start_time": "2023-04-30T21:13:41.298Z"
   },
   {
    "duration": 14,
    "start_time": "2023-04-30T21:13:41.337Z"
   },
   {
    "duration": 16,
    "start_time": "2023-04-30T21:13:41.357Z"
   },
   {
    "duration": 23,
    "start_time": "2023-04-30T21:13:41.380Z"
   },
   {
    "duration": 140,
    "start_time": "2023-04-30T21:13:41.409Z"
   },
   {
    "duration": 11,
    "start_time": "2023-04-30T21:13:41.557Z"
   },
   {
    "duration": 620,
    "start_time": "2023-04-30T21:13:41.578Z"
   },
   {
    "duration": 46,
    "start_time": "2023-04-30T21:13:42.203Z"
   },
   {
    "duration": 145,
    "start_time": "2023-04-30T21:13:42.254Z"
   },
   {
    "duration": 12,
    "start_time": "2023-04-30T21:13:42.401Z"
   },
   {
    "duration": 16,
    "start_time": "2023-04-30T21:13:42.420Z"
   },
   {
    "duration": 4,
    "start_time": "2023-04-30T21:13:42.438Z"
   },
   {
    "duration": 1219,
    "start_time": "2023-04-30T21:13:42.446Z"
   },
   {
    "duration": 1080,
    "start_time": "2023-04-30T21:13:43.667Z"
   },
   {
    "duration": 1124,
    "start_time": "2023-04-30T21:13:44.751Z"
   },
   {
    "duration": 302,
    "start_time": "2023-04-30T21:13:45.885Z"
   },
   {
    "duration": 272,
    "start_time": "2023-04-30T21:13:46.191Z"
   },
   {
    "duration": 120,
    "start_time": "2023-04-30T21:13:46.468Z"
   },
   {
    "duration": 959,
    "start_time": "2023-04-30T21:13:46.590Z"
   },
   {
    "duration": 29,
    "start_time": "2023-04-30T21:13:47.551Z"
   },
   {
    "duration": 284,
    "start_time": "2023-04-30T21:13:47.582Z"
   },
   {
    "duration": 278,
    "start_time": "2023-04-30T21:13:47.868Z"
   },
   {
    "duration": 17,
    "start_time": "2023-04-30T21:13:48.154Z"
   },
   {
    "duration": 30,
    "start_time": "2023-04-30T21:13:48.173Z"
   },
   {
    "duration": 23,
    "start_time": "2023-04-30T21:13:48.212Z"
   },
   {
    "duration": 11,
    "start_time": "2023-04-30T21:13:48.244Z"
   },
   {
    "duration": 1762,
    "start_time": "2023-04-30T21:13:48.257Z"
   },
   {
    "duration": 8,
    "start_time": "2023-04-30T21:13:50.026Z"
   },
   {
    "duration": 25,
    "start_time": "2023-04-30T21:13:50.042Z"
   },
   {
    "duration": 8301,
    "start_time": "2023-04-30T21:13:50.069Z"
   },
   {
    "duration": 302,
    "start_time": "2023-04-30T21:13:58.372Z"
   },
   {
    "duration": 12,
    "start_time": "2023-04-30T21:13:58.677Z"
   },
   {
    "duration": 201,
    "start_time": "2023-04-30T21:15:00.676Z"
   },
   {
    "duration": 135,
    "start_time": "2023-04-30T21:15:09.045Z"
   },
   {
    "duration": 21,
    "start_time": "2023-04-30T21:15:50.326Z"
   },
   {
    "duration": 521,
    "start_time": "2023-04-30T21:15:54.461Z"
   },
   {
    "duration": 1548,
    "start_time": "2023-04-30T21:16:09.348Z"
   },
   {
    "duration": 16,
    "start_time": "2023-04-30T21:16:18.819Z"
   },
   {
    "duration": 935,
    "start_time": "2023-04-30T21:16:29.735Z"
   },
   {
    "duration": 12,
    "start_time": "2023-04-30T21:16:34.966Z"
   },
   {
    "duration": 1091,
    "start_time": "2023-04-30T21:16:40.560Z"
   },
   {
    "duration": 14,
    "start_time": "2023-04-30T21:16:44.522Z"
   },
   {
    "duration": 1388,
    "start_time": "2023-04-30T21:16:47.919Z"
   },
   {
    "duration": 19,
    "start_time": "2023-04-30T21:16:53.117Z"
   },
   {
    "duration": 7252,
    "start_time": "2023-04-30T21:17:07.833Z"
   },
   {
    "duration": 19,
    "start_time": "2023-04-30T21:17:21.252Z"
   },
   {
    "duration": 479,
    "start_time": "2023-04-30T21:17:42.586Z"
   },
   {
    "duration": 8057,
    "start_time": "2023-04-30T21:17:49.332Z"
   },
   {
    "duration": 34,
    "start_time": "2023-04-30T21:18:02.160Z"
   },
   {
    "duration": 14825,
    "start_time": "2023-04-30T21:18:09.629Z"
   },
   {
    "duration": 22,
    "start_time": "2023-04-30T21:18:29.926Z"
   },
   {
    "duration": 28454,
    "start_time": "2023-04-30T21:18:51.013Z"
   },
   {
    "duration": 33,
    "start_time": "2023-04-30T21:19:25.918Z"
   },
   {
    "duration": 51740,
    "start_time": "2023-04-30T21:19:39.623Z"
   },
   {
    "duration": 16,
    "start_time": "2023-04-30T21:20:52.642Z"
   },
   {
    "duration": 4,
    "start_time": "2023-04-30T21:21:29.187Z"
   },
   {
    "duration": 4,
    "start_time": "2023-04-30T21:22:17.986Z"
   },
   {
    "duration": 38,
    "start_time": "2023-04-30T21:23:51.816Z"
   },
   {
    "duration": 30,
    "start_time": "2023-04-30T21:23:53.228Z"
   },
   {
    "duration": 19,
    "start_time": "2023-04-30T21:24:31.153Z"
   },
   {
    "duration": 10,
    "start_time": "2023-04-30T21:25:18.182Z"
   },
   {
    "duration": 314,
    "start_time": "2023-04-30T21:25:23.038Z"
   },
   {
    "duration": 2311,
    "start_time": "2023-04-30T21:26:02.388Z"
   },
   {
    "duration": 10,
    "start_time": "2023-04-30T21:27:07.209Z"
   },
   {
    "duration": 9,
    "start_time": "2023-04-30T21:27:28.418Z"
   },
   {
    "duration": 9,
    "start_time": "2023-04-30T21:28:10.039Z"
   },
   {
    "duration": 7,
    "start_time": "2023-04-30T21:28:15.152Z"
   },
   {
    "duration": 26,
    "start_time": "2023-04-30T21:28:18.297Z"
   },
   {
    "duration": 23,
    "start_time": "2023-04-30T21:28:23.780Z"
   },
   {
    "duration": 23,
    "start_time": "2023-04-30T21:28:45.920Z"
   },
   {
    "duration": 98,
    "start_time": "2023-04-30T21:28:58.691Z"
   },
   {
    "duration": 130,
    "start_time": "2023-04-30T21:29:09.188Z"
   },
   {
    "duration": 8,
    "start_time": "2023-04-30T21:29:12.521Z"
   },
   {
    "duration": 16,
    "start_time": "2023-04-30T21:30:01.089Z"
   },
   {
    "duration": 8,
    "start_time": "2023-04-30T21:30:16.557Z"
   },
   {
    "duration": 12,
    "start_time": "2023-04-30T21:30:32.911Z"
   },
   {
    "duration": 14,
    "start_time": "2023-04-30T21:30:55.731Z"
   },
   {
    "duration": 29,
    "start_time": "2023-04-30T21:32:40.224Z"
   },
   {
    "duration": 10,
    "start_time": "2023-04-30T21:32:56.452Z"
   },
   {
    "duration": 18,
    "start_time": "2023-04-30T21:33:50.059Z"
   },
   {
    "duration": 3,
    "start_time": "2023-04-30T21:34:38.362Z"
   },
   {
    "duration": 1594,
    "start_time": "2023-04-30T21:34:57.892Z"
   },
   {
    "duration": 1640,
    "start_time": "2023-04-30T21:35:10.825Z"
   },
   {
    "duration": 1710,
    "start_time": "2023-04-30T21:36:16.840Z"
   },
   {
    "duration": 1646,
    "start_time": "2023-04-30T21:36:32.809Z"
   },
   {
    "duration": 1638,
    "start_time": "2023-04-30T21:36:46.218Z"
   },
   {
    "duration": 1778,
    "start_time": "2023-04-30T21:37:02.351Z"
   },
   {
    "duration": 1650,
    "start_time": "2023-04-30T21:38:30.860Z"
   },
   {
    "duration": 9,
    "start_time": "2023-04-30T21:41:39.353Z"
   },
   {
    "duration": 14,
    "start_time": "2023-04-30T21:42:04.252Z"
   },
   {
    "duration": 8,
    "start_time": "2023-04-30T21:42:21.121Z"
   },
   {
    "duration": 10,
    "start_time": "2023-04-30T21:46:06.655Z"
   },
   {
    "duration": 11,
    "start_time": "2023-04-30T21:46:18.078Z"
   },
   {
    "duration": 8,
    "start_time": "2023-04-30T21:46:27.933Z"
   },
   {
    "duration": 9,
    "start_time": "2023-04-30T21:46:33.069Z"
   },
   {
    "duration": 13,
    "start_time": "2023-04-30T21:46:54.866Z"
   },
   {
    "duration": 7,
    "start_time": "2023-04-30T21:47:24.781Z"
   },
   {
    "duration": 15,
    "start_time": "2023-04-30T21:47:26.553Z"
   },
   {
    "duration": 1668,
    "start_time": "2023-04-30T21:47:53.996Z"
   },
   {
    "duration": 14,
    "start_time": "2023-04-30T21:47:55.666Z"
   },
   {
    "duration": 7,
    "start_time": "2023-04-30T21:48:42.765Z"
   },
   {
    "duration": 21,
    "start_time": "2023-04-30T21:51:36.223Z"
   },
   {
    "duration": 14,
    "start_time": "2023-04-30T21:53:02.744Z"
   },
   {
    "duration": 41,
    "start_time": "2023-04-30T21:53:16.081Z"
   },
   {
    "duration": 4,
    "start_time": "2023-04-30T21:53:25.661Z"
   },
   {
    "duration": 24,
    "start_time": "2023-04-30T21:53:28.214Z"
   },
   {
    "duration": 18,
    "start_time": "2023-04-30T21:53:47.953Z"
   },
   {
    "duration": 8,
    "start_time": "2023-04-30T21:53:56.655Z"
   },
   {
    "duration": 6,
    "start_time": "2023-04-30T21:57:16.912Z"
   },
   {
    "duration": 23,
    "start_time": "2023-04-30T21:57:24.184Z"
   },
   {
    "duration": 6,
    "start_time": "2023-04-30T21:58:43.345Z"
   },
   {
    "duration": 16,
    "start_time": "2023-04-30T21:59:32.187Z"
   },
   {
    "duration": 4,
    "start_time": "2023-05-03T09:37:56.856Z"
   },
   {
    "duration": 2,
    "start_time": "2023-05-03T09:38:01.846Z"
   },
   {
    "duration": 48,
    "start_time": "2023-05-03T09:41:08.623Z"
   },
   {
    "duration": 43,
    "start_time": "2023-05-03T09:43:32.150Z"
   },
   {
    "duration": 6360,
    "start_time": "2023-05-03T09:43:36.393Z"
   },
   {
    "duration": 1535,
    "start_time": "2023-05-03T09:43:42.756Z"
   },
   {
    "duration": 6,
    "start_time": "2023-05-03T09:43:44.293Z"
   },
   {
    "duration": 1187,
    "start_time": "2023-05-03T09:43:44.300Z"
   },
   {
    "duration": 31,
    "start_time": "2023-05-03T09:43:45.489Z"
   },
   {
    "duration": 16,
    "start_time": "2023-05-03T09:43:45.522Z"
   },
   {
    "duration": 22,
    "start_time": "2023-05-03T09:43:45.539Z"
   },
   {
    "duration": 58,
    "start_time": "2023-05-03T09:43:45.563Z"
   },
   {
    "duration": 8,
    "start_time": "2023-05-03T09:43:45.623Z"
   },
   {
    "duration": 3,
    "start_time": "2023-05-03T09:43:45.633Z"
   },
   {
    "duration": 7,
    "start_time": "2023-05-03T09:43:45.638Z"
   },
   {
    "duration": 17,
    "start_time": "2023-05-03T09:43:45.647Z"
   },
   {
    "duration": 167,
    "start_time": "2023-05-03T09:43:45.666Z"
   },
   {
    "duration": 5,
    "start_time": "2023-05-03T09:44:12.034Z"
   },
   {
    "duration": 5,
    "start_time": "2023-05-03T09:44:19.792Z"
   },
   {
    "duration": 73,
    "start_time": "2023-05-03T09:48:26.189Z"
   },
   {
    "duration": 15,
    "start_time": "2023-05-03T09:48:52.649Z"
   },
   {
    "duration": 10,
    "start_time": "2023-05-03T09:49:25.289Z"
   },
   {
    "duration": 4,
    "start_time": "2023-05-03T09:49:31.298Z"
   },
   {
    "duration": 4,
    "start_time": "2023-05-03T09:49:57.408Z"
   },
   {
    "duration": 12,
    "start_time": "2023-05-03T09:52:20.510Z"
   },
   {
    "duration": 20,
    "start_time": "2023-05-03T09:52:28.998Z"
   },
   {
    "duration": 51,
    "start_time": "2023-05-03T09:52:34.297Z"
   },
   {
    "duration": 7,
    "start_time": "2023-05-03T09:52:37.422Z"
   },
   {
    "duration": 4,
    "start_time": "2023-05-03T09:52:56.902Z"
   },
   {
    "duration": 7,
    "start_time": "2023-05-03T09:53:43.216Z"
   },
   {
    "duration": 7,
    "start_time": "2023-05-03T09:54:04.673Z"
   },
   {
    "duration": 801,
    "start_time": "2023-05-03T10:00:54.955Z"
   },
   {
    "duration": 979,
    "start_time": "2023-05-03T10:01:45.644Z"
   },
   {
    "duration": 2227,
    "start_time": "2023-05-03T10:01:55.704Z"
   },
   {
    "duration": 5,
    "start_time": "2023-05-03T10:01:57.933Z"
   },
   {
    "duration": 5,
    "start_time": "2023-05-03T10:01:57.939Z"
   },
   {
    "duration": 308,
    "start_time": "2023-05-03T10:01:57.946Z"
   },
   {
    "duration": 50,
    "start_time": "2023-05-03T10:01:58.256Z"
   },
   {
    "duration": 14,
    "start_time": "2023-05-03T10:01:58.308Z"
   },
   {
    "duration": 26,
    "start_time": "2023-05-03T10:01:58.324Z"
   },
   {
    "duration": 58,
    "start_time": "2023-05-03T10:01:58.352Z"
   },
   {
    "duration": 9,
    "start_time": "2023-05-03T10:01:58.412Z"
   },
   {
    "duration": 3,
    "start_time": "2023-05-03T10:01:58.424Z"
   },
   {
    "duration": 10,
    "start_time": "2023-05-03T10:01:58.429Z"
   },
   {
    "duration": 5,
    "start_time": "2023-05-03T10:01:58.441Z"
   },
   {
    "duration": 99,
    "start_time": "2023-05-03T10:01:58.448Z"
   },
   {
    "duration": 6,
    "start_time": "2023-05-03T10:01:58.548Z"
   },
   {
    "duration": 4,
    "start_time": "2023-05-03T10:01:58.555Z"
   },
   {
    "duration": 6,
    "start_time": "2023-05-03T10:01:58.560Z"
   },
   {
    "duration": 24,
    "start_time": "2023-05-03T10:01:58.570Z"
   },
   {
    "duration": 4,
    "start_time": "2023-05-03T10:01:58.595Z"
   },
   {
    "duration": 28,
    "start_time": "2023-05-03T10:01:58.601Z"
   },
   {
    "duration": 0,
    "start_time": "2023-05-03T10:01:58.631Z"
   },
   {
    "duration": 0,
    "start_time": "2023-05-03T10:01:58.632Z"
   },
   {
    "duration": 0,
    "start_time": "2023-05-03T10:01:58.634Z"
   },
   {
    "duration": 0,
    "start_time": "2023-05-03T10:01:58.635Z"
   },
   {
    "duration": 1,
    "start_time": "2023-05-03T10:01:58.635Z"
   },
   {
    "duration": 0,
    "start_time": "2023-05-03T10:01:58.637Z"
   },
   {
    "duration": 0,
    "start_time": "2023-05-03T10:01:58.638Z"
   },
   {
    "duration": 0,
    "start_time": "2023-05-03T10:01:58.639Z"
   },
   {
    "duration": 853,
    "start_time": "2023-05-03T10:08:06.218Z"
   },
   {
    "duration": 15,
    "start_time": "2023-05-03T10:08:47.285Z"
   },
   {
    "duration": 535,
    "start_time": "2023-05-03T10:10:36.129Z"
   },
   {
    "duration": 4,
    "start_time": "2023-05-03T10:12:45.684Z"
   },
   {
    "duration": 375,
    "start_time": "2023-05-03T10:14:37.392Z"
   },
   {
    "duration": 392,
    "start_time": "2023-05-03T10:14:52.704Z"
   },
   {
    "duration": 73,
    "start_time": "2023-05-03T10:15:00.697Z"
   },
   {
    "duration": 14,
    "start_time": "2023-05-03T10:15:07.873Z"
   },
   {
    "duration": 12,
    "start_time": "2023-05-03T10:15:23.873Z"
   },
   {
    "duration": 2299,
    "start_time": "2023-05-03T10:15:27.797Z"
   },
   {
    "duration": 6,
    "start_time": "2023-05-03T10:15:30.099Z"
   },
   {
    "duration": 44,
    "start_time": "2023-05-03T10:15:30.107Z"
   },
   {
    "duration": 360,
    "start_time": "2023-05-03T10:15:30.153Z"
   },
   {
    "duration": 33,
    "start_time": "2023-05-03T10:15:30.514Z"
   },
   {
    "duration": 37,
    "start_time": "2023-05-03T10:15:30.548Z"
   },
   {
    "duration": 47,
    "start_time": "2023-05-03T10:15:30.587Z"
   },
   {
    "duration": 65,
    "start_time": "2023-05-03T10:15:30.636Z"
   },
   {
    "duration": 12,
    "start_time": "2023-05-03T10:15:30.703Z"
   },
   {
    "duration": 25,
    "start_time": "2023-05-03T10:15:30.717Z"
   },
   {
    "duration": 28,
    "start_time": "2023-05-03T10:15:30.744Z"
   },
   {
    "duration": 47,
    "start_time": "2023-05-03T10:15:30.774Z"
   },
   {
    "duration": 116,
    "start_time": "2023-05-03T10:15:30.823Z"
   },
   {
    "duration": 5,
    "start_time": "2023-05-03T10:15:30.941Z"
   },
   {
    "duration": 434,
    "start_time": "2023-05-03T10:15:30.948Z"
   },
   {
    "duration": 3,
    "start_time": "2023-05-03T10:15:31.383Z"
   },
   {
    "duration": 10,
    "start_time": "2023-05-03T10:15:34.191Z"
   },
   {
    "duration": 21,
    "start_time": "2023-05-03T10:16:11.551Z"
   },
   {
    "duration": 2145,
    "start_time": "2023-05-03T10:16:16.309Z"
   },
   {
    "duration": 6,
    "start_time": "2023-05-03T10:16:18.457Z"
   },
   {
    "duration": 15,
    "start_time": "2023-05-03T10:16:18.465Z"
   },
   {
    "duration": 296,
    "start_time": "2023-05-03T10:16:18.483Z"
   },
   {
    "duration": 33,
    "start_time": "2023-05-03T10:16:18.781Z"
   },
   {
    "duration": 12,
    "start_time": "2023-05-03T10:16:18.815Z"
   },
   {
    "duration": 23,
    "start_time": "2023-05-03T10:16:18.829Z"
   },
   {
    "duration": 70,
    "start_time": "2023-05-03T10:16:18.854Z"
   },
   {
    "duration": 9,
    "start_time": "2023-05-03T10:16:18.926Z"
   },
   {
    "duration": 3,
    "start_time": "2023-05-03T10:16:18.938Z"
   },
   {
    "duration": 10,
    "start_time": "2023-05-03T10:16:18.943Z"
   },
   {
    "duration": 7,
    "start_time": "2023-05-03T10:16:18.955Z"
   },
   {
    "duration": 85,
    "start_time": "2023-05-03T10:16:18.963Z"
   },
   {
    "duration": 6,
    "start_time": "2023-05-03T10:16:19.051Z"
   },
   {
    "duration": 348,
    "start_time": "2023-05-03T10:16:19.058Z"
   },
   {
    "duration": 3,
    "start_time": "2023-05-03T10:16:19.408Z"
   },
   {
    "duration": 17,
    "start_time": "2023-05-03T10:16:21.240Z"
   },
   {
    "duration": 4,
    "start_time": "2023-05-03T10:16:22.535Z"
   },
   {
    "duration": 51,
    "start_time": "2023-05-03T10:16:24.631Z"
   },
   {
    "duration": 6,
    "start_time": "2023-05-03T10:16:25.831Z"
   },
   {
    "duration": 18,
    "start_time": "2023-05-03T10:16:26.983Z"
   },
   {
    "duration": 5,
    "start_time": "2023-05-03T10:16:32.951Z"
   },
   {
    "duration": 20,
    "start_time": "2023-05-03T10:16:57.416Z"
   },
   {
    "duration": 1014,
    "start_time": "2023-05-03T10:17:30.921Z"
   },
   {
    "duration": 17,
    "start_time": "2023-05-03T10:18:01.120Z"
   },
   {
    "duration": 986,
    "start_time": "2023-05-03T10:18:09.753Z"
   },
   {
    "duration": 2165,
    "start_time": "2023-05-03T10:25:53.628Z"
   },
   {
    "duration": 5,
    "start_time": "2023-05-03T10:25:55.795Z"
   },
   {
    "duration": 9,
    "start_time": "2023-05-03T10:25:55.802Z"
   },
   {
    "duration": 284,
    "start_time": "2023-05-03T10:25:55.812Z"
   },
   {
    "duration": 31,
    "start_time": "2023-05-03T10:25:56.097Z"
   },
   {
    "duration": 9,
    "start_time": "2023-05-03T10:25:56.130Z"
   },
   {
    "duration": 21,
    "start_time": "2023-05-03T10:25:56.141Z"
   },
   {
    "duration": 60,
    "start_time": "2023-05-03T10:25:56.164Z"
   },
   {
    "duration": 8,
    "start_time": "2023-05-03T10:25:56.225Z"
   },
   {
    "duration": 3,
    "start_time": "2023-05-03T10:25:56.235Z"
   },
   {
    "duration": 9,
    "start_time": "2023-05-03T10:25:56.239Z"
   },
   {
    "duration": 5,
    "start_time": "2023-05-03T10:25:56.250Z"
   },
   {
    "duration": 88,
    "start_time": "2023-05-03T10:25:56.256Z"
   },
   {
    "duration": 5,
    "start_time": "2023-05-03T10:25:56.346Z"
   },
   {
    "duration": 368,
    "start_time": "2023-05-03T10:25:56.352Z"
   },
   {
    "duration": 3,
    "start_time": "2023-05-03T10:25:56.721Z"
   },
   {
    "duration": 16,
    "start_time": "2023-05-03T10:25:56.726Z"
   },
   {
    "duration": 4,
    "start_time": "2023-05-03T10:25:56.744Z"
   },
   {
    "duration": 66,
    "start_time": "2023-05-03T10:25:56.750Z"
   },
   {
    "duration": 7,
    "start_time": "2023-05-03T10:25:56.818Z"
   },
   {
    "duration": 5,
    "start_time": "2023-05-03T10:25:56.826Z"
   },
   {
    "duration": 8,
    "start_time": "2023-05-03T10:25:56.832Z"
   },
   {
    "duration": 900,
    "start_time": "2023-05-03T10:25:56.842Z"
   },
   {
    "duration": 0,
    "start_time": "2023-05-03T10:25:57.743Z"
   },
   {
    "duration": 0,
    "start_time": "2023-05-03T10:25:57.744Z"
   },
   {
    "duration": 0,
    "start_time": "2023-05-03T10:25:57.745Z"
   },
   {
    "duration": 0,
    "start_time": "2023-05-03T10:25:57.746Z"
   },
   {
    "duration": 1,
    "start_time": "2023-05-03T10:25:57.747Z"
   },
   {
    "duration": 0,
    "start_time": "2023-05-03T10:25:57.748Z"
   },
   {
    "duration": 0,
    "start_time": "2023-05-03T10:25:57.749Z"
   },
   {
    "duration": 0,
    "start_time": "2023-05-03T10:25:57.750Z"
   },
   {
    "duration": 0,
    "start_time": "2023-05-03T10:25:57.751Z"
   },
   {
    "duration": 0,
    "start_time": "2023-05-03T10:25:57.752Z"
   },
   {
    "duration": 0,
    "start_time": "2023-05-03T10:25:57.753Z"
   },
   {
    "duration": 2239,
    "start_time": "2023-05-03T10:27:07.365Z"
   },
   {
    "duration": 5,
    "start_time": "2023-05-03T10:27:09.607Z"
   },
   {
    "duration": 9,
    "start_time": "2023-05-03T10:27:09.613Z"
   },
   {
    "duration": 386,
    "start_time": "2023-05-03T10:27:09.624Z"
   },
   {
    "duration": 34,
    "start_time": "2023-05-03T10:27:10.012Z"
   },
   {
    "duration": 11,
    "start_time": "2023-05-03T10:27:10.048Z"
   },
   {
    "duration": 41,
    "start_time": "2023-05-03T10:27:10.060Z"
   },
   {
    "duration": 43,
    "start_time": "2023-05-03T10:27:10.103Z"
   },
   {
    "duration": 7,
    "start_time": "2023-05-03T10:27:10.149Z"
   },
   {
    "duration": 12,
    "start_time": "2023-05-03T10:27:10.159Z"
   },
   {
    "duration": 26,
    "start_time": "2023-05-03T10:27:10.185Z"
   },
   {
    "duration": 9,
    "start_time": "2023-05-03T10:27:10.213Z"
   },
   {
    "duration": 103,
    "start_time": "2023-05-03T10:27:10.224Z"
   },
   {
    "duration": 5,
    "start_time": "2023-05-03T10:27:10.328Z"
   },
   {
    "duration": 390,
    "start_time": "2023-05-03T10:27:10.335Z"
   },
   {
    "duration": 3,
    "start_time": "2023-05-03T10:27:10.727Z"
   },
   {
    "duration": 18,
    "start_time": "2023-05-03T10:27:10.731Z"
   },
   {
    "duration": 4,
    "start_time": "2023-05-03T10:27:10.751Z"
   },
   {
    "duration": 65,
    "start_time": "2023-05-03T10:27:10.757Z"
   },
   {
    "duration": 5,
    "start_time": "2023-05-03T10:27:10.824Z"
   },
   {
    "duration": 13,
    "start_time": "2023-05-03T10:27:10.831Z"
   },
   {
    "duration": 13,
    "start_time": "2023-05-03T10:27:10.846Z"
   },
   {
    "duration": 872,
    "start_time": "2023-05-03T10:27:10.860Z"
   },
   {
    "duration": 0,
    "start_time": "2023-05-03T10:27:11.735Z"
   },
   {
    "duration": 0,
    "start_time": "2023-05-03T10:27:11.737Z"
   },
   {
    "duration": 0,
    "start_time": "2023-05-03T10:27:11.738Z"
   },
   {
    "duration": 0,
    "start_time": "2023-05-03T10:27:11.740Z"
   },
   {
    "duration": 0,
    "start_time": "2023-05-03T10:27:11.741Z"
   },
   {
    "duration": 0,
    "start_time": "2023-05-03T10:27:11.743Z"
   },
   {
    "duration": 0,
    "start_time": "2023-05-03T10:27:11.744Z"
   },
   {
    "duration": 0,
    "start_time": "2023-05-03T10:27:11.746Z"
   },
   {
    "duration": 0,
    "start_time": "2023-05-03T10:27:11.747Z"
   },
   {
    "duration": 0,
    "start_time": "2023-05-03T10:27:11.749Z"
   },
   {
    "duration": 0,
    "start_time": "2023-05-03T10:27:11.750Z"
   },
   {
    "duration": 0,
    "start_time": "2023-05-03T10:27:11.751Z"
   },
   {
    "duration": 0,
    "start_time": "2023-05-03T10:27:11.752Z"
   },
   {
    "duration": 0,
    "start_time": "2023-05-03T10:27:11.753Z"
   },
   {
    "duration": 0,
    "start_time": "2023-05-03T10:27:11.786Z"
   },
   {
    "duration": 0,
    "start_time": "2023-05-03T10:27:11.787Z"
   },
   {
    "duration": 0,
    "start_time": "2023-05-03T10:27:11.788Z"
   },
   {
    "duration": 0,
    "start_time": "2023-05-03T10:27:11.790Z"
   },
   {
    "duration": 0,
    "start_time": "2023-05-03T10:27:11.792Z"
   },
   {
    "duration": 0,
    "start_time": "2023-05-03T10:27:11.794Z"
   },
   {
    "duration": 0,
    "start_time": "2023-05-03T10:27:11.795Z"
   },
   {
    "duration": 0,
    "start_time": "2023-05-03T10:27:11.796Z"
   },
   {
    "duration": 0,
    "start_time": "2023-05-03T10:27:11.798Z"
   },
   {
    "duration": 0,
    "start_time": "2023-05-03T10:27:11.799Z"
   },
   {
    "duration": 0,
    "start_time": "2023-05-03T10:27:11.801Z"
   },
   {
    "duration": 0,
    "start_time": "2023-05-03T10:27:11.802Z"
   },
   {
    "duration": 0,
    "start_time": "2023-05-03T10:27:11.803Z"
   },
   {
    "duration": 12,
    "start_time": "2023-05-03T10:31:36.632Z"
   },
   {
    "duration": 2226,
    "start_time": "2023-05-03T10:31:51.261Z"
   },
   {
    "duration": 5,
    "start_time": "2023-05-03T10:31:53.489Z"
   },
   {
    "duration": 10,
    "start_time": "2023-05-03T10:31:53.496Z"
   },
   {
    "duration": 307,
    "start_time": "2023-05-03T10:31:53.509Z"
   },
   {
    "duration": 33,
    "start_time": "2023-05-03T10:31:53.818Z"
   },
   {
    "duration": 11,
    "start_time": "2023-05-03T10:31:53.853Z"
   },
   {
    "duration": 38,
    "start_time": "2023-05-03T10:31:53.865Z"
   },
   {
    "duration": 52,
    "start_time": "2023-05-03T10:31:53.904Z"
   },
   {
    "duration": 9,
    "start_time": "2023-05-03T10:31:53.957Z"
   },
   {
    "duration": 5,
    "start_time": "2023-05-03T10:31:53.987Z"
   },
   {
    "duration": 23,
    "start_time": "2023-05-03T10:31:53.994Z"
   },
   {
    "duration": 12,
    "start_time": "2023-05-03T10:31:54.019Z"
   },
   {
    "duration": 106,
    "start_time": "2023-05-03T10:31:54.034Z"
   },
   {
    "duration": 6,
    "start_time": "2023-05-03T10:31:54.142Z"
   },
   {
    "duration": 377,
    "start_time": "2023-05-03T10:31:54.150Z"
   },
   {
    "duration": 2,
    "start_time": "2023-05-03T10:31:54.530Z"
   },
   {
    "duration": 16,
    "start_time": "2023-05-03T10:31:54.533Z"
   },
   {
    "duration": 4,
    "start_time": "2023-05-03T10:31:54.551Z"
   },
   {
    "duration": 67,
    "start_time": "2023-05-03T10:31:54.556Z"
   },
   {
    "duration": 4,
    "start_time": "2023-05-03T10:31:54.625Z"
   },
   {
    "duration": 10,
    "start_time": "2023-05-03T10:31:54.631Z"
   },
   {
    "duration": 3,
    "start_time": "2023-05-03T10:31:54.642Z"
   },
   {
    "duration": 1046,
    "start_time": "2023-05-03T10:31:54.647Z"
   },
   {
    "duration": 0,
    "start_time": "2023-05-03T10:31:55.696Z"
   },
   {
    "duration": 0,
    "start_time": "2023-05-03T10:31:55.698Z"
   },
   {
    "duration": 0,
    "start_time": "2023-05-03T10:31:55.699Z"
   },
   {
    "duration": 0,
    "start_time": "2023-05-03T10:31:55.700Z"
   },
   {
    "duration": 0,
    "start_time": "2023-05-03T10:31:55.702Z"
   },
   {
    "duration": 0,
    "start_time": "2023-05-03T10:31:55.703Z"
   },
   {
    "duration": 0,
    "start_time": "2023-05-03T10:31:55.704Z"
   },
   {
    "duration": 0,
    "start_time": "2023-05-03T10:31:55.706Z"
   },
   {
    "duration": 0,
    "start_time": "2023-05-03T10:31:55.707Z"
   },
   {
    "duration": 0,
    "start_time": "2023-05-03T10:31:55.709Z"
   },
   {
    "duration": 0,
    "start_time": "2023-05-03T10:31:55.710Z"
   },
   {
    "duration": 0,
    "start_time": "2023-05-03T10:31:55.712Z"
   },
   {
    "duration": 0,
    "start_time": "2023-05-03T10:31:55.713Z"
   },
   {
    "duration": 0,
    "start_time": "2023-05-03T10:31:55.715Z"
   },
   {
    "duration": 0,
    "start_time": "2023-05-03T10:31:55.716Z"
   },
   {
    "duration": 0,
    "start_time": "2023-05-03T10:31:55.718Z"
   },
   {
    "duration": 0,
    "start_time": "2023-05-03T10:31:55.719Z"
   },
   {
    "duration": 0,
    "start_time": "2023-05-03T10:31:55.721Z"
   },
   {
    "duration": 0,
    "start_time": "2023-05-03T10:31:55.723Z"
   },
   {
    "duration": 0,
    "start_time": "2023-05-03T10:31:55.723Z"
   },
   {
    "duration": 0,
    "start_time": "2023-05-03T10:31:55.724Z"
   },
   {
    "duration": 0,
    "start_time": "2023-05-03T10:31:55.725Z"
   },
   {
    "duration": 1,
    "start_time": "2023-05-03T10:31:55.726Z"
   },
   {
    "duration": 0,
    "start_time": "2023-05-03T10:31:55.728Z"
   },
   {
    "duration": 0,
    "start_time": "2023-05-03T10:31:55.729Z"
   },
   {
    "duration": 0,
    "start_time": "2023-05-03T10:31:55.730Z"
   },
   {
    "duration": 0,
    "start_time": "2023-05-03T10:31:55.785Z"
   },
   {
    "duration": 11,
    "start_time": "2023-05-03T10:31:58.432Z"
   },
   {
    "duration": 9,
    "start_time": "2023-05-03T10:32:15.511Z"
   },
   {
    "duration": 3,
    "start_time": "2023-05-03T10:32:36.104Z"
   },
   {
    "duration": 3,
    "start_time": "2023-05-03T10:32:50.072Z"
   },
   {
    "duration": 955,
    "start_time": "2023-05-03T10:32:52.377Z"
   },
   {
    "duration": 946,
    "start_time": "2023-05-03T10:33:17.104Z"
   },
   {
    "duration": 970,
    "start_time": "2023-05-03T10:33:25.600Z"
   },
   {
    "duration": 1106,
    "start_time": "2023-05-03T10:33:31.649Z"
   },
   {
    "duration": 11,
    "start_time": "2023-05-03T10:33:38.513Z"
   },
   {
    "duration": 158,
    "start_time": "2023-05-03T10:33:45.824Z"
   },
   {
    "duration": 161,
    "start_time": "2023-05-03T10:33:50.680Z"
   },
   {
    "duration": 18,
    "start_time": "2023-05-03T10:33:54.480Z"
   },
   {
    "duration": 1091,
    "start_time": "2023-05-03T10:33:56.760Z"
   },
   {
    "duration": 11,
    "start_time": "2023-05-03T10:34:06.720Z"
   },
   {
    "duration": 10,
    "start_time": "2023-05-03T10:37:27.072Z"
   },
   {
    "duration": 10,
    "start_time": "2023-05-03T10:37:37.312Z"
   },
   {
    "duration": 10,
    "start_time": "2023-05-03T10:40:02.515Z"
   },
   {
    "duration": 2213,
    "start_time": "2023-05-03T10:40:21.431Z"
   },
   {
    "duration": 5,
    "start_time": "2023-05-03T10:40:23.647Z"
   },
   {
    "duration": 52,
    "start_time": "2023-05-03T10:40:23.653Z"
   },
   {
    "duration": 364,
    "start_time": "2023-05-03T10:40:23.707Z"
   },
   {
    "duration": 67,
    "start_time": "2023-05-03T10:40:24.075Z"
   },
   {
    "duration": 15,
    "start_time": "2023-05-03T10:40:24.144Z"
   },
   {
    "duration": 43,
    "start_time": "2023-05-03T10:40:24.161Z"
   },
   {
    "duration": 42,
    "start_time": "2023-05-03T10:40:24.207Z"
   },
   {
    "duration": 8,
    "start_time": "2023-05-03T10:40:24.252Z"
   },
   {
    "duration": 3,
    "start_time": "2023-05-03T10:40:24.262Z"
   },
   {
    "duration": 8,
    "start_time": "2023-05-03T10:40:24.284Z"
   },
   {
    "duration": 9,
    "start_time": "2023-05-03T10:40:24.293Z"
   },
   {
    "duration": 95,
    "start_time": "2023-05-03T10:40:24.304Z"
   },
   {
    "duration": 4,
    "start_time": "2023-05-03T10:40:24.402Z"
   },
   {
    "duration": 367,
    "start_time": "2023-05-03T10:40:24.407Z"
   },
   {
    "duration": 3,
    "start_time": "2023-05-03T10:40:24.775Z"
   },
   {
    "duration": 20,
    "start_time": "2023-05-03T10:40:27.306Z"
   },
   {
    "duration": 16,
    "start_time": "2023-05-03T10:40:28.576Z"
   },
   {
    "duration": 17,
    "start_time": "2023-05-03T10:41:54.344Z"
   },
   {
    "duration": 10,
    "start_time": "2023-05-03T10:42:44.372Z"
   },
   {
    "duration": 47,
    "start_time": "2023-05-03T10:42:46.160Z"
   },
   {
    "duration": 6,
    "start_time": "2023-05-03T10:42:46.568Z"
   },
   {
    "duration": 5,
    "start_time": "2023-05-03T10:42:47.416Z"
   },
   {
    "duration": 2108,
    "start_time": "2023-05-03T10:43:20.134Z"
   },
   {
    "duration": 5,
    "start_time": "2023-05-03T10:43:22.245Z"
   },
   {
    "duration": 6,
    "start_time": "2023-05-03T10:43:22.252Z"
   },
   {
    "duration": 303,
    "start_time": "2023-05-03T10:43:22.260Z"
   },
   {
    "duration": 42,
    "start_time": "2023-05-03T10:43:22.565Z"
   },
   {
    "duration": 12,
    "start_time": "2023-05-03T10:43:22.609Z"
   },
   {
    "duration": 48,
    "start_time": "2023-05-03T10:43:22.623Z"
   },
   {
    "duration": 42,
    "start_time": "2023-05-03T10:43:22.673Z"
   },
   {
    "duration": 9,
    "start_time": "2023-05-03T10:43:22.717Z"
   },
   {
    "duration": 9,
    "start_time": "2023-05-03T10:43:22.728Z"
   },
   {
    "duration": 22,
    "start_time": "2023-05-03T10:43:22.738Z"
   },
   {
    "duration": 7,
    "start_time": "2023-05-03T10:43:22.762Z"
   },
   {
    "duration": 98,
    "start_time": "2023-05-03T10:43:22.770Z"
   },
   {
    "duration": 4,
    "start_time": "2023-05-03T10:43:22.870Z"
   },
   {
    "duration": 375,
    "start_time": "2023-05-03T10:43:22.876Z"
   },
   {
    "duration": 2,
    "start_time": "2023-05-03T10:43:23.253Z"
   },
   {
    "duration": 46,
    "start_time": "2023-05-03T10:43:23.257Z"
   },
   {
    "duration": 60,
    "start_time": "2023-05-03T10:43:23.305Z"
   },
   {
    "duration": 18,
    "start_time": "2023-05-03T10:43:23.368Z"
   },
   {
    "duration": 23,
    "start_time": "2023-05-03T10:43:23.388Z"
   },
   {
    "duration": 17,
    "start_time": "2023-05-03T10:43:23.413Z"
   },
   {
    "duration": 1023,
    "start_time": "2023-05-03T10:43:23.432Z"
   },
   {
    "duration": 1004,
    "start_time": "2023-05-03T10:43:24.457Z"
   },
   {
    "duration": 1090,
    "start_time": "2023-05-03T10:43:25.463Z"
   },
   {
    "duration": 172,
    "start_time": "2023-05-03T10:43:26.554Z"
   },
   {
    "duration": 180,
    "start_time": "2023-05-03T10:43:26.728Z"
   },
   {
    "duration": 18,
    "start_time": "2023-05-03T10:43:26.910Z"
   },
   {
    "duration": 1031,
    "start_time": "2023-05-03T10:43:26.931Z"
   },
   {
    "duration": 17,
    "start_time": "2023-05-03T10:43:30.136Z"
   },
   {
    "duration": 202,
    "start_time": "2023-05-03T10:43:31.536Z"
   },
   {
    "duration": 205,
    "start_time": "2023-05-03T10:43:33.064Z"
   },
   {
    "duration": 9,
    "start_time": "2023-05-03T10:43:37.352Z"
   },
   {
    "duration": 7,
    "start_time": "2023-05-03T10:43:38.122Z"
   },
   {
    "duration": 8,
    "start_time": "2023-05-03T10:43:39.040Z"
   },
   {
    "duration": 16,
    "start_time": "2023-05-03T10:43:40.664Z"
   },
   {
    "duration": 6,
    "start_time": "2023-05-03T10:43:55.310Z"
   },
   {
    "duration": 14,
    "start_time": "2023-05-03T10:43:56.875Z"
   },
   {
    "duration": 13,
    "start_time": "2023-05-03T10:46:16.040Z"
   },
   {
    "duration": 2,
    "start_time": "2023-05-03T10:46:53.137Z"
   },
   {
    "duration": 168,
    "start_time": "2023-05-03T10:46:55.519Z"
   },
   {
    "duration": 3,
    "start_time": "2023-05-03T10:46:56.433Z"
   },
   {
    "duration": 1562,
    "start_time": "2023-05-03T10:46:59.424Z"
   },
   {
    "duration": 28191,
    "start_time": "2023-05-03T10:47:07.264Z"
   },
   {
    "duration": 7,
    "start_time": "2023-05-03T10:47:35.457Z"
   },
   {
    "duration": 10,
    "start_time": "2023-05-03T10:47:35.466Z"
   },
   {
    "duration": 96,
    "start_time": "2023-05-03T10:47:44.991Z"
   },
   {
    "duration": 902,
    "start_time": "2023-05-03T10:47:45.185Z"
   },
   {
    "duration": 98,
    "start_time": "2023-05-03T10:47:46.089Z"
   },
   {
    "duration": 404,
    "start_time": "2023-05-03T10:48:15.392Z"
   },
   {
    "duration": 9,
    "start_time": "2023-05-03T10:48:17.440Z"
   },
   {
    "duration": 4,
    "start_time": "2023-05-03T10:50:01.635Z"
   },
   {
    "duration": 9,
    "start_time": "2023-05-03T10:50:08.340Z"
   },
   {
    "duration": 9,
    "start_time": "2023-05-03T10:50:08.904Z"
   },
   {
    "duration": 745,
    "start_time": "2023-05-03T11:03:06.889Z"
   },
   {
    "duration": 8,
    "start_time": "2023-05-03T11:03:08.106Z"
   },
   {
    "duration": 5,
    "start_time": "2023-05-03T11:03:32.550Z"
   },
   {
    "duration": 9,
    "start_time": "2023-05-03T11:03:36.421Z"
   },
   {
    "duration": 19,
    "start_time": "2023-05-03T11:03:45.706Z"
   },
   {
    "duration": 5,
    "start_time": "2023-05-03T11:14:25.809Z"
   },
   {
    "duration": 8,
    "start_time": "2023-05-03T11:14:29.506Z"
   },
   {
    "duration": 8,
    "start_time": "2023-05-03T11:14:29.709Z"
   },
   {
    "duration": 7,
    "start_time": "2023-05-03T11:14:34.421Z"
   },
   {
    "duration": 8,
    "start_time": "2023-05-03T11:16:38.595Z"
   },
   {
    "duration": 10,
    "start_time": "2023-05-03T11:17:40.716Z"
   },
   {
    "duration": 4,
    "start_time": "2023-05-03T11:17:44.075Z"
   },
   {
    "duration": 7,
    "start_time": "2023-05-03T11:17:44.461Z"
   },
   {
    "duration": 4,
    "start_time": "2023-05-03T11:18:25.364Z"
   },
   {
    "duration": 14,
    "start_time": "2023-05-03T11:19:02.184Z"
   },
   {
    "duration": 7,
    "start_time": "2023-05-03T11:19:10.357Z"
   },
   {
    "duration": 4,
    "start_time": "2023-05-03T11:23:01.245Z"
   },
   {
    "duration": 12,
    "start_time": "2023-05-03T11:23:03.115Z"
   },
   {
    "duration": 4,
    "start_time": "2023-05-03T11:23:28.188Z"
   },
   {
    "duration": 8,
    "start_time": "2023-05-03T11:23:29.119Z"
   },
   {
    "duration": 6,
    "start_time": "2023-05-03T11:24:22.540Z"
   },
   {
    "duration": 6,
    "start_time": "2023-05-03T11:24:37.160Z"
   },
   {
    "duration": 12,
    "start_time": "2023-05-03T11:24:38.412Z"
   },
   {
    "duration": 13,
    "start_time": "2023-05-03T11:25:52.531Z"
   },
   {
    "duration": 10,
    "start_time": "2023-05-03T11:25:54.460Z"
   },
   {
    "duration": 12,
    "start_time": "2023-05-03T11:25:54.687Z"
   },
   {
    "duration": 9,
    "start_time": "2023-05-03T11:25:56.593Z"
   },
   {
    "duration": 4,
    "start_time": "2023-05-03T11:25:59.047Z"
   },
   {
    "duration": 3,
    "start_time": "2023-05-03T11:25:59.378Z"
   },
   {
    "duration": 12,
    "start_time": "2023-05-03T11:26:00.014Z"
   },
   {
    "duration": 4,
    "start_time": "2023-05-03T11:26:48.110Z"
   },
   {
    "duration": 5,
    "start_time": "2023-05-03T11:27:08.340Z"
   },
   {
    "duration": 3,
    "start_time": "2023-05-03T11:27:09.100Z"
   },
   {
    "duration": 14,
    "start_time": "2023-05-03T11:27:09.524Z"
   },
   {
    "duration": 3,
    "start_time": "2023-05-03T11:27:32.333Z"
   },
   {
    "duration": 15,
    "start_time": "2023-05-03T11:27:32.615Z"
   },
   {
    "duration": 4,
    "start_time": "2023-05-03T11:31:08.027Z"
   },
   {
    "duration": 15,
    "start_time": "2023-05-03T11:31:08.251Z"
   },
   {
    "duration": 2,
    "start_time": "2023-05-03T11:31:39.589Z"
   },
   {
    "duration": 11,
    "start_time": "2023-05-03T11:31:40.547Z"
   },
   {
    "duration": 4,
    "start_time": "2023-05-03T11:32:45.763Z"
   },
   {
    "duration": 3,
    "start_time": "2023-05-03T11:32:45.956Z"
   },
   {
    "duration": 11,
    "start_time": "2023-05-03T11:32:46.522Z"
   },
   {
    "duration": 4,
    "start_time": "2023-05-03T11:32:56.922Z"
   },
   {
    "duration": 3,
    "start_time": "2023-05-03T11:32:57.126Z"
   },
   {
    "duration": 13,
    "start_time": "2023-05-03T11:32:57.456Z"
   },
   {
    "duration": 3,
    "start_time": "2023-05-03T12:34:03.312Z"
   },
   {
    "duration": 8,
    "start_time": "2023-05-03T12:34:04.033Z"
   },
   {
    "duration": 5,
    "start_time": "2023-05-03T12:34:28.112Z"
   },
   {
    "duration": 6,
    "start_time": "2023-05-03T12:34:28.535Z"
   },
   {
    "duration": 4,
    "start_time": "2023-05-03T12:34:34.064Z"
   },
   {
    "duration": 8,
    "start_time": "2023-05-03T12:34:34.304Z"
   },
   {
    "duration": 3,
    "start_time": "2023-05-03T12:34:35.399Z"
   },
   {
    "duration": 9,
    "start_time": "2023-05-03T12:34:36.284Z"
   },
   {
    "duration": 8,
    "start_time": "2023-05-03T12:35:16.295Z"
   },
   {
    "duration": 4,
    "start_time": "2023-05-03T12:36:13.401Z"
   },
   {
    "duration": 6,
    "start_time": "2023-05-03T12:36:13.695Z"
   },
   {
    "duration": 4,
    "start_time": "2023-05-03T12:36:14.081Z"
   },
   {
    "duration": 9,
    "start_time": "2023-05-03T12:36:14.424Z"
   },
   {
    "duration": 6,
    "start_time": "2023-05-03T12:36:56.303Z"
   },
   {
    "duration": 8,
    "start_time": "2023-05-03T12:59:01.543Z"
   },
   {
    "duration": 204,
    "start_time": "2023-05-03T13:02:07.184Z"
   },
   {
    "duration": 9,
    "start_time": "2023-05-03T13:02:42.632Z"
   },
   {
    "duration": 16,
    "start_time": "2023-05-03T13:02:50.630Z"
   },
   {
    "duration": 8,
    "start_time": "2023-05-03T13:04:26.212Z"
   },
   {
    "duration": 20,
    "start_time": "2023-05-03T13:06:08.304Z"
   },
   {
    "duration": 9,
    "start_time": "2023-05-03T13:06:18.358Z"
   },
   {
    "duration": 8,
    "start_time": "2023-05-03T13:06:37.832Z"
   },
   {
    "duration": 9,
    "start_time": "2023-05-03T13:07:21.230Z"
   },
   {
    "duration": 11,
    "start_time": "2023-05-03T13:07:21.806Z"
   },
   {
    "duration": 90,
    "start_time": "2023-05-03T13:11:44.295Z"
   },
   {
    "duration": 52875,
    "start_time": "2023-05-03T13:13:17.439Z"
   },
   {
    "duration": 19,
    "start_time": "2023-05-03T13:14:17.446Z"
   },
   {
    "duration": 6,
    "start_time": "2023-05-03T13:14:32.542Z"
   },
   {
    "duration": 4,
    "start_time": "2023-05-03T13:14:33.631Z"
   },
   {
    "duration": 4,
    "start_time": "2023-05-03T13:15:34.794Z"
   },
   {
    "duration": 7,
    "start_time": "2023-05-03T13:15:35.150Z"
   },
   {
    "duration": 2,
    "start_time": "2023-05-03T13:15:35.710Z"
   },
   {
    "duration": 7,
    "start_time": "2023-05-03T13:15:36.302Z"
   },
   {
    "duration": 5,
    "start_time": "2023-05-03T13:15:37.541Z"
   },
   {
    "duration": 20,
    "start_time": "2023-05-03T20:31:30.443Z"
   },
   {
    "duration": 17,
    "start_time": "2023-05-03T20:31:50.389Z"
   },
   {
    "duration": 37,
    "start_time": "2023-05-03T20:36:19.099Z"
   },
   {
    "duration": 12,
    "start_time": "2023-05-03T20:39:41.036Z"
   },
   {
    "duration": 10,
    "start_time": "2023-05-03T20:40:19.360Z"
   },
   {
    "duration": 31,
    "start_time": "2023-05-03T20:42:36.055Z"
   },
   {
    "duration": 43,
    "start_time": "2023-05-03T20:44:09.615Z"
   },
   {
    "duration": 35,
    "start_time": "2023-05-03T20:44:15.268Z"
   },
   {
    "duration": 11,
    "start_time": "2023-05-03T20:44:27.383Z"
   },
   {
    "duration": 8,
    "start_time": "2023-05-03T20:44:39.314Z"
   },
   {
    "duration": 10,
    "start_time": "2023-05-03T20:45:24.292Z"
   },
   {
    "duration": 18,
    "start_time": "2023-05-03T20:48:36.568Z"
   },
   {
    "duration": 17,
    "start_time": "2023-05-03T20:48:48.081Z"
   },
   {
    "duration": 21,
    "start_time": "2023-05-03T20:49:09.868Z"
   },
   {
    "duration": 16,
    "start_time": "2023-05-03T20:53:04.823Z"
   },
   {
    "duration": 768,
    "start_time": "2023-05-03T20:55:05.365Z"
   },
   {
    "duration": 705,
    "start_time": "2023-05-03T20:55:55.330Z"
   },
   {
    "duration": 23,
    "start_time": "2023-05-03T20:57:30.685Z"
   },
   {
    "duration": 4,
    "start_time": "2023-05-03T20:59:15.339Z"
   },
   {
    "duration": 34,
    "start_time": "2023-05-03T21:00:47.690Z"
   },
   {
    "duration": 42,
    "start_time": "2023-05-03T21:01:03.931Z"
   },
   {
    "duration": 7,
    "start_time": "2023-05-03T21:01:04.689Z"
   },
   {
    "duration": 10,
    "start_time": "2023-05-03T21:01:10.901Z"
   },
   {
    "duration": 4,
    "start_time": "2023-05-03T21:01:56.651Z"
   },
   {
    "duration": 10,
    "start_time": "2023-05-03T21:01:58.344Z"
   },
   {
    "duration": 47,
    "start_time": "2023-05-03T21:03:28.051Z"
   },
   {
    "duration": 41,
    "start_time": "2023-05-03T21:03:31.816Z"
   },
   {
    "duration": 818,
    "start_time": "2023-05-03T21:03:37.309Z"
   },
   {
    "duration": 2191,
    "start_time": "2023-05-03T21:03:50.095Z"
   },
   {
    "duration": 5,
    "start_time": "2023-05-03T21:03:52.289Z"
   },
   {
    "duration": 14,
    "start_time": "2023-05-03T21:03:52.296Z"
   },
   {
    "duration": 316,
    "start_time": "2023-05-03T21:03:52.311Z"
   },
   {
    "duration": 40,
    "start_time": "2023-05-03T21:03:52.629Z"
   },
   {
    "duration": 23,
    "start_time": "2023-05-03T21:03:52.671Z"
   },
   {
    "duration": 23,
    "start_time": "2023-05-03T21:03:52.696Z"
   },
   {
    "duration": 43,
    "start_time": "2023-05-03T21:03:52.721Z"
   },
   {
    "duration": 9,
    "start_time": "2023-05-03T21:03:52.786Z"
   },
   {
    "duration": 4,
    "start_time": "2023-05-03T21:03:52.797Z"
   },
   {
    "duration": 5,
    "start_time": "2023-05-03T21:03:52.803Z"
   },
   {
    "duration": 6,
    "start_time": "2023-05-03T21:03:52.810Z"
   },
   {
    "duration": 102,
    "start_time": "2023-05-03T21:03:52.818Z"
   },
   {
    "duration": 5,
    "start_time": "2023-05-03T21:03:52.924Z"
   },
   {
    "duration": 365,
    "start_time": "2023-05-03T21:03:52.931Z"
   },
   {
    "duration": 3,
    "start_time": "2023-05-03T21:03:53.298Z"
   },
   {
    "duration": 15,
    "start_time": "2023-05-03T21:03:53.302Z"
   },
   {
    "duration": 19,
    "start_time": "2023-05-03T21:03:53.319Z"
   },
   {
    "duration": 0,
    "start_time": "2023-05-03T21:03:53.340Z"
   },
   {
    "duration": 0,
    "start_time": "2023-05-03T21:03:53.341Z"
   },
   {
    "duration": 0,
    "start_time": "2023-05-03T21:03:53.342Z"
   },
   {
    "duration": 0,
    "start_time": "2023-05-03T21:03:53.343Z"
   },
   {
    "duration": 0,
    "start_time": "2023-05-03T21:03:53.344Z"
   },
   {
    "duration": 0,
    "start_time": "2023-05-03T21:03:53.345Z"
   },
   {
    "duration": 0,
    "start_time": "2023-05-03T21:03:53.346Z"
   },
   {
    "duration": 0,
    "start_time": "2023-05-03T21:03:53.346Z"
   },
   {
    "duration": 0,
    "start_time": "2023-05-03T21:03:53.347Z"
   },
   {
    "duration": 0,
    "start_time": "2023-05-03T21:03:53.348Z"
   },
   {
    "duration": 0,
    "start_time": "2023-05-03T21:03:53.349Z"
   },
   {
    "duration": 5,
    "start_time": "2023-05-03T21:03:56.393Z"
   },
   {
    "duration": 17,
    "start_time": "2023-05-03T21:03:57.453Z"
   },
   {
    "duration": 530,
    "start_time": "2023-05-03T21:04:26.293Z"
   },
   {
    "duration": 9,
    "start_time": "2023-05-03T21:05:57.509Z"
   },
   {
    "duration": 28,
    "start_time": "2023-05-03T21:06:14.064Z"
   },
   {
    "duration": 7,
    "start_time": "2023-05-03T21:06:21.438Z"
   },
   {
    "duration": 3,
    "start_time": "2023-05-03T21:07:26.069Z"
   },
   {
    "duration": 4,
    "start_time": "2023-05-03T21:08:16.561Z"
   },
   {
    "duration": 3,
    "start_time": "2023-05-03T21:08:19.364Z"
   },
   {
    "duration": 4,
    "start_time": "2023-05-03T21:08:25.557Z"
   },
   {
    "duration": 549,
    "start_time": "2023-05-03T21:10:59.247Z"
   },
   {
    "duration": 2274,
    "start_time": "2023-05-03T21:11:26.869Z"
   },
   {
    "duration": 5,
    "start_time": "2023-05-03T21:11:29.146Z"
   },
   {
    "duration": 8,
    "start_time": "2023-05-03T21:11:29.153Z"
   },
   {
    "duration": 292,
    "start_time": "2023-05-03T21:11:29.164Z"
   },
   {
    "duration": 42,
    "start_time": "2023-05-03T21:11:29.458Z"
   },
   {
    "duration": 10,
    "start_time": "2023-05-03T21:11:29.502Z"
   },
   {
    "duration": 23,
    "start_time": "2023-05-03T21:11:29.514Z"
   },
   {
    "duration": 67,
    "start_time": "2023-05-03T21:11:29.538Z"
   },
   {
    "duration": 8,
    "start_time": "2023-05-03T21:11:29.607Z"
   },
   {
    "duration": 3,
    "start_time": "2023-05-03T21:11:29.618Z"
   },
   {
    "duration": 14,
    "start_time": "2023-05-03T21:11:29.623Z"
   },
   {
    "duration": 14,
    "start_time": "2023-05-03T21:11:29.639Z"
   },
   {
    "duration": 80,
    "start_time": "2023-05-03T21:11:29.655Z"
   },
   {
    "duration": 5,
    "start_time": "2023-05-03T21:11:29.737Z"
   },
   {
    "duration": 357,
    "start_time": "2023-05-03T21:11:29.743Z"
   },
   {
    "duration": 2,
    "start_time": "2023-05-03T21:11:30.102Z"
   },
   {
    "duration": 35,
    "start_time": "2023-05-03T21:11:30.106Z"
   },
   {
    "duration": 37,
    "start_time": "2023-05-03T21:11:30.143Z"
   },
   {
    "duration": 0,
    "start_time": "2023-05-03T21:11:30.182Z"
   },
   {
    "duration": 0,
    "start_time": "2023-05-03T21:11:30.183Z"
   },
   {
    "duration": 0,
    "start_time": "2023-05-03T21:11:30.185Z"
   },
   {
    "duration": 0,
    "start_time": "2023-05-03T21:11:30.186Z"
   },
   {
    "duration": 0,
    "start_time": "2023-05-03T21:11:30.187Z"
   },
   {
    "duration": 0,
    "start_time": "2023-05-03T21:11:30.188Z"
   },
   {
    "duration": 0,
    "start_time": "2023-05-03T21:11:30.189Z"
   },
   {
    "duration": 1,
    "start_time": "2023-05-03T21:11:30.189Z"
   },
   {
    "duration": 0,
    "start_time": "2023-05-03T21:11:30.190Z"
   },
   {
    "duration": 0,
    "start_time": "2023-05-03T21:11:30.192Z"
   },
   {
    "duration": 0,
    "start_time": "2023-05-03T21:11:30.193Z"
   },
   {
    "duration": 0,
    "start_time": "2023-05-03T21:11:30.194Z"
   },
   {
    "duration": 12,
    "start_time": "2023-05-03T21:11:33.987Z"
   },
   {
    "duration": 4,
    "start_time": "2023-05-03T21:11:34.372Z"
   },
   {
    "duration": 536,
    "start_time": "2023-05-03T21:11:35.004Z"
   },
   {
    "duration": 6,
    "start_time": "2023-05-03T21:11:54.109Z"
   },
   {
    "duration": 12,
    "start_time": "2023-05-03T21:12:03.389Z"
   },
   {
    "duration": 4,
    "start_time": "2023-05-03T21:13:40.574Z"
   },
   {
    "duration": 4,
    "start_time": "2023-05-03T21:13:41.025Z"
   },
   {
    "duration": 4,
    "start_time": "2023-05-03T21:14:32.627Z"
   },
   {
    "duration": 4,
    "start_time": "2023-05-03T21:14:33.627Z"
   },
   {
    "duration": 581,
    "start_time": "2023-05-03T21:16:38.957Z"
   },
   {
    "duration": 3,
    "start_time": "2023-05-03T21:16:39.761Z"
   },
   {
    "duration": 77,
    "start_time": "2023-05-03T21:19:30.774Z"
   },
   {
    "duration": 546,
    "start_time": "2023-05-03T21:19:40.775Z"
   },
   {
    "duration": 6,
    "start_time": "2023-05-03T21:21:43.209Z"
   },
   {
    "duration": 7,
    "start_time": "2023-05-03T21:22:01.879Z"
   },
   {
    "duration": 5,
    "start_time": "2023-05-03T21:22:04.010Z"
   },
   {
    "duration": 5,
    "start_time": "2023-05-03T21:22:59.462Z"
   },
   {
    "duration": 6,
    "start_time": "2023-05-03T21:23:04.095Z"
   },
   {
    "duration": 44,
    "start_time": "2023-05-03T21:23:29.036Z"
   },
   {
    "duration": 7,
    "start_time": "2023-05-03T21:23:35.879Z"
   },
   {
    "duration": 10,
    "start_time": "2023-05-03T21:25:12.984Z"
   },
   {
    "duration": 16,
    "start_time": "2023-05-03T21:25:38.281Z"
   },
   {
    "duration": 1072,
    "start_time": "2023-05-03T21:26:07.624Z"
   },
   {
    "duration": 4,
    "start_time": "2023-05-03T21:26:21.694Z"
   },
   {
    "duration": 5,
    "start_time": "2023-05-03T21:26:34.254Z"
   },
   {
    "duration": 18,
    "start_time": "2023-05-03T21:27:18.807Z"
   },
   {
    "duration": 4,
    "start_time": "2023-05-03T21:27:49.290Z"
   },
   {
    "duration": 4,
    "start_time": "2023-05-03T21:28:17.615Z"
   },
   {
    "duration": 2100,
    "start_time": "2023-05-03T21:28:48.797Z"
   },
   {
    "duration": 6,
    "start_time": "2023-05-03T21:28:50.900Z"
   },
   {
    "duration": 8,
    "start_time": "2023-05-03T21:28:50.907Z"
   },
   {
    "duration": 279,
    "start_time": "2023-05-03T21:28:50.916Z"
   },
   {
    "duration": 32,
    "start_time": "2023-05-03T21:28:51.196Z"
   },
   {
    "duration": 10,
    "start_time": "2023-05-03T21:28:51.230Z"
   },
   {
    "duration": 25,
    "start_time": "2023-05-03T21:28:51.242Z"
   },
   {
    "duration": 55,
    "start_time": "2023-05-03T21:28:51.269Z"
   },
   {
    "duration": 8,
    "start_time": "2023-05-03T21:28:51.326Z"
   },
   {
    "duration": 4,
    "start_time": "2023-05-03T21:28:51.336Z"
   },
   {
    "duration": 12,
    "start_time": "2023-05-03T21:28:51.342Z"
   },
   {
    "duration": 29,
    "start_time": "2023-05-03T21:28:51.356Z"
   },
   {
    "duration": 71,
    "start_time": "2023-05-03T21:28:51.387Z"
   },
   {
    "duration": 4,
    "start_time": "2023-05-03T21:28:51.459Z"
   },
   {
    "duration": 330,
    "start_time": "2023-05-03T21:28:51.465Z"
   },
   {
    "duration": 2,
    "start_time": "2023-05-03T21:28:51.796Z"
   },
   {
    "duration": 13,
    "start_time": "2023-05-03T21:28:51.800Z"
   },
   {
    "duration": 19,
    "start_time": "2023-05-03T21:28:51.815Z"
   },
   {
    "duration": 0,
    "start_time": "2023-05-03T21:28:51.835Z"
   },
   {
    "duration": 0,
    "start_time": "2023-05-03T21:28:51.836Z"
   },
   {
    "duration": 0,
    "start_time": "2023-05-03T21:28:51.837Z"
   },
   {
    "duration": 0,
    "start_time": "2023-05-03T21:28:51.839Z"
   },
   {
    "duration": 0,
    "start_time": "2023-05-03T21:28:51.840Z"
   },
   {
    "duration": 0,
    "start_time": "2023-05-03T21:28:51.841Z"
   },
   {
    "duration": 0,
    "start_time": "2023-05-03T21:28:51.842Z"
   },
   {
    "duration": 0,
    "start_time": "2023-05-03T21:28:51.843Z"
   },
   {
    "duration": 0,
    "start_time": "2023-05-03T21:28:51.844Z"
   },
   {
    "duration": 0,
    "start_time": "2023-05-03T21:28:51.845Z"
   },
   {
    "duration": 0,
    "start_time": "2023-05-03T21:28:51.846Z"
   },
   {
    "duration": 0,
    "start_time": "2023-05-03T21:28:51.847Z"
   },
   {
    "duration": 11,
    "start_time": "2023-05-03T21:28:54.099Z"
   },
   {
    "duration": 4,
    "start_time": "2023-05-03T21:28:54.629Z"
   },
   {
    "duration": 729,
    "start_time": "2023-05-03T21:28:56.422Z"
   },
   {
    "duration": 4,
    "start_time": "2023-05-03T21:28:57.153Z"
   },
   {
    "duration": 4,
    "start_time": "2023-05-03T21:29:08.349Z"
   },
   {
    "duration": 4,
    "start_time": "2023-05-03T21:29:08.749Z"
   },
   {
    "duration": 10,
    "start_time": "2023-05-03T21:30:26.361Z"
   },
   {
    "duration": 2205,
    "start_time": "2023-05-03T21:31:18.388Z"
   },
   {
    "duration": 6,
    "start_time": "2023-05-03T21:31:20.595Z"
   },
   {
    "duration": 5,
    "start_time": "2023-05-03T21:31:20.603Z"
   },
   {
    "duration": 266,
    "start_time": "2023-05-03T21:31:20.609Z"
   },
   {
    "duration": 37,
    "start_time": "2023-05-03T21:31:20.877Z"
   },
   {
    "duration": 10,
    "start_time": "2023-05-03T21:31:20.915Z"
   },
   {
    "duration": 22,
    "start_time": "2023-05-03T21:31:20.926Z"
   },
   {
    "duration": 58,
    "start_time": "2023-05-03T21:31:20.950Z"
   },
   {
    "duration": 7,
    "start_time": "2023-05-03T21:31:21.010Z"
   },
   {
    "duration": 5,
    "start_time": "2023-05-03T21:31:21.019Z"
   },
   {
    "duration": 13,
    "start_time": "2023-05-03T21:31:21.025Z"
   },
   {
    "duration": 5,
    "start_time": "2023-05-03T21:31:21.040Z"
   },
   {
    "duration": 95,
    "start_time": "2023-05-03T21:31:21.047Z"
   },
   {
    "duration": 5,
    "start_time": "2023-05-03T21:31:21.145Z"
   },
   {
    "duration": 336,
    "start_time": "2023-05-03T21:31:21.151Z"
   },
   {
    "duration": 2,
    "start_time": "2023-05-03T21:31:21.489Z"
   },
   {
    "duration": 17,
    "start_time": "2023-05-03T21:31:21.493Z"
   },
   {
    "duration": 28,
    "start_time": "2023-05-03T21:31:21.513Z"
   },
   {
    "duration": 0,
    "start_time": "2023-05-03T21:31:21.543Z"
   },
   {
    "duration": 0,
    "start_time": "2023-05-03T21:31:21.544Z"
   },
   {
    "duration": 0,
    "start_time": "2023-05-03T21:31:21.545Z"
   },
   {
    "duration": 0,
    "start_time": "2023-05-03T21:31:21.546Z"
   },
   {
    "duration": 0,
    "start_time": "2023-05-03T21:31:21.547Z"
   },
   {
    "duration": 0,
    "start_time": "2023-05-03T21:31:21.548Z"
   },
   {
    "duration": 0,
    "start_time": "2023-05-03T21:31:21.549Z"
   },
   {
    "duration": 0,
    "start_time": "2023-05-03T21:31:21.550Z"
   },
   {
    "duration": 0,
    "start_time": "2023-05-03T21:31:21.551Z"
   },
   {
    "duration": 0,
    "start_time": "2023-05-03T21:31:21.552Z"
   },
   {
    "duration": 0,
    "start_time": "2023-05-03T21:31:21.553Z"
   },
   {
    "duration": 0,
    "start_time": "2023-05-03T21:31:21.586Z"
   },
   {
    "duration": 0,
    "start_time": "2023-05-03T21:31:21.587Z"
   },
   {
    "duration": 0,
    "start_time": "2023-05-03T21:31:21.589Z"
   },
   {
    "duration": 0,
    "start_time": "2023-05-03T21:31:21.590Z"
   },
   {
    "duration": 0,
    "start_time": "2023-05-03T21:31:21.591Z"
   },
   {
    "duration": 0,
    "start_time": "2023-05-03T21:31:21.593Z"
   },
   {
    "duration": 0,
    "start_time": "2023-05-03T21:31:21.594Z"
   },
   {
    "duration": 0,
    "start_time": "2023-05-03T21:31:21.595Z"
   },
   {
    "duration": 0,
    "start_time": "2023-05-03T21:31:21.597Z"
   },
   {
    "duration": 0,
    "start_time": "2023-05-03T21:31:21.598Z"
   },
   {
    "duration": 0,
    "start_time": "2023-05-03T21:31:21.599Z"
   },
   {
    "duration": 0,
    "start_time": "2023-05-03T21:31:21.601Z"
   },
   {
    "duration": 0,
    "start_time": "2023-05-03T21:31:21.602Z"
   },
   {
    "duration": 0,
    "start_time": "2023-05-03T21:31:21.603Z"
   },
   {
    "duration": 1,
    "start_time": "2023-05-03T21:31:21.604Z"
   },
   {
    "duration": 0,
    "start_time": "2023-05-03T21:31:21.606Z"
   },
   {
    "duration": 0,
    "start_time": "2023-05-03T21:31:21.607Z"
   },
   {
    "duration": 0,
    "start_time": "2023-05-03T21:31:21.608Z"
   },
   {
    "duration": 0,
    "start_time": "2023-05-03T21:31:21.609Z"
   },
   {
    "duration": 0,
    "start_time": "2023-05-03T21:31:21.610Z"
   },
   {
    "duration": 0,
    "start_time": "2023-05-03T21:31:21.612Z"
   },
   {
    "duration": 0,
    "start_time": "2023-05-03T21:31:21.613Z"
   },
   {
    "duration": 0,
    "start_time": "2023-05-03T21:31:21.614Z"
   },
   {
    "duration": 0,
    "start_time": "2023-05-03T21:31:21.615Z"
   },
   {
    "duration": 0,
    "start_time": "2023-05-03T21:31:21.616Z"
   },
   {
    "duration": 0,
    "start_time": "2023-05-03T21:31:21.617Z"
   },
   {
    "duration": 0,
    "start_time": "2023-05-03T21:31:21.618Z"
   },
   {
    "duration": 0,
    "start_time": "2023-05-03T21:31:21.619Z"
   },
   {
    "duration": 0,
    "start_time": "2023-05-03T21:31:21.620Z"
   },
   {
    "duration": 0,
    "start_time": "2023-05-03T21:31:21.621Z"
   },
   {
    "duration": 0,
    "start_time": "2023-05-03T21:31:21.685Z"
   },
   {
    "duration": 49,
    "start_time": "2023-05-03T21:33:07.769Z"
   },
   {
    "duration": 2204,
    "start_time": "2023-05-03T21:33:12.519Z"
   },
   {
    "duration": 5,
    "start_time": "2023-05-03T21:33:14.726Z"
   },
   {
    "duration": 21,
    "start_time": "2023-05-03T21:33:14.732Z"
   },
   {
    "duration": 288,
    "start_time": "2023-05-03T21:33:14.755Z"
   },
   {
    "duration": 31,
    "start_time": "2023-05-03T21:33:15.045Z"
   },
   {
    "duration": 15,
    "start_time": "2023-05-03T21:33:15.078Z"
   },
   {
    "duration": 24,
    "start_time": "2023-05-03T21:33:15.095Z"
   },
   {
    "duration": 41,
    "start_time": "2023-05-03T21:33:15.121Z"
   },
   {
    "duration": 25,
    "start_time": "2023-05-03T21:33:15.163Z"
   },
   {
    "duration": 3,
    "start_time": "2023-05-03T21:33:15.191Z"
   },
   {
    "duration": 6,
    "start_time": "2023-05-03T21:33:15.196Z"
   },
   {
    "duration": 16,
    "start_time": "2023-05-03T21:33:15.204Z"
   },
   {
    "duration": 94,
    "start_time": "2023-05-03T21:33:15.221Z"
   },
   {
    "duration": 5,
    "start_time": "2023-05-03T21:33:15.316Z"
   },
   {
    "duration": 331,
    "start_time": "2023-05-03T21:33:15.322Z"
   },
   {
    "duration": 2,
    "start_time": "2023-05-03T21:33:15.654Z"
   },
   {
    "duration": 21,
    "start_time": "2023-05-03T21:33:15.658Z"
   },
   {
    "duration": 61,
    "start_time": "2023-05-03T21:33:15.681Z"
   },
   {
    "duration": 4,
    "start_time": "2023-05-03T21:33:15.744Z"
   },
   {
    "duration": 19,
    "start_time": "2023-05-03T21:33:15.750Z"
   },
   {
    "duration": 21,
    "start_time": "2023-05-03T21:33:15.770Z"
   },
   {
    "duration": 965,
    "start_time": "2023-05-03T21:33:15.792Z"
   },
   {
    "duration": 995,
    "start_time": "2023-05-03T21:33:16.759Z"
   },
   {
    "duration": 991,
    "start_time": "2023-05-03T21:33:17.756Z"
   },
   {
    "duration": 154,
    "start_time": "2023-05-03T21:33:18.748Z"
   },
   {
    "duration": 147,
    "start_time": "2023-05-03T21:33:18.904Z"
   },
   {
    "duration": 17,
    "start_time": "2023-05-03T21:33:19.052Z"
   },
   {
    "duration": 1044,
    "start_time": "2023-05-03T21:33:19.087Z"
   },
   {
    "duration": 4,
    "start_time": "2023-05-03T21:33:20.133Z"
   },
   {
    "duration": 13,
    "start_time": "2023-05-03T21:33:20.138Z"
   },
   {
    "duration": 3,
    "start_time": "2023-05-03T21:33:20.153Z"
   },
   {
    "duration": 1199,
    "start_time": "2023-05-03T21:33:20.158Z"
   },
   {
    "duration": 4,
    "start_time": "2023-05-03T21:33:21.358Z"
   },
   {
    "duration": 22,
    "start_time": "2023-05-03T21:33:21.364Z"
   },
   {
    "duration": 115467,
    "start_time": "2023-05-03T21:33:21.387Z"
   },
   {
    "duration": 46703,
    "start_time": "2023-05-03T21:35:16.856Z"
   },
   {
    "duration": 8,
    "start_time": "2023-05-03T21:36:03.561Z"
   },
   {
    "duration": 17,
    "start_time": "2023-05-03T21:36:03.570Z"
   },
   {
    "duration": 14,
    "start_time": "2023-05-03T21:36:03.589Z"
   },
   {
    "duration": 11,
    "start_time": "2023-05-03T21:36:03.605Z"
   },
   {
    "duration": 4,
    "start_time": "2023-05-03T21:36:03.618Z"
   },
   {
    "duration": 173,
    "start_time": "2023-05-03T21:36:03.623Z"
   },
   {
    "duration": 89,
    "start_time": "2023-05-03T21:36:03.797Z"
   },
   {
    "duration": 1599,
    "start_time": "2023-05-03T21:36:03.889Z"
   },
   {
    "duration": 2212,
    "start_time": "2023-05-03T21:36:23.668Z"
   },
   {
    "duration": 1284,
    "start_time": "2023-05-03T21:36:25.883Z"
   },
   {
    "duration": 5,
    "start_time": "2023-05-03T21:36:27.169Z"
   },
   {
    "duration": 312,
    "start_time": "2023-05-03T21:36:27.184Z"
   },
   {
    "duration": 35,
    "start_time": "2023-05-03T21:36:27.498Z"
   },
   {
    "duration": 16,
    "start_time": "2023-05-03T21:36:27.534Z"
   },
   {
    "duration": 41,
    "start_time": "2023-05-03T21:36:27.552Z"
   },
   {
    "duration": 40,
    "start_time": "2023-05-03T21:36:27.595Z"
   },
   {
    "duration": 9,
    "start_time": "2023-05-03T21:36:27.637Z"
   },
   {
    "duration": 29,
    "start_time": "2023-05-03T21:36:27.648Z"
   },
   {
    "duration": 47,
    "start_time": "2023-05-03T21:36:27.679Z"
   },
   {
    "duration": 10,
    "start_time": "2023-05-03T21:36:27.728Z"
   },
   {
    "duration": 114,
    "start_time": "2023-05-03T21:36:27.740Z"
   },
   {
    "duration": 4,
    "start_time": "2023-05-03T21:36:27.856Z"
   },
   {
    "duration": 374,
    "start_time": "2023-05-03T21:36:27.861Z"
   },
   {
    "duration": 2,
    "start_time": "2023-05-03T21:36:28.237Z"
   },
   {
    "duration": 27,
    "start_time": "2023-05-03T21:36:28.241Z"
   },
   {
    "duration": 67,
    "start_time": "2023-05-03T21:36:28.270Z"
   },
   {
    "duration": 5,
    "start_time": "2023-05-03T21:36:28.339Z"
   },
   {
    "duration": 5,
    "start_time": "2023-05-03T21:36:28.346Z"
   },
   {
    "duration": 4,
    "start_time": "2023-05-03T21:36:28.353Z"
   },
   {
    "duration": 918,
    "start_time": "2023-05-03T21:36:28.359Z"
   },
   {
    "duration": 872,
    "start_time": "2023-05-03T21:36:29.279Z"
   },
   {
    "duration": 1101,
    "start_time": "2023-05-03T21:36:30.153Z"
   },
   {
    "duration": 177,
    "start_time": "2023-05-03T21:36:31.256Z"
   },
   {
    "duration": 167,
    "start_time": "2023-05-03T21:36:31.435Z"
   },
   {
    "duration": 106,
    "start_time": "2023-05-03T21:36:31.604Z"
   },
   {
    "duration": 930,
    "start_time": "2023-05-03T21:36:31.714Z"
   },
   {
    "duration": 5,
    "start_time": "2023-05-03T21:36:32.645Z"
   },
   {
    "duration": 22,
    "start_time": "2023-05-03T21:36:32.651Z"
   },
   {
    "duration": 48,
    "start_time": "2023-05-03T21:36:32.674Z"
   },
   {
    "duration": 1303,
    "start_time": "2023-05-03T21:36:32.724Z"
   },
   {
    "duration": 6,
    "start_time": "2023-05-03T21:36:40.033Z"
   },
   {
    "duration": 4,
    "start_time": "2023-05-03T21:36:41.167Z"
   },
   {
    "duration": 114,
    "start_time": "2023-05-03T21:36:42.197Z"
   },
   {
    "duration": 4,
    "start_time": "2023-05-03T21:37:17.847Z"
   },
   {
    "duration": 16,
    "start_time": "2023-05-03T21:37:32.851Z"
   },
   {
    "duration": 31907,
    "start_time": "2023-05-03T21:37:33.789Z"
   },
   {
    "duration": 2093,
    "start_time": "2023-05-03T21:39:44.955Z"
   },
   {
    "duration": 1220,
    "start_time": "2023-05-03T21:39:47.051Z"
   },
   {
    "duration": 7,
    "start_time": "2023-05-03T21:39:48.274Z"
   },
   {
    "duration": 310,
    "start_time": "2023-05-03T21:39:48.286Z"
   },
   {
    "duration": 35,
    "start_time": "2023-05-03T21:39:48.598Z"
   },
   {
    "duration": 17,
    "start_time": "2023-05-03T21:39:48.635Z"
   },
   {
    "duration": 40,
    "start_time": "2023-05-03T21:39:48.653Z"
   },
   {
    "duration": 39,
    "start_time": "2023-05-03T21:39:48.695Z"
   },
   {
    "duration": 8,
    "start_time": "2023-05-03T21:39:48.736Z"
   },
   {
    "duration": 4,
    "start_time": "2023-05-03T21:39:48.747Z"
   },
   {
    "duration": 34,
    "start_time": "2023-05-03T21:39:48.752Z"
   },
   {
    "duration": 9,
    "start_time": "2023-05-03T21:39:48.788Z"
   },
   {
    "duration": 94,
    "start_time": "2023-05-03T21:39:48.799Z"
   },
   {
    "duration": 5,
    "start_time": "2023-05-03T21:39:48.894Z"
   },
   {
    "duration": 356,
    "start_time": "2023-05-03T21:39:48.900Z"
   },
   {
    "duration": 2,
    "start_time": "2023-05-03T21:39:49.258Z"
   },
   {
    "duration": 23,
    "start_time": "2023-05-03T21:39:49.262Z"
   },
   {
    "duration": 45,
    "start_time": "2023-05-03T21:39:49.287Z"
   },
   {
    "duration": 5,
    "start_time": "2023-05-03T21:39:49.334Z"
   },
   {
    "duration": 6,
    "start_time": "2023-05-03T21:39:49.340Z"
   },
   {
    "duration": 3,
    "start_time": "2023-05-03T21:39:49.348Z"
   },
   {
    "duration": 965,
    "start_time": "2023-05-03T21:39:49.352Z"
   },
   {
    "duration": 1128,
    "start_time": "2023-05-03T21:39:50.319Z"
   },
   {
    "duration": 894,
    "start_time": "2023-05-03T21:39:51.449Z"
   },
   {
    "duration": 160,
    "start_time": "2023-05-03T21:39:52.345Z"
   },
   {
    "duration": 151,
    "start_time": "2023-05-03T21:39:52.507Z"
   },
   {
    "duration": 100,
    "start_time": "2023-05-03T21:39:52.660Z"
   },
   {
    "duration": 962,
    "start_time": "2023-05-03T21:39:52.763Z"
   },
   {
    "duration": 4,
    "start_time": "2023-05-03T21:39:53.727Z"
   },
   {
    "duration": 18,
    "start_time": "2023-05-03T21:39:53.732Z"
   },
   {
    "duration": 47,
    "start_time": "2023-05-03T21:39:53.752Z"
   },
   {
    "duration": 1318,
    "start_time": "2023-05-03T21:39:53.801Z"
   },
   {
    "duration": 4,
    "start_time": "2023-05-03T21:39:55.121Z"
   },
   {
    "duration": 21,
    "start_time": "2023-05-03T21:39:55.126Z"
   },
   {
    "duration": 21,
    "start_time": "2023-05-03T21:40:05.740Z"
   },
   {
    "duration": 19,
    "start_time": "2023-05-03T21:40:10.360Z"
   },
   {
    "duration": 0,
    "start_time": "2023-05-03T21:42:18.103Z"
   },
   {
    "duration": 0,
    "start_time": "2023-05-03T21:42:18.104Z"
   },
   {
    "duration": 135,
    "start_time": "2023-05-03T21:42:21.449Z"
   },
   {
    "duration": 124,
    "start_time": "2023-05-03T21:45:27.646Z"
   },
   {
    "duration": 126,
    "start_time": "2023-05-03T21:45:45.172Z"
   },
   {
    "duration": 9,
    "start_time": "2023-05-03T21:46:55.812Z"
   },
   {
    "duration": 7,
    "start_time": "2023-05-03T21:47:00.030Z"
   },
   {
    "duration": 127,
    "start_time": "2023-05-03T21:47:00.799Z"
   },
   {
    "duration": 9,
    "start_time": "2023-05-03T21:48:41.824Z"
   },
   {
    "duration": 145,
    "start_time": "2023-05-03T21:49:17.909Z"
   },
   {
    "duration": 13809,
    "start_time": "2023-05-03T21:53:48.023Z"
   },
   {
    "duration": 164,
    "start_time": "2023-05-03T21:54:04.026Z"
   },
   {
    "duration": 153,
    "start_time": "2023-05-03T21:54:26.925Z"
   },
   {
    "duration": 132,
    "start_time": "2023-05-03T21:54:32.260Z"
   },
   {
    "duration": 348,
    "start_time": "2023-05-03T21:55:08.664Z"
   },
   {
    "duration": 127,
    "start_time": "2023-05-03T21:56:10.066Z"
   },
   {
    "duration": 119,
    "start_time": "2023-05-03T21:58:34.992Z"
   },
   {
    "duration": 101,
    "start_time": "2023-05-03T21:58:42.950Z"
   },
   {
    "duration": 153,
    "start_time": "2023-05-03T21:58:57.176Z"
   },
   {
    "duration": 0,
    "start_time": "2023-05-03T21:59:22.193Z"
   },
   {
    "duration": 164,
    "start_time": "2023-05-03T22:04:35.070Z"
   },
   {
    "duration": 16,
    "start_time": "2023-05-03T22:06:14.010Z"
   },
   {
    "duration": 154,
    "start_time": "2023-05-03T22:06:21.509Z"
   },
   {
    "duration": 74,
    "start_time": "2023-05-03T22:06:33.371Z"
   },
   {
    "duration": 164,
    "start_time": "2023-05-03T22:06:41.649Z"
   },
   {
    "duration": 154,
    "start_time": "2023-05-03T22:06:52.400Z"
   },
   {
    "duration": 2338,
    "start_time": "2023-05-03T22:10:44.834Z"
   },
   {
    "duration": 6,
    "start_time": "2023-05-03T22:10:48.869Z"
   },
   {
    "duration": 5,
    "start_time": "2023-05-03T22:10:49.524Z"
   },
   {
    "duration": 321,
    "start_time": "2023-05-03T22:10:51.142Z"
   },
   {
    "duration": 59,
    "start_time": "2023-05-03T22:10:52.601Z"
   },
   {
    "duration": 16,
    "start_time": "2023-05-03T22:10:53.329Z"
   },
   {
    "duration": 26,
    "start_time": "2023-05-03T22:10:55.758Z"
   },
   {
    "duration": 43,
    "start_time": "2023-05-03T22:10:56.198Z"
   },
   {
    "duration": 9,
    "start_time": "2023-05-03T22:10:57.927Z"
   },
   {
    "duration": 3,
    "start_time": "2023-05-03T22:10:59.871Z"
   },
   {
    "duration": 7,
    "start_time": "2023-05-03T22:11:00.153Z"
   },
   {
    "duration": 7,
    "start_time": "2023-05-03T22:11:00.437Z"
   },
   {
    "duration": 113,
    "start_time": "2023-05-03T22:11:07.885Z"
   },
   {
    "duration": 5,
    "start_time": "2023-05-03T22:11:09.344Z"
   },
   {
    "duration": 411,
    "start_time": "2023-05-03T22:11:12.725Z"
   },
   {
    "duration": 3,
    "start_time": "2023-05-03T22:11:13.732Z"
   },
   {
    "duration": 22,
    "start_time": "2023-05-03T22:11:15.279Z"
   },
   {
    "duration": 50,
    "start_time": "2023-05-03T22:11:16.025Z"
   },
   {
    "duration": 5,
    "start_time": "2023-05-03T22:11:16.451Z"
   },
   {
    "duration": 4,
    "start_time": "2023-05-03T22:11:17.032Z"
   },
   {
    "duration": 3,
    "start_time": "2023-05-03T22:11:21.044Z"
   },
   {
    "duration": 940,
    "start_time": "2023-05-03T22:11:22.210Z"
   },
   {
    "duration": 1075,
    "start_time": "2023-05-03T22:11:24.935Z"
   },
   {
    "duration": 1208,
    "start_time": "2023-05-03T22:11:26.013Z"
   },
   {
    "duration": 176,
    "start_time": "2023-05-03T22:11:33.660Z"
   },
   {
    "duration": 185,
    "start_time": "2023-05-03T22:11:57.759Z"
   },
   {
    "duration": 172,
    "start_time": "2023-05-03T22:12:22.960Z"
   },
   {
    "duration": 188,
    "start_time": "2023-05-03T22:13:18.276Z"
   },
   {
    "duration": 171,
    "start_time": "2023-05-03T22:13:49.945Z"
   },
   {
    "duration": 19,
    "start_time": "2023-05-03T22:14:42.516Z"
   },
   {
    "duration": 4,
    "start_time": "2023-05-03T22:15:50.974Z"
   },
   {
    "duration": 6,
    "start_time": "2023-05-03T22:16:12.361Z"
   },
   {
    "duration": 6,
    "start_time": "2023-05-03T22:16:18.205Z"
   },
   {
    "duration": 12,
    "start_time": "2023-05-03T22:17:47.573Z"
   },
   {
    "duration": 606,
    "start_time": "2023-05-03T22:18:49.914Z"
   },
   {
    "duration": 373,
    "start_time": "2023-05-03T22:19:08.604Z"
   },
   {
    "duration": 9,
    "start_time": "2023-05-03T22:20:19.744Z"
   },
   {
    "duration": 9,
    "start_time": "2023-05-03T22:22:12.430Z"
   },
   {
    "duration": 16,
    "start_time": "2023-05-03T22:22:17.784Z"
   },
   {
    "duration": 9,
    "start_time": "2023-05-03T22:22:30.009Z"
   },
   {
    "duration": 15,
    "start_time": "2023-05-03T22:22:33.406Z"
   },
   {
    "duration": 17,
    "start_time": "2023-05-03T22:22:41.539Z"
   },
   {
    "duration": 14,
    "start_time": "2023-05-03T22:22:45.106Z"
   },
   {
    "duration": 12,
    "start_time": "2023-05-03T22:22:48.080Z"
   },
   {
    "duration": 5,
    "start_time": "2023-05-03T22:22:50.713Z"
   },
   {
    "duration": 804,
    "start_time": "2023-05-03T22:23:45.769Z"
   },
   {
    "duration": 2480,
    "start_time": "2023-05-03T22:24:55.206Z"
   },
   {
    "duration": 10,
    "start_time": "2023-05-03T22:24:57.696Z"
   },
   {
    "duration": 7,
    "start_time": "2023-05-03T22:24:57.711Z"
   },
   {
    "duration": 380,
    "start_time": "2023-05-03T22:24:57.720Z"
   },
   {
    "duration": 33,
    "start_time": "2023-05-03T22:24:58.107Z"
   },
   {
    "duration": 12,
    "start_time": "2023-05-03T22:24:58.142Z"
   },
   {
    "duration": 23,
    "start_time": "2023-05-03T22:24:58.156Z"
   },
   {
    "duration": 66,
    "start_time": "2023-05-03T22:24:58.184Z"
   },
   {
    "duration": 11,
    "start_time": "2023-05-03T22:24:58.252Z"
   },
   {
    "duration": 4,
    "start_time": "2023-05-03T22:24:58.266Z"
   },
   {
    "duration": 35,
    "start_time": "2023-05-03T22:24:58.272Z"
   },
   {
    "duration": 10,
    "start_time": "2023-05-03T22:24:58.314Z"
   },
   {
    "duration": 93,
    "start_time": "2023-05-03T22:24:58.326Z"
   },
   {
    "duration": 6,
    "start_time": "2023-05-03T22:24:58.421Z"
   },
   {
    "duration": 436,
    "start_time": "2023-05-03T22:24:58.428Z"
   },
   {
    "duration": 3,
    "start_time": "2023-05-03T22:24:58.866Z"
   },
   {
    "duration": 15,
    "start_time": "2023-05-03T22:24:58.870Z"
   },
   {
    "duration": 32,
    "start_time": "2023-05-03T22:24:58.888Z"
   },
   {
    "duration": 0,
    "start_time": "2023-05-03T22:24:58.922Z"
   },
   {
    "duration": 0,
    "start_time": "2023-05-03T22:24:58.923Z"
   },
   {
    "duration": 0,
    "start_time": "2023-05-03T22:24:58.925Z"
   },
   {
    "duration": 0,
    "start_time": "2023-05-03T22:24:58.926Z"
   },
   {
    "duration": 0,
    "start_time": "2023-05-03T22:24:58.928Z"
   },
   {
    "duration": 0,
    "start_time": "2023-05-03T22:24:58.929Z"
   },
   {
    "duration": 538,
    "start_time": "2023-05-03T22:25:08.414Z"
   },
   {
    "duration": 507,
    "start_time": "2023-05-03T22:25:15.840Z"
   },
   {
    "duration": 4,
    "start_time": "2023-05-03T22:25:48.824Z"
   },
   {
    "duration": 170,
    "start_time": "2023-05-03T22:26:05.211Z"
   },
   {
    "duration": 200,
    "start_time": "2023-05-03T22:26:08.533Z"
   },
   {
    "duration": 18,
    "start_time": "2023-05-03T22:26:15.541Z"
   },
   {
    "duration": 1007,
    "start_time": "2023-05-03T22:26:19.266Z"
   },
   {
    "duration": 7,
    "start_time": "2023-05-03T22:26:25.981Z"
   },
   {
    "duration": 10,
    "start_time": "2023-05-03T22:26:26.905Z"
   },
   {
    "duration": 5,
    "start_time": "2023-05-03T22:26:29.345Z"
   },
   {
    "duration": 6,
    "start_time": "2023-05-03T22:26:30.811Z"
   },
   {
    "duration": 556,
    "start_time": "2023-05-03T22:26:52.810Z"
   },
   {
    "duration": 1080,
    "start_time": "2023-05-03T22:30:25.505Z"
   },
   {
    "duration": 964,
    "start_time": "2023-05-03T22:30:34.924Z"
   },
   {
    "duration": 1129,
    "start_time": "2023-05-03T22:30:58.736Z"
   },
   {
    "duration": 1906,
    "start_time": "2023-05-03T22:31:26.610Z"
   },
   {
    "duration": 4,
    "start_time": "2023-05-03T22:31:29.874Z"
   },
   {
    "duration": 4,
    "start_time": "2023-05-03T22:31:42.218Z"
   },
   {
    "duration": 531,
    "start_time": "2023-05-03T22:32:16.320Z"
   },
   {
    "duration": 5,
    "start_time": "2023-05-03T22:32:17.193Z"
   },
   {
    "duration": 981,
    "start_time": "2023-05-03T22:32:37.073Z"
   },
   {
    "duration": 4,
    "start_time": "2023-05-03T22:32:40.402Z"
   },
   {
    "duration": 33,
    "start_time": "2023-05-03T22:33:07.183Z"
   },
   {
    "duration": 245,
    "start_time": "2023-05-03T22:33:08.322Z"
   },
   {
    "duration": 238,
    "start_time": "2023-05-03T22:33:16.677Z"
   },
   {
    "duration": 212,
    "start_time": "2023-05-03T22:33:23.023Z"
   },
   {
    "duration": 241,
    "start_time": "2023-05-03T22:33:37.534Z"
   },
   {
    "duration": 2382,
    "start_time": "2023-05-03T22:34:07.409Z"
   },
   {
    "duration": 11,
    "start_time": "2023-05-03T22:34:09.795Z"
   },
   {
    "duration": 6,
    "start_time": "2023-05-03T22:34:09.808Z"
   },
   {
    "duration": 325,
    "start_time": "2023-05-03T22:34:09.816Z"
   },
   {
    "duration": 31,
    "start_time": "2023-05-03T22:34:10.144Z"
   },
   {
    "duration": 14,
    "start_time": "2023-05-03T22:34:10.185Z"
   },
   {
    "duration": 36,
    "start_time": "2023-05-03T22:34:10.201Z"
   },
   {
    "duration": 40,
    "start_time": "2023-05-03T22:34:10.239Z"
   },
   {
    "duration": 12,
    "start_time": "2023-05-03T22:34:10.284Z"
   },
   {
    "duration": 15,
    "start_time": "2023-05-03T22:34:10.298Z"
   },
   {
    "duration": 22,
    "start_time": "2023-05-03T22:34:10.315Z"
   },
   {
    "duration": 18,
    "start_time": "2023-05-03T22:34:10.339Z"
   },
   {
    "duration": 99,
    "start_time": "2023-05-03T22:34:10.359Z"
   },
   {
    "duration": 4,
    "start_time": "2023-05-03T22:34:10.462Z"
   },
   {
    "duration": 438,
    "start_time": "2023-05-03T22:34:10.468Z"
   },
   {
    "duration": 2,
    "start_time": "2023-05-03T22:34:10.915Z"
   },
   {
    "duration": 22,
    "start_time": "2023-05-03T22:34:10.919Z"
   },
   {
    "duration": 20,
    "start_time": "2023-05-03T22:34:10.943Z"
   },
   {
    "duration": 0,
    "start_time": "2023-05-03T22:34:10.965Z"
   },
   {
    "duration": 0,
    "start_time": "2023-05-03T22:34:10.966Z"
   },
   {
    "duration": 0,
    "start_time": "2023-05-03T22:34:10.968Z"
   },
   {
    "duration": 0,
    "start_time": "2023-05-03T22:34:10.969Z"
   },
   {
    "duration": 0,
    "start_time": "2023-05-03T22:34:10.970Z"
   },
   {
    "duration": 0,
    "start_time": "2023-05-03T22:34:10.972Z"
   },
   {
    "duration": 0,
    "start_time": "2023-05-03T22:34:10.973Z"
   },
   {
    "duration": 0,
    "start_time": "2023-05-03T22:34:10.990Z"
   },
   {
    "duration": 0,
    "start_time": "2023-05-03T22:34:10.992Z"
   },
   {
    "duration": 0,
    "start_time": "2023-05-03T22:34:10.994Z"
   },
   {
    "duration": 0,
    "start_time": "2023-05-03T22:34:10.995Z"
   },
   {
    "duration": 0,
    "start_time": "2023-05-03T22:34:10.997Z"
   },
   {
    "duration": 0,
    "start_time": "2023-05-03T22:34:11.001Z"
   },
   {
    "duration": 0,
    "start_time": "2023-05-03T22:34:11.003Z"
   },
   {
    "duration": 0,
    "start_time": "2023-05-03T22:34:11.005Z"
   },
   {
    "duration": 0,
    "start_time": "2023-05-03T22:34:11.006Z"
   },
   {
    "duration": 0,
    "start_time": "2023-05-03T22:34:11.008Z"
   },
   {
    "duration": 0,
    "start_time": "2023-05-03T22:34:11.011Z"
   },
   {
    "duration": 0,
    "start_time": "2023-05-03T22:34:11.012Z"
   },
   {
    "duration": 0,
    "start_time": "2023-05-03T22:34:11.013Z"
   },
   {
    "duration": 0,
    "start_time": "2023-05-03T22:34:11.014Z"
   },
   {
    "duration": 0,
    "start_time": "2023-05-03T22:34:11.015Z"
   },
   {
    "duration": 0,
    "start_time": "2023-05-03T22:34:11.016Z"
   },
   {
    "duration": 0,
    "start_time": "2023-05-03T22:34:11.017Z"
   },
   {
    "duration": 0,
    "start_time": "2023-05-03T22:34:11.019Z"
   },
   {
    "duration": 0,
    "start_time": "2023-05-03T22:34:11.019Z"
   },
   {
    "duration": 0,
    "start_time": "2023-05-03T22:34:11.020Z"
   },
   {
    "duration": 0,
    "start_time": "2023-05-03T22:34:11.021Z"
   },
   {
    "duration": 0,
    "start_time": "2023-05-03T22:34:11.022Z"
   },
   {
    "duration": 0,
    "start_time": "2023-05-03T22:34:11.023Z"
   },
   {
    "duration": 0,
    "start_time": "2023-05-03T22:34:11.024Z"
   },
   {
    "duration": 0,
    "start_time": "2023-05-03T22:34:11.026Z"
   },
   {
    "duration": 93,
    "start_time": "2023-05-03T22:35:37.672Z"
   },
   {
    "duration": 2523,
    "start_time": "2023-05-03T22:35:56.847Z"
   },
   {
    "duration": 7,
    "start_time": "2023-05-03T22:35:59.372Z"
   },
   {
    "duration": 18,
    "start_time": "2023-05-03T22:35:59.381Z"
   },
   {
    "duration": 342,
    "start_time": "2023-05-03T22:35:59.403Z"
   },
   {
    "duration": 38,
    "start_time": "2023-05-03T22:35:59.747Z"
   },
   {
    "duration": 23,
    "start_time": "2023-05-03T22:35:59.788Z"
   },
   {
    "duration": 24,
    "start_time": "2023-05-03T22:35:59.813Z"
   },
   {
    "duration": 59,
    "start_time": "2023-05-03T22:35:59.839Z"
   },
   {
    "duration": 13,
    "start_time": "2023-05-03T22:35:59.900Z"
   },
   {
    "duration": 4,
    "start_time": "2023-05-03T22:35:59.915Z"
   },
   {
    "duration": 6,
    "start_time": "2023-05-03T22:35:59.921Z"
   },
   {
    "duration": 6,
    "start_time": "2023-05-03T22:35:59.928Z"
   },
   {
    "duration": 114,
    "start_time": "2023-05-03T22:35:59.936Z"
   },
   {
    "duration": 5,
    "start_time": "2023-05-03T22:36:00.052Z"
   },
   {
    "duration": 452,
    "start_time": "2023-05-03T22:36:00.059Z"
   },
   {
    "duration": 2,
    "start_time": "2023-05-03T22:36:00.513Z"
   },
   {
    "duration": 44,
    "start_time": "2023-05-03T22:36:00.517Z"
   },
   {
    "duration": 96,
    "start_time": "2023-05-03T22:36:00.563Z"
   },
   {
    "duration": 7,
    "start_time": "2023-05-03T22:36:00.661Z"
   },
   {
    "duration": 31,
    "start_time": "2023-05-03T22:36:00.670Z"
   },
   {
    "duration": 37,
    "start_time": "2023-05-03T22:36:00.703Z"
   },
   {
    "duration": 1024,
    "start_time": "2023-05-03T22:36:00.742Z"
   },
   {
    "duration": 914,
    "start_time": "2023-05-03T22:36:01.768Z"
   },
   {
    "duration": 978,
    "start_time": "2023-05-03T22:36:02.684Z"
   },
   {
    "duration": 178,
    "start_time": "2023-05-03T22:36:03.664Z"
   },
   {
    "duration": 209,
    "start_time": "2023-05-03T22:36:03.843Z"
   },
   {
    "duration": 21,
    "start_time": "2023-05-03T22:36:04.054Z"
   },
   {
    "duration": 1056,
    "start_time": "2023-05-03T22:36:04.089Z"
   },
   {
    "duration": 3,
    "start_time": "2023-05-03T22:36:05.146Z"
   },
   {
    "duration": 13,
    "start_time": "2023-05-03T22:36:05.150Z"
   },
   {
    "duration": 4,
    "start_time": "2023-05-03T22:36:05.165Z"
   },
   {
    "duration": 2173,
    "start_time": "2023-05-03T22:36:05.170Z"
   },
   {
    "duration": 4,
    "start_time": "2023-05-03T22:36:07.345Z"
   },
   {
    "duration": 17,
    "start_time": "2023-05-03T22:36:07.350Z"
   },
   {
    "duration": 266,
    "start_time": "2023-05-03T22:36:07.368Z"
   },
   {
    "duration": 243,
    "start_time": "2023-05-03T22:36:07.636Z"
   },
   {
    "duration": 15,
    "start_time": "2023-05-03T22:36:07.880Z"
   },
   {
    "duration": 11,
    "start_time": "2023-05-03T22:36:07.897Z"
   },
   {
    "duration": 13,
    "start_time": "2023-05-03T22:36:07.911Z"
   },
   {
    "duration": 17,
    "start_time": "2023-05-03T22:36:07.925Z"
   },
   {
    "duration": 19,
    "start_time": "2023-05-03T22:36:07.943Z"
   },
   {
    "duration": 84,
    "start_time": "2023-05-03T22:36:07.964Z"
   },
   {
    "duration": 1,
    "start_time": "2023-05-03T22:36:08.049Z"
   },
   {
    "duration": 0,
    "start_time": "2023-05-03T22:36:08.051Z"
   },
   {
    "duration": 0,
    "start_time": "2023-05-03T22:36:08.052Z"
   },
   {
    "duration": 0,
    "start_time": "2023-05-03T22:36:08.053Z"
   },
   {
    "duration": 0,
    "start_time": "2023-05-03T22:36:08.054Z"
   },
   {
    "duration": 0,
    "start_time": "2023-05-03T22:36:08.055Z"
   },
   {
    "duration": 0,
    "start_time": "2023-05-03T22:36:08.056Z"
   },
   {
    "duration": 0,
    "start_time": "2023-05-03T22:36:08.057Z"
   },
   {
    "duration": 0,
    "start_time": "2023-05-03T22:36:08.059Z"
   },
   {
    "duration": 0,
    "start_time": "2023-05-03T22:36:08.060Z"
   },
   {
    "duration": 0,
    "start_time": "2023-05-03T22:36:08.061Z"
   },
   {
    "duration": 0,
    "start_time": "2023-05-03T22:36:08.062Z"
   },
   {
    "duration": 0,
    "start_time": "2023-05-03T22:36:08.064Z"
   },
   {
    "duration": 0,
    "start_time": "2023-05-03T22:36:08.087Z"
   },
   {
    "duration": 0,
    "start_time": "2023-05-03T22:36:08.088Z"
   },
   {
    "duration": 0,
    "start_time": "2023-05-03T22:36:08.090Z"
   },
   {
    "duration": 0,
    "start_time": "2023-05-03T22:36:08.092Z"
   },
   {
    "duration": 0,
    "start_time": "2023-05-03T22:36:08.093Z"
   },
   {
    "duration": 6,
    "start_time": "2023-05-03T22:36:49.138Z"
   },
   {
    "duration": 6,
    "start_time": "2023-05-03T22:36:50.396Z"
   },
   {
    "duration": 282,
    "start_time": "2023-05-03T22:36:51.433Z"
   },
   {
    "duration": 8,
    "start_time": "2023-05-03T22:36:52.883Z"
   },
   {
    "duration": 2046,
    "start_time": "2023-05-03T22:36:55.276Z"
   },
   {
    "duration": 51612,
    "start_time": "2023-05-03T22:37:02.082Z"
   },
   {
    "duration": 6,
    "start_time": "2023-05-03T22:37:53.696Z"
   },
   {
    "duration": 12,
    "start_time": "2023-05-03T22:37:53.704Z"
   },
   {
    "duration": 7,
    "start_time": "2023-05-03T22:38:18.317Z"
   },
   {
    "duration": 18,
    "start_time": "2023-05-03T22:38:29.337Z"
   },
   {
    "duration": 70,
    "start_time": "2023-05-03T22:38:47.421Z"
   },
   {
    "duration": 937,
    "start_time": "2023-05-03T22:38:48.480Z"
   },
   {
    "duration": 9,
    "start_time": "2023-05-03T22:38:53.447Z"
   },
   {
    "duration": 8,
    "start_time": "2023-05-03T22:39:07.561Z"
   },
   {
    "duration": 110,
    "start_time": "2023-05-03T22:39:17.667Z"
   },
   {
    "duration": 6,
    "start_time": "2023-05-03T22:39:18.651Z"
   },
   {
    "duration": 8,
    "start_time": "2023-05-03T22:39:22.556Z"
   },
   {
    "duration": 13,
    "start_time": "2023-05-03T22:39:23.078Z"
   },
   {
    "duration": 15,
    "start_time": "2023-05-03T22:39:26.988Z"
   },
   {
    "duration": 3,
    "start_time": "2023-05-03T22:39:31.242Z"
   },
   {
    "duration": 7,
    "start_time": "2023-05-03T22:39:31.847Z"
   },
   {
    "duration": 3,
    "start_time": "2023-05-03T22:39:32.636Z"
   },
   {
    "duration": 8,
    "start_time": "2023-05-03T22:39:33.149Z"
   },
   {
    "duration": 8,
    "start_time": "2023-05-03T22:39:36.456Z"
   },
   {
    "duration": 157,
    "start_time": "2023-05-03T22:40:27.668Z"
   },
   {
    "duration": 9,
    "start_time": "2023-05-03T22:40:35.423Z"
   },
   {
    "duration": 211,
    "start_time": "2023-05-03T22:40:42.640Z"
   },
   {
    "duration": 909,
    "start_time": "2023-05-03T22:41:00.052Z"
   },
   {
    "duration": 284,
    "start_time": "2023-05-03T22:41:13.934Z"
   },
   {
    "duration": 190,
    "start_time": "2023-05-03T22:41:26.039Z"
   },
   {
    "duration": 4,
    "start_time": "2023-05-03T22:49:25.161Z"
   },
   {
    "duration": 30502,
    "start_time": "2023-05-03T22:52:18.833Z"
   },
   {
    "duration": 21,
    "start_time": "2023-05-03T22:53:58.069Z"
   },
   {
    "duration": 42,
    "start_time": "2023-05-03T22:54:22.798Z"
   },
   {
    "duration": 80,
    "start_time": "2023-05-03T22:54:30.765Z"
   },
   {
    "duration": 4,
    "start_time": "2023-05-03T22:54:48.226Z"
   },
   {
    "duration": 11,
    "start_time": "2023-05-03T22:55:54.603Z"
   },
   {
    "duration": 26,
    "start_time": "2023-05-03T22:56:00.473Z"
   },
   {
    "duration": 12,
    "start_time": "2023-05-03T22:56:32.181Z"
   },
   {
    "duration": 9,
    "start_time": "2023-05-03T22:56:43.530Z"
   },
   {
    "duration": 59,
    "start_time": "2023-05-03T23:03:10.624Z"
   },
   {
    "duration": 83,
    "start_time": "2023-05-03T23:03:42.453Z"
   },
   {
    "duration": 548519,
    "start_time": "2023-05-03T23:04:19.825Z"
   },
   {
    "duration": 680642,
    "start_time": "2023-05-03T23:13:37.261Z"
   },
   {
    "duration": 60,
    "start_time": "2023-05-04T02:48:51.604Z"
   },
   {
    "duration": 4,
    "start_time": "2023-05-04T02:48:52.578Z"
   },
   {
    "duration": 4,
    "start_time": "2023-05-04T02:49:11.698Z"
   },
   {
    "duration": 55,
    "start_time": "2023-05-04T02:49:33.006Z"
   },
   {
    "duration": 67,
    "start_time": "2023-05-04T02:49:44.238Z"
   },
   {
    "duration": 4,
    "start_time": "2023-05-04T02:49:53.320Z"
   },
   {
    "duration": 16,
    "start_time": "2023-05-04T02:50:02.212Z"
   },
   {
    "duration": 91542,
    "start_time": "2023-05-04T02:52:20.212Z"
   },
   {
    "duration": 102,
    "start_time": "2023-05-04T02:53:51.755Z"
   },
   {
    "duration": 7,
    "start_time": "2023-05-04T02:53:51.858Z"
   },
   {
    "duration": 34,
    "start_time": "2023-05-04T02:53:51.867Z"
   },
   {
    "duration": 56,
    "start_time": "2023-05-04T07:50:05.823Z"
   },
   {
    "duration": 6005,
    "start_time": "2023-05-04T07:50:10.479Z"
   },
   {
    "duration": 1542,
    "start_time": "2023-05-04T07:50:16.487Z"
   },
   {
    "duration": 5,
    "start_time": "2023-05-04T07:50:18.030Z"
   },
   {
    "duration": 1438,
    "start_time": "2023-05-04T07:50:18.037Z"
   },
   {
    "duration": 50,
    "start_time": "2023-05-04T07:50:19.478Z"
   },
   {
    "duration": 16,
    "start_time": "2023-05-04T07:50:19.530Z"
   },
   {
    "duration": 33,
    "start_time": "2023-05-04T07:50:19.548Z"
   },
   {
    "duration": 55,
    "start_time": "2023-05-04T07:50:19.596Z"
   },
   {
    "duration": 13,
    "start_time": "2023-05-04T07:50:19.654Z"
   },
   {
    "duration": 4,
    "start_time": "2023-05-04T07:50:19.669Z"
   },
   {
    "duration": 20,
    "start_time": "2023-05-04T07:50:19.675Z"
   },
   {
    "duration": 17,
    "start_time": "2023-05-04T07:50:19.697Z"
   },
   {
    "duration": 198,
    "start_time": "2023-05-04T07:50:19.717Z"
   },
   {
    "duration": 4,
    "start_time": "2023-05-04T07:50:19.918Z"
   },
   {
    "duration": 681,
    "start_time": "2023-05-04T07:50:19.923Z"
   },
   {
    "duration": 6,
    "start_time": "2023-05-04T07:50:20.609Z"
   },
   {
    "duration": 32,
    "start_time": "2023-05-04T07:50:20.618Z"
   },
   {
    "duration": 82,
    "start_time": "2023-05-04T07:50:20.652Z"
   },
   {
    "duration": 6,
    "start_time": "2023-05-04T07:50:20.735Z"
   },
   {
    "duration": 8,
    "start_time": "2023-05-04T07:50:20.742Z"
   },
   {
    "duration": 3,
    "start_time": "2023-05-04T07:50:20.754Z"
   },
   {
    "duration": 1042,
    "start_time": "2023-05-04T07:50:20.759Z"
   },
   {
    "duration": 1059,
    "start_time": "2023-05-04T07:50:21.803Z"
   },
   {
    "duration": 993,
    "start_time": "2023-05-04T07:50:22.865Z"
   },
   {
    "duration": 201,
    "start_time": "2023-05-04T07:50:23.861Z"
   },
   {
    "duration": 363,
    "start_time": "2023-05-04T07:50:24.064Z"
   },
   {
    "duration": 26,
    "start_time": "2023-05-04T07:50:24.429Z"
   },
   {
    "duration": 1000,
    "start_time": "2023-05-04T07:50:24.457Z"
   },
   {
    "duration": 3,
    "start_time": "2023-05-04T07:50:25.459Z"
   },
   {
    "duration": 11,
    "start_time": "2023-05-04T07:50:25.464Z"
   },
   {
    "duration": 26,
    "start_time": "2023-05-04T07:50:25.477Z"
   },
   {
    "duration": 2083,
    "start_time": "2023-05-04T07:50:25.505Z"
   },
   {
    "duration": 10,
    "start_time": "2023-05-04T07:50:27.590Z"
   },
   {
    "duration": 25,
    "start_time": "2023-05-04T07:50:27.602Z"
   },
   {
    "duration": 261,
    "start_time": "2023-05-04T07:50:27.629Z"
   },
   {
    "duration": 275,
    "start_time": "2023-05-04T07:50:27.895Z"
   },
   {
    "duration": 30,
    "start_time": "2023-05-04T07:50:28.172Z"
   },
   {
    "duration": 16,
    "start_time": "2023-05-04T07:50:28.204Z"
   },
   {
    "duration": 11,
    "start_time": "2023-05-04T07:50:28.223Z"
   },
   {
    "duration": 11,
    "start_time": "2023-05-04T07:50:28.236Z"
   },
   {
    "duration": 3,
    "start_time": "2023-05-04T07:50:28.252Z"
   },
   {
    "duration": 357,
    "start_time": "2023-05-04T07:50:28.257Z"
   },
   {
    "duration": 6,
    "start_time": "2023-05-04T07:50:28.620Z"
   },
   {
    "duration": 2671,
    "start_time": "2023-05-04T07:50:28.628Z"
   },
   {
    "duration": 242,
    "start_time": "2023-05-04T07:50:31.301Z"
   },
   {
    "duration": 10,
    "start_time": "2023-05-04T07:50:31.545Z"
   },
   {
    "duration": 0,
    "start_time": "2023-05-04T07:50:31.557Z"
   },
   {
    "duration": 0,
    "start_time": "2023-05-04T07:50:31.558Z"
   },
   {
    "duration": 0,
    "start_time": "2023-05-04T07:50:31.560Z"
   },
   {
    "duration": 0,
    "start_time": "2023-05-04T07:50:31.562Z"
   },
   {
    "duration": 0,
    "start_time": "2023-05-04T07:50:31.563Z"
   },
   {
    "duration": 0,
    "start_time": "2023-05-04T07:50:31.564Z"
   },
   {
    "duration": 0,
    "start_time": "2023-05-04T07:50:31.566Z"
   },
   {
    "duration": 0,
    "start_time": "2023-05-04T07:50:31.568Z"
   },
   {
    "duration": 0,
    "start_time": "2023-05-04T07:50:31.569Z"
   },
   {
    "duration": 0,
    "start_time": "2023-05-04T07:50:31.571Z"
   },
   {
    "duration": 0,
    "start_time": "2023-05-04T07:50:31.572Z"
   },
   {
    "duration": 0,
    "start_time": "2023-05-04T07:50:31.573Z"
   },
   {
    "duration": 0,
    "start_time": "2023-05-04T07:50:31.574Z"
   },
   {
    "duration": 0,
    "start_time": "2023-05-04T07:50:31.575Z"
   },
   {
    "duration": 172,
    "start_time": "2023-05-04T07:51:21.531Z"
   },
   {
    "duration": 568,
    "start_time": "2023-05-04T07:51:22.261Z"
   },
   {
    "duration": 15,
    "start_time": "2023-05-04T07:51:24.262Z"
   },
   {
    "duration": 10177,
    "start_time": "2023-05-04T07:51:30.261Z"
   },
   {
    "duration": 3,
    "start_time": "2023-05-04T07:51:44.934Z"
   },
   {
    "duration": 8,
    "start_time": "2023-05-04T07:51:45.364Z"
   },
   {
    "duration": 15,
    "start_time": "2023-05-04T07:51:46.072Z"
   },
   {
    "duration": 10,
    "start_time": "2023-05-04T07:51:46.575Z"
   },
   {
    "duration": 7,
    "start_time": "2023-05-04T07:51:53.180Z"
   },
   {
    "duration": 3,
    "start_time": "2023-05-04T07:51:56.678Z"
   },
   {
    "duration": 8,
    "start_time": "2023-05-04T07:51:57.885Z"
   },
   {
    "duration": 6,
    "start_time": "2023-05-04T07:51:58.876Z"
   },
   {
    "duration": 5,
    "start_time": "2023-05-04T07:52:00.983Z"
   },
   {
    "duration": 10,
    "start_time": "2023-05-04T07:52:08.324Z"
   },
   {
    "duration": 19,
    "start_time": "2023-05-04T07:52:10.989Z"
   },
   {
    "duration": 41,
    "start_time": "2023-05-04T07:52:39.402Z"
   },
   {
    "duration": 13,
    "start_time": "2023-05-04T07:57:42.822Z"
   },
   {
    "duration": 4,
    "start_time": "2023-05-04T07:58:15.197Z"
   },
   {
    "duration": 74979,
    "start_time": "2023-05-04T07:59:31.658Z"
   },
   {
    "duration": 24,
    "start_time": "2023-05-04T08:02:00.237Z"
   },
   {
    "duration": 20,
    "start_time": "2023-05-04T08:02:46.140Z"
   },
   {
    "duration": 6,
    "start_time": "2023-05-04T08:04:31.236Z"
   },
   {
    "duration": 552,
    "start_time": "2023-05-04T08:04:38.388Z"
   },
   {
    "duration": 6,
    "start_time": "2023-05-04T08:05:23.667Z"
   },
   {
    "duration": 618,
    "start_time": "2023-05-04T08:05:29.598Z"
   },
   {
    "duration": 15,
    "start_time": "2023-05-04T08:06:02.724Z"
   },
   {
    "duration": 10,
    "start_time": "2023-05-04T08:08:52.597Z"
   },
   {
    "duration": 153,
    "start_time": "2023-05-04T08:10:01.901Z"
   },
   {
    "duration": 17,
    "start_time": "2023-05-04T08:10:10.772Z"
   },
   {
    "duration": 132944,
    "start_time": "2023-05-04T08:10:22.588Z"
   },
   {
    "duration": 48,
    "start_time": "2023-05-04T08:12:39.643Z"
   },
   {
    "duration": 16,
    "start_time": "2023-05-04T08:12:42.971Z"
   },
   {
    "duration": 6,
    "start_time": "2023-05-04T08:13:11.520Z"
   },
   {
    "duration": 7,
    "start_time": "2023-05-04T08:13:18.018Z"
   },
   {
    "duration": 8,
    "start_time": "2023-05-04T08:13:27.315Z"
   },
   {
    "duration": 21,
    "start_time": "2023-05-04T08:14:52.464Z"
   },
   {
    "duration": 4,
    "start_time": "2023-05-04T08:14:58.620Z"
   },
   {
    "duration": 423113,
    "start_time": "2023-05-04T08:14:59.139Z"
   },
   {
    "duration": 99,
    "start_time": "2023-05-04T08:22:55.775Z"
   },
   {
    "duration": 9,
    "start_time": "2023-05-04T08:22:56.961Z"
   },
   {
    "duration": 5677,
    "start_time": "2023-05-04T08:36:20.717Z"
   },
   {
    "duration": 9,
    "start_time": "2023-05-04T08:36:48.819Z"
   },
   {
    "duration": 5582,
    "start_time": "2023-05-04T08:36:53.467Z"
   },
   {
    "duration": 8546,
    "start_time": "2023-05-04T08:37:12.060Z"
   },
   {
    "duration": 9197,
    "start_time": "2023-05-04T08:37:59.131Z"
   },
   {
    "duration": 14639,
    "start_time": "2023-05-04T08:38:39.220Z"
   },
   {
    "duration": 9,
    "start_time": "2023-05-04T08:42:56.538Z"
   },
   {
    "duration": 60,
    "start_time": "2023-05-04T08:45:07.242Z"
   },
   {
    "duration": 2,
    "start_time": "2023-05-04T08:46:02.131Z"
   },
   {
    "duration": 1193,
    "start_time": "2023-05-04T08:46:03.139Z"
   },
   {
    "duration": 5,
    "start_time": "2023-05-04T08:49:36.467Z"
   },
   {
    "duration": 12,
    "start_time": "2023-05-04T08:50:28.939Z"
   },
   {
    "duration": 10,
    "start_time": "2023-05-04T08:51:03.525Z"
   },
   {
    "duration": 7,
    "start_time": "2023-05-04T08:51:13.883Z"
   },
   {
    "duration": 321,
    "start_time": "2023-05-04T08:51:24.578Z"
   },
   {
    "duration": 3,
    "start_time": "2023-05-04T08:51:26.850Z"
   },
   {
    "duration": 3215,
    "start_time": "2023-05-04T08:51:28.414Z"
   },
   {
    "duration": 9801,
    "start_time": "2023-05-04T08:51:41.195Z"
   },
   {
    "duration": 15,
    "start_time": "2023-05-04T08:52:45.718Z"
   },
   {
    "duration": 4064,
    "start_time": "2023-05-04T08:53:34.444Z"
   },
   {
    "duration": 2116,
    "start_time": "2023-05-04T09:03:32.941Z"
   },
   {
    "duration": 5,
    "start_time": "2023-05-04T09:03:35.059Z"
   },
   {
    "duration": 7,
    "start_time": "2023-05-04T09:03:35.066Z"
   },
   {
    "duration": 316,
    "start_time": "2023-05-04T09:03:35.075Z"
   },
   {
    "duration": 44,
    "start_time": "2023-05-04T09:03:35.395Z"
   },
   {
    "duration": 31,
    "start_time": "2023-05-04T09:03:36.555Z"
   },
   {
    "duration": 145,
    "start_time": "2023-05-04T09:03:37.555Z"
   },
   {
    "duration": 35,
    "start_time": "2023-05-04T09:03:38.994Z"
   },
   {
    "duration": 3,
    "start_time": "2023-05-04T09:03:39.478Z"
   },
   {
    "duration": 9,
    "start_time": "2023-05-04T09:03:42.746Z"
   },
   {
    "duration": 4,
    "start_time": "2023-05-04T09:03:47.524Z"
   },
   {
    "duration": 5,
    "start_time": "2023-05-04T09:03:47.666Z"
   },
   {
    "duration": 7,
    "start_time": "2023-05-04T09:03:47.986Z"
   },
   {
    "duration": 90,
    "start_time": "2023-05-04T09:03:54.363Z"
   },
   {
    "duration": 6,
    "start_time": "2023-05-04T09:03:57.330Z"
   },
   {
    "duration": 405,
    "start_time": "2023-05-04T09:04:02.859Z"
   },
   {
    "duration": 2,
    "start_time": "2023-05-04T09:04:03.771Z"
   },
   {
    "duration": 11,
    "start_time": "2023-05-04T09:04:05.050Z"
   },
   {
    "duration": 64,
    "start_time": "2023-05-04T09:04:07.034Z"
   },
   {
    "duration": 6,
    "start_time": "2023-05-04T09:04:07.330Z"
   },
   {
    "duration": 5,
    "start_time": "2023-05-04T09:04:08.273Z"
   },
   {
    "duration": 2009,
    "start_time": "2023-05-04T09:04:40.022Z"
   },
   {
    "duration": 6,
    "start_time": "2023-05-04T09:04:42.034Z"
   },
   {
    "duration": 11,
    "start_time": "2023-05-04T09:04:42.041Z"
   },
   {
    "duration": 297,
    "start_time": "2023-05-04T09:04:42.053Z"
   },
   {
    "duration": 30,
    "start_time": "2023-05-04T09:04:42.352Z"
   },
   {
    "duration": 163,
    "start_time": "2023-05-04T09:04:42.383Z"
   },
   {
    "duration": 21,
    "start_time": "2023-05-04T09:04:42.548Z"
   },
   {
    "duration": 3,
    "start_time": "2023-05-04T09:04:42.570Z"
   },
   {
    "duration": 40,
    "start_time": "2023-05-04T09:04:42.574Z"
   },
   {
    "duration": 4,
    "start_time": "2023-05-04T09:04:42.623Z"
   },
   {
    "duration": 7,
    "start_time": "2023-05-04T09:04:42.629Z"
   },
   {
    "duration": 5,
    "start_time": "2023-05-04T09:04:42.638Z"
   },
   {
    "duration": 78,
    "start_time": "2023-05-04T09:04:42.645Z"
   },
   {
    "duration": 5,
    "start_time": "2023-05-04T09:04:42.727Z"
   },
   {
    "duration": 332,
    "start_time": "2023-05-04T09:04:42.733Z"
   },
   {
    "duration": 2,
    "start_time": "2023-05-04T09:04:43.067Z"
   },
   {
    "duration": 26,
    "start_time": "2023-05-04T09:04:43.071Z"
   },
   {
    "duration": 68,
    "start_time": "2023-05-04T09:04:43.099Z"
   },
   {
    "duration": 6,
    "start_time": "2023-05-04T09:04:43.169Z"
   },
   {
    "duration": 4,
    "start_time": "2023-05-04T09:04:43.177Z"
   },
   {
    "duration": 14,
    "start_time": "2023-05-04T09:04:43.194Z"
   },
   {
    "duration": 950,
    "start_time": "2023-05-04T09:04:43.216Z"
   },
   {
    "duration": 1001,
    "start_time": "2023-05-04T09:04:44.168Z"
   },
   {
    "duration": 1009,
    "start_time": "2023-05-04T09:04:45.170Z"
   },
   {
    "duration": 171,
    "start_time": "2023-05-04T09:04:46.181Z"
   },
   {
    "duration": 177,
    "start_time": "2023-05-04T09:04:46.354Z"
   },
   {
    "duration": 17,
    "start_time": "2023-05-04T09:04:46.533Z"
   },
   {
    "duration": 1009,
    "start_time": "2023-05-04T09:04:46.552Z"
   },
   {
    "duration": 2,
    "start_time": "2023-05-04T09:04:47.563Z"
   },
   {
    "duration": 9,
    "start_time": "2023-05-04T09:04:47.567Z"
   },
   {
    "duration": 7,
    "start_time": "2023-05-04T09:04:47.577Z"
   },
   {
    "duration": 1966,
    "start_time": "2023-05-04T09:04:47.598Z"
   },
   {
    "duration": 4,
    "start_time": "2023-05-04T09:04:49.566Z"
   },
   {
    "duration": 46,
    "start_time": "2023-05-04T09:04:49.572Z"
   },
   {
    "duration": 228,
    "start_time": "2023-05-04T09:04:49.623Z"
   },
   {
    "duration": 228,
    "start_time": "2023-05-04T09:04:49.852Z"
   },
   {
    "duration": 9,
    "start_time": "2023-05-04T09:04:51.431Z"
   },
   {
    "duration": 9,
    "start_time": "2023-05-04T09:04:51.978Z"
   },
   {
    "duration": 1363,
    "start_time": "2023-05-04T09:04:55.555Z"
   },
   {
    "duration": 7,
    "start_time": "2023-05-04T09:04:56.926Z"
   },
   {
    "duration": 18465,
    "start_time": "2023-05-04T09:04:59.544Z"
   },
   {
    "duration": 4,
    "start_time": "2023-05-04T09:05:31.223Z"
   },
   {
    "duration": 7,
    "start_time": "2023-05-04T09:05:31.719Z"
   },
   {
    "duration": 4,
    "start_time": "2023-05-04T09:05:33.026Z"
   },
   {
    "duration": 7,
    "start_time": "2023-05-04T09:05:33.484Z"
   },
   {
    "duration": 5,
    "start_time": "2023-05-04T09:05:34.946Z"
   },
   {
    "duration": 87,
    "start_time": "2023-05-04T09:05:41.919Z"
   },
   {
    "duration": 9961,
    "start_time": "2023-05-04T09:05:44.746Z"
   },
   {
    "duration": 9,
    "start_time": "2023-05-04T09:06:28.643Z"
   },
   {
    "duration": 7,
    "start_time": "2023-05-04T09:08:49.763Z"
   },
   {
    "duration": 6,
    "start_time": "2023-05-04T09:09:18.427Z"
   },
   {
    "duration": 7,
    "start_time": "2023-05-04T09:09:53.427Z"
   },
   {
    "duration": 471,
    "start_time": "2023-05-04T09:10:08.427Z"
   },
   {
    "duration": 3,
    "start_time": "2023-05-04T09:10:10.379Z"
   },
   {
    "duration": 2130,
    "start_time": "2023-05-04T09:10:14.978Z"
   },
   {
    "duration": 7,
    "start_time": "2023-05-04T09:11:08.530Z"
   },
   {
    "duration": 100,
    "start_time": "2023-05-04T09:11:12.610Z"
   },
   {
    "duration": 3,
    "start_time": "2023-05-04T09:11:13.762Z"
   },
   {
    "duration": 1663,
    "start_time": "2023-05-04T09:11:15.450Z"
   },
   {
    "duration": 8,
    "start_time": "2023-05-04T09:11:30.563Z"
   },
   {
    "duration": 7,
    "start_time": "2023-05-04T09:11:34.787Z"
   },
   {
    "duration": 488,
    "start_time": "2023-05-04T09:11:39.805Z"
   },
   {
    "duration": 3,
    "start_time": "2023-05-04T09:11:41.250Z"
   },
   {
    "duration": 1667,
    "start_time": "2023-05-04T09:11:42.746Z"
   },
   {
    "duration": 27,
    "start_time": "2023-05-04T09:11:54.794Z"
   },
   {
    "duration": 7,
    "start_time": "2023-05-04T09:11:55.082Z"
   },
   {
    "duration": 11,
    "start_time": "2023-05-04T09:12:21.317Z"
   },
   {
    "duration": 127,
    "start_time": "2023-05-04T09:12:25.681Z"
   },
   {
    "duration": 3,
    "start_time": "2023-05-04T09:12:27.554Z"
   },
   {
    "duration": 1722,
    "start_time": "2023-05-04T09:12:30.387Z"
   },
   {
    "duration": 9,
    "start_time": "2023-05-04T09:12:39.611Z"
   },
   {
    "duration": 7,
    "start_time": "2023-05-04T09:12:40.309Z"
   },
   {
    "duration": 8,
    "start_time": "2023-05-04T09:13:37.674Z"
   },
   {
    "duration": 32,
    "start_time": "2023-05-04T09:13:46.386Z"
   },
   {
    "duration": 837,
    "start_time": "2023-05-04T09:13:48.858Z"
   },
   {
    "duration": 9,
    "start_time": "2023-05-04T09:14:15.512Z"
   },
   {
    "duration": 17,
    "start_time": "2023-05-04T09:14:20.491Z"
   },
   {
    "duration": 5,
    "start_time": "2023-05-04T09:24:05.186Z"
   },
   {
    "duration": 8,
    "start_time": "2023-05-04T09:24:47.699Z"
   },
   {
    "duration": 7,
    "start_time": "2023-05-04T09:25:19.163Z"
   },
   {
    "duration": 96,
    "start_time": "2023-05-04T09:25:36.306Z"
   },
   {
    "duration": 2,
    "start_time": "2023-05-04T09:25:38.004Z"
   },
   {
    "duration": 1414,
    "start_time": "2023-05-04T09:25:39.080Z"
   },
   {
    "duration": 2697,
    "start_time": "2023-05-04T09:30:24.110Z"
   },
   {
    "duration": 8,
    "start_time": "2023-05-04T09:31:03.188Z"
   },
   {
    "duration": 9,
    "start_time": "2023-05-04T09:31:03.493Z"
   },
   {
    "duration": 11,
    "start_time": "2023-05-04T09:31:40.018Z"
   },
   {
    "duration": 389,
    "start_time": "2023-05-04T09:31:45.217Z"
   },
   {
    "duration": 3,
    "start_time": "2023-05-04T09:31:45.841Z"
   },
   {
    "duration": 3405,
    "start_time": "2023-05-04T09:31:47.692Z"
   },
   {
    "duration": 16,
    "start_time": "2023-05-04T09:32:06.322Z"
   },
   {
    "duration": 7,
    "start_time": "2023-05-04T09:32:06.724Z"
   },
   {
    "duration": 1499,
    "start_time": "2023-05-04T09:35:01.529Z"
   },
   {
    "duration": 10,
    "start_time": "2023-05-04T09:41:21.088Z"
   },
   {
    "duration": 8,
    "start_time": "2023-05-04T09:41:33.024Z"
   },
   {
    "duration": 8,
    "start_time": "2023-05-04T09:41:35.223Z"
   },
   {
    "duration": 6,
    "start_time": "2023-05-04T09:41:38.686Z"
   },
   {
    "duration": 212,
    "start_time": "2023-05-04T09:41:42.887Z"
   },
   {
    "duration": 5,
    "start_time": "2023-05-04T09:41:43.920Z"
   },
   {
    "duration": 1846,
    "start_time": "2023-05-04T09:41:45.287Z"
   },
   {
    "duration": 76,
    "start_time": "2023-05-04T09:42:44.468Z"
   },
   {
    "duration": 1831426,
    "start_time": "2023-05-04T09:43:06.329Z"
   },
   {
    "duration": 17,
    "start_time": "2023-05-04T10:22:37.260Z"
   },
   {
    "duration": 3,
    "start_time": "2023-05-04T10:22:40.885Z"
   },
   {
    "duration": 460805,
    "start_time": "2023-05-04T10:23:34.825Z"
   },
   {
    "duration": 6,
    "start_time": "2023-05-04T10:31:22.332Z"
   },
   {
    "duration": 478,
    "start_time": "2023-05-04T10:31:24.133Z"
   },
   {
    "duration": 8,
    "start_time": "2023-05-04T10:31:25.956Z"
   },
   {
    "duration": 10,
    "start_time": "2023-05-04T10:33:22.109Z"
   },
   {
    "duration": 119,
    "start_time": "2023-05-04T10:33:29.104Z"
   },
   {
    "duration": 24,
    "start_time": "2023-05-04T10:33:31.220Z"
   },
   {
    "duration": 3,
    "start_time": "2023-05-04T10:33:37.594Z"
   },
   {
    "duration": 8,
    "start_time": "2023-05-04T10:33:39.643Z"
   },
   {
    "duration": 7,
    "start_time": "2023-05-04T10:33:53.117Z"
   },
   {
    "duration": 8,
    "start_time": "2023-05-04T10:33:55.983Z"
   },
   {
    "duration": 7,
    "start_time": "2023-05-04T10:33:56.485Z"
   },
   {
    "duration": 6,
    "start_time": "2023-05-04T10:33:59.681Z"
   },
   {
    "duration": 166,
    "start_time": "2023-05-04T10:34:02.036Z"
   },
   {
    "duration": 3,
    "start_time": "2023-05-04T10:34:03.508Z"
   },
   {
    "duration": 1689,
    "start_time": "2023-05-04T10:34:05.108Z"
   },
   {
    "duration": 33,
    "start_time": "2023-05-04T10:34:21.185Z"
   },
   {
    "duration": 858,
    "start_time": "2023-05-04T10:34:22.844Z"
   },
   {
    "duration": 5,
    "start_time": "2023-05-04T10:34:48.606Z"
   },
   {
    "duration": 8,
    "start_time": "2023-05-04T10:34:49.682Z"
   },
   {
    "duration": 3,
    "start_time": "2023-05-04T10:34:51.236Z"
   },
   {
    "duration": 9,
    "start_time": "2023-05-04T10:34:51.556Z"
   },
   {
    "duration": 5,
    "start_time": "2023-05-04T10:34:52.620Z"
   },
   {
    "duration": 21,
    "start_time": "2023-05-04T10:34:56.523Z"
   },
   {
    "duration": 3,
    "start_time": "2023-05-04T10:34:57.716Z"
   },
   {
    "duration": 437043,
    "start_time": "2023-05-04T10:35:05.210Z"
   },
   {
    "duration": 134,
    "start_time": "2023-05-04T10:47:41.867Z"
   },
   {
    "duration": 10,
    "start_time": "2023-05-04T10:47:42.354Z"
   },
   {
    "duration": 49,
    "start_time": "2023-05-04T10:47:49.155Z"
   },
   {
    "duration": 34,
    "start_time": "2023-05-04T10:47:49.215Z"
   },
   {
    "duration": 68,
    "start_time": "2023-05-04T10:54:07.745Z"
   },
   {
    "duration": 822,
    "start_time": "2023-05-04T10:54:10.639Z"
   },
   {
    "duration": 19,
    "start_time": "2023-05-04T10:54:17.244Z"
   },
   {
    "duration": 8,
    "start_time": "2023-05-04T10:54:17.864Z"
   },
   {
    "duration": 15,
    "start_time": "2023-05-04T12:05:16.448Z"
   },
   {
    "duration": 10,
    "start_time": "2023-05-04T12:05:24.140Z"
   },
   {
    "duration": 98325,
    "start_time": "2023-05-04T12:05:32.220Z"
   },
   {
    "duration": 3,
    "start_time": "2023-05-04T12:07:18.953Z"
   },
   {
    "duration": 396837,
    "start_time": "2023-05-04T12:07:19.673Z"
   },
   {
    "duration": 9,
    "start_time": "2023-05-04T12:14:39.283Z"
   },
   {
    "duration": 92579,
    "start_time": "2023-05-04T12:14:44.815Z"
   },
   {
    "duration": 3,
    "start_time": "2023-05-04T12:43:39.386Z"
   },
   {
    "duration": 380001,
    "start_time": "2023-05-04T12:43:41.022Z"
   },
   {
    "duration": 46,
    "start_time": "2023-05-04T12:52:42.317Z"
   },
   {
    "duration": 9,
    "start_time": "2023-05-04T12:52:45.652Z"
   },
   {
    "duration": 18,
    "start_time": "2023-05-04T12:53:24.030Z"
   },
   {
    "duration": 12,
    "start_time": "2023-05-04T12:53:43.427Z"
   },
   {
    "duration": 908,
    "start_time": "2023-05-04T12:53:49.236Z"
   },
   {
    "duration": 3,
    "start_time": "2023-05-04T12:53:51.772Z"
   },
   {
    "duration": 4435,
    "start_time": "2023-05-04T12:53:52.468Z"
   },
   {
    "duration": 9,
    "start_time": "2023-05-04T12:54:31.741Z"
   },
   {
    "duration": 374,
    "start_time": "2023-05-04T12:54:37.420Z"
   },
   {
    "duration": 3,
    "start_time": "2023-05-04T12:54:38.732Z"
   },
   {
    "duration": 3773,
    "start_time": "2023-05-04T12:54:40.221Z"
   },
   {
    "duration": 107,
    "start_time": "2023-05-04T12:55:13.589Z"
   },
   {
    "duration": 14,
    "start_time": "2023-05-04T12:55:14.216Z"
   },
   {
    "duration": 7,
    "start_time": "2023-05-04T12:56:07.558Z"
   },
   {
    "duration": 1134,
    "start_time": "2023-05-04T12:56:11.588Z"
   },
   {
    "duration": 3,
    "start_time": "2023-05-04T12:56:14.411Z"
   },
   {
    "duration": 7852,
    "start_time": "2023-05-04T12:56:15.169Z"
   },
   {
    "duration": 34,
    "start_time": "2023-05-04T12:56:48.788Z"
   },
   {
    "duration": 9,
    "start_time": "2023-05-04T12:56:49.284Z"
   },
   {
    "duration": 9,
    "start_time": "2023-05-04T12:57:14.620Z"
   },
   {
    "duration": 34,
    "start_time": "2023-05-04T12:57:22.780Z"
   },
   {
    "duration": 9,
    "start_time": "2023-05-04T12:57:30.724Z"
   },
   {
    "duration": 25,
    "start_time": "2023-05-04T12:57:33.540Z"
   },
   {
    "duration": 10,
    "start_time": "2023-05-04T12:58:05.852Z"
   },
   {
    "duration": 30,
    "start_time": "2023-05-04T12:58:08.708Z"
   },
   {
    "duration": 10,
    "start_time": "2023-05-04T12:58:26.268Z"
   },
   {
    "duration": 44,
    "start_time": "2023-05-04T12:58:28.969Z"
   },
   {
    "duration": 9,
    "start_time": "2023-05-04T12:58:41.475Z"
   },
   {
    "duration": 1143,
    "start_time": "2023-05-04T12:58:44.779Z"
   },
   {
    "duration": 12,
    "start_time": "2023-05-04T12:58:45.927Z"
   },
   {
    "duration": 8654,
    "start_time": "2023-05-04T12:58:47.946Z"
   },
   {
    "duration": 35,
    "start_time": "2023-05-04T12:59:07.338Z"
   },
   {
    "duration": 9,
    "start_time": "2023-05-04T12:59:07.682Z"
   },
   {
    "duration": 13,
    "start_time": "2023-05-04T12:59:26.219Z"
   },
   {
    "duration": 9,
    "start_time": "2023-05-04T13:01:21.928Z"
   },
   {
    "duration": 1284,
    "start_time": "2023-05-04T13:01:26.250Z"
   },
   {
    "duration": 3,
    "start_time": "2023-05-04T13:01:28.369Z"
   },
   {
    "duration": 5576,
    "start_time": "2023-05-04T13:01:30.473Z"
   },
   {
    "duration": 528,
    "start_time": "2023-05-04T13:01:43.563Z"
   },
   {
    "duration": 193,
    "start_time": "2023-05-04T13:01:49.721Z"
   },
   {
    "duration": 16,
    "start_time": "2023-05-04T13:01:50.184Z"
   },
   {
    "duration": 4,
    "start_time": "2023-05-04T13:16:34.590Z"
   },
   {
    "duration": 8,
    "start_time": "2023-05-04T13:16:45.204Z"
   },
   {
    "duration": 12,
    "start_time": "2023-05-04T13:17:09.135Z"
   },
   {
    "duration": 150,
    "start_time": "2023-05-04T13:17:16.047Z"
   },
   {
    "duration": 2,
    "start_time": "2023-05-04T13:17:17.489Z"
   },
   {
    "duration": 1301,
    "start_time": "2023-05-04T13:17:18.301Z"
   },
   {
    "duration": 9,
    "start_time": "2023-05-04T13:17:31.213Z"
   },
   {
    "duration": 8,
    "start_time": "2023-05-04T13:17:31.561Z"
   },
   {
    "duration": 9,
    "start_time": "2023-05-04T13:18:13.000Z"
   },
   {
    "duration": 131,
    "start_time": "2023-05-04T13:18:15.871Z"
   },
   {
    "duration": 2,
    "start_time": "2023-05-04T13:18:16.647Z"
   },
   {
    "duration": 1607,
    "start_time": "2023-05-04T13:18:17.495Z"
   },
   {
    "duration": 48,
    "start_time": "2023-05-05T09:55:17.547Z"
   },
   {
    "duration": 5688,
    "start_time": "2023-05-05T09:55:21.728Z"
   },
   {
    "duration": 1258,
    "start_time": "2023-05-05T09:55:27.418Z"
   },
   {
    "duration": 4,
    "start_time": "2023-05-05T09:55:28.678Z"
   },
   {
    "duration": 940,
    "start_time": "2023-05-05T09:55:28.683Z"
   },
   {
    "duration": 25,
    "start_time": "2023-05-05T09:55:29.625Z"
   },
   {
    "duration": 111,
    "start_time": "2023-05-05T09:55:29.651Z"
   },
   {
    "duration": 18,
    "start_time": "2023-05-05T09:55:29.764Z"
   },
   {
    "duration": 12,
    "start_time": "2023-05-05T09:55:29.783Z"
   },
   {
    "duration": 13,
    "start_time": "2023-05-05T09:55:29.796Z"
   },
   {
    "duration": 2,
    "start_time": "2023-05-05T09:55:29.810Z"
   },
   {
    "duration": 18,
    "start_time": "2023-05-05T09:55:29.813Z"
   },
   {
    "duration": 11,
    "start_time": "2023-05-05T09:55:29.832Z"
   },
   {
    "duration": 418,
    "start_time": "2023-05-05T09:55:29.844Z"
   },
   {
    "duration": 4,
    "start_time": "2023-05-05T09:55:30.265Z"
   },
   {
    "duration": 1792,
    "start_time": "2023-05-05T09:55:30.270Z"
   },
   {
    "duration": 1,
    "start_time": "2023-05-05T09:55:32.064Z"
   },
   {
    "duration": 68,
    "start_time": "2023-05-05T09:55:32.067Z"
   },
   {
    "duration": 123,
    "start_time": "2023-05-05T09:55:32.137Z"
   },
   {
    "duration": 21,
    "start_time": "2023-05-05T09:55:32.261Z"
   },
   {
    "duration": 55,
    "start_time": "2023-05-05T09:55:32.283Z"
   },
   {
    "duration": 140,
    "start_time": "2023-05-05T09:55:32.339Z"
   },
   {
    "duration": 843,
    "start_time": "2023-05-05T09:55:32.480Z"
   },
   {
    "duration": 876,
    "start_time": "2023-05-05T09:55:33.324Z"
   },
   {
    "duration": 896,
    "start_time": "2023-05-05T09:55:34.201Z"
   },
   {
    "duration": 145,
    "start_time": "2023-05-05T09:55:35.098Z"
   },
   {
    "duration": 190,
    "start_time": "2023-05-05T09:55:35.245Z"
   },
   {
    "duration": 15,
    "start_time": "2023-05-05T09:55:35.436Z"
   },
   {
    "duration": 853,
    "start_time": "2023-05-05T09:55:35.452Z"
   },
   {
    "duration": 2,
    "start_time": "2023-05-05T09:55:36.306Z"
   },
   {
    "duration": 14,
    "start_time": "2023-05-05T09:55:36.309Z"
   },
   {
    "duration": 8,
    "start_time": "2023-05-05T09:55:36.324Z"
   },
   {
    "duration": 1573,
    "start_time": "2023-05-05T09:55:36.333Z"
   },
   {
    "duration": 3,
    "start_time": "2023-05-05T09:55:37.908Z"
   },
   {
    "duration": 39,
    "start_time": "2023-05-05T09:55:37.913Z"
   },
   {
    "duration": 198,
    "start_time": "2023-05-05T09:55:37.953Z"
   },
   {
    "duration": 197,
    "start_time": "2023-05-05T09:55:38.153Z"
   },
   {
    "duration": 8,
    "start_time": "2023-05-05T09:57:12.518Z"
   },
   {
    "duration": 5,
    "start_time": "2023-05-05T09:57:50.238Z"
   },
   {
    "duration": 1872,
    "start_time": "2023-05-05T09:57:54.122Z"
   },
   {
    "duration": 5,
    "start_time": "2023-05-05T09:57:55.996Z"
   },
   {
    "duration": 8,
    "start_time": "2023-05-05T09:57:56.003Z"
   },
   {
    "duration": 319,
    "start_time": "2023-05-05T09:57:56.013Z"
   },
   {
    "duration": 25,
    "start_time": "2023-05-05T09:57:56.333Z"
   },
   {
    "duration": 2041,
    "start_time": "2023-05-05T09:58:24.856Z"
   },
   {
    "duration": 5,
    "start_time": "2023-05-05T09:58:26.899Z"
   },
   {
    "duration": 20,
    "start_time": "2023-05-05T09:58:26.906Z"
   },
   {
    "duration": 303,
    "start_time": "2023-05-05T09:58:26.927Z"
   },
   {
    "duration": 2,
    "start_time": "2023-05-05T09:58:28.753Z"
   },
   {
    "duration": 6,
    "start_time": "2023-05-05T09:58:29.461Z"
   },
   {
    "duration": 3,
    "start_time": "2023-05-05T09:58:30.373Z"
   },
   {
    "duration": 2,
    "start_time": "2023-05-05T09:58:30.636Z"
   },
   {
    "duration": 7,
    "start_time": "2023-05-05T09:58:32.237Z"
   },
   {
    "duration": 11,
    "start_time": "2023-05-05T10:11:23.030Z"
   },
   {
    "duration": 7,
    "start_time": "2023-05-05T10:11:24.060Z"
   },
   {
    "duration": 5,
    "start_time": "2023-05-05T10:14:13.318Z"
   },
   {
    "duration": 3,
    "start_time": "2023-05-05T10:15:33.526Z"
   },
   {
    "duration": 6,
    "start_time": "2023-05-05T10:15:34.068Z"
   },
   {
    "duration": 2147,
    "start_time": "2023-05-05T10:17:25.852Z"
   },
   {
    "duration": 6,
    "start_time": "2023-05-05T10:17:28.002Z"
   },
   {
    "duration": 14,
    "start_time": "2023-05-05T10:17:28.009Z"
   },
   {
    "duration": 291,
    "start_time": "2023-05-05T10:17:28.025Z"
   },
   {
    "duration": 6,
    "start_time": "2023-05-05T10:17:28.318Z"
   },
   {
    "duration": 53,
    "start_time": "2023-05-05T10:17:28.325Z"
   },
   {
    "duration": 12,
    "start_time": "2023-05-05T10:17:28.379Z"
   },
   {
    "duration": 33,
    "start_time": "2023-05-05T10:17:28.392Z"
   },
   {
    "duration": 14,
    "start_time": "2023-05-05T10:17:28.427Z"
   },
   {
    "duration": 95,
    "start_time": "2023-05-05T10:17:28.444Z"
   },
   {
    "duration": 4,
    "start_time": "2023-05-05T10:17:28.540Z"
   },
   {
    "duration": 337,
    "start_time": "2023-05-05T10:17:28.546Z"
   },
   {
    "duration": 2,
    "start_time": "2023-05-05T10:17:28.884Z"
   },
   {
    "duration": 15,
    "start_time": "2023-05-05T10:17:28.887Z"
   },
   {
    "duration": 4,
    "start_time": "2023-05-05T10:17:28.904Z"
   },
   {
    "duration": 9,
    "start_time": "2023-05-05T10:17:28.909Z"
   },
   {
    "duration": 4,
    "start_time": "2023-05-05T10:17:28.920Z"
   },
   {
    "duration": 12,
    "start_time": "2023-05-05T10:17:28.925Z"
   },
   {
    "duration": 986,
    "start_time": "2023-05-05T10:17:28.938Z"
   },
   {
    "duration": 934,
    "start_time": "2023-05-05T10:17:29.926Z"
   },
   {
    "duration": 951,
    "start_time": "2023-05-05T10:17:30.862Z"
   },
   {
    "duration": 146,
    "start_time": "2023-05-05T10:17:31.814Z"
   },
   {
    "duration": 145,
    "start_time": "2023-05-05T10:17:31.962Z"
   },
   {
    "duration": 16,
    "start_time": "2023-05-05T10:17:32.109Z"
   },
   {
    "duration": 970,
    "start_time": "2023-05-05T10:17:32.126Z"
   },
   {
    "duration": 3,
    "start_time": "2023-05-05T10:17:33.097Z"
   },
   {
    "duration": 19,
    "start_time": "2023-05-05T10:17:33.102Z"
   },
   {
    "duration": 16,
    "start_time": "2023-05-05T10:17:33.125Z"
   },
   {
    "duration": 1582,
    "start_time": "2023-05-05T10:17:33.143Z"
   },
   {
    "duration": 3,
    "start_time": "2023-05-05T10:17:34.726Z"
   },
   {
    "duration": 18,
    "start_time": "2023-05-05T10:17:34.731Z"
   },
   {
    "duration": 203,
    "start_time": "2023-05-05T10:17:34.750Z"
   },
   {
    "duration": 271,
    "start_time": "2023-05-05T10:17:34.955Z"
   },
   {
    "duration": 8,
    "start_time": "2023-05-05T10:17:35.227Z"
   },
   {
    "duration": 14,
    "start_time": "2023-05-05T10:17:35.236Z"
   },
   {
    "duration": 13,
    "start_time": "2023-05-05T10:17:35.251Z"
   },
   {
    "duration": 7,
    "start_time": "2023-05-05T10:17:36.869Z"
   },
   {
    "duration": 5,
    "start_time": "2023-05-05T10:17:39.318Z"
   },
   {
    "duration": 354,
    "start_time": "2023-05-05T10:17:42.223Z"
   },
   {
    "duration": 6,
    "start_time": "2023-05-05T10:17:53.421Z"
   },
   {
    "duration": 198,
    "start_time": "2023-05-05T10:17:56.175Z"
   },
   {
    "duration": 3,
    "start_time": "2023-05-05T10:17:58.017Z"
   },
   {
    "duration": 1461,
    "start_time": "2023-05-05T10:17:59.417Z"
   },
   {
    "duration": 2016064,
    "start_time": "2023-05-05T10:20:07.854Z"
   },
   {
    "duration": 15,
    "start_time": "2023-05-05T11:06:45.133Z"
   },
   {
    "duration": 3,
    "start_time": "2023-05-05T11:06:46.781Z"
   },
   {
    "duration": 4,
    "start_time": "2023-05-05T11:07:10.491Z"
   },
   {
    "duration": 85,
    "start_time": "2023-05-05T11:07:34.486Z"
   },
   {
    "duration": 553,
    "start_time": "2023-05-05T11:07:38.029Z"
   },
   {
    "duration": 24,
    "start_time": "2023-05-05T11:08:39.262Z"
   },
   {
    "duration": 19,
    "start_time": "2023-05-05T11:09:00.693Z"
   },
   {
    "duration": 318,
    "start_time": "2023-05-05T11:09:40.031Z"
   },
   {
    "duration": 10,
    "start_time": "2023-05-05T11:11:42.294Z"
   },
   {
    "duration": 283,
    "start_time": "2023-05-05T11:17:45.386Z"
   },
   {
    "duration": 241,
    "start_time": "2023-05-05T11:18:31.175Z"
   },
   {
    "duration": 75,
    "start_time": "2023-05-05T11:18:37.086Z"
   },
   {
    "duration": 75,
    "start_time": "2023-05-05T11:18:45.109Z"
   },
   {
    "duration": 106,
    "start_time": "2023-05-05T11:19:17.503Z"
   },
   {
    "duration": 5,
    "start_time": "2023-05-05T11:20:01.202Z"
   },
   {
    "duration": 661,
    "start_time": "2023-05-05T11:20:11.423Z"
   },
   {
    "duration": 127,
    "start_time": "2023-05-05T11:21:09.783Z"
   },
   {
    "duration": 92,
    "start_time": "2023-05-05T11:21:58.231Z"
   },
   {
    "duration": 340638,
    "start_time": "2023-05-05T11:22:37.655Z"
   },
   {
    "duration": 7,
    "start_time": "2023-05-05T12:02:42.300Z"
   },
   {
    "duration": 4,
    "start_time": "2023-05-05T12:03:22.149Z"
   },
   {
    "duration": 188,
    "start_time": "2023-05-05T12:03:25.589Z"
   },
   {
    "duration": 132,
    "start_time": "2023-05-05T12:05:14.364Z"
   },
   {
    "duration": 148,
    "start_time": "2023-05-05T12:06:15.374Z"
   },
   {
    "duration": 108,
    "start_time": "2023-05-05T12:06:26.548Z"
   },
   {
    "duration": 7,
    "start_time": "2023-05-05T12:08:30.642Z"
   },
   {
    "duration": 7,
    "start_time": "2023-05-05T12:08:45.637Z"
   },
   {
    "duration": 6,
    "start_time": "2023-05-05T12:09:34.006Z"
   },
   {
    "duration": 3,
    "start_time": "2023-05-05T12:09:59.758Z"
   },
   {
    "duration": 4,
    "start_time": "2023-05-05T12:10:04.029Z"
   },
   {
    "duration": 4,
    "start_time": "2023-05-05T12:10:13.726Z"
   },
   {
    "duration": 4,
    "start_time": "2023-05-05T12:10:22.699Z"
   },
   {
    "duration": 4,
    "start_time": "2023-05-05T12:10:37.537Z"
   },
   {
    "duration": 16,
    "start_time": "2023-05-05T12:11:34.938Z"
   },
   {
    "duration": 7,
    "start_time": "2023-05-05T12:11:58.276Z"
   },
   {
    "duration": 19,
    "start_time": "2023-05-05T12:12:21.271Z"
   },
   {
    "duration": 10,
    "start_time": "2023-05-05T12:12:45.074Z"
   },
   {
    "duration": 8,
    "start_time": "2023-05-05T12:12:50.329Z"
   },
   {
    "duration": 9,
    "start_time": "2023-05-05T12:14:00.499Z"
   },
   {
    "duration": 6,
    "start_time": "2023-05-05T12:14:03.370Z"
   },
   {
    "duration": 18,
    "start_time": "2023-05-05T12:14:03.577Z"
   },
   {
    "duration": 10,
    "start_time": "2023-05-05T12:14:09.268Z"
   },
   {
    "duration": 6,
    "start_time": "2023-05-05T12:14:14.697Z"
   },
   {
    "duration": 4,
    "start_time": "2023-05-05T12:14:25.596Z"
   },
   {
    "duration": 9,
    "start_time": "2023-05-05T12:14:26.258Z"
   },
   {
    "duration": 4,
    "start_time": "2023-05-05T12:14:27.461Z"
   },
   {
    "duration": 8,
    "start_time": "2023-05-05T12:14:27.774Z"
   },
   {
    "duration": 6,
    "start_time": "2023-05-05T12:14:28.371Z"
   },
   {
    "duration": 4,
    "start_time": "2023-05-05T12:33:39.933Z"
   },
   {
    "duration": 7,
    "start_time": "2023-05-05T12:33:40.303Z"
   },
   {
    "duration": 4,
    "start_time": "2023-05-05T12:33:40.708Z"
   },
   {
    "duration": 7,
    "start_time": "2023-05-05T12:33:41.038Z"
   },
   {
    "duration": 6,
    "start_time": "2023-05-05T12:33:41.695Z"
   }
  ],
  "kernelspec": {
   "display_name": "Python 3 (ipykernel)",
   "language": "python",
   "name": "python3"
  },
  "language_info": {
   "codemirror_mode": {
    "name": "ipython",
    "version": 3
   },
   "file_extension": ".py",
   "mimetype": "text/x-python",
   "name": "python",
   "nbconvert_exporter": "python",
   "pygments_lexer": "ipython3",
   "version": "3.9.13"
  },
  "toc": {
   "base_numbering": 1,
   "nav_menu": {},
   "number_sections": true,
   "sideBar": true,
   "skip_h1_title": true,
   "title_cell": "Содержание",
   "title_sidebar": "Contents",
   "toc_cell": true,
   "toc_position": {
    "height": "calc(100% - 180px)",
    "left": "10px",
    "top": "150px",
    "width": "302.743px"
   },
   "toc_section_display": true,
   "toc_window_display": true
  }
 },
 "nbformat": 4,
 "nbformat_minor": 2
}
