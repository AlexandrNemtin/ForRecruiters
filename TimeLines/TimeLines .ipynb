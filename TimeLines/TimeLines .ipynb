{
 "cells": [
  {
   "cell_type": "markdown",
   "metadata": {
    "toc": true
   },
   "source": [
    "<h1>Содержание<span class=\"tocSkip\"></span></h1>\n",
    "<div class=\"toc\"><ul class=\"toc-item\"><li><span><a href=\"#Подготовка\" data-toc-modified-id=\"Подготовка-1\"><span class=\"toc-item-num\">1&nbsp;&nbsp;</span>Подготовка</a></span><ul class=\"toc-item\"><li><span><a href=\"#Import\" data-toc-modified-id=\"Import-1.1\"><span class=\"toc-item-num\">1.1&nbsp;&nbsp;</span>Import</a></span></li><li><span><a href=\"#Константы\" data-toc-modified-id=\"Константы-1.2\"><span class=\"toc-item-num\">1.2&nbsp;&nbsp;</span>Константы</a></span></li><li><span><a href=\"#Функции\" data-toc-modified-id=\"Функции-1.3\"><span class=\"toc-item-num\">1.3&nbsp;&nbsp;</span>Функции</a></span></li><li><span><a href=\"#Загрузка-датасета,-ресеплирование\" data-toc-modified-id=\"Загрузка-датасета,-ресеплирование-1.4\"><span class=\"toc-item-num\">1.4&nbsp;&nbsp;</span>Загрузка датасета, ресеплирование</a></span></li></ul></li><li><span><a href=\"#Анализ\" data-toc-modified-id=\"Анализ-2\"><span class=\"toc-item-num\">2&nbsp;&nbsp;</span>Анализ</a></span></li><li><span><a href=\"#Обучение\" data-toc-modified-id=\"Обучение-3\"><span class=\"toc-item-num\">3&nbsp;&nbsp;</span>Обучение</a></span></li><li><span><a href=\"#Тестирование\" data-toc-modified-id=\"Тестирование-4\"><span class=\"toc-item-num\">4&nbsp;&nbsp;</span>Тестирование</a></span><ul class=\"toc-item\"><li><span><a href=\"#Вывод\" data-toc-modified-id=\"Вывод-4.1\"><span class=\"toc-item-num\">4.1&nbsp;&nbsp;</span>Вывод</a></span></li></ul></li></ul></div>"
   ]
  },
  {
   "cell_type": "markdown",
   "metadata": {},
   "source": [
    "#  Прогнозирование заказов такси"
   ]
  },
  {
   "cell_type": "markdown",
   "metadata": {},
   "source": [
    "Компания собрала исторические данные о заказах такси в аэропортах. Чтобы привлекать больше водителей в период пиковой нагрузки, нужно спрогнозировать количество заказов такси на следующий час. Необходимо построить модель для такого предсказания.\n",
    "\n",
    "Значение метрики *RMSE* на тестовой выборке должно быть не больше 48.\n",
    "\n",
    "Данные лежат в файле `taxi.csv`. Количество заказов находится в столбце `num_orders`."
   ]
  },
  {
   "cell_type": "markdown",
   "metadata": {},
   "source": [
    "## Подготовка"
   ]
  },
  {
   "cell_type": "markdown",
   "metadata": {},
   "source": [
    "### Import"
   ]
  },
  {
   "cell_type": "code",
   "execution_count": 1,
   "metadata": {},
   "outputs": [],
   "source": [
    "import pandas as pd\n",
    "from statsmodels.tsa.seasonal import seasonal_decompose\n",
    "import matplotlib.pyplot as plt\n",
    "import numpy as np\n",
    "from sklearn.model_selection import (train_test_split, \n",
    "                                     GridSearchCV, \n",
    "                                     TimeSeriesSplit, \n",
    "                                     cross_val_score\n",
    "                                    )\n",
    "from sklearn.linear_model import LinearRegression\n",
    "from sklearn.metrics import mean_squared_error\n",
    "from sklearn.pipeline import Pipeline\n",
    "from sklearn.ensemble import RandomForestRegressor"
   ]
  },
  {
   "cell_type": "markdown",
   "metadata": {},
   "source": [
    "### Константы"
   ]
  },
  {
   "cell_type": "code",
   "execution_count": 2,
   "metadata": {},
   "outputs": [],
   "source": [
    "RANDOM_STATE = 42"
   ]
  },
  {
   "cell_type": "markdown",
   "metadata": {},
   "source": [
    "### Функции"
   ]
  },
  {
   "cell_type": "code",
   "execution_count": 3,
   "metadata": {},
   "outputs": [],
   "source": [
    "### Функция добавления признаков в датасет и его разбиения на трейн, валидацию и тест\n",
    "\n",
    "### На вход принимает имя датасета, максимальный лаг и \"окно\" скользящего среднего\n",
    "\n",
    "### На выходе возвращает выборки для обучения, валидации и теста \n",
    "### на основе измененного датасета с добавленными признаками\n",
    "\n",
    "\n",
    "def make_sets(data, max_lag, rolling_mean_size):\n",
    "    data = data.copy()\n",
    "    data['dayofweek'] = data.index.dayofweek\n",
    "    \n",
    "    for lag in range(1, max_lag + 1):\n",
    "        data['lag_{}'.format(lag)] = data['num_orders'].shift(lag, fill_value=0)\n",
    "    data['roll_mean'] = data['num_orders'].shift().rolling(rolling_mean_size).mean()\n",
    "    data = data.dropna()\n",
    "    \n",
    "    \n",
    "    train, test = train_test_split(data, test_size=0.1, shuffle=False)\n",
    "    X_train = train.drop('num_orders', axis=1)\n",
    "    X_test = test.drop('num_orders', axis=1)\n",
    "    y_train = train['num_orders']\n",
    "    y_test = test['num_orders']\n",
    "    X_train, X_valid, y_train, y_valid = train_test_split(X_train, y_train, test_size=0.2, shuffle=False)\n",
    "    \n",
    "    return X_train, y_train, X_valid, y_valid, X_test, y_test\n",
    "    \n"
   ]
  },
  {
   "cell_type": "markdown",
   "metadata": {},
   "source": [
    "### Загрузка датасета, ресеплирование"
   ]
  },
  {
   "cell_type": "code",
   "execution_count": 4,
   "metadata": {},
   "outputs": [
    {
     "data": {
      "text/html": [
       "<div>\n",
       "<style scoped>\n",
       "    .dataframe tbody tr th:only-of-type {\n",
       "        vertical-align: middle;\n",
       "    }\n",
       "\n",
       "    .dataframe tbody tr th {\n",
       "        vertical-align: top;\n",
       "    }\n",
       "\n",
       "    .dataframe thead th {\n",
       "        text-align: right;\n",
       "    }\n",
       "</style>\n",
       "<table border=\"1\" class=\"dataframe\">\n",
       "  <thead>\n",
       "    <tr style=\"text-align: right;\">\n",
       "      <th></th>\n",
       "      <th>num_orders</th>\n",
       "    </tr>\n",
       "    <tr>\n",
       "      <th>datetime</th>\n",
       "      <th></th>\n",
       "    </tr>\n",
       "  </thead>\n",
       "  <tbody>\n",
       "    <tr>\n",
       "      <th>2018-03-01 00:00:00</th>\n",
       "      <td>9</td>\n",
       "    </tr>\n",
       "    <tr>\n",
       "      <th>2018-03-01 00:10:00</th>\n",
       "      <td>14</td>\n",
       "    </tr>\n",
       "    <tr>\n",
       "      <th>2018-03-01 00:20:00</th>\n",
       "      <td>28</td>\n",
       "    </tr>\n",
       "    <tr>\n",
       "      <th>2018-03-01 00:30:00</th>\n",
       "      <td>20</td>\n",
       "    </tr>\n",
       "    <tr>\n",
       "      <th>2018-03-01 00:40:00</th>\n",
       "      <td>32</td>\n",
       "    </tr>\n",
       "  </tbody>\n",
       "</table>\n",
       "</div>"
      ],
      "text/plain": [
       "                     num_orders\n",
       "datetime                       \n",
       "2018-03-01 00:00:00           9\n",
       "2018-03-01 00:10:00          14\n",
       "2018-03-01 00:20:00          28\n",
       "2018-03-01 00:30:00          20\n",
       "2018-03-01 00:40:00          32"
      ]
     },
     "execution_count": 4,
     "metadata": {},
     "output_type": "execute_result"
    }
   ],
   "source": [
    "data = pd.read_csv('/datasets/taxi.csv', index_col=[0], parse_dates=[0])\n",
    "data.head()"
   ]
  },
  {
   "cell_type": "code",
   "execution_count": 5,
   "metadata": {},
   "outputs": [
    {
     "name": "stdout",
     "output_type": "stream",
     "text": [
      "<class 'pandas.core.frame.DataFrame'>\n",
      "DatetimeIndex: 26496 entries, 2018-03-01 00:00:00 to 2018-08-31 23:50:00\n",
      "Data columns (total 1 columns):\n",
      " #   Column      Non-Null Count  Dtype\n",
      "---  ------      --------------  -----\n",
      " 0   num_orders  26496 non-null  int64\n",
      "dtypes: int64(1)\n",
      "memory usage: 414.0 KB\n"
     ]
    }
   ],
   "source": [
    "data.info()"
   ]
  },
  {
   "cell_type": "code",
   "execution_count": 6,
   "metadata": {},
   "outputs": [
    {
     "data": {
      "text/plain": [
       "True"
      ]
     },
     "execution_count": 6,
     "metadata": {},
     "output_type": "execute_result"
    }
   ],
   "source": [
    "data.index.is_monotonic"
   ]
  },
  {
   "cell_type": "markdown",
   "metadata": {},
   "source": [
    "Произведем ресеплирование датасета по 1 часу"
   ]
  },
  {
   "cell_type": "code",
   "execution_count": 8,
   "metadata": {},
   "outputs": [],
   "source": [
    "data = data.resample('1H').sum()"
   ]
  },
  {
   "cell_type": "markdown",
   "metadata": {},
   "source": [
    "Проверим сортировку и результат ресеплирования."
   ]
  },
  {
   "cell_type": "code",
   "execution_count": 9,
   "metadata": {},
   "outputs": [
    {
     "data": {
      "text/plain": [
       "(Timestamp('2018-03-01 00:00:00', freq='H'),\n",
       " Timestamp('2018-08-31 23:00:00', freq='H'))"
      ]
     },
     "execution_count": 9,
     "metadata": {},
     "output_type": "execute_result"
    }
   ],
   "source": [
    "data.index.min(), data.index.max()"
   ]
  },
  {
   "cell_type": "markdown",
   "metadata": {},
   "source": [
    "## Анализ"
   ]
  },
  {
   "cell_type": "markdown",
   "metadata": {},
   "source": [
    "Для анализа построим графики временного ряда, скользящего среднего, тренда, сезонности и шума."
   ]
  },
  {
   "cell_type": "code",
   "execution_count": 10,
   "metadata": {},
   "outputs": [],
   "source": [
    "data['roll_mean'] = data.rolling(24).mean()"
   ]
  },
  {
   "cell_type": "code",
   "execution_count": 11,
   "metadata": {},
   "outputs": [],
   "source": [
    "data.fillna(method='bfill', inplace=True)"
   ]
  },
  {
   "cell_type": "code",
   "execution_count": 12,
   "metadata": {
    "scrolled": false
   },
   "outputs": [],
   "source": [
    "decomposed = seasonal_decompose(data['num_orders'])"
   ]
  },
  {
   "cell_type": "code",
   "execution_count": 13,
   "metadata": {
    "scrolled": false
   },
   "outputs": [
    {
     "data": {
      "image/png": "[encoded data removed]",
      "text/plain": [
       "<Figure size 720x360 with 1 Axes>"
      ]
     },
     "metadata": {
      "needs_background": "light"
     },
     "output_type": "display_data"
    }
   ],
   "source": [
    "data.plot(figsize=(10,5), title='График временного ряда');"
   ]
  },
  {
   "cell_type": "code",
   "execution_count": 14,
   "metadata": {},
   "outputs": [
    {
     "data": {
      "image/png": "[encoded data removed]",
      "text/plain": [
       "<Figure size 720x360 with 1 Axes>"
      ]
     },
     "metadata": {
      "needs_background": "light"
     },
     "output_type": "display_data"
    }
   ],
   "source": [
    "data['2018-03-01':'2018-03-14'].plot(figsize=(10,5), \n",
    "                                     title='График временного ряда 2 недель с 01 марта по 14 марта'\n",
    "                                    );"
   ]
  },
  {
   "cell_type": "markdown",
   "metadata": {},
   "source": [
    "Судя распределению - в некоторые дни наблюдаются пиковые значения. Например, в первую неделю - это определенно пятница, во вторую - пн и пт. Можно предположить, количество заказов в определенные дни стабильно выше, чем в остальные. Для этого включим в выборку признак дня недели (dayofweek)."
   ]
  },
  {
   "cell_type": "code",
   "execution_count": 15,
   "metadata": {},
   "outputs": [
    {
     "data": {
      "image/png": "[encoded data removed]",
      "text/plain": [
       "<Figure size 1080x720 with 3 Axes>"
      ]
     },
     "metadata": {
      "needs_background": "light"
     },
     "output_type": "display_data"
    }
   ],
   "source": [
    "plt.figure(figsize=(15, 10))\n",
    "plt.subplot(311)\n",
    "decomposed.trend.plot(ax=plt.gca())\n",
    "plt.title('График тренда')\n",
    "plt.subplot(312)\n",
    "decomposed.seasonal.plot(ax=plt.gca())\n",
    "plt.title('График сезонности')\n",
    "plt.subplot(313)\n",
    "decomposed.resid.plot(ax=plt.gca())\n",
    "plt.title('График остатков')\n",
    "plt.tight_layout()"
   ]
  },
  {
   "cell_type": "markdown",
   "metadata": {},
   "source": [
    "Уточним график сезонности. Выведем информацию по 7 дням."
   ]
  },
  {
   "cell_type": "code",
   "execution_count": 16,
   "metadata": {},
   "outputs": [
    {
     "data": {
      "image/png": "[encoded data removed]",
      "text/plain": [
       "<Figure size 432x288 with 1 Axes>"
      ]
     },
     "metadata": {
      "needs_background": "light"
     },
     "output_type": "display_data"
    }
   ],
   "source": [
    "decomposed.seasonal['2018-03-01' : '2018-03-07'].plot(\n",
    "    title='График сезонности на примере с 01 по 07 марта 2018 г'\n",
    ");"
   ]
  },
  {
   "cell_type": "markdown",
   "metadata": {},
   "source": [
    "А так же рассмотрим сезонность одного дня."
   ]
  },
  {
   "cell_type": "code",
   "execution_count": 20,
   "metadata": {},
   "outputs": [
    {
     "data": {
      "image/png": "[encoded data removed]",
      "text/plain": [
       "<Figure size 864x576 with 1 Axes>"
      ]
     },
     "metadata": {
      "needs_background": "light"
     },
     "output_type": "display_data"
    }
   ],
   "source": [
    "fig = plt.figure(figsize=(12, 8))\n",
    "counter = 24\n",
    "while counter < decomposed.seasonal.shape[0]:\n",
    "    plt.plot(decomposed.seasonal[counter-24:counter].reset_index(drop=True), figure=fig)\n",
    "    counter += 24 "
   ]
  },
  {
   "cell_type": "markdown",
   "metadata": {},
   "source": [
    "Для определение стационарности добавим на график скользящее стандартное отклонение."
   ]
  },
  {
   "cell_type": "code",
   "execution_count": 17,
   "metadata": {},
   "outputs": [],
   "source": [
    "data['roll_std'] = data['num_orders'].rolling(24).std()"
   ]
  },
  {
   "cell_type": "code",
   "execution_count": 18,
   "metadata": {},
   "outputs": [],
   "source": [
    "data.fillna(method='bfill', inplace=True)"
   ]
  },
  {
   "cell_type": "code",
   "execution_count": 19,
   "metadata": {},
   "outputs": [
    {
     "data": {
      "image/png": "[encoded data removed]",
      "text/plain": [
       "<Figure size 720x720 with 1 Axes>"
      ]
     },
     "metadata": {
      "needs_background": "light"
     },
     "output_type": "display_data"
    }
   ],
   "source": [
    "data.plot(figsize=(10,10), color=['lightblue', 'red', 'orange']);"
   ]
  },
  {
   "cell_type": "markdown",
   "metadata": {},
   "source": [
    "По графикам можно сделать следующие выводы:\n",
    "- В распределении ряда присутствует сезонность - 24 часа\n",
    "- Cпрос на такси возрастает в конце дня, а затем падает в ранние утреннние часы\n",
    "- Временной ряд не стационарен, т.к. скользящие средние и стандартные отклонения изменияются.\n",
    "\n",
    "Для получения стационарного ряда, вычислим разность временного ряда первого порядка."
   ]
  },
  {
   "cell_type": "code",
   "execution_count": null,
   "metadata": {},
   "outputs": [],
   "source": [
    "data_diff = data.diff(periods=1).dropna()"
   ]
  },
  {
   "cell_type": "code",
   "execution_count": 22,
   "metadata": {},
   "outputs": [
    {
     "data": {
      "text/plain": [
       "(4415, 3)"
      ]
     },
     "execution_count": 22,
     "metadata": {},
     "output_type": "execute_result"
    }
   ],
   "source": [
    "data_diff.shape"
   ]
  },
  {
   "cell_type": "code",
   "execution_count": 23,
   "metadata": {},
   "outputs": [
    {
     "data": {
      "image/png": "[encoded data removed]",
      "text/plain": [
       "<Figure size 720x720 with 1 Axes>"
      ]
     },
     "metadata": {
      "needs_background": "light"
     },
     "output_type": "display_data"
    }
   ],
   "source": [
    "data_diff.plot(figsize=(10,10), color=['lightblue', 'red', 'orange']);"
   ]
  },
  {
   "cell_type": "markdown",
   "metadata": {},
   "source": [
    "После преобразования получили стационарный ряд ,с которым и будем работать."
   ]
  },
  {
   "cell_type": "markdown",
   "metadata": {},
   "source": [
    "## Обучение"
   ]
  },
  {
   "cell_type": "markdown",
   "metadata": {},
   "source": [
    "Обучим модели."
   ]
  },
  {
   "cell_type": "code",
   "execution_count": 31,
   "metadata": {},
   "outputs": [
    {
     "name": "stdout",
     "output_type": "stream",
     "text": [
      "RMSE на валидации линейной регрессии -  24.793904357325964 на параметрах: лаги -  251 , окно скользящего среднего -  1\n"
     ]
    }
   ],
   "source": [
    "best_RMSE_lr = 48 # по условию задачи\n",
    "best_params_lr = []\n",
    "\n",
    "for i in range(1, 1000, 250):\n",
    "    for j in range (1, 1000, 250):\n",
    "        X_train, y_train, X_valid, y_valid, X_test, y_test = make_sets(data_diff, i, j)\n",
    "        model_lr = LinearRegression()\n",
    "        model_lr.fit(X_train, y_train)\n",
    "        RMSE_lr = mean_squared_error(model_lr.predict(X_valid), y_valid, squared=False)\n",
    "        if RMSE_lr < best_RMSE_lr:\n",
    "            best_model_lr = model_lr\n",
    "            best_RMSE_lr = RMSE_lr\n",
    "            best_params_lr = [i, j]\n",
    "            \n",
    "            \n",
    "print('RMSE на валидации линейной регрессии - ', best_RMSE_lr, 'на параметрах: лаги - ', \n",
    "     best_params_lr[0], ', окно скользящего среднего - ', best_params_lr[1])"
   ]
  },
  {
   "cell_type": "code",
   "execution_count": 33,
   "metadata": {},
   "outputs": [],
   "source": [
    "param_rfr = {'n_estimators'  : range(100, 300, 100),\n",
    "             'random_state' : [RANDOM_STATE],\n",
    "             'max_depth' : range(3, 9, 3)}"
   ]
  },
  {
   "cell_type": "code",
   "execution_count": 34,
   "metadata": {},
   "outputs": [
    {
     "name": "stdout",
     "output_type": "stream",
     "text": [
      "RMSE на валидации модели RandomForestRegressor -  23.912027946781258 на параметрах: лаги -  501 , окно скользящего среднего -  501\n"
     ]
    }
   ],
   "source": [
    "best_RMSE_rfr = 48 # по условию задачи\n",
    "best_params_rfr = []\n",
    "\n",
    "for i in range(1, 1000, 500):\n",
    "    for j in range (1, 1000, 500): # увеличил шаг для ускорения обучения\n",
    "        X_train, y_train, X_valid, y_valid, X_test, y_test = make_sets(data_diff, i, j)\n",
    "        rfr = RandomForestRegressor()\n",
    "        tscv = TimeSeriesSplit(n_splits=10)\n",
    "        model_rfr = GridSearchCV(rfr, param_grid=param_rfr, cv=tscv, scoring='neg_root_mean_squared_error')\n",
    "        model_rfr.fit(X_train, y_train)\n",
    "        RMSE_rfr = mean_squared_error(model_rfr.predict(X_valid), y_valid, squared=False)\n",
    "        if RMSE_rfr < best_RMSE_rfr:\n",
    "            best_model_rfr = model_rfr\n",
    "            best_RMSE_rfr = RMSE_rfr\n",
    "            best_params_rfr = [i, j]\n",
    "            \n",
    "            \n",
    "\n",
    "print('RMSE на валидации модели RandomForestRegressor - ', \n",
    "      (-1) * model_rfr.best_score_, 'на параметрах: лаги - ', \n",
    "     best_params_rfr[0], ', окно скользящего среднего - ', best_params_rfr[1]\n",
    "     )\n"
   ]
  },
  {
   "cell_type": "markdown",
   "metadata": {},
   "source": [
    "## Тестирование"
   ]
  },
  {
   "cell_type": "markdown",
   "metadata": {},
   "source": [
    "Протестируем наилучшую модель."
   ]
  },
  {
   "cell_type": "code",
   "execution_count": 36,
   "metadata": {},
   "outputs": [],
   "source": [
    "pred_rfr = best_model_rfr.best_estimator_.predict(X_test)"
   ]
  },
  {
   "cell_type": "code",
   "execution_count": 37,
   "metadata": {},
   "outputs": [
    {
     "name": "stdout",
     "output_type": "stream",
     "text": [
      "RandomForest 41.853562256998146\n"
     ]
    }
   ],
   "source": [
    "print('RandomForest', mean_squared_error(y_test, pred_rfr, squared=False))"
   ]
  },
  {
   "cell_type": "markdown",
   "metadata": {},
   "source": [
    "### Вывод"
   ]
  },
  {
   "cell_type": "markdown",
   "metadata": {},
   "source": [
    "В ходе работ по проекту: \n",
    "- Изучили данные\n",
    "- Провели предобработку и анализ данных, определили основные показатели (тренд, сезонность), добавили необходимые признаки\n",
    "- Провели обучение не менее 3 моделей с автоматизированным перебором гиперпараметров \n",
    "- Провели тестирование модели на тестовой выборке. После проверки на тестовой модели значение RMSE составило - 41.8, что соотвествует условиям задачи. "
   ]
  }
 ],
 "metadata": {
  "ExecuteTimeLog": [
   {
    "duration": 420,
    "start_time": "2023-06-14T17:25:49.593Z"
   },
   {
    "duration": 147,
    "start_time": "2023-06-14T17:26:53.400Z"
   },
   {
    "duration": 56,
    "start_time": "2023-06-14T17:27:20.304Z"
   },
   {
    "duration": 6,
    "start_time": "2023-06-14T17:27:30.308Z"
   },
   {
    "duration": 8,
    "start_time": "2023-06-14T17:27:38.199Z"
   },
   {
    "duration": 7,
    "start_time": "2023-06-14T17:27:42.831Z"
   },
   {
    "duration": 11,
    "start_time": "2023-06-14T17:27:59.109Z"
   },
   {
    "duration": 44,
    "start_time": "2023-06-15T12:13:56.938Z"
   },
   {
    "duration": 402,
    "start_time": "2023-06-15T12:14:00.787Z"
   },
   {
    "duration": 132,
    "start_time": "2023-06-15T12:14:01.190Z"
   },
   {
    "duration": 10,
    "start_time": "2023-06-15T12:14:01.323Z"
   },
   {
    "duration": 119,
    "start_time": "2023-06-15T12:14:01.335Z"
   },
   {
    "duration": 10,
    "start_time": "2023-06-15T12:14:03.331Z"
   },
   {
    "duration": 57,
    "start_time": "2023-06-15T12:14:57.369Z"
   },
   {
    "duration": 9,
    "start_time": "2023-06-15T12:15:00.729Z"
   },
   {
    "duration": 4,
    "start_time": "2023-06-15T12:15:04.769Z"
   },
   {
    "duration": 2,
    "start_time": "2023-06-15T12:16:23.735Z"
   },
   {
    "duration": 925,
    "start_time": "2023-06-15T12:16:53.932Z"
   },
   {
    "duration": 570,
    "start_time": "2023-06-15T12:17:49.378Z"
   },
   {
    "duration": 4,
    "start_time": "2023-06-15T12:18:42.069Z"
   },
   {
    "duration": 11,
    "start_time": "2023-06-15T12:19:52.732Z"
   },
   {
    "duration": 2,
    "start_time": "2023-06-15T12:20:49.867Z"
   },
   {
    "duration": 48,
    "start_time": "2023-06-15T12:20:50.124Z"
   },
   {
    "duration": 9,
    "start_time": "2023-06-15T12:20:51.067Z"
   },
   {
    "duration": 2,
    "start_time": "2023-06-15T12:20:51.323Z"
   },
   {
    "duration": 4,
    "start_time": "2023-06-15T12:20:51.621Z"
   },
   {
    "duration": 4,
    "start_time": "2023-06-15T12:20:52.333Z"
   },
   {
    "duration": 9,
    "start_time": "2023-06-15T12:20:54.180Z"
   },
   {
    "duration": 3,
    "start_time": "2023-06-15T12:21:13.259Z"
   },
   {
    "duration": 14,
    "start_time": "2023-06-15T12:21:13.667Z"
   },
   {
    "duration": 7,
    "start_time": "2023-06-15T12:21:26.933Z"
   },
   {
    "duration": 7,
    "start_time": "2023-06-15T12:21:27.165Z"
   },
   {
    "duration": 2,
    "start_time": "2023-06-15T12:21:31.436Z"
   },
   {
    "duration": 55,
    "start_time": "2023-06-15T12:21:31.667Z"
   },
   {
    "duration": 13,
    "start_time": "2023-06-15T12:21:32.340Z"
   },
   {
    "duration": 2,
    "start_time": "2023-06-15T12:21:33.242Z"
   },
   {
    "duration": 6,
    "start_time": "2023-06-15T12:21:33.634Z"
   },
   {
    "duration": 4,
    "start_time": "2023-06-15T12:21:34.379Z"
   },
   {
    "duration": 9,
    "start_time": "2023-06-15T12:21:39.039Z"
   },
   {
    "duration": 213,
    "start_time": "2023-06-15T12:21:42.779Z"
   },
   {
    "duration": 5,
    "start_time": "2023-06-15T12:22:16.431Z"
   },
   {
    "duration": 250,
    "start_time": "2023-06-15T12:22:18.331Z"
   },
   {
    "duration": 6,
    "start_time": "2023-06-15T12:22:42.634Z"
   },
   {
    "duration": 490,
    "start_time": "2023-06-15T12:22:54.727Z"
   },
   {
    "duration": 38,
    "start_time": "2023-06-15T12:22:57.023Z"
   },
   {
    "duration": 9,
    "start_time": "2023-06-15T12:23:38.520Z"
   },
   {
    "duration": 32,
    "start_time": "2023-06-15T12:26:04.193Z"
   },
   {
    "duration": 8,
    "start_time": "2023-06-15T12:26:14.354Z"
   },
   {
    "duration": 19,
    "start_time": "2023-06-15T12:26:16.927Z"
   },
   {
    "duration": 5,
    "start_time": "2023-06-15T12:26:35.286Z"
   },
   {
    "duration": 4,
    "start_time": "2023-06-15T12:26:39.037Z"
   },
   {
    "duration": 15,
    "start_time": "2023-06-15T12:26:47.929Z"
   },
   {
    "duration": 8,
    "start_time": "2023-06-15T12:27:01.146Z"
   },
   {
    "duration": 5,
    "start_time": "2023-06-15T12:27:04.890Z"
   },
   {
    "duration": 3,
    "start_time": "2023-06-15T12:28:59.639Z"
   },
   {
    "duration": 6,
    "start_time": "2023-06-15T12:29:20.757Z"
   },
   {
    "duration": 13,
    "start_time": "2023-06-15T12:30:17.149Z"
   },
   {
    "duration": 12,
    "start_time": "2023-06-15T12:31:03.079Z"
   },
   {
    "duration": 11,
    "start_time": "2023-06-15T12:31:16.271Z"
   },
   {
    "duration": 6,
    "start_time": "2023-06-15T12:31:21.832Z"
   },
   {
    "duration": 5,
    "start_time": "2023-06-15T12:32:05.847Z"
   },
   {
    "duration": 9,
    "start_time": "2023-06-15T12:34:49.244Z"
   },
   {
    "duration": 10,
    "start_time": "2023-06-15T12:35:00.262Z"
   },
   {
    "duration": 10,
    "start_time": "2023-06-15T12:35:03.044Z"
   },
   {
    "duration": 98,
    "start_time": "2023-06-15T12:35:19.531Z"
   },
   {
    "duration": 13,
    "start_time": "2023-06-15T12:35:19.827Z"
   },
   {
    "duration": 3,
    "start_time": "2023-06-15T12:35:23.427Z"
   },
   {
    "duration": 21,
    "start_time": "2023-06-15T12:35:23.828Z"
   },
   {
    "duration": 7,
    "start_time": "2023-06-15T12:40:44.137Z"
   },
   {
    "duration": 605,
    "start_time": "2023-06-15T12:41:24.928Z"
   },
   {
    "duration": 760,
    "start_time": "2023-06-15T12:41:44.365Z"
   },
   {
    "duration": 1752,
    "start_time": "2023-06-15T12:42:46.132Z"
   },
   {
    "duration": 4,
    "start_time": "2023-06-15T12:43:10.865Z"
   },
   {
    "duration": 3,
    "start_time": "2023-06-15T12:43:18.661Z"
   },
   {
    "duration": 370,
    "start_time": "2023-06-15T12:43:29.947Z"
   },
   {
    "duration": 358,
    "start_time": "2023-06-15T12:43:35.055Z"
   },
   {
    "duration": 449,
    "start_time": "2023-06-15T12:45:22.473Z"
   },
   {
    "duration": 193,
    "start_time": "2023-06-15T12:45:28.368Z"
   },
   {
    "duration": 219,
    "start_time": "2023-06-15T12:45:31.365Z"
   },
   {
    "duration": 483,
    "start_time": "2023-06-15T12:45:33.842Z"
   },
   {
    "duration": 15,
    "start_time": "2023-06-15T12:47:19.842Z"
   },
   {
    "duration": 474,
    "start_time": "2023-06-15T12:47:29.381Z"
   },
   {
    "duration": 405,
    "start_time": "2023-06-15T12:47:49.339Z"
   },
   {
    "duration": 5,
    "start_time": "2023-06-15T12:48:13.350Z"
   },
   {
    "duration": 382,
    "start_time": "2023-06-15T12:48:13.678Z"
   },
   {
    "duration": 631,
    "start_time": "2023-06-15T12:48:44.190Z"
   },
   {
    "duration": 7,
    "start_time": "2023-06-15T12:49:18.974Z"
   },
   {
    "duration": 4,
    "start_time": "2023-06-15T12:51:44.788Z"
   },
   {
    "duration": 6,
    "start_time": "2023-06-15T12:52:06.237Z"
   },
   {
    "duration": 20,
    "start_time": "2023-06-15T12:53:24.144Z"
   },
   {
    "duration": 5,
    "start_time": "2023-06-15T12:53:35.586Z"
   },
   {
    "duration": 3,
    "start_time": "2023-06-15T12:54:29.371Z"
   },
   {
    "duration": 23,
    "start_time": "2023-06-15T12:54:55.138Z"
   },
   {
    "duration": 15,
    "start_time": "2023-06-15T12:55:26.283Z"
   },
   {
    "duration": 3,
    "start_time": "2023-06-15T12:55:32.430Z"
   },
   {
    "duration": 2,
    "start_time": "2023-06-15T12:55:38.395Z"
   },
   {
    "duration": 1705,
    "start_time": "2023-06-15T12:56:43.971Z"
   },
   {
    "duration": 5,
    "start_time": "2023-06-15T12:56:56.484Z"
   },
   {
    "duration": 10,
    "start_time": "2023-06-15T12:56:58.476Z"
   },
   {
    "duration": 7,
    "start_time": "2023-06-15T12:57:11.387Z"
   },
   {
    "duration": 12,
    "start_time": "2023-06-15T12:57:46.981Z"
   },
   {
    "duration": 6,
    "start_time": "2023-06-15T12:57:56.068Z"
   },
   {
    "duration": 15,
    "start_time": "2023-06-15T12:58:12.258Z"
   },
   {
    "duration": 7,
    "start_time": "2023-06-15T12:58:13.460Z"
   },
   {
    "duration": 15,
    "start_time": "2023-06-15T12:58:19.396Z"
   },
   {
    "duration": 239,
    "start_time": "2023-06-15T13:00:05.837Z"
   },
   {
    "duration": 4,
    "start_time": "2023-06-15T13:00:11.876Z"
   },
   {
    "duration": 3,
    "start_time": "2023-06-15T13:00:25.740Z"
   },
   {
    "duration": 15,
    "start_time": "2023-06-15T13:00:41.644Z"
   },
   {
    "duration": 8,
    "start_time": "2023-06-15T13:00:47.372Z"
   },
   {
    "duration": 4,
    "start_time": "2023-06-15T13:00:50.164Z"
   },
   {
    "duration": 8,
    "start_time": "2023-06-15T13:03:39.225Z"
   },
   {
    "duration": 4,
    "start_time": "2023-06-15T13:05:14.846Z"
   },
   {
    "duration": 2,
    "start_time": "2023-06-15T13:06:40.646Z"
   },
   {
    "duration": 67,
    "start_time": "2023-06-15T13:08:16.026Z"
   },
   {
    "duration": 13,
    "start_time": "2023-06-15T13:11:59.030Z"
   },
   {
    "duration": 14,
    "start_time": "2023-06-15T13:12:03.333Z"
   },
   {
    "duration": 16,
    "start_time": "2023-06-15T13:12:17.863Z"
   },
   {
    "duration": 30,
    "start_time": "2023-06-15T13:12:32.286Z"
   },
   {
    "duration": 8,
    "start_time": "2023-06-15T13:12:54.737Z"
   },
   {
    "duration": 3,
    "start_time": "2023-06-15T13:13:08.629Z"
   },
   {
    "duration": 63,
    "start_time": "2023-06-15T18:53:10.362Z"
   },
   {
    "duration": 1785,
    "start_time": "2023-06-15T18:53:15.413Z"
   },
   {
    "duration": 205,
    "start_time": "2023-06-15T18:53:17.201Z"
   },
   {
    "duration": 13,
    "start_time": "2023-06-15T18:53:17.408Z"
   },
   {
    "duration": 15,
    "start_time": "2023-06-15T18:53:17.423Z"
   },
   {
    "duration": 33,
    "start_time": "2023-06-15T18:53:17.441Z"
   },
   {
    "duration": 9,
    "start_time": "2023-06-15T18:53:17.476Z"
   },
   {
    "duration": 20,
    "start_time": "2023-06-15T18:53:17.487Z"
   },
   {
    "duration": 17,
    "start_time": "2023-06-15T18:53:17.508Z"
   },
   {
    "duration": 17,
    "start_time": "2023-06-15T18:53:17.526Z"
   },
   {
    "duration": 317,
    "start_time": "2023-06-15T18:53:17.544Z"
   },
   {
    "duration": 961,
    "start_time": "2023-06-15T18:53:17.862Z"
   },
   {
    "duration": 6,
    "start_time": "2023-06-15T18:53:18.826Z"
   },
   {
    "duration": 5,
    "start_time": "2023-06-15T18:53:18.834Z"
   },
   {
    "duration": 405,
    "start_time": "2023-06-15T18:53:18.842Z"
   },
   {
    "duration": 5,
    "start_time": "2023-06-15T18:53:19.249Z"
   },
   {
    "duration": 479,
    "start_time": "2023-06-15T18:53:19.262Z"
   },
   {
    "duration": 6,
    "start_time": "2023-06-15T18:53:19.743Z"
   },
   {
    "duration": 16,
    "start_time": "2023-06-15T18:53:19.759Z"
   },
   {
    "duration": 8,
    "start_time": "2023-06-15T18:53:19.777Z"
   },
   {
    "duration": 5,
    "start_time": "2023-06-15T18:53:19.787Z"
   },
   {
    "duration": 26,
    "start_time": "2023-06-15T18:53:19.794Z"
   },
   {
    "duration": 10,
    "start_time": "2023-06-15T18:53:19.822Z"
   },
   {
    "duration": 26,
    "start_time": "2023-06-15T18:53:19.834Z"
   },
   {
    "duration": 16,
    "start_time": "2023-06-15T18:53:19.862Z"
   },
   {
    "duration": 5,
    "start_time": "2023-06-15T18:53:19.880Z"
   },
   {
    "duration": 4,
    "start_time": "2023-06-15T18:53:19.887Z"
   },
   {
    "duration": 16,
    "start_time": "2023-06-15T18:53:19.895Z"
   },
   {
    "duration": 11,
    "start_time": "2023-06-15T18:53:19.915Z"
   },
   {
    "duration": 8,
    "start_time": "2023-06-15T18:54:35.306Z"
   },
   {
    "duration": 11,
    "start_time": "2023-06-15T18:54:55.156Z"
   },
   {
    "duration": 10,
    "start_time": "2023-06-15T18:55:28.842Z"
   },
   {
    "duration": 409,
    "start_time": "2023-06-15T18:55:37.622Z"
   },
   {
    "duration": 174,
    "start_time": "2023-06-15T18:55:57.919Z"
   },
   {
    "duration": 375,
    "start_time": "2023-06-15T18:56:04.139Z"
   },
   {
    "duration": 54,
    "start_time": "2023-06-15T18:57:24.315Z"
   },
   {
    "duration": 25,
    "start_time": "2023-06-15T18:57:55.253Z"
   },
   {
    "duration": 8,
    "start_time": "2023-06-15T18:58:08.436Z"
   },
   {
    "duration": 8,
    "start_time": "2023-06-15T18:58:09.014Z"
   },
   {
    "duration": 4,
    "start_time": "2023-06-15T18:58:09.947Z"
   },
   {
    "duration": 81,
    "start_time": "2023-06-15T18:58:18.628Z"
   },
   {
    "duration": 7,
    "start_time": "2023-06-15T18:58:19.014Z"
   },
   {
    "duration": 4,
    "start_time": "2023-06-15T18:58:19.820Z"
   },
   {
    "duration": 9,
    "start_time": "2023-06-15T18:59:10.107Z"
   },
   {
    "duration": 15,
    "start_time": "2023-06-15T18:59:15.934Z"
   },
   {
    "duration": 7,
    "start_time": "2023-06-15T18:59:21.203Z"
   },
   {
    "duration": 9,
    "start_time": "2023-06-15T18:59:21.837Z"
   },
   {
    "duration": 105,
    "start_time": "2023-06-15T18:59:22.531Z"
   },
   {
    "duration": 4,
    "start_time": "2023-06-15T18:59:22.903Z"
   },
   {
    "duration": 4,
    "start_time": "2023-06-15T19:00:20.323Z"
   },
   {
    "duration": 10,
    "start_time": "2023-06-15T19:00:20.709Z"
   },
   {
    "duration": 10,
    "start_time": "2023-06-15T19:00:21.534Z"
   },
   {
    "duration": 5,
    "start_time": "2023-06-15T19:00:22.313Z"
   },
   {
    "duration": 5,
    "start_time": "2023-06-15T19:00:22.722Z"
   },
   {
    "duration": 42,
    "start_time": "2023-06-15T19:00:23.373Z"
   },
   {
    "duration": 60,
    "start_time": "2023-06-15T19:00:40.045Z"
   },
   {
    "duration": 6,
    "start_time": "2023-06-15T19:01:00.719Z"
   },
   {
    "duration": 103,
    "start_time": "2023-06-15T19:01:00.727Z"
   },
   {
    "duration": 13,
    "start_time": "2023-06-15T19:01:00.833Z"
   },
   {
    "duration": 22,
    "start_time": "2023-06-15T19:01:00.848Z"
   },
   {
    "duration": 36,
    "start_time": "2023-06-15T19:01:00.874Z"
   },
   {
    "duration": 49,
    "start_time": "2023-06-15T19:01:00.912Z"
   },
   {
    "duration": 23,
    "start_time": "2023-06-15T19:01:00.963Z"
   },
   {
    "duration": 19,
    "start_time": "2023-06-15T19:01:00.988Z"
   },
   {
    "duration": 69,
    "start_time": "2023-06-15T19:01:01.010Z"
   },
   {
    "duration": 450,
    "start_time": "2023-06-15T19:01:01.081Z"
   },
   {
    "duration": 1085,
    "start_time": "2023-06-15T19:01:01.534Z"
   },
   {
    "duration": 199,
    "start_time": "2023-06-15T19:01:02.622Z"
   },
   {
    "duration": 6,
    "start_time": "2023-06-15T19:01:02.825Z"
   },
   {
    "duration": 33,
    "start_time": "2023-06-15T19:01:02.833Z"
   },
   {
    "duration": 453,
    "start_time": "2023-06-15T19:01:02.868Z"
   },
   {
    "duration": 7,
    "start_time": "2023-06-15T19:01:03.323Z"
   },
   {
    "duration": 582,
    "start_time": "2023-06-15T19:01:03.332Z"
   },
   {
    "duration": 25,
    "start_time": "2023-06-15T19:01:03.927Z"
   },
   {
    "duration": 19,
    "start_time": "2023-06-15T19:01:04.031Z"
   },
   {
    "duration": 8,
    "start_time": "2023-06-15T19:01:04.414Z"
   },
   {
    "duration": 4,
    "start_time": "2023-06-15T19:01:05.511Z"
   },
   {
    "duration": 6,
    "start_time": "2023-06-15T19:01:06.121Z"
   },
   {
    "duration": 32,
    "start_time": "2023-06-15T19:01:07.018Z"
   },
   {
    "duration": 5,
    "start_time": "2023-06-15T19:01:46.644Z"
   },
   {
    "duration": 11,
    "start_time": "2023-06-15T19:01:47.018Z"
   },
   {
    "duration": 15,
    "start_time": "2023-06-15T19:01:47.969Z"
   },
   {
    "duration": 5,
    "start_time": "2023-06-15T19:01:48.226Z"
   },
   {
    "duration": 5,
    "start_time": "2023-06-15T19:01:48.807Z"
   },
   {
    "duration": 17,
    "start_time": "2023-06-15T19:01:49.716Z"
   },
   {
    "duration": 20,
    "start_time": "2023-06-15T19:02:23.432Z"
   },
   {
    "duration": 32,
    "start_time": "2023-06-15T19:02:28.378Z"
   },
   {
    "duration": 4,
    "start_time": "2023-06-15T19:03:35.251Z"
   },
   {
    "duration": 9,
    "start_time": "2023-06-15T19:03:35.602Z"
   },
   {
    "duration": 7,
    "start_time": "2023-06-15T19:03:35.902Z"
   },
   {
    "duration": 4,
    "start_time": "2023-06-15T19:03:36.829Z"
   },
   {
    "duration": 5,
    "start_time": "2023-06-15T19:03:37.210Z"
   },
   {
    "duration": 14,
    "start_time": "2023-06-15T19:03:37.818Z"
   },
   {
    "duration": 4,
    "start_time": "2023-06-15T19:03:51.006Z"
   },
   {
    "duration": 107,
    "start_time": "2023-06-15T19:03:51.012Z"
   },
   {
    "duration": 13,
    "start_time": "2023-06-15T19:03:51.121Z"
   },
   {
    "duration": 21,
    "start_time": "2023-06-15T19:03:51.136Z"
   },
   {
    "duration": 31,
    "start_time": "2023-06-15T19:03:51.160Z"
   },
   {
    "duration": 6,
    "start_time": "2023-06-15T19:03:51.192Z"
   },
   {
    "duration": 18,
    "start_time": "2023-06-15T19:03:51.199Z"
   },
   {
    "duration": 11,
    "start_time": "2023-06-15T19:03:51.219Z"
   },
   {
    "duration": 21,
    "start_time": "2023-06-15T19:03:51.233Z"
   },
   {
    "duration": 337,
    "start_time": "2023-06-15T19:03:51.256Z"
   },
   {
    "duration": 814,
    "start_time": "2023-06-15T19:03:51.594Z"
   },
   {
    "duration": 184,
    "start_time": "2023-06-15T19:03:52.411Z"
   },
   {
    "duration": 6,
    "start_time": "2023-06-15T19:03:52.598Z"
   },
   {
    "duration": 18,
    "start_time": "2023-06-15T19:03:52.605Z"
   },
   {
    "duration": 502,
    "start_time": "2023-06-15T19:03:52.625Z"
   },
   {
    "duration": 5,
    "start_time": "2023-06-15T19:03:53.129Z"
   },
   {
    "duration": 447,
    "start_time": "2023-06-15T19:03:53.135Z"
   },
   {
    "duration": 7,
    "start_time": "2023-06-15T19:03:53.584Z"
   },
   {
    "duration": 6,
    "start_time": "2023-06-15T19:03:54.237Z"
   },
   {
    "duration": 27,
    "start_time": "2023-06-15T19:03:54.555Z"
   },
   {
    "duration": 9,
    "start_time": "2023-06-15T19:03:54.812Z"
   },
   {
    "duration": 4,
    "start_time": "2023-06-15T19:03:55.038Z"
   },
   {
    "duration": 5,
    "start_time": "2023-06-15T19:03:55.548Z"
   },
   {
    "duration": 14,
    "start_time": "2023-06-15T19:03:56.026Z"
   },
   {
    "duration": 7,
    "start_time": "2023-06-15T19:04:18.453Z"
   },
   {
    "duration": 10,
    "start_time": "2023-06-15T19:04:18.738Z"
   },
   {
    "duration": 11,
    "start_time": "2023-06-15T19:04:18.951Z"
   },
   {
    "duration": 5,
    "start_time": "2023-06-15T19:04:19.223Z"
   },
   {
    "duration": 5,
    "start_time": "2023-06-15T19:04:19.628Z"
   },
   {
    "duration": 14,
    "start_time": "2023-06-15T19:04:20.020Z"
   },
   {
    "duration": 12,
    "start_time": "2023-06-15T19:04:23.732Z"
   },
   {
    "duration": 7,
    "start_time": "2023-06-15T19:04:25.155Z"
   },
   {
    "duration": 4,
    "start_time": "2023-06-15T19:04:40.808Z"
   },
   {
    "duration": 95,
    "start_time": "2023-06-15T19:04:40.814Z"
   },
   {
    "duration": 10,
    "start_time": "2023-06-15T19:04:40.911Z"
   },
   {
    "duration": 12,
    "start_time": "2023-06-15T19:04:40.923Z"
   },
   {
    "duration": 10,
    "start_time": "2023-06-15T19:04:40.938Z"
   },
   {
    "duration": 5,
    "start_time": "2023-06-15T19:04:40.950Z"
   },
   {
    "duration": 7,
    "start_time": "2023-06-15T19:04:40.962Z"
   },
   {
    "duration": 8,
    "start_time": "2023-06-15T19:04:40.971Z"
   },
   {
    "duration": 9,
    "start_time": "2023-06-15T19:04:40.986Z"
   },
   {
    "duration": 386,
    "start_time": "2023-06-15T19:04:40.997Z"
   },
   {
    "duration": 956,
    "start_time": "2023-06-15T19:04:41.386Z"
   },
   {
    "duration": 183,
    "start_time": "2023-06-15T19:04:42.344Z"
   },
   {
    "duration": 6,
    "start_time": "2023-06-15T19:04:42.529Z"
   },
   {
    "duration": 5,
    "start_time": "2023-06-15T19:04:42.537Z"
   },
   {
    "duration": 501,
    "start_time": "2023-06-15T19:04:42.559Z"
   },
   {
    "duration": 6,
    "start_time": "2023-06-15T19:04:43.062Z"
   },
   {
    "duration": 427,
    "start_time": "2023-06-15T19:04:43.069Z"
   },
   {
    "duration": 5,
    "start_time": "2023-06-15T19:04:43.499Z"
   },
   {
    "duration": 10,
    "start_time": "2023-06-15T19:04:44.481Z"
   },
   {
    "duration": 36,
    "start_time": "2023-06-15T19:04:45.507Z"
   },
   {
    "duration": 9,
    "start_time": "2023-06-15T19:04:46.006Z"
   },
   {
    "duration": 5,
    "start_time": "2023-06-15T19:04:46.506Z"
   },
   {
    "duration": 4,
    "start_time": "2023-06-15T19:04:46.911Z"
   },
   {
    "duration": 35,
    "start_time": "2023-06-15T19:04:48.253Z"
   },
   {
    "duration": 46,
    "start_time": "2023-06-15T19:04:54.114Z"
   },
   {
    "duration": 6,
    "start_time": "2023-06-15T19:04:55.381Z"
   },
   {
    "duration": 306,
    "start_time": "2023-06-15T19:05:09.254Z"
   },
   {
    "duration": 5,
    "start_time": "2023-06-15T19:05:09.849Z"
   },
   {
    "duration": 3,
    "start_time": "2023-06-15T19:05:16.610Z"
   },
   {
    "duration": 223,
    "start_time": "2023-06-15T19:05:16.963Z"
   },
   {
    "duration": 4,
    "start_time": "2023-06-15T19:05:17.520Z"
   },
   {
    "duration": 2463,
    "start_time": "2023-06-16T13:24:42.634Z"
   },
   {
    "duration": 4,
    "start_time": "2023-06-16T13:24:45.850Z"
   },
   {
    "duration": 224,
    "start_time": "2023-06-16T13:24:45.856Z"
   },
   {
    "duration": 10,
    "start_time": "2023-06-16T13:24:46.081Z"
   },
   {
    "duration": 61,
    "start_time": "2023-06-16T13:24:46.094Z"
   },
   {
    "duration": 36,
    "start_time": "2023-06-16T13:24:46.158Z"
   },
   {
    "duration": 13,
    "start_time": "2023-06-16T13:24:46.196Z"
   },
   {
    "duration": 70,
    "start_time": "2023-06-16T13:24:46.212Z"
   },
   {
    "duration": 14,
    "start_time": "2023-06-16T13:24:46.284Z"
   },
   {
    "duration": 84,
    "start_time": "2023-06-16T13:24:46.299Z"
   },
   {
    "duration": 473,
    "start_time": "2023-06-16T13:24:46.385Z"
   },
   {
    "duration": 980,
    "start_time": "2023-06-16T13:24:46.862Z"
   },
   {
    "duration": 178,
    "start_time": "2023-06-16T13:24:47.843Z"
   },
   {
    "duration": 7,
    "start_time": "2023-06-16T13:24:48.025Z"
   },
   {
    "duration": 45,
    "start_time": "2023-06-16T13:24:48.037Z"
   },
   {
    "duration": 473,
    "start_time": "2023-06-16T13:24:48.084Z"
   },
   {
    "duration": 5,
    "start_time": "2023-06-16T13:24:48.559Z"
   },
   {
    "duration": 395,
    "start_time": "2023-06-16T13:24:48.565Z"
   },
   {
    "duration": 5,
    "start_time": "2023-06-16T13:24:48.962Z"
   },
   {
    "duration": 101,
    "start_time": "2023-06-16T13:24:48.969Z"
   },
   {
    "duration": 11,
    "start_time": "2023-06-16T13:24:49.072Z"
   },
   {
    "duration": 21,
    "start_time": "2023-06-16T13:24:49.084Z"
   },
   {
    "duration": 37,
    "start_time": "2023-06-16T13:24:49.112Z"
   },
   {
    "duration": 35,
    "start_time": "2023-06-16T13:24:49.151Z"
   },
   {
    "duration": 270,
    "start_time": "2023-06-16T13:24:49.188Z"
   },
   {
    "duration": 45,
    "start_time": "2023-06-16T13:24:49.463Z"
   },
   {
    "duration": 919,
    "start_time": "2023-06-16T13:24:49.509Z"
   },
   {
    "duration": 12,
    "start_time": "2023-06-16T13:24:50.441Z"
   },
   {
    "duration": 64,
    "start_time": "2023-06-16T13:24:50.505Z"
   },
   {
    "duration": 67,
    "start_time": "2023-06-16T13:24:50.571Z"
   },
   {
    "duration": 131,
    "start_time": "2023-06-16T13:24:50.645Z"
   },
   {
    "duration": 3,
    "start_time": "2023-06-16T13:28:08.179Z"
   },
   {
    "duration": 180,
    "start_time": "2023-06-16T13:31:31.129Z"
   },
   {
    "duration": 17,
    "start_time": "2023-06-16T13:31:36.718Z"
   },
   {
    "duration": 10,
    "start_time": "2023-06-16T13:31:37.164Z"
   },
   {
    "duration": 122078,
    "start_time": "2023-06-16T13:31:42.645Z"
   },
   {
    "duration": 4,
    "start_time": "2023-06-16T13:35:00.853Z"
   },
   {
    "duration": 4,
    "start_time": "2023-06-16T13:39:51.221Z"
   },
   {
    "duration": 15,
    "start_time": "2023-06-16T13:43:27.226Z"
   },
   {
    "duration": 3,
    "start_time": "2023-06-16T13:43:29.124Z"
   },
   {
    "duration": 33,
    "start_time": "2023-06-16T13:43:29.623Z"
   },
   {
    "duration": 3,
    "start_time": "2023-06-16T13:44:20.652Z"
   },
   {
    "duration": 24,
    "start_time": "2023-06-16T13:44:21.317Z"
   },
   {
    "duration": 9,
    "start_time": "2023-06-16T13:45:16.124Z"
   },
   {
    "duration": 21,
    "start_time": "2023-06-16T13:45:16.930Z"
   },
   {
    "duration": 3,
    "start_time": "2023-06-16T13:45:31.580Z"
   },
   {
    "duration": 25,
    "start_time": "2023-06-16T13:45:33.078Z"
   },
   {
    "duration": 7,
    "start_time": "2023-06-16T13:45:58.218Z"
   },
   {
    "duration": 0,
    "start_time": "2023-06-16T13:47:24.010Z"
   },
   {
    "duration": 0,
    "start_time": "2023-06-16T13:47:24.011Z"
   },
   {
    "duration": 22,
    "start_time": "2023-06-16T13:47:27.421Z"
   },
   {
    "duration": 19,
    "start_time": "2023-06-16T13:47:28.652Z"
   },
   {
    "duration": 7,
    "start_time": "2023-06-16T13:48:03.234Z"
   },
   {
    "duration": 50253,
    "start_time": "2023-06-16T13:48:03.660Z"
   },
   {
    "duration": 12,
    "start_time": "2023-06-16T13:49:16.929Z"
   },
   {
    "duration": 48,
    "start_time": "2023-06-16T18:53:16.492Z"
   },
   {
    "duration": 1638,
    "start_time": "2023-06-16T18:53:20.779Z"
   },
   {
    "duration": 2,
    "start_time": "2023-06-16T18:53:22.420Z"
   },
   {
    "duration": 318,
    "start_time": "2023-06-16T18:53:22.424Z"
   },
   {
    "duration": 10,
    "start_time": "2023-06-16T18:53:22.745Z"
   },
   {
    "duration": 2,
    "start_time": "2023-06-16T18:53:22.757Z"
   },
   {
    "duration": 18,
    "start_time": "2023-06-16T18:53:22.761Z"
   },
   {
    "duration": 5,
    "start_time": "2023-06-16T18:53:22.781Z"
   },
   {
    "duration": 17,
    "start_time": "2023-06-16T18:53:22.788Z"
   },
   {
    "duration": 8,
    "start_time": "2023-06-16T18:53:22.807Z"
   },
   {
    "duration": 3,
    "start_time": "2023-06-16T18:53:23.628Z"
   },
   {
    "duration": 8,
    "start_time": "2023-06-16T18:53:23.968Z"
   },
   {
    "duration": 5,
    "start_time": "2023-06-16T19:13:05.685Z"
   },
   {
    "duration": 5,
    "start_time": "2023-06-16T19:13:05.692Z"
   },
   {
    "duration": 58,
    "start_time": "2023-06-16T19:13:05.699Z"
   },
   {
    "duration": 10,
    "start_time": "2023-06-16T19:13:05.759Z"
   },
   {
    "duration": 9,
    "start_time": "2023-06-16T19:13:05.771Z"
   },
   {
    "duration": 9,
    "start_time": "2023-06-16T19:13:05.782Z"
   },
   {
    "duration": 10,
    "start_time": "2023-06-16T19:13:05.793Z"
   },
   {
    "duration": 19,
    "start_time": "2023-06-16T19:13:05.805Z"
   },
   {
    "duration": 7,
    "start_time": "2023-06-16T19:13:05.825Z"
   },
   {
    "duration": 19,
    "start_time": "2023-06-16T19:13:05.834Z"
   },
   {
    "duration": 286,
    "start_time": "2023-06-16T19:13:05.855Z"
   },
   {
    "duration": 897,
    "start_time": "2023-06-16T19:13:06.149Z"
   },
   {
    "duration": 150,
    "start_time": "2023-06-16T19:13:07.048Z"
   },
   {
    "duration": 6,
    "start_time": "2023-06-16T19:13:07.200Z"
   },
   {
    "duration": 5,
    "start_time": "2023-06-16T19:13:07.207Z"
   },
   {
    "duration": 336,
    "start_time": "2023-06-16T19:13:07.214Z"
   },
   {
    "duration": 4,
    "start_time": "2023-06-16T19:13:07.552Z"
   },
   {
    "duration": 344,
    "start_time": "2023-06-16T19:13:07.557Z"
   },
   {
    "duration": 4,
    "start_time": "2023-06-16T19:13:07.903Z"
   },
   {
    "duration": 28,
    "start_time": "2023-06-16T19:13:07.909Z"
   },
   {
    "duration": 16,
    "start_time": "2023-06-16T19:13:07.939Z"
   },
   {
    "duration": 5,
    "start_time": "2023-06-16T19:13:07.957Z"
   },
   {
    "duration": 6,
    "start_time": "2023-06-16T19:13:07.964Z"
   },
   {
    "duration": 20,
    "start_time": "2023-06-16T19:13:07.972Z"
   },
   {
    "duration": 64,
    "start_time": "2023-06-16T19:13:07.994Z"
   },
   {
    "duration": 93,
    "start_time": "2023-06-16T19:13:08.060Z"
   },
   {
    "duration": 595,
    "start_time": "2023-06-16T19:13:08.156Z"
   },
   {
    "duration": 413,
    "start_time": "2023-06-16T19:13:16.638Z"
   },
   {
    "duration": 4,
    "start_time": "2023-06-16T19:13:17.151Z"
   },
   {
    "duration": 2,
    "start_time": "2023-06-16T19:13:25.826Z"
   },
   {
    "duration": 233,
    "start_time": "2023-06-16T19:13:26.317Z"
   },
   {
    "duration": 5,
    "start_time": "2023-06-16T19:13:27.146Z"
   },
   {
    "duration": 4,
    "start_time": "2023-06-16T19:13:28.104Z"
   },
   {
    "duration": 100277,
    "start_time": "2023-06-16T19:13:45.226Z"
   },
   {
    "duration": 4,
    "start_time": "2023-06-16T19:15:49.005Z"
   },
   {
    "duration": 3,
    "start_time": "2023-06-16T19:19:03.541Z"
   },
   {
    "duration": 4,
    "start_time": "2023-06-16T19:19:21.071Z"
   },
   {
    "duration": 86,
    "start_time": "2023-06-16T19:19:49.141Z"
   },
   {
    "duration": 9,
    "start_time": "2023-06-16T19:19:55.133Z"
   },
   {
    "duration": 11,
    "start_time": "2023-06-16T19:20:15.227Z"
   },
   {
    "duration": 18,
    "start_time": "2023-06-16T19:21:07.441Z"
   },
   {
    "duration": 22,
    "start_time": "2023-06-16T19:21:24.059Z"
   },
   {
    "duration": 6,
    "start_time": "2023-06-16T19:24:01.305Z"
   },
   {
    "duration": 9,
    "start_time": "2023-06-16T19:24:07.295Z"
   },
   {
    "duration": 71,
    "start_time": "2023-06-16T19:24:16.224Z"
   },
   {
    "duration": 6,
    "start_time": "2023-06-16T19:24:21.714Z"
   },
   {
    "duration": 9,
    "start_time": "2023-06-16T19:24:40.760Z"
   },
   {
    "duration": 4,
    "start_time": "2023-06-16T19:25:09.340Z"
   },
   {
    "duration": 12,
    "start_time": "2023-06-16T19:25:14.082Z"
   },
   {
    "duration": 66,
    "start_time": "2023-06-16T19:25:32.893Z"
   },
   {
    "duration": 76,
    "start_time": "2023-06-16T19:26:06.646Z"
   },
   {
    "duration": 5,
    "start_time": "2023-06-16T19:28:36.544Z"
   },
   {
    "duration": 19,
    "start_time": "2023-06-16T19:28:42.305Z"
   },
   {
    "duration": 3,
    "start_time": "2023-06-16T19:31:14.959Z"
   },
   {
    "duration": 13,
    "start_time": "2023-06-16T19:31:18.939Z"
   },
   {
    "duration": 5,
    "start_time": "2023-06-16T19:33:12.642Z"
   },
   {
    "duration": 4,
    "start_time": "2023-06-16T19:33:34.443Z"
   },
   {
    "duration": 10,
    "start_time": "2023-06-16T19:33:34.449Z"
   },
   {
    "duration": 60,
    "start_time": "2023-06-16T19:33:34.461Z"
   },
   {
    "duration": 13,
    "start_time": "2023-06-16T19:33:34.523Z"
   },
   {
    "duration": 4,
    "start_time": "2023-06-16T19:33:34.539Z"
   },
   {
    "duration": 12,
    "start_time": "2023-06-16T19:33:34.545Z"
   },
   {
    "duration": 5,
    "start_time": "2023-06-16T19:33:34.559Z"
   },
   {
    "duration": 7,
    "start_time": "2023-06-16T19:33:34.566Z"
   },
   {
    "duration": 23,
    "start_time": "2023-06-16T19:33:34.575Z"
   },
   {
    "duration": 26,
    "start_time": "2023-06-16T19:33:34.600Z"
   },
   {
    "duration": 276,
    "start_time": "2023-06-16T19:33:34.628Z"
   },
   {
    "duration": 735,
    "start_time": "2023-06-16T19:33:34.906Z"
   },
   {
    "duration": 152,
    "start_time": "2023-06-16T19:33:35.651Z"
   },
   {
    "duration": 5,
    "start_time": "2023-06-16T19:33:35.806Z"
   },
   {
    "duration": 29,
    "start_time": "2023-06-16T19:33:35.812Z"
   },
   {
    "duration": 420,
    "start_time": "2023-06-16T19:33:35.843Z"
   },
   {
    "duration": 4,
    "start_time": "2023-06-16T19:33:36.265Z"
   },
   {
    "duration": 359,
    "start_time": "2023-06-16T19:33:36.270Z"
   },
   {
    "duration": 4,
    "start_time": "2023-06-16T19:33:36.631Z"
   },
   {
    "duration": 4,
    "start_time": "2023-06-16T19:33:37.929Z"
   },
   {
    "duration": 167,
    "start_time": "2023-06-16T19:33:38.591Z"
   },
   {
    "duration": 22,
    "start_time": "2023-06-16T19:33:39.458Z"
   },
   {
    "duration": 8,
    "start_time": "2023-06-16T19:33:39.921Z"
   },
   {
    "duration": 4,
    "start_time": "2023-06-16T19:33:40.345Z"
   },
   {
    "duration": 18,
    "start_time": "2023-06-16T19:33:41.500Z"
   },
   {
    "duration": 486,
    "start_time": "2023-06-16T19:33:47.269Z"
   },
   {
    "duration": 4,
    "start_time": "2023-06-16T19:33:49.390Z"
   },
   {
    "duration": 3829,
    "start_time": "2023-06-16T19:34:03.922Z"
   },
   {
    "duration": 4,
    "start_time": "2023-06-16T19:34:08.740Z"
   },
   {
    "duration": 658,
    "start_time": "2023-06-16T19:34:29.070Z"
   },
   {
    "duration": 4,
    "start_time": "2023-06-16T19:34:33.091Z"
   },
   {
    "duration": 5,
    "start_time": "2023-06-16T19:34:33.098Z"
   },
   {
    "duration": 50,
    "start_time": "2023-06-16T19:34:33.105Z"
   },
   {
    "duration": 9,
    "start_time": "2023-06-16T19:34:33.157Z"
   },
   {
    "duration": 2,
    "start_time": "2023-06-16T19:34:33.168Z"
   },
   {
    "duration": 9,
    "start_time": "2023-06-16T19:34:33.172Z"
   },
   {
    "duration": 4,
    "start_time": "2023-06-16T19:34:33.183Z"
   },
   {
    "duration": 6,
    "start_time": "2023-06-16T19:34:33.188Z"
   },
   {
    "duration": 2,
    "start_time": "2023-06-16T19:34:33.196Z"
   },
   {
    "duration": 51,
    "start_time": "2023-06-16T19:34:33.200Z"
   },
   {
    "duration": 316,
    "start_time": "2023-06-16T19:34:33.253Z"
   },
   {
    "duration": 804,
    "start_time": "2023-06-16T19:34:33.571Z"
   },
   {
    "duration": 163,
    "start_time": "2023-06-16T19:34:34.376Z"
   },
   {
    "duration": 5,
    "start_time": "2023-06-16T19:34:34.550Z"
   },
   {
    "duration": 4,
    "start_time": "2023-06-16T19:34:34.557Z"
   },
   {
    "duration": 436,
    "start_time": "2023-06-16T19:34:34.563Z"
   },
   {
    "duration": 5,
    "start_time": "2023-06-16T19:34:35.001Z"
   },
   {
    "duration": 353,
    "start_time": "2023-06-16T19:34:35.007Z"
   },
   {
    "duration": 5,
    "start_time": "2023-06-16T19:34:35.363Z"
   },
   {
    "duration": 734,
    "start_time": "2023-06-16T19:34:35.370Z"
   },
   {
    "duration": 213,
    "start_time": "2023-06-16T19:34:37.196Z"
   },
   {
    "duration": 49,
    "start_time": "2023-06-16T19:34:37.660Z"
   },
   {
    "duration": 18,
    "start_time": "2023-06-16T19:34:38.493Z"
   },
   {
    "duration": 7,
    "start_time": "2023-06-16T19:34:38.904Z"
   },
   {
    "duration": 26,
    "start_time": "2023-06-16T19:34:39.671Z"
   },
   {
    "duration": 5810,
    "start_time": "2023-06-16T19:34:44.042Z"
   },
   {
    "duration": 4,
    "start_time": "2023-06-16T19:34:51.202Z"
   },
   {
    "duration": 216,
    "start_time": "2023-06-16T19:35:12.208Z"
   },
   {
    "duration": 14,
    "start_time": "2023-06-16T19:35:15.871Z"
   },
   {
    "duration": 11,
    "start_time": "2023-06-16T19:35:16.321Z"
   },
   {
    "duration": 6,
    "start_time": "2023-06-16T19:35:16.691Z"
   },
   {
    "duration": 20,
    "start_time": "2023-06-16T19:35:17.533Z"
   },
   {
    "duration": 5049,
    "start_time": "2023-06-16T19:35:18.702Z"
   },
   {
    "duration": 5,
    "start_time": "2023-06-16T19:35:23.753Z"
   },
   {
    "duration": 3,
    "start_time": "2023-06-16T19:37:23.928Z"
   },
   {
    "duration": 10,
    "start_time": "2023-06-16T19:39:39.753Z"
   },
   {
    "duration": 9,
    "start_time": "2023-06-16T19:39:52.858Z"
   },
   {
    "duration": 13,
    "start_time": "2023-06-16T19:40:05.854Z"
   },
   {
    "duration": 4,
    "start_time": "2023-06-16T19:42:51.668Z"
   },
   {
    "duration": 221,
    "start_time": "2023-06-16T19:44:05.394Z"
   },
   {
    "duration": 2,
    "start_time": "2023-06-16T19:44:39.898Z"
   },
   {
    "duration": 3,
    "start_time": "2023-06-16T19:44:43.481Z"
   },
   {
    "duration": 58,
    "start_time": "2023-06-16T19:44:43.904Z"
   },
   {
    "duration": 66,
    "start_time": "2023-06-16T19:49:13.384Z"
   },
   {
    "duration": 12,
    "start_time": "2023-06-16T19:49:18.538Z"
   },
   {
    "duration": 10,
    "start_time": "2023-06-16T19:49:41.678Z"
   },
   {
    "duration": 12,
    "start_time": "2023-06-16T19:49:46.670Z"
   },
   {
    "duration": 9,
    "start_time": "2023-06-16T19:50:08.130Z"
   },
   {
    "duration": 12,
    "start_time": "2023-06-16T19:50:16.593Z"
   },
   {
    "duration": 12,
    "start_time": "2023-06-16T19:50:18.104Z"
   },
   {
    "duration": 12,
    "start_time": "2023-06-16T19:50:45.623Z"
   },
   {
    "duration": 12,
    "start_time": "2023-06-16T19:50:59.626Z"
   },
   {
    "duration": 2,
    "start_time": "2023-06-16T19:51:53.887Z"
   },
   {
    "duration": 10,
    "start_time": "2023-06-16T19:52:48.508Z"
   },
   {
    "duration": 9,
    "start_time": "2023-06-16T19:52:51.599Z"
   },
   {
    "duration": 12,
    "start_time": "2023-06-16T19:52:56.651Z"
   },
   {
    "duration": 11,
    "start_time": "2023-06-16T19:53:10.507Z"
   },
   {
    "duration": 9,
    "start_time": "2023-06-16T19:53:16.196Z"
   },
   {
    "duration": 9,
    "start_time": "2023-06-16T19:53:20.819Z"
   },
   {
    "duration": 46,
    "start_time": "2023-06-16T19:54:13.184Z"
   },
   {
    "duration": 12,
    "start_time": "2023-06-16T19:55:06.102Z"
   },
   {
    "duration": 48,
    "start_time": "2023-06-16T19:55:06.758Z"
   },
   {
    "duration": 59,
    "start_time": "2023-06-16T19:55:14.253Z"
   },
   {
    "duration": 4,
    "start_time": "2023-06-16T19:56:13.204Z"
   },
   {
    "duration": 57,
    "start_time": "2023-06-16T19:57:35.180Z"
   },
   {
    "duration": 18,
    "start_time": "2023-06-16T19:57:35.666Z"
   },
   {
    "duration": 17,
    "start_time": "2023-06-16T19:57:36.123Z"
   },
   {
    "duration": 6,
    "start_time": "2023-06-16T19:57:36.472Z"
   },
   {
    "duration": 3,
    "start_time": "2023-06-16T19:57:38.385Z"
   },
   {
    "duration": 21828,
    "start_time": "2023-06-16T19:57:38.667Z"
   },
   {
    "duration": 4,
    "start_time": "2023-06-16T19:58:01.520Z"
   },
   {
    "duration": 5473,
    "start_time": "2023-06-16T19:58:11.979Z"
   },
   {
    "duration": 4,
    "start_time": "2023-06-16T19:58:21.179Z"
   },
   {
    "duration": 4,
    "start_time": "2023-06-16T19:58:46.142Z"
   },
   {
    "duration": 19426,
    "start_time": "2023-06-16T19:58:46.554Z"
   },
   {
    "duration": 18,
    "start_time": "2023-06-16T19:59:06.056Z"
   },
   {
    "duration": 5,
    "start_time": "2023-06-16T20:00:50.769Z"
   },
   {
    "duration": 3,
    "start_time": "2023-06-16T20:03:43.400Z"
   },
   {
    "duration": 3,
    "start_time": "2023-06-16T20:04:15.014Z"
   },
   {
    "duration": 9,
    "start_time": "2023-06-16T20:05:37.913Z"
   },
   {
    "duration": 10,
    "start_time": "2023-06-16T20:05:40.981Z"
   },
   {
    "duration": 743,
    "start_time": "2023-06-16T20:08:06.282Z"
   },
   {
    "duration": 76,
    "start_time": "2023-06-16T20:13:50.751Z"
   },
   {
    "duration": 314,
    "start_time": "2023-06-16T20:13:53.530Z"
   },
   {
    "duration": 150,
    "start_time": "2023-06-16T20:14:49.038Z"
   },
   {
    "duration": 12,
    "start_time": "2023-06-16T20:14:50.586Z"
   },
   {
    "duration": 6,
    "start_time": "2023-06-16T20:14:53.186Z"
   },
   {
    "duration": 6,
    "start_time": "2023-06-16T20:14:53.590Z"
   },
   {
    "duration": 3,
    "start_time": "2023-06-16T20:14:54.096Z"
   },
   {
    "duration": 605,
    "start_time": "2023-06-16T20:14:55.149Z"
   },
   {
    "duration": 3432,
    "start_time": "2023-06-16T20:14:57.444Z"
   },
   {
    "duration": 3,
    "start_time": "2023-06-16T20:15:03.769Z"
   },
   {
    "duration": 793234,
    "start_time": "2023-06-16T20:15:05.573Z"
   },
   {
    "duration": 154,
    "start_time": "2023-06-16T20:28:18.809Z"
   },
   {
    "duration": 42,
    "start_time": "2023-06-16T20:28:18.965Z"
   },
   {
    "duration": 14267,
    "start_time": "2023-06-16T20:31:20.689Z"
   },
   {
    "duration": 4,
    "start_time": "2023-06-16T20:31:37.789Z"
   },
   {
    "duration": 4,
    "start_time": "2023-06-16T20:31:37.795Z"
   },
   {
    "duration": 7,
    "start_time": "2023-06-16T20:31:37.801Z"
   },
   {
    "duration": 63,
    "start_time": "2023-06-16T20:31:37.810Z"
   },
   {
    "duration": 10,
    "start_time": "2023-06-16T20:31:37.874Z"
   },
   {
    "duration": 5,
    "start_time": "2023-06-16T20:31:37.885Z"
   },
   {
    "duration": 8,
    "start_time": "2023-06-16T20:31:37.892Z"
   },
   {
    "duration": 4,
    "start_time": "2023-06-16T20:31:37.901Z"
   },
   {
    "duration": 5,
    "start_time": "2023-06-16T20:31:37.907Z"
   },
   {
    "duration": 3,
    "start_time": "2023-06-16T20:31:37.914Z"
   },
   {
    "duration": 36,
    "start_time": "2023-06-16T20:31:37.918Z"
   },
   {
    "duration": 8,
    "start_time": "2023-06-16T20:31:40.498Z"
   },
   {
    "duration": 248,
    "start_time": "2023-06-16T20:31:41.102Z"
   },
   {
    "duration": 654,
    "start_time": "2023-06-16T20:33:21.601Z"
   },
   {
    "duration": 692,
    "start_time": "2023-06-16T20:34:08.527Z"
   },
   {
    "duration": 146,
    "start_time": "2023-06-16T20:34:42.975Z"
   },
   {
    "duration": 6,
    "start_time": "2023-06-16T20:39:28.865Z"
   },
   {
    "duration": 13199,
    "start_time": "2023-06-16T20:39:29.692Z"
   },
   {
    "duration": 4,
    "start_time": "2023-06-16T20:39:49.681Z"
   },
   {
    "duration": 11,
    "start_time": "2023-06-16T20:39:49.686Z"
   },
   {
    "duration": 13,
    "start_time": "2023-06-16T20:39:49.699Z"
   },
   {
    "duration": 52,
    "start_time": "2023-06-16T20:39:49.714Z"
   },
   {
    "duration": 10,
    "start_time": "2023-06-16T20:39:49.767Z"
   },
   {
    "duration": 7,
    "start_time": "2023-06-16T20:39:49.779Z"
   },
   {
    "duration": 8,
    "start_time": "2023-06-16T20:39:49.787Z"
   },
   {
    "duration": 4,
    "start_time": "2023-06-16T20:39:49.796Z"
   },
   {
    "duration": 6,
    "start_time": "2023-06-16T20:39:49.802Z"
   },
   {
    "duration": 6,
    "start_time": "2023-06-16T20:39:49.809Z"
   },
   {
    "duration": 12,
    "start_time": "2023-06-16T20:39:49.816Z"
   },
   {
    "duration": 261,
    "start_time": "2023-06-16T20:39:49.849Z"
   },
   {
    "duration": 726,
    "start_time": "2023-06-16T20:39:50.112Z"
   },
   {
    "duration": 145,
    "start_time": "2023-06-16T20:39:50.840Z"
   },
   {
    "duration": 5,
    "start_time": "2023-06-16T20:39:50.986Z"
   },
   {
    "duration": 13,
    "start_time": "2023-06-16T20:39:50.992Z"
   },
   {
    "duration": 311,
    "start_time": "2023-06-16T20:39:51.007Z"
   },
   {
    "duration": 6,
    "start_time": "2023-06-16T20:39:51.320Z"
   },
   {
    "duration": 6,
    "start_time": "2023-06-16T20:40:04.427Z"
   },
   {
    "duration": 298,
    "start_time": "2023-06-16T20:40:05.167Z"
   },
   {
    "duration": 300,
    "start_time": "2023-06-16T20:41:11.468Z"
   },
   {
    "duration": 308,
    "start_time": "2023-06-16T20:41:17.491Z"
   },
   {
    "duration": 152,
    "start_time": "2023-06-16T20:41:22.317Z"
   },
   {
    "duration": 301,
    "start_time": "2023-06-16T20:41:29.029Z"
   },
   {
    "duration": 150,
    "start_time": "2023-06-16T20:42:11.631Z"
   },
   {
    "duration": 19,
    "start_time": "2023-06-16T20:42:12.844Z"
   },
   {
    "duration": 9,
    "start_time": "2023-06-16T20:42:15.048Z"
   },
   {
    "duration": 5,
    "start_time": "2023-06-16T20:42:16.874Z"
   },
   {
    "duration": 3,
    "start_time": "2023-06-16T20:42:17.729Z"
   },
   {
    "duration": 393,
    "start_time": "2023-06-16T20:42:22.457Z"
   },
   {
    "duration": 4560,
    "start_time": "2023-06-16T20:42:23.692Z"
   },
   {
    "duration": 4,
    "start_time": "2023-06-16T20:42:29.555Z"
   },
   {
    "duration": 3,
    "start_time": "2023-06-16T20:42:51.967Z"
   },
   {
    "duration": 196638,
    "start_time": "2023-06-16T20:42:53.825Z"
   },
   {
    "duration": 287,
    "start_time": "2023-06-16T20:46:10.465Z"
   },
   {
    "duration": 15,
    "start_time": "2023-06-16T20:46:10.753Z"
   },
   {
    "duration": 93,
    "start_time": "2023-06-16T20:55:36.182Z"
   },
   {
    "duration": 18,
    "start_time": "2023-06-16T20:55:37.664Z"
   },
   {
    "duration": 15,
    "start_time": "2023-06-16T20:56:33.415Z"
   },
   {
    "duration": 21,
    "start_time": "2023-06-16T20:56:59.348Z"
   },
   {
    "duration": 12,
    "start_time": "2023-06-16T20:57:36.936Z"
   },
   {
    "duration": 10,
    "start_time": "2023-06-16T20:57:40.964Z"
   },
   {
    "duration": 3103,
    "start_time": "2023-06-17T16:59:01.067Z"
   },
   {
    "duration": 4,
    "start_time": "2023-06-17T16:59:04.177Z"
   },
   {
    "duration": 19,
    "start_time": "2023-06-17T16:59:04.183Z"
   },
   {
    "duration": 270,
    "start_time": "2023-06-17T16:59:04.204Z"
   },
   {
    "duration": 12,
    "start_time": "2023-06-17T16:59:04.478Z"
   },
   {
    "duration": 5,
    "start_time": "2023-06-17T16:59:04.492Z"
   },
   {
    "duration": 33,
    "start_time": "2023-06-17T16:59:04.498Z"
   },
   {
    "duration": 7,
    "start_time": "2023-06-17T16:59:04.533Z"
   },
   {
    "duration": 11,
    "start_time": "2023-06-17T16:59:04.542Z"
   },
   {
    "duration": 11,
    "start_time": "2023-06-17T16:59:04.555Z"
   },
   {
    "duration": 21,
    "start_time": "2023-06-17T16:59:04.568Z"
   },
   {
    "duration": 449,
    "start_time": "2023-06-17T16:59:04.591Z"
   },
   {
    "duration": 1187,
    "start_time": "2023-06-17T16:59:05.042Z"
   },
   {
    "duration": 210,
    "start_time": "2023-06-17T16:59:06.236Z"
   },
   {
    "duration": 13,
    "start_time": "2023-06-17T16:59:06.448Z"
   },
   {
    "duration": 20,
    "start_time": "2023-06-17T16:59:06.463Z"
   },
   {
    "duration": 543,
    "start_time": "2023-06-17T16:59:06.485Z"
   },
   {
    "duration": 51,
    "start_time": "2023-06-17T16:59:13.712Z"
   },
   {
    "duration": 14,
    "start_time": "2023-06-17T16:59:14.875Z"
   },
   {
    "duration": 144,
    "start_time": "2023-06-17T16:59:27.466Z"
   },
   {
    "duration": 20,
    "start_time": "2023-06-17T16:59:28.003Z"
   },
   {
    "duration": 4,
    "start_time": "2023-06-17T16:59:28.156Z"
   },
   {
    "duration": 15,
    "start_time": "2023-06-17T16:59:29.173Z"
   },
   {
    "duration": 11,
    "start_time": "2023-06-17T16:59:29.656Z"
   },
   {
    "duration": 7,
    "start_time": "2023-06-17T16:59:33.255Z"
   },
   {
    "duration": 8,
    "start_time": "2023-06-17T16:59:33.707Z"
   },
   {
    "duration": 23,
    "start_time": "2023-06-17T16:59:40.956Z"
   },
   {
    "duration": 4080,
    "start_time": "2023-06-17T17:00:00.001Z"
   },
   {
    "duration": 4584,
    "start_time": "2023-06-17T17:02:44.269Z"
   },
   {
    "duration": 7146,
    "start_time": "2023-06-17T17:05:40.711Z"
   },
   {
    "duration": 86,
    "start_time": "2023-06-17T17:06:52.966Z"
   },
   {
    "duration": 42458,
    "start_time": "2023-06-17T17:06:57.489Z"
   },
   {
    "duration": 36044,
    "start_time": "2023-06-17T17:08:41.712Z"
   },
   {
    "duration": 1528,
    "start_time": "2023-06-21T18:07:13.774Z"
   },
   {
    "duration": 3,
    "start_time": "2023-06-21T18:07:15.304Z"
   },
   {
    "duration": 21,
    "start_time": "2023-06-21T18:07:15.308Z"
   },
   {
    "duration": 139,
    "start_time": "2023-06-21T18:07:15.331Z"
   },
   {
    "duration": 10,
    "start_time": "2023-06-21T18:07:15.471Z"
   },
   {
    "duration": 21,
    "start_time": "2023-06-21T18:07:15.482Z"
   },
   {
    "duration": 13,
    "start_time": "2023-06-21T18:07:15.505Z"
   },
   {
    "duration": 31,
    "start_time": "2023-06-21T18:07:15.520Z"
   },
   {
    "duration": 24,
    "start_time": "2023-06-21T18:07:15.552Z"
   },
   {
    "duration": 26,
    "start_time": "2023-06-21T18:07:15.577Z"
   },
   {
    "duration": 23,
    "start_time": "2023-06-21T18:07:15.604Z"
   },
   {
    "duration": 266,
    "start_time": "2023-06-21T18:07:15.629Z"
   },
   {
    "duration": 749,
    "start_time": "2023-06-21T18:07:15.897Z"
   },
   {
    "duration": 127,
    "start_time": "2023-06-21T18:07:18.718Z"
   },
   {
    "duration": 121,
    "start_time": "2023-06-21T18:07:32.018Z"
   },
   {
    "duration": 124,
    "start_time": "2023-06-21T18:07:45.771Z"
   },
   {
    "duration": 4,
    "start_time": "2023-06-21T18:32:58.150Z"
   },
   {
    "duration": 4,
    "start_time": "2023-06-21T18:34:22.154Z"
   },
   {
    "duration": 282,
    "start_time": "2023-06-21T18:34:46.991Z"
   },
   {
    "duration": 159,
    "start_time": "2023-06-21T18:35:38.689Z"
   },
   {
    "duration": 189,
    "start_time": "2023-06-21T18:36:08.047Z"
   },
   {
    "duration": 80,
    "start_time": "2023-06-21T18:40:31.355Z"
   },
   {
    "duration": 5,
    "start_time": "2023-06-21T18:42:58.769Z"
   },
   {
    "duration": 5,
    "start_time": "2023-06-21T18:44:30.851Z"
   },
   {
    "duration": 3,
    "start_time": "2023-06-21T18:44:37.192Z"
   },
   {
    "duration": 9,
    "start_time": "2023-06-21T18:44:37.199Z"
   },
   {
    "duration": 9,
    "start_time": "2023-06-21T18:44:37.209Z"
   },
   {
    "duration": 49,
    "start_time": "2023-06-21T18:44:37.340Z"
   },
   {
    "duration": 9,
    "start_time": "2023-06-21T18:44:37.391Z"
   },
   {
    "duration": 9,
    "start_time": "2023-06-21T18:44:39.111Z"
   },
   {
    "duration": 4,
    "start_time": "2023-06-21T18:44:39.640Z"
   },
   {
    "duration": 3,
    "start_time": "2023-06-21T18:45:43.912Z"
   },
   {
    "duration": 226,
    "start_time": "2023-06-21T18:52:26.004Z"
   },
   {
    "duration": 211,
    "start_time": "2023-06-21T18:52:37.039Z"
   },
   {
    "duration": 697,
    "start_time": "2023-06-21T18:52:55.171Z"
   },
   {
    "duration": 283,
    "start_time": "2023-06-21T18:53:18.953Z"
   },
   {
    "duration": 4,
    "start_time": "2023-06-21T18:54:21.007Z"
   },
   {
    "duration": 3,
    "start_time": "2023-06-21T18:54:33.281Z"
   },
   {
    "duration": 4,
    "start_time": "2023-06-21T18:54:44.871Z"
   },
   {
    "duration": 14,
    "start_time": "2023-06-21T18:54:49.999Z"
   },
   {
    "duration": 2053,
    "start_time": "2023-06-21T18:56:38.302Z"
   },
   {
    "duration": 356,
    "start_time": "2023-06-21T18:58:31.736Z"
   },
   {
    "duration": 189,
    "start_time": "2023-06-21T18:59:01.961Z"
   },
   {
    "duration": 185,
    "start_time": "2023-06-21T18:59:36.131Z"
   },
   {
    "duration": 651,
    "start_time": "2023-06-21T19:05:02.300Z"
   },
   {
    "duration": 771,
    "start_time": "2023-06-21T19:05:09.774Z"
   },
   {
    "duration": 8,
    "start_time": "2023-06-21T19:07:38.968Z"
   },
   {
    "duration": 9,
    "start_time": "2023-06-21T19:08:13.960Z"
   },
   {
    "duration": 4,
    "start_time": "2023-06-21T19:08:28.161Z"
   },
   {
    "duration": 9,
    "start_time": "2023-06-21T19:08:46.543Z"
   },
   {
    "duration": 3,
    "start_time": "2023-06-21T19:08:51.859Z"
   },
   {
    "duration": 9,
    "start_time": "2023-06-21T19:08:52.190Z"
   },
   {
    "duration": 3,
    "start_time": "2023-06-21T19:08:59.473Z"
   },
   {
    "duration": 27,
    "start_time": "2023-06-21T19:08:59.478Z"
   },
   {
    "duration": 29,
    "start_time": "2023-06-21T19:08:59.506Z"
   },
   {
    "duration": 46,
    "start_time": "2023-06-21T19:08:59.593Z"
   },
   {
    "duration": 9,
    "start_time": "2023-06-21T19:08:59.642Z"
   },
   {
    "duration": 31,
    "start_time": "2023-06-21T19:08:59.653Z"
   },
   {
    "duration": 13,
    "start_time": "2023-06-21T19:08:59.686Z"
   },
   {
    "duration": 34,
    "start_time": "2023-06-21T19:08:59.701Z"
   },
   {
    "duration": 23,
    "start_time": "2023-06-21T19:08:59.737Z"
   },
   {
    "duration": 12,
    "start_time": "2023-06-21T19:08:59.762Z"
   },
   {
    "duration": 13,
    "start_time": "2023-06-21T19:08:59.776Z"
   },
   {
    "duration": 19,
    "start_time": "2023-06-21T19:08:59.791Z"
   },
   {
    "duration": 215,
    "start_time": "2023-06-21T19:08:59.812Z"
   },
   {
    "duration": 194,
    "start_time": "2023-06-21T19:09:00.029Z"
   },
   {
    "duration": 710,
    "start_time": "2023-06-21T19:09:00.224Z"
   },
   {
    "duration": 208,
    "start_time": "2023-06-21T19:09:00.935Z"
   },
   {
    "duration": 4,
    "start_time": "2023-06-21T19:09:01.145Z"
   },
   {
    "duration": 104,
    "start_time": "2023-06-21T19:09:01.150Z"
   },
   {
    "duration": 314,
    "start_time": "2023-06-21T19:09:01.255Z"
   },
   {
    "duration": 7,
    "start_time": "2023-06-21T19:09:01.571Z"
   },
   {
    "duration": 297,
    "start_time": "2023-06-21T19:09:01.579Z"
   },
   {
    "duration": 132,
    "start_time": "2023-06-21T19:09:01.877Z"
   },
   {
    "duration": 17,
    "start_time": "2023-06-21T19:09:02.010Z"
   },
   {
    "duration": 28,
    "start_time": "2023-06-21T19:09:02.028Z"
   },
   {
    "duration": 43,
    "start_time": "2023-06-21T19:09:02.058Z"
   },
   {
    "duration": 301,
    "start_time": "2023-06-21T19:09:02.102Z"
   },
   {
    "duration": 5005,
    "start_time": "2023-06-21T19:09:02.405Z"
   },
   {
    "duration": 2,
    "start_time": "2023-06-21T19:09:09.158Z"
   },
   {
    "duration": 480096,
    "start_time": "2023-06-21T19:09:10.360Z"
   },
   {
    "duration": 3,
    "start_time": "2023-06-21T19:20:10.131Z"
   },
   {
    "duration": 3,
    "start_time": "2023-06-21T19:20:23.284Z"
   },
   {
    "duration": 2,
    "start_time": "2023-06-21T19:21:11.599Z"
   },
   {
    "duration": 3,
    "start_time": "2023-06-21T19:22:29.308Z"
   },
   {
    "duration": 4158,
    "start_time": "2023-06-21T19:22:30.246Z"
   },
   {
    "duration": 4,
    "start_time": "2023-06-21T19:22:46.139Z"
   },
   {
    "duration": 273,
    "start_time": "2023-06-21T19:25:55.430Z"
   },
   {
    "duration": 9,
    "start_time": "2023-06-21T19:26:41.361Z"
   },
   {
    "duration": 4,
    "start_time": "2023-06-21T19:27:00.533Z"
   },
   {
    "duration": 4061,
    "start_time": "2023-06-21T19:27:07.841Z"
   },
   {
    "duration": 3694,
    "start_time": "2023-06-21T19:31:18.709Z"
   },
   {
    "duration": 4205,
    "start_time": "2023-06-21T19:31:50.198Z"
   },
   {
    "duration": 3996,
    "start_time": "2023-06-21T19:32:15.408Z"
   },
   {
    "duration": 4,
    "start_time": "2023-06-21T19:33:01.199Z"
   },
   {
    "duration": 48,
    "start_time": "2023-06-21T19:33:13.898Z"
   },
   {
    "duration": 9,
    "start_time": "2023-06-21T19:33:14.997Z"
   },
   {
    "duration": 7,
    "start_time": "2023-06-21T19:33:17.887Z"
   },
   {
    "duration": 4,
    "start_time": "2023-06-21T19:33:18.090Z"
   },
   {
    "duration": 3,
    "start_time": "2023-06-21T19:33:18.957Z"
   },
   {
    "duration": 22,
    "start_time": "2023-06-21T19:33:19.687Z"
   },
   {
    "duration": 4,
    "start_time": "2023-06-21T19:33:44.537Z"
   },
   {
    "duration": 54,
    "start_time": "2023-06-21T19:33:53.700Z"
   },
   {
    "duration": 7,
    "start_time": "2023-06-21T19:33:54.593Z"
   },
   {
    "duration": 6,
    "start_time": "2023-06-21T19:33:55.249Z"
   },
   {
    "duration": 5,
    "start_time": "2023-06-21T19:33:56.091Z"
   },
   {
    "duration": 3,
    "start_time": "2023-06-21T19:33:56.903Z"
   },
   {
    "duration": 313,
    "start_time": "2023-06-21T19:33:57.489Z"
   },
   {
    "duration": 3843,
    "start_time": "2023-06-21T19:33:59.961Z"
   },
   {
    "duration": 28,
    "start_time": "2023-06-21T19:34:21.889Z"
   },
   {
    "duration": 3975,
    "start_time": "2023-06-21T19:34:59.333Z"
   },
   {
    "duration": 11,
    "start_time": "2023-06-21T19:36:08.478Z"
   },
   {
    "duration": 6,
    "start_time": "2023-06-21T19:36:31.449Z"
   },
   {
    "duration": 503,
    "start_time": "2023-06-21T19:38:21.898Z"
   },
   {
    "duration": 2969,
    "start_time": "2023-06-21T19:38:50.732Z"
   },
   {
    "duration": 2956,
    "start_time": "2023-06-21T19:39:12.552Z"
   },
   {
    "duration": 4,
    "start_time": "2023-06-21T19:39:44.098Z"
   },
   {
    "duration": 4,
    "start_time": "2023-06-21T19:46:04.955Z"
   },
   {
    "duration": 5,
    "start_time": "2023-06-21T19:48:41.595Z"
   },
   {
    "duration": 559,
    "start_time": "2023-06-21T19:57:53.842Z"
   },
   {
    "duration": 5,
    "start_time": "2023-06-21T19:59:29.846Z"
   },
   {
    "duration": 873,
    "start_time": "2023-06-21T19:59:39.934Z"
   },
   {
    "duration": 5,
    "start_time": "2023-06-21T20:00:50.351Z"
   },
   {
    "duration": 18,
    "start_time": "2023-06-21T20:00:54.651Z"
   },
   {
    "duration": 20,
    "start_time": "2023-06-21T20:00:59.237Z"
   },
   {
    "duration": 3,
    "start_time": "2023-06-21T20:01:50.650Z"
   },
   {
    "duration": 13,
    "start_time": "2023-06-21T20:01:50.655Z"
   },
   {
    "duration": 7,
    "start_time": "2023-06-21T20:01:50.669Z"
   },
   {
    "duration": 49,
    "start_time": "2023-06-21T20:01:50.678Z"
   },
   {
    "duration": 9,
    "start_time": "2023-06-21T20:01:50.728Z"
   },
   {
    "duration": 10,
    "start_time": "2023-06-21T20:01:50.738Z"
   },
   {
    "duration": 8,
    "start_time": "2023-06-21T20:01:50.749Z"
   },
   {
    "duration": 11,
    "start_time": "2023-06-21T20:01:50.758Z"
   },
   {
    "duration": 10,
    "start_time": "2023-06-21T20:01:50.770Z"
   },
   {
    "duration": 12,
    "start_time": "2023-06-21T20:01:50.781Z"
   },
   {
    "duration": 5,
    "start_time": "2023-06-21T20:01:50.794Z"
   },
   {
    "duration": 8,
    "start_time": "2023-06-21T20:01:50.800Z"
   },
   {
    "duration": 286,
    "start_time": "2023-06-21T20:01:50.809Z"
   },
   {
    "duration": 195,
    "start_time": "2023-06-21T20:01:51.096Z"
   },
   {
    "duration": 774,
    "start_time": "2023-06-21T20:01:51.299Z"
   },
   {
    "duration": 145,
    "start_time": "2023-06-21T20:01:52.075Z"
   },
   {
    "duration": 5,
    "start_time": "2023-06-21T20:01:52.221Z"
   },
   {
    "duration": 18,
    "start_time": "2023-06-21T20:01:52.228Z"
   },
   {
    "duration": 301,
    "start_time": "2023-06-21T20:01:52.247Z"
   },
   {
    "duration": 6,
    "start_time": "2023-06-21T20:01:52.549Z"
   },
   {
    "duration": 395,
    "start_time": "2023-06-21T20:01:52.556Z"
   },
   {
    "duration": 3,
    "start_time": "2023-06-21T20:01:52.952Z"
   },
   {
    "duration": 42,
    "start_time": "2023-06-21T20:01:52.956Z"
   },
   {
    "duration": 26,
    "start_time": "2023-06-21T20:01:53.000Z"
   },
   {
    "duration": 20,
    "start_time": "2023-06-21T20:01:53.027Z"
   },
   {
    "duration": 26,
    "start_time": "2023-06-21T20:01:53.049Z"
   },
   {
    "duration": 59,
    "start_time": "2023-06-21T20:01:56.120Z"
   },
   {
    "duration": 4,
    "start_time": "2023-06-21T20:03:52.358Z"
   },
   {
    "duration": 26,
    "start_time": "2023-06-21T20:03:57.050Z"
   },
   {
    "duration": 22,
    "start_time": "2023-06-21T20:04:44.598Z"
   },
   {
    "duration": 19,
    "start_time": "2023-06-21T20:04:54.487Z"
   },
   {
    "duration": 10,
    "start_time": "2023-06-21T20:06:28.034Z"
   },
   {
    "duration": 24,
    "start_time": "2023-06-21T20:06:33.690Z"
   },
   {
    "duration": 4,
    "start_time": "2023-06-21T20:09:29.254Z"
   },
   {
    "duration": 6,
    "start_time": "2023-06-21T20:09:47.048Z"
   },
   {
    "duration": 11,
    "start_time": "2023-06-21T20:09:51.070Z"
   },
   {
    "duration": 11,
    "start_time": "2023-06-21T20:10:03.041Z"
   },
   {
    "duration": 12,
    "start_time": "2023-06-21T20:10:08.662Z"
   },
   {
    "duration": 5,
    "start_time": "2023-06-21T20:10:28.869Z"
   },
   {
    "duration": 14,
    "start_time": "2023-06-21T20:10:33.231Z"
   },
   {
    "duration": 4,
    "start_time": "2023-06-21T20:10:41.335Z"
   },
   {
    "duration": 9,
    "start_time": "2023-06-21T20:10:41.341Z"
   },
   {
    "duration": 7,
    "start_time": "2023-06-21T20:10:41.352Z"
   },
   {
    "duration": 61,
    "start_time": "2023-06-21T20:10:41.361Z"
   },
   {
    "duration": 10,
    "start_time": "2023-06-21T20:10:41.425Z"
   },
   {
    "duration": 6,
    "start_time": "2023-06-21T20:10:41.436Z"
   },
   {
    "duration": 9,
    "start_time": "2023-06-21T20:10:41.443Z"
   },
   {
    "duration": 10,
    "start_time": "2023-06-21T20:10:41.453Z"
   },
   {
    "duration": 5,
    "start_time": "2023-06-21T20:10:41.465Z"
   },
   {
    "duration": 10,
    "start_time": "2023-06-21T20:10:41.472Z"
   },
   {
    "duration": 3,
    "start_time": "2023-06-21T20:10:41.484Z"
   },
   {
    "duration": 12,
    "start_time": "2023-06-21T20:10:41.489Z"
   },
   {
    "duration": 233,
    "start_time": "2023-06-21T20:10:41.503Z"
   },
   {
    "duration": 205,
    "start_time": "2023-06-21T20:10:41.740Z"
   },
   {
    "duration": 699,
    "start_time": "2023-06-21T20:10:41.946Z"
   },
   {
    "duration": 129,
    "start_time": "2023-06-21T20:10:42.646Z"
   },
   {
    "duration": 5,
    "start_time": "2023-06-21T20:10:42.776Z"
   },
   {
    "duration": 20,
    "start_time": "2023-06-21T20:10:42.782Z"
   },
   {
    "duration": 346,
    "start_time": "2023-06-21T20:10:42.803Z"
   },
   {
    "duration": 6,
    "start_time": "2023-06-21T20:10:43.151Z"
   },
   {
    "duration": 318,
    "start_time": "2023-06-21T20:10:43.158Z"
   },
   {
    "duration": 3,
    "start_time": "2023-06-21T20:10:43.477Z"
   },
   {
    "duration": 34,
    "start_time": "2023-06-21T20:10:43.481Z"
   },
   {
    "duration": 11,
    "start_time": "2023-06-21T20:10:43.516Z"
   },
   {
    "duration": 25,
    "start_time": "2023-06-21T20:10:43.529Z"
   },
   {
    "duration": 3,
    "start_time": "2023-06-21T20:10:44.348Z"
   },
   {
    "duration": 2,
    "start_time": "2023-06-21T20:10:44.914Z"
   },
   {
    "duration": 31,
    "start_time": "2023-06-21T20:10:45.745Z"
   },
   {
    "duration": 4,
    "start_time": "2023-06-21T20:11:03.904Z"
   },
   {
    "duration": 4,
    "start_time": "2023-06-21T20:11:16.457Z"
   },
   {
    "duration": 28,
    "start_time": "2023-06-21T20:11:16.462Z"
   },
   {
    "duration": 15,
    "start_time": "2023-06-21T20:11:16.492Z"
   },
   {
    "duration": 60,
    "start_time": "2023-06-21T20:11:16.508Z"
   },
   {
    "duration": 9,
    "start_time": "2023-06-21T20:11:16.570Z"
   },
   {
    "duration": 21,
    "start_time": "2023-06-21T20:11:16.581Z"
   },
   {
    "duration": 16,
    "start_time": "2023-06-21T20:11:16.603Z"
   },
   {
    "duration": 17,
    "start_time": "2023-06-21T20:11:16.621Z"
   },
   {
    "duration": 20,
    "start_time": "2023-06-21T20:11:16.640Z"
   },
   {
    "duration": 22,
    "start_time": "2023-06-21T20:11:16.661Z"
   },
   {
    "duration": 16,
    "start_time": "2023-06-21T20:11:16.685Z"
   },
   {
    "duration": 19,
    "start_time": "2023-06-21T20:11:16.702Z"
   },
   {
    "duration": 240,
    "start_time": "2023-06-21T20:11:16.723Z"
   },
   {
    "duration": 217,
    "start_time": "2023-06-21T20:11:16.965Z"
   },
   {
    "duration": 842,
    "start_time": "2023-06-21T20:11:17.183Z"
   },
   {
    "duration": 132,
    "start_time": "2023-06-21T20:11:18.026Z"
   },
   {
    "duration": 4,
    "start_time": "2023-06-21T20:11:18.160Z"
   },
   {
    "duration": 18,
    "start_time": "2023-06-21T20:11:18.165Z"
   },
   {
    "duration": 277,
    "start_time": "2023-06-21T20:11:18.185Z"
   },
   {
    "duration": 5,
    "start_time": "2023-06-21T20:11:18.463Z"
   },
   {
    "duration": 287,
    "start_time": "2023-06-21T20:11:18.470Z"
   },
   {
    "duration": 2,
    "start_time": "2023-06-21T20:11:18.758Z"
   },
   {
    "duration": 29,
    "start_time": "2023-06-21T20:11:18.762Z"
   },
   {
    "duration": 32,
    "start_time": "2023-06-21T20:11:18.792Z"
   },
   {
    "duration": 19,
    "start_time": "2023-06-21T20:11:18.825Z"
   },
   {
    "duration": 28,
    "start_time": "2023-06-21T20:11:18.845Z"
   },
   {
    "duration": 29,
    "start_time": "2023-06-21T20:11:20.241Z"
   },
   {
    "duration": 7,
    "start_time": "2023-06-21T20:11:35.952Z"
   },
   {
    "duration": 3,
    "start_time": "2023-06-21T20:11:44.167Z"
   },
   {
    "duration": 23,
    "start_time": "2023-06-21T20:11:44.172Z"
   },
   {
    "duration": 15,
    "start_time": "2023-06-21T20:11:44.196Z"
   },
   {
    "duration": 57,
    "start_time": "2023-06-21T20:11:44.212Z"
   },
   {
    "duration": 7,
    "start_time": "2023-06-21T20:11:44.271Z"
   },
   {
    "duration": 13,
    "start_time": "2023-06-21T20:11:44.280Z"
   },
   {
    "duration": 4,
    "start_time": "2023-06-21T20:11:44.295Z"
   },
   {
    "duration": 8,
    "start_time": "2023-06-21T20:11:44.300Z"
   },
   {
    "duration": 4,
    "start_time": "2023-06-21T20:11:44.309Z"
   },
   {
    "duration": 5,
    "start_time": "2023-06-21T20:11:44.314Z"
   },
   {
    "duration": 3,
    "start_time": "2023-06-21T20:11:44.320Z"
   },
   {
    "duration": 7,
    "start_time": "2023-06-21T20:11:44.324Z"
   },
   {
    "duration": 242,
    "start_time": "2023-06-21T20:11:44.333Z"
   },
   {
    "duration": 197,
    "start_time": "2023-06-21T20:11:44.578Z"
   },
   {
    "duration": 814,
    "start_time": "2023-06-21T20:11:44.776Z"
   },
   {
    "duration": 138,
    "start_time": "2023-06-21T20:11:45.591Z"
   },
   {
    "duration": 4,
    "start_time": "2023-06-21T20:11:45.730Z"
   },
   {
    "duration": 6,
    "start_time": "2023-06-21T20:11:45.736Z"
   },
   {
    "duration": 278,
    "start_time": "2023-06-21T20:11:45.743Z"
   },
   {
    "duration": 7,
    "start_time": "2023-06-21T20:11:46.023Z"
   },
   {
    "duration": 335,
    "start_time": "2023-06-21T20:11:46.031Z"
   },
   {
    "duration": 3,
    "start_time": "2023-06-21T20:11:46.367Z"
   },
   {
    "duration": 4,
    "start_time": "2023-06-21T20:11:46.372Z"
   },
   {
    "duration": 8,
    "start_time": "2023-06-21T20:11:46.377Z"
   },
   {
    "duration": 16,
    "start_time": "2023-06-21T20:11:46.386Z"
   },
   {
    "duration": 3,
    "start_time": "2023-06-21T20:11:46.404Z"
   },
   {
    "duration": 21,
    "start_time": "2023-06-21T20:12:11.103Z"
   },
   {
    "duration": 30,
    "start_time": "2023-06-21T20:12:18.869Z"
   },
   {
    "duration": 372,
    "start_time": "2023-06-21T20:12:25.629Z"
   },
   {
    "duration": 4,
    "start_time": "2023-06-21T20:12:57.024Z"
   },
   {
    "duration": 8,
    "start_time": "2023-06-21T20:12:57.029Z"
   },
   {
    "duration": 5,
    "start_time": "2023-06-21T20:12:57.039Z"
   },
   {
    "duration": 69,
    "start_time": "2023-06-21T20:12:57.045Z"
   },
   {
    "duration": 9,
    "start_time": "2023-06-21T20:12:57.115Z"
   },
   {
    "duration": 11,
    "start_time": "2023-06-21T20:12:57.126Z"
   },
   {
    "duration": 9,
    "start_time": "2023-06-21T20:12:57.139Z"
   },
   {
    "duration": 14,
    "start_time": "2023-06-21T20:12:57.150Z"
   },
   {
    "duration": 17,
    "start_time": "2023-06-21T20:12:57.166Z"
   },
   {
    "duration": 18,
    "start_time": "2023-06-21T20:12:57.185Z"
   },
   {
    "duration": 13,
    "start_time": "2023-06-21T20:12:57.204Z"
   },
   {
    "duration": 16,
    "start_time": "2023-06-21T20:12:57.220Z"
   },
   {
    "duration": 228,
    "start_time": "2023-06-21T20:12:57.237Z"
   },
   {
    "duration": 201,
    "start_time": "2023-06-21T20:12:57.467Z"
   },
   {
    "duration": 709,
    "start_time": "2023-06-21T20:12:57.670Z"
   },
   {
    "duration": 146,
    "start_time": "2023-06-21T20:12:58.381Z"
   },
   {
    "duration": 5,
    "start_time": "2023-06-21T20:12:58.528Z"
   },
   {
    "duration": 5,
    "start_time": "2023-06-21T20:12:58.534Z"
   },
   {
    "duration": 279,
    "start_time": "2023-06-21T20:12:58.540Z"
   },
   {
    "duration": 6,
    "start_time": "2023-06-21T20:12:58.821Z"
   },
   {
    "duration": 370,
    "start_time": "2023-06-21T20:12:58.828Z"
   },
   {
    "duration": 3,
    "start_time": "2023-06-21T20:12:59.199Z"
   },
   {
    "duration": 17,
    "start_time": "2023-06-21T20:12:59.203Z"
   },
   {
    "duration": 14,
    "start_time": "2023-06-21T20:12:59.221Z"
   },
   {
    "duration": 20,
    "start_time": "2023-06-21T20:12:59.236Z"
   },
   {
    "duration": 31,
    "start_time": "2023-06-21T20:12:59.257Z"
   },
   {
    "duration": 51,
    "start_time": "2023-06-21T20:13:00.908Z"
   },
   {
    "duration": 24,
    "start_time": "2023-06-21T20:14:10.889Z"
   },
   {
    "duration": 5,
    "start_time": "2023-06-21T20:14:17.405Z"
   },
   {
    "duration": 10,
    "start_time": "2023-06-21T20:14:17.412Z"
   },
   {
    "duration": 22,
    "start_time": "2023-06-21T20:14:17.424Z"
   },
   {
    "duration": 74,
    "start_time": "2023-06-21T20:14:17.448Z"
   },
   {
    "duration": 10,
    "start_time": "2023-06-21T20:14:17.524Z"
   },
   {
    "duration": 19,
    "start_time": "2023-06-21T20:14:17.535Z"
   },
   {
    "duration": 12,
    "start_time": "2023-06-21T20:14:17.555Z"
   },
   {
    "duration": 20,
    "start_time": "2023-06-21T20:14:17.569Z"
   },
   {
    "duration": 4,
    "start_time": "2023-06-21T20:14:17.590Z"
   },
   {
    "duration": 29,
    "start_time": "2023-06-21T20:14:17.595Z"
   },
   {
    "duration": 22,
    "start_time": "2023-06-21T20:14:17.625Z"
   },
   {
    "duration": 12,
    "start_time": "2023-06-21T20:14:17.649Z"
   },
   {
    "duration": 231,
    "start_time": "2023-06-21T20:14:17.662Z"
   },
   {
    "duration": 197,
    "start_time": "2023-06-21T20:14:17.895Z"
   },
   {
    "duration": 727,
    "start_time": "2023-06-21T20:14:18.099Z"
   },
   {
    "duration": 135,
    "start_time": "2023-06-21T20:14:18.828Z"
   },
   {
    "duration": 5,
    "start_time": "2023-06-21T20:14:18.964Z"
   },
   {
    "duration": 18,
    "start_time": "2023-06-21T20:14:18.970Z"
   },
   {
    "duration": 353,
    "start_time": "2023-06-21T20:14:18.990Z"
   },
   {
    "duration": 6,
    "start_time": "2023-06-21T20:14:19.344Z"
   },
   {
    "duration": 287,
    "start_time": "2023-06-21T20:14:19.352Z"
   },
   {
    "duration": 2,
    "start_time": "2023-06-21T20:14:19.640Z"
   },
   {
    "duration": 6,
    "start_time": "2023-06-21T20:14:19.644Z"
   },
   {
    "duration": 8,
    "start_time": "2023-06-21T20:14:19.651Z"
   },
   {
    "duration": 11,
    "start_time": "2023-06-21T20:14:19.661Z"
   },
   {
    "duration": 9,
    "start_time": "2023-06-21T20:14:19.674Z"
   },
   {
    "duration": 19,
    "start_time": "2023-06-21T20:14:21.506Z"
   },
   {
    "duration": 25,
    "start_time": "2023-06-21T20:14:43.691Z"
   },
   {
    "duration": 19,
    "start_time": "2023-06-21T20:14:54.545Z"
   },
   {
    "duration": 4,
    "start_time": "2023-06-21T20:15:01.408Z"
   },
   {
    "duration": 114,
    "start_time": "2023-06-21T20:15:01.413Z"
   },
   {
    "duration": 59,
    "start_time": "2023-06-21T20:15:01.535Z"
   },
   {
    "duration": 98,
    "start_time": "2023-06-21T20:15:01.596Z"
   },
   {
    "duration": 37,
    "start_time": "2023-06-21T20:15:01.696Z"
   },
   {
    "duration": 44,
    "start_time": "2023-06-21T20:15:01.734Z"
   },
   {
    "duration": 44,
    "start_time": "2023-06-21T20:15:01.779Z"
   },
   {
    "duration": 40,
    "start_time": "2023-06-21T20:15:01.825Z"
   },
   {
    "duration": 49,
    "start_time": "2023-06-21T20:15:01.866Z"
   },
   {
    "duration": 43,
    "start_time": "2023-06-21T20:15:01.916Z"
   },
   {
    "duration": 36,
    "start_time": "2023-06-21T20:15:01.961Z"
   },
   {
    "duration": 51,
    "start_time": "2023-06-21T20:15:01.999Z"
   },
   {
    "duration": 242,
    "start_time": "2023-06-21T20:15:02.052Z"
   },
   {
    "duration": 208,
    "start_time": "2023-06-21T20:15:02.295Z"
   },
   {
    "duration": 798,
    "start_time": "2023-06-21T20:15:02.505Z"
   },
   {
    "duration": 136,
    "start_time": "2023-06-21T20:15:03.305Z"
   },
   {
    "duration": 4,
    "start_time": "2023-06-21T20:15:03.443Z"
   },
   {
    "duration": 12,
    "start_time": "2023-06-21T20:15:03.448Z"
   },
   {
    "duration": 274,
    "start_time": "2023-06-21T20:15:03.461Z"
   },
   {
    "duration": 6,
    "start_time": "2023-06-21T20:15:03.736Z"
   },
   {
    "duration": 275,
    "start_time": "2023-06-21T20:15:03.743Z"
   },
   {
    "duration": 2,
    "start_time": "2023-06-21T20:15:04.019Z"
   },
   {
    "duration": 6,
    "start_time": "2023-06-21T20:15:04.022Z"
   },
   {
    "duration": 6,
    "start_time": "2023-06-21T20:15:04.030Z"
   },
   {
    "duration": 5,
    "start_time": "2023-06-21T20:15:04.037Z"
   },
   {
    "duration": 13,
    "start_time": "2023-06-21T20:15:04.043Z"
   },
   {
    "duration": 32,
    "start_time": "2023-06-21T20:15:25.991Z"
   },
   {
    "duration": 264,
    "start_time": "2023-06-21T20:15:53.137Z"
   },
   {
    "duration": 18,
    "start_time": "2023-06-21T20:17:01.153Z"
   },
   {
    "duration": 3,
    "start_time": "2023-06-21T20:17:30.941Z"
   },
   {
    "duration": 71,
    "start_time": "2023-06-21T20:17:30.947Z"
   },
   {
    "duration": 39,
    "start_time": "2023-06-21T20:17:31.019Z"
   },
   {
    "duration": 101,
    "start_time": "2023-06-21T20:17:31.060Z"
   },
   {
    "duration": 8,
    "start_time": "2023-06-21T20:17:31.162Z"
   },
   {
    "duration": 37,
    "start_time": "2023-06-21T20:17:31.172Z"
   },
   {
    "duration": 65,
    "start_time": "2023-06-21T20:17:31.211Z"
   },
   {
    "duration": 31,
    "start_time": "2023-06-21T20:17:31.277Z"
   },
   {
    "duration": 52,
    "start_time": "2023-06-21T20:17:31.309Z"
   },
   {
    "duration": 50,
    "start_time": "2023-06-21T20:17:31.363Z"
   },
   {
    "duration": 68,
    "start_time": "2023-06-21T20:17:31.414Z"
   },
   {
    "duration": 61,
    "start_time": "2023-06-21T20:17:31.485Z"
   },
   {
    "duration": 230,
    "start_time": "2023-06-21T20:17:31.547Z"
   },
   {
    "duration": 281,
    "start_time": "2023-06-21T20:17:31.779Z"
   },
   {
    "duration": 711,
    "start_time": "2023-06-21T20:17:32.062Z"
   },
   {
    "duration": 127,
    "start_time": "2023-06-21T20:17:32.775Z"
   },
   {
    "duration": 6,
    "start_time": "2023-06-21T20:17:32.903Z"
   },
   {
    "duration": 6,
    "start_time": "2023-06-21T20:17:32.910Z"
   },
   {
    "duration": 284,
    "start_time": "2023-06-21T20:17:32.918Z"
   },
   {
    "duration": 5,
    "start_time": "2023-06-21T20:17:33.204Z"
   },
   {
    "duration": 371,
    "start_time": "2023-06-21T20:17:33.210Z"
   },
   {
    "duration": 3,
    "start_time": "2023-06-21T20:17:33.583Z"
   },
   {
    "duration": 5,
    "start_time": "2023-06-21T20:17:33.587Z"
   },
   {
    "duration": 31,
    "start_time": "2023-06-21T20:17:33.593Z"
   },
   {
    "duration": 13,
    "start_time": "2023-06-21T20:17:33.625Z"
   },
   {
    "duration": 8,
    "start_time": "2023-06-21T20:17:33.640Z"
   },
   {
    "duration": 19,
    "start_time": "2023-06-21T20:17:36.171Z"
   },
   {
    "duration": 11,
    "start_time": "2023-06-21T20:17:41.398Z"
   },
   {
    "duration": 11,
    "start_time": "2023-06-21T20:17:44.957Z"
   },
   {
    "duration": 47,
    "start_time": "2023-06-21T20:18:12.245Z"
   },
   {
    "duration": 21,
    "start_time": "2023-06-21T20:19:48.233Z"
   },
   {
    "duration": 4,
    "start_time": "2023-06-21T20:19:59.970Z"
   },
   {
    "duration": 2,
    "start_time": "2023-06-21T20:19:59.993Z"
   },
   {
    "duration": 5,
    "start_time": "2023-06-21T20:19:59.997Z"
   },
   {
    "duration": 81,
    "start_time": "2023-06-21T20:20:00.003Z"
   },
   {
    "duration": 9,
    "start_time": "2023-06-21T20:20:00.085Z"
   },
   {
    "duration": 35,
    "start_time": "2023-06-21T20:20:00.095Z"
   },
   {
    "duration": 34,
    "start_time": "2023-06-21T20:20:00.131Z"
   },
   {
    "duration": 35,
    "start_time": "2023-06-21T20:20:00.166Z"
   },
   {
    "duration": 45,
    "start_time": "2023-06-21T20:20:00.202Z"
   },
   {
    "duration": 51,
    "start_time": "2023-06-21T20:20:00.249Z"
   },
   {
    "duration": 53,
    "start_time": "2023-06-21T20:20:00.301Z"
   },
   {
    "duration": 21,
    "start_time": "2023-06-21T20:20:00.355Z"
   },
   {
    "duration": 255,
    "start_time": "2023-06-21T20:20:00.378Z"
   },
   {
    "duration": 204,
    "start_time": "2023-06-21T20:20:00.635Z"
   },
   {
    "duration": 728,
    "start_time": "2023-06-21T20:20:00.842Z"
   },
   {
    "duration": 142,
    "start_time": "2023-06-21T20:20:01.571Z"
   },
   {
    "duration": 5,
    "start_time": "2023-06-21T20:20:01.714Z"
   },
   {
    "duration": 109,
    "start_time": "2023-06-21T20:20:01.721Z"
   },
   {
    "duration": 426,
    "start_time": "2023-06-21T20:20:01.832Z"
   },
   {
    "duration": 6,
    "start_time": "2023-06-21T20:20:02.260Z"
   },
   {
    "duration": 421,
    "start_time": "2023-06-21T20:20:02.267Z"
   },
   {
    "duration": 2,
    "start_time": "2023-06-21T20:20:02.689Z"
   },
   {
    "duration": 31,
    "start_time": "2023-06-21T20:20:02.693Z"
   },
   {
    "duration": 12,
    "start_time": "2023-06-21T20:20:02.725Z"
   },
   {
    "duration": 5,
    "start_time": "2023-06-21T20:20:02.739Z"
   },
   {
    "duration": 21,
    "start_time": "2023-06-21T20:20:02.745Z"
   },
   {
    "duration": 319,
    "start_time": "2023-06-21T20:20:04.041Z"
   },
   {
    "duration": 3311,
    "start_time": "2023-06-21T20:20:17.798Z"
   },
   {
    "duration": 3569,
    "start_time": "2023-06-21T20:20:39.033Z"
   },
   {
    "duration": 4238,
    "start_time": "2023-06-21T20:20:49.566Z"
   },
   {
    "duration": 2898,
    "start_time": "2023-06-21T20:20:53.805Z"
   },
   {
    "duration": 3218,
    "start_time": "2023-06-21T20:20:56.987Z"
   },
   {
    "duration": 8,
    "start_time": "2023-06-21T20:21:24.687Z"
   },
   {
    "duration": 4,
    "start_time": "2023-06-21T20:21:30.753Z"
   },
   {
    "duration": 4,
    "start_time": "2023-06-21T20:22:04.471Z"
   },
   {
    "duration": 8,
    "start_time": "2023-06-21T20:22:14.301Z"
   },
   {
    "duration": 8,
    "start_time": "2023-06-21T20:22:17.842Z"
   },
   {
    "duration": 8,
    "start_time": "2023-06-21T20:22:44.731Z"
   },
   {
    "duration": 4,
    "start_time": "2023-06-21T20:22:49.696Z"
   },
   {
    "duration": 3,
    "start_time": "2023-06-21T20:23:57.437Z"
   },
   {
    "duration": 3,
    "start_time": "2023-06-21T20:23:58.060Z"
   },
   {
    "duration": 3,
    "start_time": "2023-06-21T20:24:06.642Z"
   },
   {
    "duration": 3,
    "start_time": "2023-06-21T20:24:39.536Z"
   },
   {
    "duration": 6,
    "start_time": "2023-06-21T20:24:39.541Z"
   },
   {
    "duration": 9,
    "start_time": "2023-06-21T20:24:39.548Z"
   },
   {
    "duration": 52,
    "start_time": "2023-06-21T20:24:39.558Z"
   },
   {
    "duration": 8,
    "start_time": "2023-06-21T20:24:39.612Z"
   },
   {
    "duration": 6,
    "start_time": "2023-06-21T20:24:39.621Z"
   },
   {
    "duration": 12,
    "start_time": "2023-06-21T20:24:39.629Z"
   },
   {
    "duration": 10,
    "start_time": "2023-06-21T20:24:39.642Z"
   },
   {
    "duration": 3,
    "start_time": "2023-06-21T20:24:46.995Z"
   },
   {
    "duration": 4,
    "start_time": "2023-06-21T20:25:29.889Z"
   },
   {
    "duration": 4,
    "start_time": "2023-06-21T20:25:30.337Z"
   },
   {
    "duration": 4,
    "start_time": "2023-06-21T20:25:42.184Z"
   },
   {
    "duration": 4,
    "start_time": "2023-06-21T20:25:42.841Z"
   },
   {
    "duration": 5,
    "start_time": "2023-06-21T20:25:57.095Z"
   },
   {
    "duration": 4,
    "start_time": "2023-06-21T20:25:57.544Z"
   },
   {
    "duration": 4,
    "start_time": "2023-06-21T20:26:02.853Z"
   },
   {
    "duration": 12,
    "start_time": "2023-06-21T20:26:02.862Z"
   },
   {
    "duration": 24,
    "start_time": "2023-06-21T20:26:02.877Z"
   },
   {
    "duration": 61,
    "start_time": "2023-06-21T20:26:02.903Z"
   },
   {
    "duration": 8,
    "start_time": "2023-06-21T20:26:02.966Z"
   },
   {
    "duration": 17,
    "start_time": "2023-06-21T20:26:02.977Z"
   },
   {
    "duration": 6,
    "start_time": "2023-06-21T20:26:02.995Z"
   },
   {
    "duration": 14,
    "start_time": "2023-06-21T20:26:03.002Z"
   },
   {
    "duration": 32,
    "start_time": "2023-06-21T20:26:03.017Z"
   },
   {
    "duration": 13,
    "start_time": "2023-06-21T20:26:03.050Z"
   },
   {
    "duration": 20,
    "start_time": "2023-06-21T20:26:03.064Z"
   },
   {
    "duration": 10,
    "start_time": "2023-06-21T20:26:03.086Z"
   },
   {
    "duration": 234,
    "start_time": "2023-06-21T20:26:03.098Z"
   },
   {
    "duration": 204,
    "start_time": "2023-06-21T20:26:03.334Z"
   },
   {
    "duration": 798,
    "start_time": "2023-06-21T20:26:03.542Z"
   },
   {
    "duration": 131,
    "start_time": "2023-06-21T20:26:04.341Z"
   },
   {
    "duration": 4,
    "start_time": "2023-06-21T20:26:04.474Z"
   },
   {
    "duration": 4,
    "start_time": "2023-06-21T20:26:04.479Z"
   },
   {
    "duration": 284,
    "start_time": "2023-06-21T20:26:04.485Z"
   },
   {
    "duration": 6,
    "start_time": "2023-06-21T20:26:04.772Z"
   },
   {
    "duration": 7,
    "start_time": "2023-06-21T20:26:05.769Z"
   },
   {
    "duration": 3,
    "start_time": "2023-06-21T20:26:06.178Z"
   },
   {
    "duration": 11,
    "start_time": "2023-06-21T20:26:09.449Z"
   },
   {
    "duration": 7,
    "start_time": "2023-06-21T20:26:30.249Z"
   },
   {
    "duration": 5,
    "start_time": "2023-06-21T20:26:40.345Z"
   },
   {
    "duration": 3,
    "start_time": "2023-06-21T20:26:40.795Z"
   },
   {
    "duration": 267,
    "start_time": "2023-06-21T20:26:42.257Z"
   },
   {
    "duration": 1850,
    "start_time": "2023-06-21T20:26:52.055Z"
   },
   {
    "duration": 2648,
    "start_time": "2023-06-21T20:26:56.554Z"
   },
   {
    "duration": 3583,
    "start_time": "2023-06-21T20:27:54.538Z"
   },
   {
    "duration": 9,
    "start_time": "2023-06-21T20:28:22.898Z"
   },
   {
    "duration": 3,
    "start_time": "2023-06-21T20:28:38.810Z"
   },
   {
    "duration": 4,
    "start_time": "2023-06-21T20:28:45.152Z"
   },
   {
    "duration": 19,
    "start_time": "2023-06-21T20:28:45.157Z"
   },
   {
    "duration": 10,
    "start_time": "2023-06-21T20:28:45.178Z"
   },
   {
    "duration": 62,
    "start_time": "2023-06-21T20:28:45.190Z"
   },
   {
    "duration": 10,
    "start_time": "2023-06-21T20:28:45.254Z"
   },
   {
    "duration": 4,
    "start_time": "2023-06-21T20:28:45.266Z"
   },
   {
    "duration": 5,
    "start_time": "2023-06-21T20:28:45.271Z"
   },
   {
    "duration": 15,
    "start_time": "2023-06-21T20:28:45.277Z"
   },
   {
    "duration": 7,
    "start_time": "2023-06-21T20:28:45.293Z"
   },
   {
    "duration": 7,
    "start_time": "2023-06-21T20:28:45.301Z"
   },
   {
    "duration": 10,
    "start_time": "2023-06-21T20:28:45.311Z"
   },
   {
    "duration": 18,
    "start_time": "2023-06-21T20:28:45.323Z"
   },
   {
    "duration": 240,
    "start_time": "2023-06-21T20:28:45.342Z"
   },
   {
    "duration": 279,
    "start_time": "2023-06-21T20:28:45.584Z"
   },
   {
    "duration": 802,
    "start_time": "2023-06-21T20:28:45.865Z"
   },
   {
    "duration": 143,
    "start_time": "2023-06-21T20:28:46.668Z"
   },
   {
    "duration": 4,
    "start_time": "2023-06-21T20:28:46.812Z"
   },
   {
    "duration": 7,
    "start_time": "2023-06-21T20:28:46.817Z"
   },
   {
    "duration": 288,
    "start_time": "2023-06-21T20:28:46.826Z"
   },
   {
    "duration": 7,
    "start_time": "2023-06-21T20:28:47.115Z"
   },
   {
    "duration": 9,
    "start_time": "2023-06-21T20:28:47.124Z"
   },
   {
    "duration": 380,
    "start_time": "2023-06-21T20:28:47.135Z"
   },
   {
    "duration": 2,
    "start_time": "2023-06-21T20:28:47.517Z"
   },
   {
    "duration": 31,
    "start_time": "2023-06-21T20:28:47.521Z"
   },
   {
    "duration": 4,
    "start_time": "2023-06-21T20:28:47.553Z"
   },
   {
    "duration": 15,
    "start_time": "2023-06-21T20:28:47.558Z"
   },
   {
    "duration": 7,
    "start_time": "2023-06-21T20:28:47.574Z"
   },
   {
    "duration": 2,
    "start_time": "2023-06-21T20:28:48.294Z"
   },
   {
    "duration": 3,
    "start_time": "2023-06-21T20:28:48.657Z"
   },
   {
    "duration": 96,
    "start_time": "2023-06-21T20:29:13.954Z"
   },
   {
    "duration": 4,
    "start_time": "2023-06-21T20:29:23.544Z"
   },
   {
    "duration": 7,
    "start_time": "2023-06-21T20:29:23.550Z"
   },
   {
    "duration": 8,
    "start_time": "2023-06-21T20:29:23.559Z"
   },
   {
    "duration": 56,
    "start_time": "2023-06-21T20:29:23.569Z"
   },
   {
    "duration": 10,
    "start_time": "2023-06-21T20:29:23.628Z"
   },
   {
    "duration": 9,
    "start_time": "2023-06-21T20:29:23.639Z"
   },
   {
    "duration": 4,
    "start_time": "2023-06-21T20:29:23.650Z"
   },
   {
    "duration": 8,
    "start_time": "2023-06-21T20:29:23.655Z"
   },
   {
    "duration": 4,
    "start_time": "2023-06-21T20:29:23.664Z"
   },
   {
    "duration": 34,
    "start_time": "2023-06-21T20:29:23.670Z"
   },
   {
    "duration": 7,
    "start_time": "2023-06-21T20:29:23.706Z"
   },
   {
    "duration": 13,
    "start_time": "2023-06-21T20:29:23.715Z"
   },
   {
    "duration": 248,
    "start_time": "2023-06-21T20:29:23.729Z"
   },
   {
    "duration": 214,
    "start_time": "2023-06-21T20:29:23.980Z"
   },
   {
    "duration": 759,
    "start_time": "2023-06-21T20:29:24.199Z"
   },
   {
    "duration": 140,
    "start_time": "2023-06-21T20:29:24.959Z"
   },
   {
    "duration": 5,
    "start_time": "2023-06-21T20:29:25.102Z"
   },
   {
    "duration": 10,
    "start_time": "2023-06-21T20:29:25.108Z"
   },
   {
    "duration": 403,
    "start_time": "2023-06-21T20:29:25.119Z"
   },
   {
    "duration": 7,
    "start_time": "2023-06-21T20:29:25.523Z"
   },
   {
    "duration": 59,
    "start_time": "2023-06-21T20:29:25.532Z"
   },
   {
    "duration": 307,
    "start_time": "2023-06-21T20:29:25.592Z"
   },
   {
    "duration": 5,
    "start_time": "2023-06-21T20:29:25.901Z"
   },
   {
    "duration": 9,
    "start_time": "2023-06-21T20:29:25.909Z"
   },
   {
    "duration": 5,
    "start_time": "2023-06-21T20:29:25.921Z"
   },
   {
    "duration": 22,
    "start_time": "2023-06-21T20:29:25.927Z"
   },
   {
    "duration": 14,
    "start_time": "2023-06-21T20:29:25.951Z"
   },
   {
    "duration": 2,
    "start_time": "2023-06-21T20:29:27.549Z"
   },
   {
    "duration": 3,
    "start_time": "2023-06-21T20:29:27.854Z"
   },
   {
    "duration": 87,
    "start_time": "2023-06-21T20:29:29.145Z"
   },
   {
    "duration": 18,
    "start_time": "2023-06-21T20:29:37.441Z"
   },
   {
    "duration": 1039,
    "start_time": "2023-06-21T20:30:05.559Z"
   },
   {
    "duration": 257,
    "start_time": "2023-06-21T20:30:15.888Z"
   },
   {
    "duration": 186,
    "start_time": "2023-06-21T20:30:20.549Z"
   },
   {
    "duration": 4,
    "start_time": "2023-06-21T20:30:24.573Z"
   },
   {
    "duration": 4,
    "start_time": "2023-06-21T20:30:49.942Z"
   },
   {
    "duration": 31,
    "start_time": "2023-06-21T20:30:49.948Z"
   },
   {
    "duration": 10,
    "start_time": "2023-06-21T20:30:49.980Z"
   },
   {
    "duration": 74,
    "start_time": "2023-06-21T20:30:49.991Z"
   },
   {
    "duration": 8,
    "start_time": "2023-06-21T20:30:50.067Z"
   },
   {
    "duration": 27,
    "start_time": "2023-06-21T20:30:50.076Z"
   },
   {
    "duration": 32,
    "start_time": "2023-06-21T20:30:50.105Z"
   },
   {
    "duration": 36,
    "start_time": "2023-06-21T20:30:50.138Z"
   },
   {
    "duration": 3,
    "start_time": "2023-06-21T20:30:50.176Z"
   },
   {
    "duration": 14,
    "start_time": "2023-06-21T20:30:50.181Z"
   },
   {
    "duration": 16,
    "start_time": "2023-06-21T20:30:50.197Z"
   },
   {
    "duration": 22,
    "start_time": "2023-06-21T20:30:50.214Z"
   },
   {
    "duration": 223,
    "start_time": "2023-06-21T20:30:50.238Z"
   },
   {
    "duration": 196,
    "start_time": "2023-06-21T20:30:50.462Z"
   },
   {
    "duration": 806,
    "start_time": "2023-06-21T20:30:50.660Z"
   },
   {
    "duration": 138,
    "start_time": "2023-06-21T20:30:51.467Z"
   },
   {
    "duration": 4,
    "start_time": "2023-06-21T20:30:51.606Z"
   },
   {
    "duration": 14,
    "start_time": "2023-06-21T20:30:51.612Z"
   },
   {
    "duration": 307,
    "start_time": "2023-06-21T20:30:51.627Z"
   },
   {
    "duration": 6,
    "start_time": "2023-06-21T20:30:51.935Z"
   },
   {
    "duration": 12,
    "start_time": "2023-06-21T20:30:51.942Z"
   },
   {
    "duration": 302,
    "start_time": "2023-06-21T20:30:51.955Z"
   },
   {
    "duration": 3,
    "start_time": "2023-06-21T20:30:52.259Z"
   },
   {
    "duration": 9,
    "start_time": "2023-06-21T20:30:52.263Z"
   },
   {
    "duration": 16,
    "start_time": "2023-06-21T20:30:52.274Z"
   },
   {
    "duration": 5,
    "start_time": "2023-06-21T20:30:52.291Z"
   },
   {
    "duration": 17,
    "start_time": "2023-06-21T20:30:52.298Z"
   },
   {
    "duration": 3,
    "start_time": "2023-06-21T20:30:52.964Z"
   },
   {
    "duration": 4,
    "start_time": "2023-06-21T20:30:53.346Z"
   },
   {
    "duration": 688,
    "start_time": "2023-06-21T20:30:53.970Z"
   },
   {
    "duration": 4,
    "start_time": "2023-06-21T20:30:56.900Z"
   },
   {
    "duration": 6,
    "start_time": "2023-06-21T20:31:26.047Z"
   },
   {
    "duration": 5,
    "start_time": "2023-06-21T20:31:33.293Z"
   },
   {
    "duration": 3,
    "start_time": "2023-06-21T20:31:33.334Z"
   },
   {
    "duration": 6,
    "start_time": "2023-06-21T20:31:33.338Z"
   },
   {
    "duration": 57,
    "start_time": "2023-06-21T20:31:33.346Z"
   },
   {
    "duration": 10,
    "start_time": "2023-06-21T20:31:33.404Z"
   },
   {
    "duration": 3,
    "start_time": "2023-06-21T20:31:33.416Z"
   },
   {
    "duration": 18,
    "start_time": "2023-06-21T20:31:33.420Z"
   },
   {
    "duration": 20,
    "start_time": "2023-06-21T20:31:33.440Z"
   },
   {
    "duration": 6,
    "start_time": "2023-06-21T20:31:33.461Z"
   },
   {
    "duration": 23,
    "start_time": "2023-06-21T20:31:33.469Z"
   },
   {
    "duration": 15,
    "start_time": "2023-06-21T20:31:33.494Z"
   },
   {
    "duration": 24,
    "start_time": "2023-06-21T20:31:33.510Z"
   },
   {
    "duration": 245,
    "start_time": "2023-06-21T20:31:33.536Z"
   },
   {
    "duration": 209,
    "start_time": "2023-06-21T20:31:33.782Z"
   },
   {
    "duration": 783,
    "start_time": "2023-06-21T20:31:33.994Z"
   },
   {
    "duration": 131,
    "start_time": "2023-06-21T20:31:34.779Z"
   },
   {
    "duration": 5,
    "start_time": "2023-06-21T20:31:34.911Z"
   },
   {
    "duration": 19,
    "start_time": "2023-06-21T20:31:34.917Z"
   },
   {
    "duration": 290,
    "start_time": "2023-06-21T20:31:34.938Z"
   },
   {
    "duration": 5,
    "start_time": "2023-06-21T20:31:35.230Z"
   },
   {
    "duration": 24,
    "start_time": "2023-06-21T20:31:35.237Z"
   },
   {
    "duration": 288,
    "start_time": "2023-06-21T20:31:35.263Z"
   },
   {
    "duration": 2,
    "start_time": "2023-06-21T20:31:35.552Z"
   },
   {
    "duration": 10,
    "start_time": "2023-06-21T20:31:35.555Z"
   },
   {
    "duration": 21,
    "start_time": "2023-06-21T20:31:35.566Z"
   },
   {
    "duration": 16,
    "start_time": "2023-06-21T20:31:35.588Z"
   },
   {
    "duration": 5,
    "start_time": "2023-06-21T20:31:35.605Z"
   },
   {
    "duration": 2,
    "start_time": "2023-06-21T20:31:36.606Z"
   },
   {
    "duration": 4,
    "start_time": "2023-06-21T20:31:36.966Z"
   },
   {
    "duration": 635,
    "start_time": "2023-06-21T20:31:37.933Z"
   },
   {
    "duration": 3,
    "start_time": "2023-06-21T20:31:39.750Z"
   },
   {
    "duration": 83,
    "start_time": "2023-06-21T20:32:10.568Z"
   },
   {
    "duration": 4,
    "start_time": "2023-06-21T20:32:18.750Z"
   },
   {
    "duration": 8,
    "start_time": "2023-06-21T20:32:18.757Z"
   },
   {
    "duration": 11,
    "start_time": "2023-06-21T20:32:18.767Z"
   },
   {
    "duration": 55,
    "start_time": "2023-06-21T20:32:18.780Z"
   },
   {
    "duration": 10,
    "start_time": "2023-06-21T20:32:18.837Z"
   },
   {
    "duration": 22,
    "start_time": "2023-06-21T20:32:18.849Z"
   },
   {
    "duration": 13,
    "start_time": "2023-06-21T20:32:18.873Z"
   },
   {
    "duration": 21,
    "start_time": "2023-06-21T20:32:18.889Z"
   },
   {
    "duration": 16,
    "start_time": "2023-06-21T20:32:18.912Z"
   },
   {
    "duration": 10,
    "start_time": "2023-06-21T20:32:18.930Z"
   },
   {
    "duration": 4,
    "start_time": "2023-06-21T20:32:18.941Z"
   },
   {
    "duration": 11,
    "start_time": "2023-06-21T20:32:18.947Z"
   },
   {
    "duration": 283,
    "start_time": "2023-06-21T20:32:18.959Z"
   },
   {
    "duration": 214,
    "start_time": "2023-06-21T20:32:19.245Z"
   },
   {
    "duration": 814,
    "start_time": "2023-06-21T20:32:19.461Z"
   },
   {
    "duration": 132,
    "start_time": "2023-06-21T20:32:20.276Z"
   },
   {
    "duration": 4,
    "start_time": "2023-06-21T20:32:20.409Z"
   },
   {
    "duration": 26,
    "start_time": "2023-06-21T20:32:20.415Z"
   },
   {
    "duration": 294,
    "start_time": "2023-06-21T20:32:20.442Z"
   },
   {
    "duration": 7,
    "start_time": "2023-06-21T20:32:20.737Z"
   },
   {
    "duration": 15,
    "start_time": "2023-06-21T20:32:20.745Z"
   },
   {
    "duration": 388,
    "start_time": "2023-06-21T20:32:20.761Z"
   },
   {
    "duration": 3,
    "start_time": "2023-06-21T20:32:21.150Z"
   },
   {
    "duration": 18,
    "start_time": "2023-06-21T20:32:21.154Z"
   },
   {
    "duration": 11,
    "start_time": "2023-06-21T20:32:21.173Z"
   },
   {
    "duration": 26,
    "start_time": "2023-06-21T20:32:21.186Z"
   },
   {
    "duration": 27,
    "start_time": "2023-06-21T20:32:21.214Z"
   },
   {
    "duration": 2,
    "start_time": "2023-06-21T20:32:21.887Z"
   },
   {
    "duration": 4,
    "start_time": "2023-06-21T20:32:22.257Z"
   },
   {
    "duration": 637,
    "start_time": "2023-06-21T20:32:23.291Z"
   },
   {
    "duration": 3,
    "start_time": "2023-06-21T20:32:25.149Z"
   },
   {
    "duration": 111099,
    "start_time": "2023-06-21T20:32:46.060Z"
   },
   {
    "duration": 4,
    "start_time": "2023-06-21T20:34:40.987Z"
   },
   {
    "duration": 9,
    "start_time": "2023-06-21T20:34:40.993Z"
   },
   {
    "duration": 10,
    "start_time": "2023-06-21T20:34:41.003Z"
   },
   {
    "duration": 53,
    "start_time": "2023-06-21T20:34:41.015Z"
   },
   {
    "duration": 10,
    "start_time": "2023-06-21T20:34:41.069Z"
   },
   {
    "duration": 10,
    "start_time": "2023-06-21T20:34:41.081Z"
   },
   {
    "duration": 5,
    "start_time": "2023-06-21T20:34:41.092Z"
   },
   {
    "duration": 7,
    "start_time": "2023-06-21T20:34:41.099Z"
   },
   {
    "duration": 5,
    "start_time": "2023-06-21T20:34:41.107Z"
   },
   {
    "duration": 6,
    "start_time": "2023-06-21T20:34:41.113Z"
   },
   {
    "duration": 7,
    "start_time": "2023-06-21T20:34:41.120Z"
   },
   {
    "duration": 6,
    "start_time": "2023-06-21T20:34:41.129Z"
   },
   {
    "duration": 240,
    "start_time": "2023-06-21T20:34:41.137Z"
   },
   {
    "duration": 208,
    "start_time": "2023-06-21T20:34:41.378Z"
   },
   {
    "duration": 725,
    "start_time": "2023-06-21T20:34:41.587Z"
   },
   {
    "duration": 217,
    "start_time": "2023-06-21T20:34:42.313Z"
   },
   {
    "duration": 5,
    "start_time": "2023-06-21T20:34:42.531Z"
   },
   {
    "duration": 12,
    "start_time": "2023-06-21T20:34:42.537Z"
   },
   {
    "duration": 297,
    "start_time": "2023-06-21T20:34:42.552Z"
   },
   {
    "duration": 5,
    "start_time": "2023-06-21T20:34:42.850Z"
   },
   {
    "duration": 11,
    "start_time": "2023-06-21T20:34:42.857Z"
   },
   {
    "duration": 271,
    "start_time": "2023-06-21T20:34:42.869Z"
   },
   {
    "duration": 3,
    "start_time": "2023-06-21T20:34:43.141Z"
   },
   {
    "duration": 24,
    "start_time": "2023-06-21T20:34:43.145Z"
   },
   {
    "duration": 6,
    "start_time": "2023-06-21T20:34:43.170Z"
   },
   {
    "duration": 23,
    "start_time": "2023-06-21T20:34:43.177Z"
   },
   {
    "duration": 14,
    "start_time": "2023-06-21T20:34:43.202Z"
   },
   {
    "duration": 2,
    "start_time": "2023-06-21T20:34:43.943Z"
   },
   {
    "duration": 4,
    "start_time": "2023-06-21T20:34:44.661Z"
   },
   {
    "duration": 277525,
    "start_time": "2023-06-21T20:34:47.082Z"
   },
   {
    "duration": 5,
    "start_time": "2023-06-21T20:43:42.896Z"
   },
   {
    "duration": 733637,
    "start_time": "2023-06-21T20:45:00.164Z"
   },
   {
    "duration": 0,
    "start_time": "2023-06-21T20:57:13.803Z"
   },
   {
    "duration": 85395,
    "start_time": "2023-06-21T20:57:27.908Z"
   },
   {
    "duration": 2,
    "start_time": "2023-06-21T21:00:43.886Z"
   },
   {
    "duration": 1518140,
    "start_time": "2023-06-21T21:00:45.100Z"
   },
   {
    "duration": 122,
    "start_time": "2023-06-21T21:26:03.241Z"
   },
   {
    "duration": 4,
    "start_time": "2023-06-21T21:34:18.200Z"
   },
   {
    "duration": 28,
    "start_time": "2023-06-21T21:35:25.939Z"
   },
   {
    "duration": 83,
    "start_time": "2023-06-21T21:35:31.148Z"
   },
   {
    "duration": 91,
    "start_time": "2023-06-21T21:36:13.136Z"
   },
   {
    "duration": 4,
    "start_time": "2023-06-21T21:36:22.639Z"
   },
   {
    "duration": 33,
    "start_time": "2023-06-21T21:37:16.077Z"
   },
   {
    "duration": 3,
    "start_time": "2023-06-21T21:37:17.787Z"
   },
   {
    "duration": 56,
    "start_time": "2023-06-22T05:20:36.110Z"
   },
   {
    "duration": 8,
    "start_time": "2023-06-22T05:20:40.265Z"
   },
   {
    "duration": 0,
    "start_time": "2023-06-22T05:20:40.275Z"
   },
   {
    "duration": 0,
    "start_time": "2023-06-22T05:20:40.276Z"
   },
   {
    "duration": 0,
    "start_time": "2023-06-22T05:20:40.278Z"
   },
   {
    "duration": 0,
    "start_time": "2023-06-22T05:20:40.279Z"
   },
   {
    "duration": 14,
    "start_time": "2023-06-22T05:20:40.282Z"
   },
   {
    "duration": 8,
    "start_time": "2023-06-22T05:20:40.298Z"
   },
   {
    "duration": 8,
    "start_time": "2023-06-22T05:20:40.308Z"
   },
   {
    "duration": 5,
    "start_time": "2023-06-22T05:20:40.318Z"
   },
   {
    "duration": 17,
    "start_time": "2023-06-22T05:20:40.325Z"
   },
   {
    "duration": 0,
    "start_time": "2023-06-22T05:20:40.344Z"
   },
   {
    "duration": 0,
    "start_time": "2023-06-22T05:20:40.345Z"
   },
   {
    "duration": 0,
    "start_time": "2023-06-22T05:20:40.347Z"
   },
   {
    "duration": 0,
    "start_time": "2023-06-22T05:20:40.349Z"
   },
   {
    "duration": 0,
    "start_time": "2023-06-22T05:20:40.350Z"
   },
   {
    "duration": 0,
    "start_time": "2023-06-22T05:20:40.352Z"
   },
   {
    "duration": 0,
    "start_time": "2023-06-22T05:20:40.375Z"
   },
   {
    "duration": 1646,
    "start_time": "2023-06-22T05:20:52.553Z"
   },
   {
    "duration": 3,
    "start_time": "2023-06-22T05:20:54.201Z"
   },
   {
    "duration": 30,
    "start_time": "2023-06-22T05:20:54.206Z"
   },
   {
    "duration": 131,
    "start_time": "2023-06-22T05:20:54.239Z"
   },
   {
    "duration": 10,
    "start_time": "2023-06-22T05:20:54.372Z"
   },
   {
    "duration": 29,
    "start_time": "2023-06-22T05:20:54.384Z"
   },
   {
    "duration": 13,
    "start_time": "2023-06-22T05:20:54.415Z"
   },
   {
    "duration": 12,
    "start_time": "2023-06-22T05:20:54.429Z"
   },
   {
    "duration": 8,
    "start_time": "2023-06-22T05:20:54.442Z"
   },
   {
    "duration": 12,
    "start_time": "2023-06-22T05:20:54.452Z"
   },
   {
    "duration": 12,
    "start_time": "2023-06-22T05:20:54.465Z"
   },
   {
    "duration": 19,
    "start_time": "2023-06-22T05:20:54.479Z"
   },
   {
    "duration": 275,
    "start_time": "2023-06-22T05:20:54.500Z"
   },
   {
    "duration": 239,
    "start_time": "2023-06-22T05:20:54.777Z"
   },
   {
    "duration": 878,
    "start_time": "2023-06-22T05:20:55.018Z"
   },
   {
    "duration": 138,
    "start_time": "2023-06-22T05:20:55.898Z"
   },
   {
    "duration": 6,
    "start_time": "2023-06-22T05:20:56.038Z"
   },
   {
    "duration": 22,
    "start_time": "2023-06-22T05:20:56.045Z"
   },
   {
    "duration": 349,
    "start_time": "2023-06-22T05:20:56.069Z"
   },
   {
    "duration": 6,
    "start_time": "2023-06-22T05:20:59.647Z"
   },
   {
    "duration": 11,
    "start_time": "2023-06-22T05:21:23.183Z"
   },
   {
    "duration": 7,
    "start_time": "2023-06-22T05:21:39.934Z"
   },
   {
    "duration": 473,
    "start_time": "2023-06-22T05:39:12.963Z"
   },
   {
    "duration": 189,
    "start_time": "2023-06-22T05:40:54.987Z"
   },
   {
    "duration": 9,
    "start_time": "2023-06-22T05:42:58.043Z"
   },
   {
    "duration": 4,
    "start_time": "2023-06-22T05:43:09.343Z"
   },
   {
    "duration": 7,
    "start_time": "2023-06-22T05:43:09.349Z"
   },
   {
    "duration": 6,
    "start_time": "2023-06-22T05:43:09.363Z"
   },
   {
    "duration": 61,
    "start_time": "2023-06-22T05:43:09.371Z"
   },
   {
    "duration": 10,
    "start_time": "2023-06-22T05:43:09.434Z"
   },
   {
    "duration": 3,
    "start_time": "2023-06-22T05:43:09.446Z"
   },
   {
    "duration": 5,
    "start_time": "2023-06-22T05:43:09.451Z"
   },
   {
    "duration": 17,
    "start_time": "2023-06-22T05:43:09.457Z"
   },
   {
    "duration": 5,
    "start_time": "2023-06-22T05:43:09.476Z"
   },
   {
    "duration": 11,
    "start_time": "2023-06-22T05:43:09.482Z"
   },
   {
    "duration": 6,
    "start_time": "2023-06-22T05:43:09.495Z"
   },
   {
    "duration": 9,
    "start_time": "2023-06-22T05:43:09.503Z"
   },
   {
    "duration": 243,
    "start_time": "2023-06-22T05:43:09.513Z"
   },
   {
    "duration": 210,
    "start_time": "2023-06-22T05:43:09.758Z"
   },
   {
    "duration": 773,
    "start_time": "2023-06-22T05:43:09.970Z"
   },
   {
    "duration": 147,
    "start_time": "2023-06-22T05:43:10.745Z"
   },
   {
    "duration": 4,
    "start_time": "2023-06-22T05:43:10.894Z"
   },
   {
    "duration": 15,
    "start_time": "2023-06-22T05:43:10.900Z"
   },
   {
    "duration": 413,
    "start_time": "2023-06-22T05:43:10.917Z"
   },
   {
    "duration": 427,
    "start_time": "2023-06-22T05:43:11.331Z"
   },
   {
    "duration": 6,
    "start_time": "2023-06-22T05:43:11.760Z"
   },
   {
    "duration": 158,
    "start_time": "2023-06-22T05:43:11.776Z"
   },
   {
    "duration": 327,
    "start_time": "2023-06-22T05:43:11.935Z"
   },
   {
    "duration": 3,
    "start_time": "2023-06-22T05:43:12.263Z"
   },
   {
    "duration": 442,
    "start_time": "2023-06-22T05:43:14.315Z"
   },
   {
    "duration": 1727,
    "start_time": "2023-06-22T05:43:25.620Z"
   },
   {
    "duration": 78694,
    "start_time": "2023-06-22T11:36:30.538Z"
   },
   {
    "duration": 66935,
    "start_time": "2023-06-22T11:37:50.762Z"
   },
   {
    "duration": 10013,
    "start_time": "2023-06-22T11:38:58.819Z"
   },
   {
    "duration": 2150,
    "start_time": "2023-06-23T11:18:19.759Z"
   },
   {
    "duration": 3,
    "start_time": "2023-06-23T11:18:21.912Z"
   },
   {
    "duration": 38,
    "start_time": "2023-06-23T11:18:21.917Z"
   },
   {
    "duration": 259,
    "start_time": "2023-06-23T11:18:21.957Z"
   },
   {
    "duration": 21,
    "start_time": "2023-06-23T11:18:22.217Z"
   },
   {
    "duration": 32,
    "start_time": "2023-06-23T11:18:22.242Z"
   },
   {
    "duration": 12,
    "start_time": "2023-06-23T11:18:22.276Z"
   },
   {
    "duration": 30,
    "start_time": "2023-06-23T11:18:22.290Z"
   },
   {
    "duration": 5,
    "start_time": "2023-06-23T11:18:22.322Z"
   },
   {
    "duration": 12,
    "start_time": "2023-06-23T11:18:22.330Z"
   },
   {
    "duration": 28,
    "start_time": "2023-06-23T11:18:22.344Z"
   },
   {
    "duration": 21,
    "start_time": "2023-06-23T11:18:22.375Z"
   },
   {
    "duration": 317,
    "start_time": "2023-06-23T11:18:22.398Z"
   },
   {
    "duration": 273,
    "start_time": "2023-06-23T11:18:22.716Z"
   },
   {
    "duration": 881,
    "start_time": "2023-06-23T11:18:22.990Z"
   },
   {
    "duration": 153,
    "start_time": "2023-06-23T11:18:23.873Z"
   },
   {
    "duration": 21,
    "start_time": "2023-06-23T11:18:24.033Z"
   },
   {
    "duration": 5,
    "start_time": "2023-06-23T11:18:24.056Z"
   },
   {
    "duration": 325,
    "start_time": "2023-06-23T11:18:24.063Z"
   },
   {
    "duration": 479,
    "start_time": "2023-06-23T11:18:24.389Z"
   },
   {
    "duration": 10,
    "start_time": "2023-06-23T11:18:24.869Z"
   },
   {
    "duration": 14,
    "start_time": "2023-06-23T11:18:24.880Z"
   },
   {
    "duration": 397,
    "start_time": "2023-06-23T11:18:24.895Z"
   },
   {
    "duration": 2,
    "start_time": "2023-06-23T11:18:25.293Z"
   },
   {
    "duration": 1008,
    "start_time": "2023-06-23T11:18:25.297Z"
   },
   {
    "duration": 2,
    "start_time": "2023-06-23T11:18:26.307Z"
   },
   {
    "duration": 40,
    "start_time": "2023-06-23T11:18:26.311Z"
   },
   {
    "duration": 140,
    "start_time": "2023-06-23T11:18:26.354Z"
   },
   {
    "duration": 14,
    "start_time": "2023-06-23T11:18:26.496Z"
   },
   {
    "duration": 16,
    "start_time": "2023-06-23T11:18:26.512Z"
   },
   {
    "duration": 69709,
    "start_time": "2023-06-23T11:18:26.530Z"
   },
   {
    "duration": 144813,
    "start_time": "2023-06-23T11:19:36.242Z"
   },
   {
    "duration": 8,
    "start_time": "2023-06-23T11:22:01.056Z"
   },
   {
    "duration": 1515245,
    "start_time": "2023-06-23T11:22:01.140Z"
   },
   {
    "duration": 2,
    "start_time": "2023-06-23T11:47:16.387Z"
   },
   {
    "duration": 42,
    "start_time": "2023-06-23T11:47:16.390Z"
   },
   {
    "duration": 19,
    "start_time": "2023-06-23T11:47:16.437Z"
   }
  ],
  "kernelspec": {
   "display_name": "Python 3 (ipykernel)",
   "language": "python",
   "name": "python3"
  },
  "language_info": {
   "codemirror_mode": {
    "name": "ipython",
    "version": 3
   },
   "file_extension": ".py",
   "mimetype": "text/x-python",
   "name": "python",
   "nbconvert_exporter": "python",
   "pygments_lexer": "ipython3",
   "version": "3.9.13"
  },
  "toc": {
   "base_numbering": 1,
   "nav_menu": {},
   "number_sections": true,
   "sideBar": true,
   "skip_h1_title": true,
   "title_cell": "Содержание",
   "title_sidebar": "Contents",
   "toc_cell": true,
   "toc_position": {
    "height": "calc(100% - 180px)",
    "left": "10px",
    "top": "150px",
    "width": "328.496px"
   },
   "toc_section_display": true,
   "toc_window_display": true
  }
 },
 "nbformat": 4,
 "nbformat_minor": 2
}
